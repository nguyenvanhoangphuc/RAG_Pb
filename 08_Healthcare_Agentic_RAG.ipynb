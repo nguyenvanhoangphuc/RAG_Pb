{
 "cells": [
  {
   "cell_type": "code",
   "execution_count": 1,
   "metadata": {
    "execution": {
     "iopub.execute_input": "2024-06-07T21:36:35.757442Z",
     "iopub.status.busy": "2024-06-07T21:36:35.757063Z",
     "iopub.status.idle": "2024-06-07T21:36:36.977821Z",
     "shell.execute_reply": "2024-06-07T21:36:36.97672Z",
     "shell.execute_reply.started": "2024-06-07T21:36:35.757407Z"
    },
    "trusted": true
   },
   "outputs": [
    {
     "name": "stderr",
     "output_type": "stream",
     "text": [
      "USER_AGENT environment variable not set, consider setting it to identify your requests.\n",
      "/home/trung/.conda/envs/rag_env/lib/python3.10/site-packages/IPython/core/interactiveshell.py:3579: LangChainDeprecationWarning: As of langchain-core 0.3.0, LangChain uses pydantic v2 internally. The langchain_core.pydantic_v1 module was a compatibility shim for pydantic v1, and should no longer be used. Please update the code to import from Pydantic directly.\n",
      "\n",
      "For example, replace imports like: `from langchain_core.pydantic_v1 import BaseModel`\n",
      "with: `from pydantic import BaseModel`\n",
      "or the v1 compatibility namespace if you are working in a code base that has not been fully upgraded to pydantic 2 yet. \tfrom pydantic.v1 import BaseModel\n",
      "\n",
      "  exec(code_obj, self.user_global_ns, self.user_ns)\n"
     ]
    },
    {
     "data": {
      "text/plain": [
       "True"
      ]
     },
     "execution_count": 1,
     "metadata": {},
     "output_type": "execute_result"
    }
   ],
   "source": [
    "import os\n",
    "from dotenv import load_dotenv, find_dotenv\n",
    "from langchain_community.document_loaders.web_base import WebBaseLoader\n",
    "from langchain.text_splitter import RecursiveCharacterTextSplitter\n",
    "from langchain_community.vectorstores.chroma import Chroma\n",
    "from langchain_community.embeddings import HuggingFaceEmbeddings\n",
    "from langchain_groq.chat_models import ChatGroq\n",
    "from langchain_community.tools.tavily_search import TavilySearchResults\n",
    "from langchain.prompts import ChatPromptTemplate\n",
    "from langchain_core.pydantic_v1 import BaseModel, Field\n",
    "from typing import Literal\n",
    "from operator import itemgetter\n",
    "from langchain_core.output_parsers import StrOutputParser\n",
    "from IPython.core.display import Markdown\n",
    "from langchain_core.runnables import RunnableParallel\n",
    "from langchain_core.messages import HumanMessage, AIMessage\n",
    "import warnings\n",
    "\n",
    "warnings.filterwarnings(\"ignore\")\n",
    "load_dotenv(find_dotenv())"
   ]
  },
  {
   "cell_type": "code",
   "execution_count": 2,
   "metadata": {
    "execution": {
     "iopub.execute_input": "2024-06-07T21:36:36.979543Z",
     "iopub.status.busy": "2024-06-07T21:36:36.97909Z",
     "iopub.status.idle": "2024-06-07T21:36:37.705986Z",
     "shell.execute_reply": "2024-06-07T21:36:37.704766Z",
     "shell.execute_reply.started": "2024-06-07T21:36:36.979511Z"
    },
    "trusted": true
   },
   "outputs": [],
   "source": [
    "GROQ_API_KEY = os.getenv(\"GROQQ_API_KEY\")\n",
    "LANGCHAIN_API_KEY = os.getenv(\"LANGCHAIN_API_KEY\")\n",
    "TAVILY_API_KEY = os.getenv(\"TAVILY_API_KEY\")\n",
    "\n",
    "os.environ[\"GROQ_API_KEY\"] = GROQ_API_KEY\n",
    "os.environ[\"LANGCHAIN_TRACING_V2\"]=\"true\"\n",
    "os.environ[\"LANGCHAIN_ENDPOINT\"]=\"https://api.smith.langchain.com\"\n",
    "os.environ[\"LANGCHAIN_API_KEY\"]=LANGCHAIN_API_KEY\n",
    "os.environ[\"LANGCHAIN_PROJECT\"]=\"advanced-rag\"\n",
    "os.environ[\"TAVILY_API_KEY\"]=TAVILY_API_KEY"
   ]
  },
  {
   "cell_type": "markdown",
   "metadata": {},
   "source": [
    "- load nội dung 4 trang web tạo thành docs"
   ]
  },
  {
   "cell_type": "code",
   "execution_count": 3,
   "metadata": {
    "execution": {
     "iopub.execute_input": "2024-06-07T21:36:37.7188Z",
     "iopub.status.busy": "2024-06-07T21:36:37.718331Z",
     "iopub.status.idle": "2024-06-07T21:36:39.545315Z",
     "shell.execute_reply": "2024-06-07T21:36:39.544129Z",
     "shell.execute_reply.started": "2024-06-07T21:36:37.718758Z"
    },
    "trusted": true
   },
   "outputs": [],
   "source": [
    "urls = [\n",
    "    \"https://www.webmd.com/a-to-z-guides/malaria\",\n",
    "    \"https://www.webmd.com/diabetes/type-1-diabetes\",\n",
    "    \"https://www.webmd.com/diabetes/type-2-diabetes\",\n",
    "    \"https://www.webmd.com/migraines-headaches/migraines-headaches-migraines\",\n",
    "]\n",
    "\n",
    "loader = WebBaseLoader(urls, bs_get_text_kwargs={\"strip\": True})\n",
    "docs = loader.load()"
   ]
  },
  {
   "cell_type": "markdown",
   "metadata": {},
   "source": [
    "- split docs và tạo thành các chunks, sau đó dùng embedding + chroma để tổ chức index và trạo retrieval."
   ]
  },
  {
   "cell_type": "code",
   "execution_count": null,
   "metadata": {},
   "outputs": [
    {
     "data": {
      "text/plain": [
       "[Document(metadata={'source': 'https://www.webmd.com/a-to-z-guides/malaria', 'title': 'Malaria: Causes, Symptoms, and Treatment', 'description': 'Malaria can be serious and sometimes life-threatening. Learn more about the disease and its new vaccine.', 'language': 'en'}, page_content='Malaria: Causes, Symptoms, and TreatmentSkip to main contentHomeConditionsBackConditionsView AllADD/ADHDAllergiesArthritisAtrial fibrillationBreast CancerCancerCrohn\\'s DiseaseDepressionDiabetesDVTEczemaEye HealthHeart DiseaseHIV & AIDSLung DiseaseLupusMental HealthMultiple SclerosisMigrainePain ManagementPsoriasisPsoriatic ArthritisRheumatoid ArthritisSexual ConditionsSkin ProblemsSleep DisordersUlcerative ColitisView AllDrugs & SupplementsBackDrugs & SupplementsDrugsSupplementsPill IdentifierInteraction CheckerWell-BeingBackWell-BeingAging WellBabyBirth ControlChildren\\'s HealthDiet & Weight ManagementFitness & ExerciseFood & RecipesHealth & BalanceHealthy BeautyMen\\'s HealthParentingPet HealthPregnancySex & RelationshipsTeen HealthWomen\\'s HealthSymptom CheckerFind a DoctorMoreBackMoreNewsBlogsPodcastsWebinarsNewslettersWebMD MagazineBest HospitalsSupport GroupsPrivacy & MoreSubscribeLog InSearchSubscribeA to Z GuidesReferenceMalaria: Causes, Symptoms, and TreatmentMedically Reviewed byZilpah  Sheikh,\\xa0MDon March 18, 2024Written byStephanie Watson,Lori M. King, PhDWhat Is Malaria?Malaria CausesHow Does Malaria Spread?Malaria Risk FactorsMalaria SymptomsWhen to Call a Doctor About MalariaMalaria DiagnosisMalaria TreatmentMalaria ComplicationsMalaria PreventionAbout the Malaria VaccineTakeaways12 min readWhat Is Malaria?Malaria is a serious and sometimes life-threatening disease.It spreads through bites from infected mosquitos.One species of parasite that can cause malaria in humans is Plasmodium malariae. This image shows P. malariae infecting red blood cells. (Photo Credit: Science Photo Library/Getty Images)Malaria is not common in the U.S. But you can get it when you travel to other parts of the world.About 2,000-2,500 people are diagnosed with malaria per year in the U.S. But these people are mostly travelers returning from countries where malaria is more common, which includes countries south of the Sahara desert in Africa as well as parts of South America and Southeast Asia. These countries have climates hot enough for the mosquitoes that carry the malaria parasite (anopheles mosquitos) to thrive.About 608,000 people die from malaria in 85 countries each year. People in countries that have access to medication, such as the U.S., are less likely to be infected and to die of malaria.In the U.S., it\\'s rare to get malaria. However, as of September 2023, nine people (seven in Florida, one in Texas, and one in Maryland) were diagnosed with malaria; doctors thought they got infected in the U.S.Experts think someone who traveled to one of those countries brought the parasite to the U.S. Then a local mosquito bit that person and spread malaria to other people.There are ways to prevent malaria. Before you travel, check the CDC’s website to see if your destination is a place where malaria spreads. You may have to take pills before, during, and after your trip to lower your chances of getting it.Malaria CausesMalaria is caused by a group of parasites called plasmodium. These parasites are carried by female anopheles mosquitos. You get infected when an infected mosquito bites you and injects the parasites into your bloodstream.Several species of plasmodium can cause malaria in humans, including:Plasmodium falciparum (P. falciparum).This is the species that causes the most severe form of malaria.P. falciparumcan multiply fast in your blood and cause anemia from serious blood loss and clogs in your small blood vessels. Clogs in the small blood vessels of your brain can cause a potentially life-threatening complication called cerebral malaria. This species can be found worldwide in tropical and subtropical areas, but it\\'s especially common in Africa.P. vivax.This species can live in your liver and cause a relapse months or years after you were bitten by an infected mosquito. It\\'s found mostly in Asia, Latin America, and in some parts of Africa.P. ovale.This species is very similar toP. vivax, but it can\\'t infect people who have a specific blood group called the Duffy blood group. It\\'s found mostly in Africa (especially West Africa) and the islands of the western Pacific.P. malariae.When left untreated, this species can cause a long-lasting, chronic infection that can last a lifetime. In some people, this can cause a serious complication where you lose a lot of protein in your pee. This species is found throughout the world.P. knowlesi.This species mostly infects a couple of monkey species: long-tailed and pig-tailed macaques. However, researchers have recently found that it can infect humans too.P. knowlesihas a short, 24-hour reproductive cycle, so it can become a severe infection fast. In some cases, the infected person can even die. This species is found throughout Southeast Asia.How Does Malaria Spread?Most people get infected with plasmodium parasites when they are bitten by a mosquito that\\'s infected.It\\'s very rare, but in some cases, it can also spread through:Blood transfusionsor organ transplants from people who were infected (However, most blood and organs are tested before use, so this is extremely rare.)Sharing needles or syringes contaminated with malaria-infected bloodAn infected pregnant person passing it to their unborn infant before or during deliveryIs malaria contagious?Malaria isn’t contagious because it doesn\\'t spread from one person to another like colds or the flu. Also, you can\\'t catch it through casual or close contact or by having sex with someone who has the infection. In general, you have to be bitten by an infected mosquito to get it.Malaria life cycleA mosquito is infected when they bite, or take a blood meal, from a person who\\'s infected. About a week after it bites an infected person, it will have parasites in its spit that will be injected into the next person it bites. So, plasmodium infection is a cycle that goes from mosquito to human and back again.Once the parasites enter your body, they travel to your liver, where they multiply. They get into your red blood cells and lay their eggs. When their eggs hatch after about a week, new parasites flood into that red blood cell until it bursts. This releases more parasites into your bloodstream, infecting more of yourred blood cells. As they get into more of your healthy red blood cells, you may become very sick.Malaria Risk FactorsAnyone can get malaria, but about 3.3 billion people, or half of the world\\'s population, are at risk for malaria.Most people who are infected live in countries with widespread malaria. But people from countries with no or little malaria can still be infected when they travel to countries with malaria. Malaria is most common in places with mostly warm weather, such as:Africa, particularly areas that are south of the Sahara desertSouth and Southeast AsiaAreas around the eastern Mediterranean, from Turkey to northern Africa and eastward to IranCentral and South AmericaAustralia, New Zealand, and other islands in the western PacificIf you live in a place with high malaria rates, you may become partially immune to it. This means your symptoms may not be as serious if you get it. But your immunity can go down if you move to a place with less malaria.Some people have a higher risk of getting a serious case of malaria. These include:Children and babiesPeople who haveHIVor AIDSPregnant peopleTravelers who live in areas without malariaMalaria SymptomsSymptoms usually start about 10-15 days after you\\'re bitten by an infected mosquito. Symptoms can include:High feverChillsSweatingNausea or vomitingHeadacheDiarrheaBeing very tired (fatigue)Body achesYellow skin (jaundice)Kidney failureSeizureConfusionBloody stoolsConvulsionsDeathMalaria symptoms can be similar to cold or flu symptoms, so it might be hard to tell what you have at first. Malaria symptoms don’t always show up within 2 weeks, especially if it’s aP. vivaxinfection.When to Call a Doctor About MalariaMalaria can get serious quickly, so it’s important to get medical care as soon as possible. If you think you may have gotten malaria while traveling in an area where it\\'s common, go see a doctor. The CDC has a traveler\\'s information page that can help you understand how to prevent malaria infection and where to go for medical help while you\\'re traveling. You can also ask your doctor about taking malaria medication with you on your travels, especially if you are at high risk of infection. Early treatment can help prevent serious complications.Symptoms of serious malaria include:Impaired consciousnessConvulsionsDifficulty breathingSerious tiredness and fatigueDark or bloody urineYellow eyes and skin (jaundice)Abnormal bleedingIf you have any of these symptoms, go to the ER right away.Malaria DiagnosisYour doctor may suspect malaria based on your travel history, symptoms, and physical exam. To confirm that you have it, your doctor may order some laboratory tests, which can tell your doctor:If the parasite is in your bloodIf certain medications will work against the parasiteIf your body has ever made antibodies to fight off malariaMalaria testsYour doctor may order any or a few of the following laboratory tests, including:Blood smear.This is the most common and accurate malaria test. A lab technician, doctor, or nurse will take some of your blood and send it to a lab. The technician will use a special stain on it to make any parasites show clearly, then they will spread it on a glass slide and look at it under a microscope. They will usually do a thick smear to diagnose malaria and a thin smear to see which malaria species you are infected with and how many of your red blood cells are infected.The number of malaria parasites in your blood can be low at first. So your test might say you don’t have malaria even when you do. For that reason, you may need three blood tests over 2 or 3 days for the most accurate results.Rapid diagnostic test (RDT).Also called antigen testing, this is a quick option when blood draws and smears aren\\'t available. Antigens are proteins your body makes to \"tag\" foreign invaders so your immune system knows to attack and kill them. These tests work in a similar way as a home COVID-19 test; your doctor will take blood from a prick on your finger and put it on a test strip that shows a line if you have malaria. However, it may not be able to tell which species of malaria you are infected with or how many parasites you have in your blood, so your doctor will still need to do a blood smear.Molecular test.Also known as the polymerase chain reaction (PCR) test, this test shows if malaria parasite DNA is in your blood. Your doctor may use this test to confirm the species of parasite you\\'re infected with after a blood smear or an RDT. This can help your doctor decide which medicine to prescribe you.Antibody test.Doctors use this to find out if you\\'ve had malaria before. It shows antibodies, which are proteins your immune system makes if you have been exposed to malaria before.Drug resistance test.Some malaria parasites are resistant to medicines that doctors use to treat the infection. So, the CDC suggests that doctors test to see which drugs will work on your infection.Other blood tests.You may also have blood taken for a blood count and chemistry panel. This can tell your doctor how serious your infection is and if it\\'s causing other problems, such as anemia or kidney failure.Malaria TreatmentThe treatment your doctor suggests will depend on a few different factors, such as:The species of parasite you haveHow bad your symptoms areThe geographic area where you got infected (which gives your doctor a clue about what medicines will work for your infection)If you\\'ve ever taken an antimalarial medicine before (including whether you\\'ve had medicine to prevent malaria infection)Your age (adult or child)Whether you’re pregnantMalaria medicationsSome medications your doctor may prescribe include:Chloroquine or hydroxychloroquine.This is the medicine your doctor will likely suggest if your infection is caused by chloroquine-sensitiveP. falciparum, P. malariae,orP. knowlesiand your symptoms aren’t serious. Areas with chloroquine-sensitive malaria strains include Central America west of the Panama Canal, Haiti, and the Dominican Republic.Artemether-lumefantrine (Coartem) or atovaquone-proguanil (Malarone).Your doctor may prescribe one of these if your infection is caused byP. falciparumthat is resistant to chloroquine or for children who weigh less than about 11 pounds (5 kilograms).Quinine sulfate plus doxycycline, tetracycline, or clindamycin.This is another treatment option for infections caused byP. falciparumorP. vivaxthat is resistant to chloroquine.Primaquine phosphate.This medicine can be added to chloroquine or hydroxychloroquine if your infection is caused by chloroquine-resistantP. vivaxorP. ovale. It can kill the forms of these species that live in your liver and cause you to relapse.Mefloquine.This is another option if your infection is caused byP. vivaxthat is resistant to chloroquine. However, this medicine isn\\'t used unless you can\\'t take any other medicines because of the risk of serious side effects in your brain. Strains that are found in Southeast Asia are resistant to this medicine.Artesunate.If your symptoms are serious, your doctor may give you this drug by IV for the first 24 hours. After you get it, they may follow up with 3 days of artemisinin-based combination therapy.Quinidine gluconate.This is another option for people with serious infections. Depending on how serious your symptoms are, your doctor may also give you clindamycin, doxycycline, or tetracycline by IV.Malaria ComplicationsSerious health problems that can come with malaria include:ComaCerebral malaria (brain damage caused by swelling)Pulmonary edemaLiver, kidney, and spleen failureAnemia (when you lose too many red blood cells)Very low blood sugarYou can get malaria again after you\\'ve had it. Some species of the parasite cause a milder form of illness that can last a long time and come back in the future.Malaria PreventionIf you travel to an area where malaria spreads, here are some ways to prevent an infection:Wear clothes that can protect your skin.Wear long pants, long-sleeved shirts, and a hat to cover your skin. Tuck in your clothes so that none of your skin is exposed. For added protection, spray permethrin on your clothes.Wear insect repellent.Spray or spread it on any areas of skin your clothes don\\'t cover. The U.S. Environmental Protection Agency (EPA) recommends products with these ingredients:DEETPicaridin (called icaridin or KBR 3023 outside the U.S.)IR3535Oil of lemon eucalyptus (OLE) -- but do not use this on children younger than 3 yearsPara-menthane-3,8-diol (PMD) -- but do not use this on children younger than 3 years2-undecanoneCheck the U.S. EPA\\'s search tool to help you find the right repellent.Layer your sun protection. If you use sunscreen, put that on first. Then, put on a bug repellent.Use a bed net.If the place you\\'re staying in doesn\\'t have window and door screens, put a net over your bed to protect you from bites when you sleep. Spray the net with an insecticide such as permethrin for added protection.Take a preventive medicine. Your doctor can prescribe medicines such as chloroquine, primaquine, or Malarone. Which drug your doctor suggests depends on where you are going, and if you\\'re on any medicines that might interact with it. You take the drug before you go, while you\\'re there, and after you get home.Write down the drug\\'s brand and generic names, and keep that with you while you travel. Leave the medicine in its original package.Avoid travel in some cases.Try to avoid travel to areas with malaria if you\\'re pregnant. Malaria can cause pregnancy problems such as miscarriage and early delivery. If you have to go on the trip, take preventive medicine and avoidmosquito bites.The CDC has resources online to help you know what to do if you travel to a country with malaria. You can also learn what types of parasites are there and what medicines you can take to prevent malaria.Travel smart.Enroll your trip with the Department of State’sSmart Traveler Enrollment Program(STEP). Once you\\'re enrolled, the U.S. government can track if you have any medical issues while traveling. STEP also has a list of companies that offer travel medical insurance.About the Malaria VaccineThe World Health Organization (WHO) recommends the RTS,S/AS01 and R21/Matrix-M vaccines to prevent malaria in children who live in areas whereP. falciparumspreads.They can lower the rate of serious and life-threatening malaria infections.The WHO recommends the vaccines for children starting at around 5 months old. Children get the vaccines in four doses. In areas with a high risk of malaria, children can also get a fifth dose.Experts have found that the vaccine has had major public health benefits. Almost 2 million children in some parts of Africa have already received the RTS,S/AS01 vaccine as part of studies. Vaccination has led to a 13% drop in child deaths from malaria in those areas.There have been some challenges in getting the vaccines to all the children who need them. Health experts say it will take more than just vaccines to control malaria. Insecticide sprays and nets are also important.TakeawaysMalaria spreads through the bite of infected female anopheles mosquitoes. The parasite that causes malaria lives in warm-weather climates such as Africa, South Asia, and Central and South America. If you travel to an area where malaria spreads, take anti-malaria medicine, cover your skin with clothing, and use an insect repellant. If you do get malaria, see a doctor quickly for treatment to prevent complications.SourcesUpdate HistorySharePrintSOURCES:CDC: “Malaria,” “Malaria: Frequently Asked Questions,” “About Malaria,” “Where Malaria Occurs,” “Malaria Information and Prophylaxis, by Country,” “Choosing a Drug To Prevent Malaria,” “Malaria’s Impact Worldwide,” “Treatment of Malaria: Guidelines for Clinicians,”\\xa0“Malaria Diagnosis (United States),” “Malaria Diagnosis (U.S.) – Serology,” “Malaria Vaccine Recommended for Broader Use by WHO: Best Thing Since Bed Nets,” “Traveling? Make Sure You Protect Yourself from Malaria,” “Locally Acquired Malaria Cases Identified in the United States,” “Getting Health Care During Travel.”World Health Organization: “Malaria,” “Q&A on RTS,S malaria vaccine,” “WHO recommends groundbreaking malaria vaccine for children at risk.”Hill, S.Antimalarial Medications, StatPearls Publishing, 2024.The Lancet: “Vaccines: A Test for Global Health.”American Academy of Family Physicians: “Malaria.”Medecins Sans Frontieres: “Malaria.”Mayo Clinic: “Malaria.”National Health Services: “Malaria.”Stanford Medicine: “Types of Malaria Parasites.”National Organization for Rare Disorders: “Rare Disease Database: Malaria.”FDA: “FDA Approves Only Drug in U.S. to Treat Severe Malaria.”Malaria Consortium: “Artemisinin-based Combination Therapy.”Lab Tests Line: “Malaria.”Cleveland Clinic: “Malaria.”Malaria Vaccine Initiative: “RTS,S.”Human Vaccines and Immunotherapeutics: “RTS,S/AS01 vaccine (Mosquirix™): an overview.”U.S. Environmental Protection Agency: “Find the Repellent that is Right for You.”View privacy policy, copyright and trust infoSharePrintView privacy policy, copyright and trust infoMore on Health A-Z5 Possible Reasons You\\'re Always ColdHow Your Blood Type Can Affect Your HealthAnnual Physical Exam: What to ExpectRecommendedFEATUREDTop doctors in ,Find more top doctors onSearchRelated LinksHealth A-Z NewsHealth A-Z ReferenceHealth A-Z SlideshowsHealth A-Z QuizzesHealth A-Z VideosWebMDRx Savings CardCoronavirus (COVID-19)CBD OilKeto DietHepatitis CDiabetes Warning SignsRheumatoid ArthritisMorning-After PillBreast Cancer ScreeningPsoriatic Arthritis SymptomsHeart FailureMultiple MyelomaTypes of Crohn\\'s DiseasePoliciesPrivacy PolicyCookie PolicyEditorial PolicyAdvertising PolicyCorrection PolicyTerms of UseAboutContact UsCareersNewsletterWebMD AppCorporateSite MapFor AdvertisersAdvertise with Us© 2005 - 2025 WebMD LLC, anInternet Brandscompany. All rights reserved. WebMD does not provide medical advice, diagnosis or treatment.See additional information.'),\n",
       " Document(metadata={'source': 'https://www.webmd.com/diabetes/type-1-diabetes', 'title': 'Type 1 Diabetes: Causes, Symptoms, Treatments & Diagnosis', 'description': 'Type 1 diabetes happens when your immune system destroys cells in your pancreas that make insulin. Learn more about the symptoms, causes, diagnosis, treatment, and complications of type 1 diabetes.', 'language': 'en'}, page_content='Type 1 Diabetes: Causes, Symptoms, Treatments & DiagnosisSkip to main contentHomeConditionsBackConditionsView AllADD/ADHDAllergiesArthritisAtrial fibrillationBreast CancerCancerCrohn\\'s DiseaseDepressionDiabetesDVTEczemaEye HealthHeart DiseaseHIV & AIDSLung DiseaseLupusMental HealthMultiple SclerosisMigrainePain ManagementPsoriasisPsoriatic ArthritisRheumatoid ArthritisSexual ConditionsSkin ProblemsSleep DisordersUlcerative ColitisView AllDrugs & SupplementsBackDrugs & SupplementsDrugsSupplementsPill IdentifierInteraction CheckerWell-BeingBackWell-BeingAging WellBabyBirth ControlChildren\\'s HealthDiet & Weight ManagementFitness & ExerciseFood & RecipesHealth & BalanceHealthy BeautyMen\\'s HealthParentingPet HealthPregnancySex & RelationshipsTeen HealthWomen\\'s HealthSymptom CheckerFind a DoctorMoreBackMoreNewsBlogsPodcastsWebinarsNewslettersWebMD MagazineBest HospitalsSupport GroupsPrivacy & MoreSubscribeLog InSearchSubscribeDiabetesReferenceDiabetes GuideOverview & TypesSymptoms & DiagnosisTreatmentLiving WithUnderstanding Blood SugarDiet & ExerciseBetter LivingComplicationsRelated ConditionsType 2 DiabetesOverviewSymptoms & CausesDiagnosis & TestsPrevention & TreatmentLiving & ManagingComplications & Related DiseasesType 1 DiabetesOverviewTreating & ManagingComplications & Related ConditionsGestational DiabetesAppointment PrepView Full GuideEnglishEspañolType 1 DiabetesMedically Reviewed byJabeen  Begum,\\xa0MDon April 19, 2024Written byStephanie BoothWhat Is Type 1 Diabetes?Type 1 Diabetes SymptomsType 1 Diabetes in ChildrenType 1 Diabetes CausesType 1 Diabetes Risk FactorsType 1 Diabetes DiagnosisType 1 Diabetes Health DisparitiesType 1 Diabetes TreatmentLiving With Type 1 DiabetesType 1 Diabetes ComplicationsType 1 Diabetes CureTakeaways11 min readWhat Is Type 1 Diabetes?Type 1 diabetes is a condition in which your immune system destroys insulin-making cells (beta cells) in your pancreas. That means your body can\\'t make enough insulin or any at all.Insulin is a hormone that helps move glucose (sugar) from your blood and into your cells so it can be used for energy.Because type 1 diabetes is often diagnosed in kids and young adults, it used to be called juvenile diabetes. In the past, it was also called insulin-dependent diabetes.Are you born with type 1 diabetes?You can get it at any age. In fact, half of all people now diagnosed with type 1 diabetes are adults.Type 1 diabetes vs. secondary diabetesA condition called secondary diabetes is like type 1, but your insulin-making cells are wiped out by another health condition or an injury to your pancreas, rather than by your immune system.Type 1 diabetes vs. type 2diabetesIf you have type 1, your body doesn\\'t make enough insulin. Withtype 2 diabetes, your body can make insulin but can\\'t use it well. The cells in your muscles, fat, and liver build up what\\'s called insulin resistance.With type 1 diabetes, you need to use man-made insulin every day so your body can function. But not everyone with type 2 diabetes needs it. Other medications can help you manage the condition.No matter which type of diabetes you have, you\\'ll need to keep a close eye on your daily habits, such as what you eat and how much activity you get to stay healthy.Keeping a close eye on your blood sugar is a key part of managing diabetes. A continuous glucose monitor lets you check your levels in real time. (Photo Credit: Moment/Getty Images)Type 1 Diabetes SymptomsSymptoms can come on very quickly. They include:Extreme thirstIncreased hunger(especially after eating)Dry mouthUpset stomach and vomitingFrequent peeingUnexplained weight loss (despite eating and often feeling hungry)Feeling tired or weak for no reasonVision changesHeavy, labored breathing (your doctor may call this Kussmaul respiration)Repeated infections of your skin, urinary tract, or vaginaMood changesLate-onset type 1diabetes symptomsMore research is being done on what\\'s calledLatent Autoimmune Diabetes in Adults(LADA). Some people refer to this as \"Diabetes 1.5\" or \"Diabetes 1 1/2\" because it overlaps with parts of both type 1 and type 2 diabetes.LADA symptomscan come on very slowly, making it tricky to diagnose. So does the fact that people who have it are usually at a healthy weight, and often between the ages of 30 and 50 years.Type 1 Diabetes in ChildrenYour child is at higher risk of type 1 diabetes if:They\\'re aged 4-6 years or 10-14 years.Another family member also has it.Type 1 diabetes symptoms in childrenThe signs are the same as for adults, but you may also notice:More diaper changes for a babyDiaper rash that doesn\\'t get better when treatedBed-wetting in kids who are potty-trainedFast breathingBelly painThrowing upBehavior changesFruity-smelling breathIn some babies or kids, type 1 diabetes can also look like the flu.If you notice any of these symptoms, take your child to the doctor.Type 1 Diabetes CausesExperts aren\\'t sure what causes your pancreas to stop making insulin for your body. Your genes and immune system both appear to play big roles.Is type 1 diabetes genetic?To an extent, yes.If you\\'re assigned male at birth (AMAB) and have type 1 diabetes, there\\'s a 1 in 17 chance that your child will have it, too.If you\\'re assigned female at birth (AFAB) and have type 1 diabetes, your child\\'s risk is 1 in 25 if they were born before you turned 25, and 1 in 100 if they were born after your 25th birthday.If both you and your partner have type 1 diabetes, the chance that your child will have it as well could be as high as 1 in 4.Once you inherit genes that put you at risk for type 1, an environmental trigger such as an infection, virus, orautoimmune disorder, seems necessary to \"switch\" them on.When scientists look atthe blood of people with type 1, they can see special proteins that show their immune system is going after their pancreas.Type 1 Diabetes Risk FactorsOnly about 5%-10% of people with diabetes have type 1. The risk factors for it aren\\'t as clear as they are for type 2 diabetes.So far, experts only know that you’re more likely to have it if you:Are younger than 20Are whiteHave a parent or sibling with type 1Have extra weightType 1 Diabetes DiagnosisIf your doctor thinks you have type 1 diabetes, they’ll check your blood sugar levels. This can be done in a few different ways.A1c test.Also called a glycated hemoglobin test, it can figure out your average blood sugar levels over the past 3 months with one small blood sample. It does that by counting the number of hemoglobin (red blood) cells that are sticky with glucose.If your A1c result is 6.5% or higher, you\\'ll retake the test. If it\\'s the same number or higher, you likely have diabetes.This test may not give you a correct result if you have any of the following:PregnancyKidney failureLiver diseaseSevere anemiaBlood lossSome blood disorders, such as sickle cell anemiaCertain medicines, such as HIV drugs, in your systemIf you\\'re of African, Mediterranean, or Southeast Asian descent, you could also have a different type of hemoglobin (called a hemoglobin variant) that could skew your A1c result. Let your doctor know if any of these apply to you. If so, they can test your blood sugar in different ways, such asFasting blood sugar test.In this test, your blood\\'s taken after you haven\\'t eaten overnight. A result of 126 milligrams per deciliter (mg/dL) or higher on two separate tests signals diabetes.Random blood sugar test.Your blood glucose can also be checked at a random time. Whether or not you\\'ve recently eaten, a result of 200 mg/dL or higher means diabetes.Type 1 diabetes testThe above tests can show whether you have diabetes, but they can\\'t tell you which type. To find out whether you have type 1 or type 2 diabetes, your doctor will need to look for:Autoantibodies.These are the proteins in your immune system that attack healthy cells, such as beta cells in your pancreas that make insulin. If you have type 1 diabetes, they\\'ll show up in a blood sample.Ketones. When you have type 1, your body relies on acids called ketones for fuel because it doesn\\'t have enough glucose to use. A urine (pee) test can detect them.Type 1 Diabetes Health DisparitiesAcross the U.S., type 1 diabetes is on the rise. Hispanic and Black communities are affected more than others. For instance, studies show that if you have brown or black skin, controlling your blood glucose once you\\'re diagnosed is more of a challenge. Black children with type 1 diabetes are also at higher risk ofdepression, diabetes complications, and hospital stays.Structural racism plays a big part in explaining this inequality. Many long-standing laws and policies discriminate against people of color. So do systems such as health care.Type 1 Diabetes TreatmentYou can be diagnosed with type 1 diabetes and live a long, healthy life. Keeping a close eye on your blood sugar levels will be key. Your doctor will give you a target range, and making healthy choices daily will help you stay within that range. It\\'s also important to know the symptoms of very high or low blood sugar, and how to treat them.Type 1 diabetes medicationsYou\\'ll also need to use insulin every day.When your doctor talks about insulin, they’ll mention three main things:\"Onset\" is how long it takes to reach your bloodstream and begin lowering your blood sugar.\"Peak time\" is when insulin is doing the most work in terms of lowering your blood sugar.\"Duration\" is how long it keeps working after onset.Several types of insulin are available.Rapid-acting insulinstarts to work in about 15 minutes. It peaks about 1 hour after you take it and continues to work for 2-4 hours.Regular or short-acting insulingets to work in about 30 minutes. It peaks between 2 and 3 hours and keeps working for 3-6 hours.Intermediate-acting insulinwon’t get into your bloodstream for 2-4 hours after your shot. It peaks within 4-12 hours and works for 12-18 hours.Long-acting insulintakes several hours to get into your system and lasts about 24 hours.Ways to take insulinInsulin doesn\\'t come in pill form, so you\\'ll have to rely on other ways to get it into your body:Insulin injections.Most insulin shots come in a small glass bottle called a vial. You draw it out with a syringe that has a needle on the end and give yourself the shot. Some kinds come in a prefilled pen.Inhaled insulin.Your doctor may prescribe a rapid-acting insulin that you breathe into your mouth through a small device. It\\'s not healthy to use this type if you smoke or have lung issues such as asthma.Insulin pump.This device, which you wear, sends small bursts of insulin into your body throughout the day. It does this through a small tube just under your skin.Your doctor will help you pick the type of insulin and delivery method that’s best for you.Continuous glucose monitoringChecking your blood sugar throughout the day will help make sure it stays within your target range. Pricking your finger and testing a blood sample with a blood glucose meter is one way to check. Many people also choose to wear a continuous glucose monitor (CGM).Using a sensor just under your skin, this device can check your glucose every few minutes. Most models will alert you if it goes too high or too low, so you can treat it right away.Other type 1 diabetes medicationsBased on your health, your doctor could also prescribe:Aspirin, to lower your risk of a heart eventCholesterol-lowering drugs, to protect your heartHigh blood pressure medication, to improve your kidney functionLiving With Type 1 DiabetesTo feel your best, try to:Get enough sleep. It can improve your blood sugar as well as your outlook. If you can, aim for at least 7 hours each night. Babies, kids, and teens will need even more.Manage your stress. It\\'s really common to feel angry or overwhelmed that you have type 1. Find healthy ways to reduce your stress. Talk to trusted friends and family members or ask your doctor to refer you to a counselor or therapist.Quit smoking.Vaping and chewing tobacco are habits to stop, too. All these things narrow yourblood vesselsand put you at risk for other health issues. Talk to your doctor if you\\'re not sure how to quit.Visit your doctor regularly. Regular medical, dental, and eye exams can help you prevent issues, or treat them as soon as they\\'re found.Find ways to be active.Try to find a physical activity you enjoy. Even taking care of your garden counts. Talk to your doctor about how to balance your insulin dose and the food you eat with any activity you do.Type 1 diabetes dietOnce you know how carbs, fats, and protein affect your blood sugar, you can build a healthy eating plan that helps keep your levels where they should be. Generally speaking, you\\'ll focus on eating lots of nutrient-rich vegetables, fruits, and whole grains while cutting back on refined carbohydrates, such as white bread or pasta, which quickly raise your blood sugar.No foods is off-limits, but you will need to limit some or enjoy smaller portions than you used to.A diabetes educator or registered dietitian can help you learn to count carbohydrates at each meal and snack. If you\\'re not sure how to connect with these experts, ask your doctor.Type 1 Diabetes ComplicationsIf your blood sugar isn\\'t well-managed, it can lead to other health issues, including:Diabetic ketoacidosis (DKA).If your body can\\'t get enough glucose for fuel, it breaks down fat cells instead. This creates chemicals called ketones. Your liver releases the sugar it stores to help out. But your body can’t use it without insulin, so it builds up in your blood, along with the acidic ketones. This mix of extra glucose, dehydration, and acid buildup is known as ketoacidosis and can be life-threatening if not treated right away.Heart disease.Diabetes can put you at higher risk ofblood clots, high blood pressure, and cholesterol. These can lead to chest pain, heart attack, stroke, or heart failure.Skin conditions.You\\'re more likely to get blisters and rashes, as well as bacterial or fungal infections.Gum disease.A dry mouth, increased plaque, and poor blood flow can all cause mouth issues.Pregnancy complications.Type 1 diabetes raises your risk of early delivery, birth defects, stillbirth, andpreeclampsia.Retinopathy.This eye issue happens in about 80% of adults who have had type 1 diabetes for more than 15 years. To prevent it and to keep your eyesight,you\\'ll need to control your blood sugar, blood pressure, cholesterol, and triglycerides.Kidney damage.About 20%-30% of people with type 1 diabetes get a condition called nephropathy. The chance of getting it goes up over time. It’s most likely to show up 15-25 years after the onset of diabetes. It can lead to other serious problems such as kidney failure and heart disease.Poor blood flow and nerve damage.Damaged nerves and hardened arteries lead to a loss of feeling in, and a lack of blood supply to, your feet. This raises your chances of injury and makes it harder for open sores and wounds to heal. When that happens, you could lose a limb. Nerve damage can also cause digestive problems such as nausea, vomiting, anddiarrhea.Type 1 Diabetes CureExciting new treatments in the works include:Glucose monitoring without needle sticks.This is proving to be a challenge for scientists.Continuous ketone monitor (CKM). Like a CGM, a wearable device would monitor the fluid between your cells.Longer-acting insulin. For instance, one type would keep your blood glucose steady for a week.Immunotherapy.Some experts are looking for ways to \"switch off\" your immune system so it stops attacking the cells in your pancreas that make insulin.\"New\" beta cells.One early-stage Australian study was able to get pancreatic stem cells to make insulin. If testing pans out, your remaining pancreas cells may be treated one day to start makinginsulinagain.Keep up with new research on type 1 diabetes through a trusted organization such as the CDC or the American Diabetes Association.TakeawaysType 1 diabetes is a lifelong condition. A diagnosis may feel overwhelming, but you can learn to manage your blood sugar. Making healthy choices every day will be key.RELATED ARTICLES:What Is Type 1 Diabetes?Genetics and Type 1 DiabetesHow Does It Affect the Brain?SourcesUpdate HistorySharePrintSOURCES:American Diabetes Association: \"Diabetes Basics: Type 1,\" \"Exercise and Type 1 Diabetes,\" \"Insulin Routines,\" \"Insulin Basics,\" \"Insulin Pumps,\" \"Skin Complications,\" \"DKA (Ketoacidosis) & Ketones,\" \"Complications,\" \"Heart Disease,\" \"High Blood Pressure,\" \"Physical Activity is Important,\" \"Exercising with Diabetes Complications,\" \"Genetics of Diabetes.\"Diabetes Care.Juvenile Diabetes Research Foundation: \"Fact Sheets: Type 1 Diabetes Facts.\"Joslin Diabetes Center: \"The Truth About the So-Called Diabetes Diet.\"Mayo Clinic: \"Type 1 diabetes,\" \"Type 1 diabetes in children,\" \"Diabetes treatment: Using insulin to manage blood sugar.\"Nemours/KidsHealth: \"Type 1 Diabetes: What Is It?\" \"Long-term Complications of Diabetes.\"CDC: \"Diabetes,\" \"What is Type 1 Diabetes?\" \"Diabetes Risk Factors,\" \"All About Your A1C,\" \"Just Diagnosed With Type 1 Diabetes.\"International Diabetes Federation: \"Diabetes and cardiovascular disease.\"Reviews in Obstetrics and Gynecology: \"Type 1 Diabetes Mellitus and Pregnancy.\"National Diabetes Information Clearinghouse: \"Your Guide to Diabetes: Type 1 and Type 2,\" \"Prevent Diabetes Problems: Keep Your Heart and Blood Vessels Healthy,\" \"Prevent Diabetes Problems: Keep Your Kidneys Healthy,\" \"Prevent Diabetes Problems: Keep Your Feet Healthy,\" \"Prevent Diabetes Problems: Keep Your Mouth Healthy,\" \"Prevent Diabetes Problems: Keep Your Eyes Healthy,\" \"Prevent Diabetes Problems: Keep Your Diabetes under Control.\"National Diabetes Education Program: \"4 Steps to Manage Your Diabetes for Life.\"American Heart Association: \"Cholesterol Abnormalities and Diabetes.\"Cleveland Clinic: \"Type 1 vs Type 2 Diabetes: What\\'s the Difference?\" \"Oral Diabetes Medications.\"Johns Hopkins Medicine: \"Type 1 diabetes in children.\"Diabetes UK: \"Latest Autoimmune Diabetes in Adults (LADA).\"Yale Medicine: \"Type 1 Diabetes: Symptoms, Causes, and Treatment.\"University of Maryland Medical System: \"What Does It Mean If You Have Fruity Breath?\"National Institute of Diabetes and Digestive and Kidney Diseases: \"The A1C Test & Diabetes,\" \"Diabetes Tests & Diagnosis,\" \"Managing Diabetes.\"UCSF Diabetes Teaching Center: \"Ketones in Type 1 Diabetes.\"Health Affairs:\"Systemic and Structural Racism: Definitions, Examples, Health Damages, And Approaches to Dismantling.\"Pediatrics:\"Racial Disparities in Pediatric Type 1 Diabetes: Yet Another Consequence of Structural Racism.\"Clinical Diabetes:\"Inequities in Health Outcomes in Children and Adults With Type 1 Diabetes: Data From the T1D Exchange Quality Improvement Collaborative.\"BMJ:\"New advances in type 1 diabetes.\"Signal Transduction and Targeted Therapy:\"EZH2 inhibitors promote β-like cell regeneration in young and adult type 1 diabetes donors.\"View privacy policy, copyright and trust infoSharePrintView privacy policy, copyright and trust infoNext In Type 1 DiabetesGenetics and Type 1 DiabetesHow Does It Affect the Brain?Show more articlesMore on DiabetesNavigating Diabetes Diagnosis & Treatment8 Simple Snacks That Won\\'t Spike Your Blood SugarHere\\'s How a Continuous Glucose Monitor WorksRecommendedFEATUREDTop doctors in ,Find more top doctors onSearchRelated LinksDiabetes Health Center ReferenceDiabetes Health Center SlideshowsDiabetes Health Center QuizzesDiabetes BlogsDiabetes Health Center VideosDiabetes Health Center MedicationsFind an EndocrinologistBook: Take Control of Your Diabetes RiskGeneral DiabetesType 1 DiabetesType 2 DiabetesGestational DiabetesPrediabetesBlood Sugar ControlDiabetic NeuropathyEye Problems AssessmentHeart DiseaseInsulinomaMetabolic SyndromeOral CareDiabetes OverviewDiabetes SymptomsDiabetes CausesDiabetes DiagnosisDiabetes TreatmentRisksTypesComplicationsPoliciesPrivacy PolicyCookie PolicyEditorial PolicyAdvertising PolicyCorrection PolicyTerms of UseAboutContact UsCareersNewsletterWebMD AppCorporateSite MapFor AdvertisersAdvertise with Us© 2005 - 2025 WebMD LLC, anInternet Brandscompany. All rights reserved. WebMD does not provide medical advice, diagnosis or treatment.See additional information.'),\n",
       " Document(metadata={'source': 'https://www.webmd.com/diabetes/type-2-diabetes', 'title': 'Type 2 Diabetes: Symptoms, Causes, Diagnosis, and Treatment', 'description': 'Type 2 diabetes is a long-term medical condition in which your body doesn’t use insulin properly, resulting in unusual blood sugar levels. Learn more about the symptoms, causes, diagnosis, and treatment of type 2 diabetes.', 'language': 'en'}, page_content='Type 2 Diabetes: Symptoms, Causes, Diagnosis, and TreatmentSkip to main contentHomeConditionsBackConditionsView AllADD/ADHDAllergiesArthritisAtrial fibrillationBreast CancerCancerCrohn\\'s DiseaseDepressionDiabetesDVTEczemaEye HealthHeart DiseaseHIV & AIDSLung DiseaseLupusMental HealthMultiple SclerosisMigrainePain ManagementPsoriasisPsoriatic ArthritisRheumatoid ArthritisSexual ConditionsSkin ProblemsSleep DisordersUlcerative ColitisView AllDrugs & SupplementsBackDrugs & SupplementsDrugsSupplementsPill IdentifierInteraction CheckerWell-BeingBackWell-BeingAging WellBabyBirth ControlChildren\\'s HealthDiet & Weight ManagementFitness & ExerciseFood & RecipesHealth & BalanceHealthy BeautyMen\\'s HealthParentingPet HealthPregnancySex & RelationshipsTeen HealthWomen\\'s HealthSymptom CheckerFind a DoctorMoreBackMoreNewsBlogsPodcastsWebinarsNewslettersWebMD MagazineBest HospitalsSupport GroupsPrivacy & MoreSubscribeLog InSearchSubscribeDiabetesReferenceDiabetes GuideOverview & TypesSymptoms & DiagnosisTreatmentLiving WithUnderstanding Blood SugarDiet & ExerciseBetter LivingComplicationsRelated ConditionsType 2 DiabetesOverviewSymptoms & CausesDiagnosis & TestsPrevention & TreatmentLiving & ManagingComplications & Related DiseasesType 1 DiabetesOverviewTreating & ManagingComplications & Related ConditionsGestational DiabetesAppointment PrepView Full GuideEnglishEspañolType 2 Diabetes: Symptoms, Causes, and TreatmentMedically Reviewed byShruthi  N,\\xa0MDon September 04, 2024Written byWebMD Editorial ContributorsWhat Is Type 2 Diabetes?Type 2 Diabetes SymptomsTypes of DiabetesWhat Causes Type 2 Diabetes?Type 2 Diabetes Risk FactorsType 2 Diabetes Diagnosis and TestsStages of Type 2 DiabetesType 2 Diabetes TreatmentType 2 Diabetes Health DisparitiesType 2 Diabetes ComplicationsLiving With Type 2 DiabetesType 2 Diabetes PrognosisType 2 Diabetes PreventionTakeawaysType 2 Diabetes FAQs16 min readWhat Is Type 2 Diabetes?Type 2 diabetes is a lifelong disease that keeps your body from using insulin the way it should.People who are middle-aged or older are most likely to get this kind of diabetes. It used to be called adult-onset diabetes or diabetes mellitus. But type 2 diabetes also affects kids andteens, mainly because ofchildhood obesity.Type 2 is the most common form of diabetes. About 1 in 10 people in the U.S. have type 2. Nearly 1 in 3 have prediabetes, meaning their blood sugar (or blood glucose) is high but not high enough to be diabetes yet.Type 2 Diabetes SymptomsThesymptoms oftype 2 diabetescan be so mild that you don\\'t notice them. About 9 million people have it and don\\'t know it. Symptoms include:Being very thirstyPeeing a lotBlurry visionTingling or numbness in your hands or feetFatigue/feeling worn outWounds that don\\'t healYeast infections that keep coming backFeeling hungryWeight loss without tryingGetting infectionsIf you have dark rashes around your neck or armpits, see your doctor. These are called acanthosis nigricans, and they can be signs that your body is becoming resistant to insulin.Learn more about type 2 diabetes symptoms.Types of DiabetesThere are three main types of diabetes:Type 2 diabetesAbout 90%-95% of all people with diabetes have this type. With type 2, your pancreas makes someinsulin— the hormone that helps your cells turn glucose (a type of sugar) from the food you eat into energy. In some people, your cells don\\'t respond to this hormone as they should (a condition called insulin resistance).Type 1 diabetesIn type 1, your immune system attacks and destroys the cells in your pancreas that make insulin, leading to high blood sugar. Doctors aren\\'t sure why this happens. Type 1 isn\\'t related to weight or lifestyle habits. It used to be called insulin-dependent or childhood diabetes.Gestational diabetesYou only get this type of diabetes when you\\'re pregnant. It happens because hormonal changes andweight gainduring pregnancy can lead toinsulin resistance. It usually goes away after you have your baby.What Causes Type 2 Diabetes?Usually, a combination of things causes type 2 diabetes. They might include:Genes.Scientists have found different bits of DNA that affect how your body makes insulin.Weight.Having extra weight or obesity can cause insulin resistance.Metabolic syndrome.People with insulin resistance often have a group of conditions including high blood sugar, high blood pressure, and high cholesterol and triglycerides.Too much glucose from your liver.When your blood sugar is low, your liver makes and sends out glucose. After you eat, your blood sugar goes up, and your liver usually slows down and stores its glucose for later. But some people\\'s livers don\\'t. They keep making sugar.Bad communication between cells.Sometimes, cells send the wrong signals or don\\'t pick up messages correctly. When these problems affect how your cells make and use insulin or glucose, this can lead to diabetes.Broken beta cells.If the cells that make insulin send it out at the wrong time, your blood sugar gets thrown off.High blood sugarcan damage these cells, too.Type 2 Diabetes Risk FactorsCertain things make it more likely that you’ll get type 2 diabetes. The more of these factors apply to you, the higher your chances of getting it. It\\'s good to be aware of what can cause type 2 diabetes, such as:Age: 45 or olderFamily: A parent, sister, or brother with diabetesEthnicity: African American, Alaska Native, Native American, Asian American, Hispanic or Latino, or Pacific Islander AmericanRisk factors related to your medical history and health include:Insulin resistancePrediabetesHeart and blood vessel diseaseHigh blood pressure, even if it\\'s treated and under controlLow HDL (\"good\") cholesterolHigh triglyceridesBeing overweight or having obesityHaving a baby who weighed more than 9 poundsGestational diabetes while you were pregnantPolycystic ovary syndrome (PCOS)DepressionOther things that raise yourrisk of diabetesare related to your daily habits and lifestyle. These are the ones you can change:Getting little or no exerciseSmokingStressSleeping too little or too muchType 2 diabetes epidemiologySome 462 million people worldwide, or about 6.3% of the population, have type 2 diabetes. It\\'s the ninth leading cause of death, responsible for more than 1 million deaths each year. Cases of type 2 diabetes are increasing faster in developed countries such as the U.S. and Western Europe.Scientists say type 2 diabetes affects men and women at about the same rate.It\\'s more common in people in middle age and older, affecting:4.4% of those aged 15-4915% of those aged 50-6922% of those aged 70 or olderIt\\'s also more common in people of color, including those whose heritage is:BlackHispanicNative AmericanAsianType 2 Diabetes Diagnosis and TestsYour doctor can test your blood for signs of type 2 diabetes. Usually, they’ll test you on 2 different days to confirm the diagnosis. But if yourblood glucoseis very high or you have many symptoms, one test may be all you need.Blood tests for type 2 diabetes include:A1c.It\\'s an average percentage of your blood glucose over the past 2 or 3 months.Fasting plasma glucose.This is also known as a fasting blood sugar test. It measures your blood sugar on an empty stomach. You won\\'t be able to eat or drink anything except water for 8 hours before the test.Oral glucose tolerance test (OGTT).This checks your blood glucose before and 2 hours after you drink something sweet to see how your body handles the sugar.Learn more about how type 2 diabetes is diagnosed.Stages of Type 2 DiabetesResearchers have defined four stages of type 2 diabetes:Insulin resistanceIn this stage, your body usually makes enough insulin to keep blood sugar levels in the normal range. But if your cells \"resist\" the insulin (don\\'t use it correctly), your body will make more insulin to help the glucose get into them. Insulin resistance can be temporary, but it can also last. There\\'s no test to detect insulin resistance, so it can be hard to diagnose.PrediabetesEventually, insulin resistance causes glucose to build up in your blood. You have prediabetes when your blood sugar levels are higher than normal, but not high enough to be considered diabetes. An A1c between 5.7% and 6.4% means you haveprediabetes. You may not have any symptoms, but prediabetes ups your risk for heart disease, stroke, and type 2 diabetes.Type 2 diabetesIf your A1c is 6.5% or higher, you have diabetes. You may have symptoms such as increased thirst, blurred vision, and numbness in feet or hands. Or you may not have any symptoms at all.Type 2 diabetes with vascular complicationsAt this stage, your diabetes has led to vascular (blood vessel) problems. You may have damage to vessels in your eyes (retinopathy), kidneys (nephropathy), and certain nerves (neuropathy). You might also develop heart disease, stroke, or circulation issues.Type 2 Diabetes TreatmentManaging type 2 diabetes includes a mix of lifestyle changes and medication.Lifestyle changesYou may be able to reach your target blood sugar levels with diet andexercisealone.Weight loss.Dropping extra pounds can help. While losing 5% of your body weight is good, losing at least 7% and keeping it off seems to be ideal. That means someone who weighs 180 pounds can change their blood sugar levels by losing around 13 pounds. Weight loss can seem overwhelming, but portion control and eating healthy foods are a good place to start.Healthy eating.There’s no specific diet for type 2 diabetes. A registered dietitian can teach you about carbs and help you make a meal plan you can stick with. Focus on:Eating fewer caloriesCutting back on refined carbs, especially sweetsAdding veggies and fruits to your dietGetting more fiberExercise.Try to get 30-60 minutes of physical activity every day. You can walk, bike, swim, or do anything else that ups your heart rate. Pair that with strength training, such as yoga or weightlifting. If you take a medication that lowers your blood sugar, you might need a snack before a workout.Watch your blood sugar levels.Depending on your treatment, especially if you’re on insulin, your doctor will tell you if you need to test your blood sugar levels and how often to do it.Type 2 diabetes medicationIf lifestyle changes don’t get you to your target blood sugar levels, you may need medication. Some of the most common for type 2 diabetes include:Metformin(Fortamet, Glucophage, Glumetza, Riomet). This is usually the first medication used totreat type 2 diabetes. It lowers the amount of glucose your liver makes and helps your body respond better to the insulin it does make.Sulfonylureas.This group of drugs helps your body make more insulin. They include glimepiride (Amaryl), glipizide (Glucotrol), and glyburide (DiaBeta, Micronase).Meglitinides.They help your body make more insulin and work faster than sulfonylureas. You might take nateglinide (Starlix) or repaglinide (Prandin).Thiazolidinediones.Like metformin, they make you more sensitive to insulin. You could get pioglitazone (Actos) or rosiglitazone (Avandia). But they also raise your risk of heart problems, so they aren’t usually a first choice for treatment.DPP-4 inhibitors.These medications — linagliptin (Tradjenta), saxagliptin (Onglyza), and sitagliptin (Januvia) — help lower your blood sugar levels, but they can also cause joint pain and could inflame your pancreas. They work by blocking DPP-4, which is an enzyme that affects the hormone incretin.GLP-1 receptor agonists.You take these medications through a needle to slow digestion and lower blood sugar levels. Some of the most common ones are exenatide (Byetta, Bydureon), liraglutide (Victoza), and semaglutide (Ozempic).Alpha-glucosidase inhibitors.These medications miglitol (Glyset) and acarbose (Precose) slow your body\\'s digestion of sugar. Let your doctor know if you have kidney, liver, or heart issues or if you\\'re pregnant or breastfeeding. These medicines are unlikely to cause low blood pressure and weight gain; however, side effects include gastrointestinal issues and abnormal liver readings.Biguanides.This medication, metformin (Fortamet, Glucophage, Glumetza, and Riomet), lowers blood sugar levels. Typical side effects include gastrointestinal issues, nausea or vomiting, weakness, and headache. You should avoid drinking large amounts of alcohol when taking this drug because it may trigger a rare side effect, a buildup of acid in your blood called lactic acidosis.SGLT2 inhibitors.These help your kidneys filter out more glucose. You might getbexagliflozin (Brenzavvy),canagliflozin (Invokana), dapagliflozin (Farxiga), or empagliflozin (Jardiance). Empagliflozin has also proven effective in reducing\\xa0the risk of hospitalization or death from heart failure.GIP and GLP-1\\xa0receptor agonist.Tirzepatide (Mounjaro) is the first in this class and\\xa0activates both the GLP-1 and GIP receptors, which leads to improved blood sugar control.Insulin.You might take long-lasting shots at night, such as insulin detemir (Levemir) or insulin glargine (Lantus).Even if you change your lifestyle and take your medicine as directed, your blood sugar may still get worse over time. That doesn’t mean you’ve done something wrong. Diabetes is progressive, and many people eventually need more than one drug.When you take more than one drug to control your type 2 diabetes, that’s called combination therapy. You and your doctor should work together to find the best mix for you.Some drugs control blood sugar spikes (also called hyperglycemia) that come right after meals, for instance. Others are more effective at stopping drops in blood sugar (hypoglycemia) between meals. Some may help with weight loss or cholesterol, as well as your diabetes.You and your doctor should talk about any possible side effects. Cost may be an issue as well.If you take medication for something else, that will need to be factored into any decision.You’ll need to see your doctor more often when you start taking a new combination of drugs.You might find that adding a second drug doesn’t bring your blood sugar under control. Or the combination of two drugs might work only for a short time. If that happens, your doctor might consider a third non-insulin drug, or you may start insulin therapy.Surgeries\\xa0for type 2 diabetesWeight loss surgery can effectively treat type 2 diabetes by helping youlose weight. These procedures limit how much food you can eat or how many nutrients your body can take in. You\\'ll need to commit to long-term healthy lifestyle changes to get the full benefits of this type of surgery.Several types are available. Talk to your doctor about whether weight loss surgery is right for you.Alternative treatments for type 2 diabetesThere\\'s not much scientific evidence that any alternative treatment can help you manage your blood sugar. Research into dietary supplements has found that:Chromium\\xa0has little benefit and can be harmful in large doses.Cinnamon\\xa0might lower fasting blood sugar levels but doesn\\'t affect A1c.Magnesiumhas mixed results in studies, may cause side effects, and can be dangerous if taken in large doses.Some research has found that mind-body practices such as yoga and meditation might help with blood sugar control when used along withdiabetes drugs.That may be because of their stress-relief benefits.Always talk to your doctor before trying any alternative treatment. These treatments can\\'t replace diabetes medications.Type 2 Diabetes Health DisparitiesSome populations are more likely to get type 2 diabetes. Latino (12%), Black (12%), and Asian (10%) people have higher rates of diabetes than white people (7%). American Indians get it at about twice the rate as white people (14.5%). Members of racial and ethnic minority groups with type 2 are also likely to have worse health outcomes.Yet research shows that members of minority groups are less likely to use newer diabetes medications, regardless of their income or whether they havehealth insurance. And no matter what their ethnicity, people with lower incomes were less likely to take these medications. Across all races and ethnicities with diabetes, about 15% live in poverty, 19% have difficulties accessing food, and 51% have low-quality diets.Also, Black, Latino, and Native American people are less likely to be included in clinical studies to try new diabetes drugs.Type 2 Diabetes ComplicationsOver time, high blood sugar can damage and cause problems with your:Heart and blood vessels.If you have high blood sugar, you’re up to twice as likely to get heart disease or have a stroke, and at a younger age compared to those with normal sugar. You’re also at high risk of blocked blood vessels (atherosclerosis) and chest pain (angina).Kidneys.If your kidneys are damaged or you have kidney failure, you could need dialysis or a kidney replacement.Eyes.High blood sugar can damage the tiny blood vessels in the backs of your eyes. If left untreated, it can cause blindness.Nerves.This can lead to trouble with digestion, loss of sensation in your feet, and sexual problems.Skin.Your blood doesn’t circulate as well, so wounds heal slower and can become infected.Pregnancy.Parents with diabetes are more likely to have amiscarriage, a stillbirth, or a baby with a birth defect.Sleep.You might develop sleep apnea, a condition in which your breathing stops and starts while you sleep.Hearing.You’re more likely to have hearing problems, but it’s not clear why.Brain.High blood sugar can damage your brain and might put you at a higher risk of Alzheimer’s disease.Depression.People with the disease are twice as likely to get depressed as people who don’t have it.The best way to avoid these complications is to manage your type 2 diabetes well. To do that:Take your diabetes medications or insulin on time.Check your blood sugar.Eat right, and don\\'t skip meals.See your doctor regularly to check for early signs of trouble.Living With Type 2 DiabetesManaging diabetes is complicated. You\\'ll need to adopt healthy lifestyle habits, check your blood sugar regularly, and keep up with doctor visits and treatments. But your efforts can have a big impact on your health and your quality of life.Type 2 diabetes dietAdietitiancan help you create a personalized meal plan that takes your needs and preferences into account. A healthy diabetes diet should focus on:Limiting highly processed foodsReducing added sugars and low-fiber refined grains such as white breadBoosting your intake of non-starchy vegetables such as broccoli and green beansType 2 diabetes costsOn average,people diagnosed with diabetes have medical expenses that are 2.6 times higher than those without the disease. Your annual medical expenses can average$19,736 a year,$12,022 of which is directly due to diabetes.These expenses include doctor visits, hospitalizations, and medication. You may have other costs as well, such as lost time and less productivity at work.Managing type 2 diabetesManaging your type 2 diabetes well helps you avoid complications and feel your best. Along with a healthy diet, regular exercise, and medication as prescribed:Keep your blood pressure and cholesterol levels in the healthy range. High levels of either could raise your risk of diabetes complications.Lose weight if you can. Losing as little as 5% of your body weight can result in better control of your blood sugar, cholesterol, and blood pressure. The more weight you lose, the better the health benefits.Get regular eye exams, dentist visits, and physicals.Check your feet daily for sores, redness, or swelling. And let your doctor know if you notice any issues.Get at least 7 hours of good-quality sleep each night, assleep lossinterferes with blood sugar control. Ask your doctor for help if you have a hard time sleeping.Be careful with alcohol. Limit alcoholic drinks to one to two drinks a day, depending on your size and gender. If you do drink alcohol, check your blood sugar afterward.Work with your doctor to come up with a sick day plan. Even a minor illness can interfere with your blood sugar and insulin levels. You may need to adjust your medications or check your blood sugar more often.Type 2 diabetes and mental healthA long-term health condition can take a toll on your mental health. Peoplewith diabetes are two to three times as likely to havedepressionand 20% more likely to have anxiety than those without the condition. Many don\\'t get diagnosed or treated, even though therapy, medication, or a combination can work very well.Many people with diabetes sometimes get overwhelmed by the pressures of trying to manage the condition. This is called diabetes distress, and it can lead to you to neglect your health. A support group or counseling could help you overcome it.If you\\'re worried about your emotional health, ask your doctor to recommend a mental health professional.Type 2 Diabetes PrognosisThe long-term outlook for people with type 2 varies depending on how effectively they manage the condition. At age 50, the average life expectancy (LE) for those with type 2 is 6 years shorter than those without the condition. But proper care and treatment can help you improve those odds.Can type 2 diabetes be cured?There\\'s no cure for type 2. You may be able to get your blood sugar under control by losing weight and makinghealthy lifestyle changesand might even be able to stop taking diabetes medications. But this isn\\'t the case for everyone.What to expect with type 2 diabetesType 2 is a serious condition that demands lifelong management. Over the long term, high blood sugar can lead to heart, vision, and kidney problems. But you can take steps to avoid these complications and extend your life. Several studies show that:Reducing your A1c levels from 10% to under 8% can increase life expectancy by almost 3.5 years.Quitting smoking can increase LE in women over 50 by almost a year, and by almost 2 years in men over 70.Lowering LDL (\"bad\") cholesterol can improve LE by almost a year.All these things also reduce your risk of developing other diseases.Type 2 Diabetes PreventionAdopting a healthy lifestyle can help you lower yourrisk of diabetes:Lose weight. Dropping just 7%-10% of your weight can cut your risk of type 2 diabetes in half.Get active. About 30 minutes of brisk walking a day will cut your risk by almost a third.Eat right. Avoid highly processed carbs, sugary drinks, and trans and saturated fats. Limit red and processed meats.Quit smoking. Work with your doctor to keep from gaining weight after you quit, so you don\\'t create one problem by solving another.TakeawaysType 2 diabetes is a serious condition that requires lifelong management. Weight loss, a healthy lifestyle, and medications, if needed, can help you keep it under control. All can help you live a longer, healthier life.Type 2 Diabetes FAQsCan you reverse type 2 diabetes?Type 2 diabetes is not curable, but the glucose levels of some people can return to normal or prediabetes levels in what is called complete and partial remission. People are able to accomplish this mainly by losing weight. Sometimes, the beta cells, which make insulin, stop working, in a condition known as glucose toxicity. You might also go into remission when your glucose levels decrease and your beta cells start to produce insulin again.What lifestyle changes can help prevent or manage type 2 diabetes?If you have an increased risk for diabetes, making lifestyle changes can help prevent the disease. Some things you can do:Shed weight. Losing just 7% percent of your body weight has been shown to lower the risk for diabetes by nearly 60%.Increase your physical activity. In addition to helping you lose weight, exercise can lower blood sugar levels and increase your sensitivity to insulin, which keeps your blood sugar levels in a normal range.Eat more vegetables and fruits. Eating a variety of fruits, non-starchy vegetables (such as leafy greens), legumes, and whole grains can help lower your risk for diabetes. These are good sources of carbohydrates, minerals, vitamins, and fiber. They can also keep diabetes complications such as heart disease and high blood pressure at bay.Avoid fad diets. These diets may help you lose weight but there\\'s no evidence they have long-term benefits in preventing diabetes.Is type 2 diabetes an autoimmune disease?There is a type of diabetes that develops in adulthood called latent autoimmune diabetes in adults (LADA). In people with LADA, the pancreas stops making insulin, similar to type 1 diabetes but at a slower rate. In LADA, an autoimmune response damages pancreatic cells and causes them to stop working.What role does diet play in the management of type 2 diabetes?Diet plays a tremendous role in managing your diabetes. A healthy diet can help manage your blood sugar levels as well as lower cholesterol levels and blood pressure. It\\'s important to know what carbohydrates may be \"good\" or \"bad\" for your diabetes. You should greatly reduce unhealthy refined carbohydrates and foods high in added sugar, salt, and fats. A diet rich in whole grains, fiber, vegetables, lean proteins, legumes, and some fruits is a healthy one if you have diabetes.How does exercise impact type 2 diabetes management?As with a healthy diet, exercise is important in managing your diabetes. Exercise is key in losing and managing weight and lowering cholesterol and blood pressure. Studies have found that exercise can lower A1c levels by nearly 1%, even in people who lost no weight, regardless of the type of exercise. Other findings: walking at least 2 hours weekly lowered the risk of death from heart disease, particularly in women. Also, combining aerobic exercise and resistance training helps lower insulin resistance in adults who previously didn\\'t exercise at all.RELATED ARTICLES:Type 2 DiabetesType 2 Diabetes SymptomsGlucose Test for DiabetesType 2 Diabetes TreatmentSourcesUpdate HistorySharePrintSOURCES:Alzheimer’s Association: \"Alzheimer’s disease and type 2 diabetes: A growing connection.\"American Diabetes Association: \"Statistics About Diabetes,\" \"Type 1 Diabetes,\" \"Type 2,\" \"Diagnosing Diabetes and Learning About Prediabetes,\" \"Anatomy of a Test Strip,\" \"Skin Complications,\" \"Diabetes and Hearing Loss,\" \"Diabetes 101,\" \"Living Healthy With Diabetes,\" \"The Cost of Diabetes,\" \"Peripheral Arterial Disease (PAD),\" \"Depression,\" \"What is Retinopathy?\" \"Studies Uncover Stark Impact Social Determinants of Health Have on Youth and Adult Populations with Diabetes,\" \"Economic Costs of Diabetes in the U.S. in 2022.\"Alton Memorial Hospital: \"Types of Diabetes.\"American Geriatrics Society\\'s Health in Aging Foundation: \"Diabetes.\"BMJ Open Diabetes Research & Care: \"Food insecurity, diet quality, and suboptimal diabetes management among US adults with diabetes.\"British Medical Journal:\"Vascular complications of diabetes.\"Carolinas HealthCare System: \"Yeast Infections and Diabetes: What You Should Know.\"CDC: \"Diabetes,\" \"National Diabetes Statistics Report,\" \"Insulin Resistance and Diabetes,\" \"Prediabetes – Your Chance to Prevent Type 2 Diabetes,\" \"Diabetes Meal Planning,\" \"Diabetes and Mental Health,\"\"Type 2 Diabetes,\" \"Type 1 Diabetes,\" \"Gestational Diabetes,\" \"Insulin Resistance.\"Cleveland Clinic: \"Diabetes Learning Module,\" \"Preventing Diabetes Complications,\" \"Five Best Exercises for People With Diabetes,\" \"Insulin Resistance,\" \"Cerebrovascular Disease.\"Cleveland Clinic Center for Continuing Education: “Diabetes Mellitus: Management of Microvascular and Macrovascular Complications.\"Clinical Diabetes: \"Racial and Ethnic Disparities in Prevalence and Care of Patients With Type 2 Diabetes,\" \"Good to Know: Race and Type 2 Diabetes.\"The Commonwealth Fund: \"Disparities in the Use of New Diabetes Medications: Widening Treatment Inequality by Race and Insurance Coverage.\"Current Medical Research and Opinion: \"Racial/ethnic disparities in prevalence and care of patients with type 2 diabetes mellitus.\"Diabetes Care: \"Investigation of the Accuracy of 18 Marketed Blood Glucose Monitors.\"Diabetes Research Institute: \"What Is Diabetes?\"Diabetes and Endocrinology: \"Potential Gains in Life Expectancy Associated With Achieving Treatment Goals in US Adults With Type 2 Diabetes.\"Diabetes UK: \"Reversing Type 2 Diabetes,\" \"DPP-4 Inhibitors (Gliptins).\"Diatribe.org: \"FDA Publishes Final Recommendations on Blood Glucose Meter Accuracy.\"Endocrine Practice: \"Dysglycemia-Based Chronic Disease: An American Association of Clinical Endocrinologists Position Statement.\"The Fisher Center for Alzheimer\\'s Research Foundation: \"Low Blood Sugar May Trigger Dementia in Those With Diabetes.\"Harvard Medical School: “Type 2 Diabetes Mellitus,” \"The importance of exercise when you have diabetes.\"Harvard T.H. Chan School of Public Health: \"Simple Steps to Preventing Diabetes.\"International Diabetes Federation: \"Prevention,\" \"Complications of Diabetes,\" \"Type 2 diabetes.\"Johns Hopkins Medicine: \"Diabetes: What You Need to Know As You Age,\" \"Diabetic Nephropathy (Kidney Disease),\" \"Peripheral Vascular Disease.\"Joslin Diabetes Center: \"Common Questions About Type 2 Diabetes,\" \"Little Things that Can Have a Big Impact on your Blood Glucose Reading,\" \"Money Saving Strategies for Diabetes Care Supplies,\" \"Can Type 2 Diabetes Be Reversed?\"Journal of Diabetes Science and Technology: \"Lot-to-lot variability of test strips and accuracy assessment of systems for self-monitoring of blood glucose according to ISO 15197.\"Journal of Epidemiology and Global Health: \"Epidemiology of Type 2 Diabetes – Global Burden of Disease and Forecasted Trends.\"Journal of Integrative and Complementary Medicine:\"Mind- and Body-Based Interventions Improve Glycemic Control in Patients with Type 2 Diabetes: A Systematic Review and Meta-Analysis.\"The Lancet Regional Health - Americas: \"Racial/ethnic and socioeconomic disparities in the use of newer diabetes medications in the Look AHEAD study.\"National Institutes of Health: \"Coping with Chronic Illness.\"Nemours Children\\'s Health: \"Definition: Beta Cells.\"LiverTox: \"Second Generation Sulfonylureas.\"MIT School of Engineering: \"How do glucometers work?”Mayo Clinic: \"Type 2 diabetes,” \"Blood sugar testing: Why, when and how,\"\"Blood glucose monitors: What factors affect accuracy?\"\"Selective serotonin reuptake inhibitors (SSRIs),\"\"Serotonin and norepinephrine reuptake inhibitors (SNRIs),\"\"Prediabetes,\" \"Peripheral neuropathy,\" \"Coronary Artery Disease,\" \"Diabetes prevention: 5 tips for taking control,\" \"Latent autoimmune diabetes in adults (LADA): What is it?\"MedlinePlus: \"Diabetes Type 2.\"Medscape: \"Pharmacologic Therapy for Depression.\"National Center for Biotechnology Information: \"Is Acanthosis Nigricans a reliable indicator for risk of type 2 diabetes?\"National Diabetes Information Clearinghouse: \"Causes of Diabetes.\"NHS Inform: \"Type 2 diabetes.\"National Institute of Diabetes and Digestive and Kidney Diseases: \"Am I at risk for type 2 diabetes?\"\"Insulin Resistance & Prediabetes,\" \"Type 2 Diabetes,\" \"Tips for Older Adults With Diabetes.\"National Institute of Mental Health: \"Depression.\"Science Daily: \"Diabetes and Depression Can Be A Fatal Mix.\"UpToDate: “Sodium-glucose co-transporter 2 inhibitors for the treatment of hyperglycemia in type 2 diabetes mellitus.\"U.S. Food and Drug Administration: \"Diabetes Medicines.\"U.S. National Library of Medicine: \"Diabetes in Children and Teens.\"Yale Medicine: \"Managing Diabetes with Lifestyle Changes: Nutrition.\"View privacy policy, copyright and trust infoSharePrintView privacy policy, copyright and trust infoNext In Type 2 Diabetes OverviewType 2 Diabetes SymptomsGlucose Test for DiabetesType 2 Diabetes TreatmentShow more articlesMore on DiabetesNavigating Diabetes Diagnosis & Treatment8 Simple Snacks That Won\\'t Spike Your Blood SugarHere\\'s How a Continuous Glucose Monitor WorksRecommendedFEATUREDTop doctors in ,Find more top doctors onSearchRelated LinksDiabetes Health Center ReferenceDiabetes Health Center SlideshowsDiabetes Health Center QuizzesDiabetes BlogsDiabetes Health Center VideosDiabetes Health Center MedicationsFind an EndocrinologistBook: Take Control of Your Diabetes RiskGeneral DiabetesType 1 DiabetesType 2 DiabetesGestational DiabetesPrediabetesBlood Sugar ControlDiabetic NeuropathyEye Problems AssessmentHeart DiseaseInsulinomaMetabolic SyndromeOral CareDiabetes OverviewDiabetes SymptomsDiabetes CausesDiabetes DiagnosisDiabetes TreatmentRisksTypesComplicationsPoliciesPrivacy PolicyCookie PolicyEditorial PolicyAdvertising PolicyCorrection PolicyTerms of UseAboutContact UsCareersNewsletterWebMD AppCorporateSite MapFor AdvertisersAdvertise with Us© 2005 - 2025 WebMD LLC, anInternet Brandscompany. All rights reserved. WebMD does not provide medical advice, diagnosis or treatment.See additional information.'),\n",
       " Document(metadata={'source': 'https://www.webmd.com/migraines-headaches/migraines-headaches-migraines', 'title': 'Migraine: Symptoms, Causes, and Treatment', 'description': 'Migraine headaches, also known as migraines, are a type of headache that can cause debilitating pain. Learn more about the types, causes, symptoms, diagnosis, & treatment of migraines.', 'language': 'en'}, page_content='Migraine: Symptoms, Causes, and TreatmentSkip to main contentHomeConditionsBackConditionsView AllADD/ADHDAllergiesArthritisAtrial fibrillationBreast CancerCancerCrohn\\'s DiseaseDepressionDiabetesDVTEczemaEye HealthHeart DiseaseHIV & AIDSLung DiseaseLupusMental HealthMultiple SclerosisMigrainePain ManagementPsoriasisPsoriatic ArthritisRheumatoid ArthritisSexual ConditionsSkin ProblemsSleep DisordersUlcerative ColitisView AllDrugs & SupplementsBackDrugs & SupplementsDrugsSupplementsPill IdentifierInteraction CheckerWell-BeingBackWell-BeingAging WellBabyBirth ControlChildren\\'s HealthDiet & Weight ManagementFitness & ExerciseFood & RecipesHealth & BalanceHealthy BeautyMen\\'s HealthParentingPet HealthPregnancySex & RelationshipsTeen HealthWomen\\'s HealthSymptom CheckerFind a DoctorMoreBackMoreNewsBlogsPodcastsWebinarsNewslettersWebMD MagazineBest HospitalsSupport GroupsPrivacy & MoreSubscribeLog InSearchSubscribeMigraine & HeadachesMigraine & Headaches GuideHeadaches OverviewTypes & SymptomsCauses & TriggersDiagnosis & TreatmentMigraineOverviewTypesSymptoms & Symptom TrackingCauses & TriggersTests & DiagnosisDrug & Surgical TreatmentComplementary & Alternative TreatmentPreventative TreatmentRisks & ComplicationsLifestyle & SupportMigraine in WomenCluster & Tension HeadachesCluster HeadachesTension HeadachesOther Types of HeadachesTypesSinus HeadachesRebound HeadachesAppointment PrepView Full GuideWhat Is Migraine?Medically Reviewed byPoonam  Sachdevon March 14, 2024Written byWebMD Editorial ContributorsMigraine SymptomsMigraine CausesMigraine Risk FactorsMigraine TriggersMigraine TypesMigraine FrequencyWhen to Call Your DoctorMigraine DiagnosisMigraine SeverityMigraine TreatmentMigraine Home RemediesMigraine Health DisparitiesLiving With MigrainesTakeawaysMigraine FAQs15 min readMigraine is a brain and nervous system disorder whose symptoms almost always include intense headaches. You get these headaches repeatedly, in episodes that can last anywhere from 4 to 72 hours. Along with head pain, they include other symptoms like nausea and sensitivity to light.Migraine vs. headacheMany people use the word \"migraine\" to describe the headache itself. But head pain is just one symptom of migraine. And headaches can be caused by many other things. Some typical characteristics of migraine headaches include:The pain is throbbing or pounding and feels worse when you move around.You feel it mostly on one side of your head.You also have at least one of these symptoms: sensitivity to light and/or sound,nausea, and vomiting.Migraine SymptomsFor many people, a migraine episode happens in stages. Symptoms you may have during these stagesinclude:Migraine prodromeHours or days before a headache, about 60% of people who have migraine notice symptoms like:Sensitivity to light, sound, or smell. Levels of light and sound that don\\'t usually bother you may feel uncomfortable or even painful. Odors like those of cigarette smoke, car exhaust, perfume, and cleaning products may seem especially unpleasant.Fatigue for no known reason. You might also yawn a lot.Food cravings orlack of appetite. You may crave a particular food like sweets or feel hungrier in general. Or you might not feel much like eating.Mood changes, such as irritability or sadness.Feeling thirstyand peeing more often.Digestive problems like feeling bloated or havingconstipationordiarrhea.Experts say it\\'s possible to mistake symptoms of prodrome for things that trigger an attack. For example, a craving for sweets might lead you to eat chocolate, which you then blame for causing your headache.Migraine auraUp to 25% of people with migraine have what\\'s calledaurasshortly before after a headache starts or at the same time as a headache.These symptoms stem from yournervous systemand often involve yourvision. They usually start gradually, over a 5- to 20-minute period and last less than an hour. You may have:Vision problems like black dots, wavy lines, flashes of light, or tunnel visionTingling or numbness in your face, hands, and/or limbsTrouble speaking clearly.You might mumble or slur your words.Ringing in yourears, called tinnitusWeaknesson one side of your face or bodyMigraine attackAlso called the headache phase, this stage is usually characterized by head pain. This pain may:Begin as a dull ache and then become throbbingGet worse duringphysical activityAffect one sideof your head or move from one side to the other, be in the front of your head, or affect your entire headDuring the headache, you may also:Have nausea (About 80% of people with migraine do, and about half vomit.)Be paleand clammyFeelfaintordizzyHave neck pain or stiffnessFeel anxious or depressedHave a runny nose or feel stuffed upBe sensitive to light(Noise or odors might also bother you.)Have trouble sleeping and feel fatiguedHow long do migraines last? Often, it\\'s about 4 hours, but serious ones can go for more than 3 days. Some people get them almost every day, while others get them once or twice a year.Migraine postdromeThis stage can last up to a day after a headache. About 80% of people with migraine havepostdrome.Symptoms include:Feelingtired,wiped out, or crankyFeeling unusually refreshed or happyMuscle painor weaknessFood cravings or lack of appetiteTrouble concentratingMigraine vs. tension headacheTension headaches, often caused by tight muscles or stress, are the most common type of headache. The pain of a tension headache usually affects both sides of your head and feels steady instead of throbbing. Tension headaches don\\'t usually cause nausea, vomiting, or light sensitivity.Migraine vs. cluster headacheCluster headaches tend to begin quickly with no warning. The pain is intense and sharp or burning. You usually feel it around or behind one of your eyes. Cluster headaches can cause these symptoms in the affected eye:Redness or wateringAn eyelid that looks droopy or swollenA smaller pupilEach headache lasts between 15 minutes and 3 hours, and you can have several in 1 day. You tend to get them in \"clusters\"—weeks or months in which you have them often. These periods are followed by weeks or months in which you\\'re headache-free.Cluster headachesaren\\'t considered migraines.Migraine CausesDoctors don’t know exactly what causes migraines, though they seem to be related to your genes, as well as to changes inyour brain. Your genes may even influence\\xa0whattriggersyour headaches, whether it\\'sfatigue, bright lights, or weather changes.For many years, scientists thought people got migraine attacks because of changes inbloodflow in the brain. Most now think this contributes to the pain but isn\\'t what starts it.Some experts now believe an attack starts due to chemical changes in your brain. Overactive nerve cells send out signals that lead to changes in the levels of certain chemical compounds in your body, such as serotonin and calcitonin gene-related peptide (CGRP). CGRP makes blood vessels around your brain swell, while serotonin causes them to shrink. An imbalance in these chemicals causesinflammationand pain.Migraine Risk FactorsThe American Migraine Foundation estimates that more than 38 million Americans get migraines. Some things may make you more likely to get them:Sex.Women (and those assigned female at birth) have migraines three times more often than men and those assigned male at birth.Age.Most people start having migraine headaches between ages 10 and 40. If you have periods, you may find that your attacks get better or go away after menopause.Family history.Four out of five people with migraine have other family members who get them. If one parent has a history of thesetypes of headaches, you have a 50% chance of getting them. If both parents have them, the risk jumps to 75%.Other medical conditions.Depression,\\xa0anxiety,bipolar disorder,sleep disorders, andepilepsycan raise your odds.Migraine TriggersSome things that may trigger an attack\\xa0include:Hormone changes.You maynotice that you have headaches around your period, while you\\'repregnant, or when you\\'reovulating. Symptoms may also be tied to menopause,\\xa0hormonalbirth controlmethods, orhormone replacement therapy.Stress.When you\\'re stressed, your brain releases chemicals that cause blood vessel changes that might lead to a headache.Skipping mealsChanges in weather.Storm fronts, changes in barometric pressure, strong winds, or changes in altitude can all trigger an attack.Your senses.Loud noises, bright lights, and strong smells can set off a headache.Medications.Vasodilators, which widen your blood vessels, can trigger headaches.Physical activity.This includesexerciseandsex.TobaccoChanges in yoursleep.You might get headaches when you sleep too much or not enough.Migraine trigger foodsSome foods and drinks, such as agedcheeses,alcohol, chocolate, and beans, have been linked to migraine attacks. So havefood additiveslike nitrates (in pepperoni, hot dogs, and lunch meats), monosodium glutamate, and the artificialsweetener aspartame. There\\'s little solid research on this, so your best bet may be to keep a food diary to see whether any foods or drinks seem to trigger your headaches.Foods or drinks that containcaffeine, such as coffee and tea, can trigger headaches for some people.Either having too much caffeine or not having as much as you\\'re used to can cause an attack.Caffeineitself can be a treatment for headaches.Migraine TypesThere are several types of migraines. The most common aremigraine withaura\\xa0(also known as classic migraine) andmigraine without aura(or common migraine).Others include:Menstrual migraine.This is when your headaches are linked to your period. Theyusually start 2 days before your period and last until 3 days after. You may also have other kinds of migraine headaches at other times of the month.Menstrual migrainesdon\\'t usually include aura.Silent migraine.With this kind, also known as an acephalgic migraine, you have aurasymptoms without a headache.You may also have nausea and other migraine symptoms. An attack usually lasts only about 20-30 minutes.Vestibular migraine.You have balance problems,vertigo, nausea, and vomiting, with or without a headache. It usually happens in people who have a history ofmotion sickness.Abdominal migraine.Experts don\\'t know a lot about this type. It causesstomach pain, nausea, and vomiting. It\\'s more common in children and may change into classic migraine headaches over time.Hemiplegic migraine.You have a short period ofparalysis(hemiplegia) or weakness on one side of your body. You might also feel numb or dizzy or notice vision changes. These symptoms can also be signs of astroke, so get medical help right away if you have them.Ocularmigraine.This is also known as anophthalmicor retinal migraine. It causes brief partial or total loss of vision in one eye. It also causes a dull ache behind theeye, which may spread to the rest of your head. Get medical help right away if you notice any vision changes.Migraine with brainstem aura.You may have dizziness, confusion, or loss of balance before the headache. The pain may affect the back of your head. These symptoms usually start suddenly. You may also have trouble speaking, ringing in your ears, and vomiting. This type of migraine is strongly linked to hormone changes and mainly affects young adult women. Again, get these symptoms checked out by a doctor right away.Status\\xa0migrainosus.This very intense type of migraine can last more than 72 hours. The pain and nausea are so bad that you may need to go to the hospital. Sometimes, medicines or medication withdrawal can cause them.Ophthalmoplegic migraine.This causes pain around youreyeand may paralyze the muscles around it. Other symptoms include adroopy eyelid,double vision, or other vision changes. These symptoms can also be caused by pressure on the nerves behind theeyeor by ananeurysm, so get immediate medical help if you have them.Migraine FrequencyDoctors divide migraine into three\\xa0levels of frequency.Episodic migraineThis means you have an attack now and then, whether it\\'s once a year or a couple times a week. Most people with migraine have two to four headaches amonth.High-frequency episodic migraineYou have headaches on 9-14 days per month for at least 3 months. People with high-frequency episodic migraine are more likely than others to developchronic migraine.Chronic migraineYou have headaches on more than 15 days of the month. Eight of those headaches include features such as:Moderate to intense head painThe pain on the side of your head (one or both)Pain that throbs or pulsatesPain that gets worse when you moveNausea or vomitingSensitivity to light and soundAbout 12% of Americans have migraine, and only about a third of those have chronic migraine.Chronic and even high-frequency episodic migraine can be disabling. That\\'s why it\\'s important to work closely with your doctor on a treatment plan.When to Call Your DoctorSee your doctor any time a headache doesn\\'t go away or keeps coming back.Get medical help right away if you have an intense headache and:Astiff neck with fever, nausea, and vomitingNumbness or weakness in your limbsTrouble speaking orslurred speechIt happened very suddenlyIt\\'s the first really bad headache you\\'ve ever had and keeps you from doing your daily activitiesYou got it right after a head injury, exercise, or sexConfusion or memory lossIt gets worse over a dayIt\\'s the worst one you\\'ve ever hadYou have it in just one eye along with redness in that eyeYou\\'re also having vision problems and it hurts to chewYou\\'re over 50 and this is the first time you\\'ve had this type of head painMigraine DiagnosisBefore making a diagnosis, your doctor will ask about your health history and your symptoms. It may help if you keep track of your symptoms and any triggers you\\'ve noticed. Write down or enter into a tracking app:What symptoms you have, including where it hurtsHow often you have themHow long they lastOther family members who have migraineAll the medicines andsupplementsyou take, even over-the-counter (OTC) onesOther medicines you remember taking in the pastYour doctor may order tests to rule out other things that could cause your symptoms. These may include:Blood testsImaging testslikeMRIor CT scansElectroencephalogram(EEG)Migraine SeveritySome doctors use a tool called the Migraine Disability Assessment Scale(MIDAS ) to measure the intensity of attacks. To get your MIDAS score, you answer questions about your ability to participate in daily activities during your headaches. These include work or school tasks, household and family obligations, and social or recreational activities:Grade 1.Little or no disabilityGrade 2.Mild disabilityGrade 3.Moderate disabilityGrade 4.Serious disabilityThe MIDAS questionnaire also asks you to rate the pain of your headaches over the past 3 months on a scale of 1-10.Migraine TreatmentThere\\'s no cure for migraine, but there are many ways to treat it. Some treatments stop attacks after they start, some prevent them, and some can do both.Migraine medicationsCommon migraine treatments include:OTC pain relievers.These drugs often work well for headaches. The main ingredients are often acetaminophen, aspirin, caffeine, and ibuprofen. Never give aspirin to anyone under age 19 because of the risk ofReye\\'s syndrome.If you use OTC pain medications too much, you can get rebound headaches or become dependent on them. If you\\'re taking them more than 2 days a week, talk to your doctor about prescription drugs that may work better.Celecoxib (Celebrex, Elyxyb).This is a prescription nonsteroidal anti-inflammatory drug that stops your body from making certain hormones that can cause pain when they reach high levels in your bloodstream. You take it to stop a migraine. Celebrex come as a tablet that you take once or twice a day. Elyxyb is a liquid you take by mouth once a day.Triptans.These drugs balance the chemicals in your brain to stop the pain. You might get a pill to swallow, tablets you dissolve on your tongue, a nasal spray, or a shot. Examples include:Almotriptan (Axert)Eletriptan (Relpax)Rizatriptan (Maxalt)Sumatriptan (Imitrex)Zolmitriptan (Zomig)Ditans.Lasmiditan (Reyvow) is a tablet that eases pain, nausea, and sensitivity to light or sound. It comes in pill form. It interferes with the release of CGRP.Gepants.Your doctor might give you rimegepant (Nurtec) or ubrogepant (Ubrelvy) if other treatments don\\'t help. You\\'ll take them in tablet form. Another type, zavegepant (Zavzpret) comes as a nasal spray. These medications work in a different way to suppress CGRP.Ergotamine (Cafergot, Ergomar, Migergot).This also works on the chemicals in yourbrain.Nausea medicine.Your doctor can prescribe medication if you get nausea with your migraine.Preventive medicines.If other treatments don\\'t work, your headaches are serious, or you have four or more headache days a month, your doctor may suggest these. You take them regularly to make your headaches less painful or frequent. They include:Seizure medicinesBlood pressure medicines likebeta-blockersand calcium channel blockersSome antidepressantsMedications that help stop the action of CGRP can also work to prevent migraines. These include:Atogepant (Qulipta)Eptinezumab (Vyepti)Erenumab (Aimovig)Fremanezumab (Ajovy)Galcanezumab (Emgality)Migraine devicesThe FDA has approved several devices to treat or prevent migraine symptoms. They use magnetic or electrical energy to target nerves or nerve activity involved in head pain, an approach called neuromodulation.You might try them if medications don\\'t work well for you, or use them together with medication.The devices include:Single-pulse transcranial magnetic stimulation (eNeura).To usethis prescription device, you place it on the back of your head. It sends a pulse of magnetic energy that affects electrical signaling in your brain, which may stop or reduce pain. It\\'s used both to treat and prevent attacks.External trigeminal nerve stimulation (Cefaly).This nonprescription device targets thetrigeminal nerve, which provides sensation to parts of your head and face. It delivers stimulation through electrodes you place on your forehead. You can use it to treat or prevent headaches. You might also hear this type of device called a transcutaneous electrical nerve stimulation unit.Noninvasive vagal nerve stimulator (Gammacore).This type works on your vagus nerve, a long nerve that\\'s a key player in your nervous system. To use it, you hold it in your hand and place it against your neck. It\\'s approved to both stop and prevent headaches and requires a prescription.Remote electrical neuromodulator (Nerivio).You also need a prescription for this device, which you apply to your upper arm and control with a phone app. It stimulates nerves in your arm that are part of a pathway for pain signals. It\\'s used to get rid of migraine pain once it starts.Combined occiputal and trigeminal neurostimulation (Relivion).This headband-like device stimulates the trigeminal nerve as well as the occipital nerve that runs along the back of your head. This can help stop an attack. The device, which is available by prescription, is controlled via a phone app.Botox for migraineIf you have chronic migraine, shots of botulinum toxin type A (Botox) can help reduce the frequency of your headaches. The toxin is thought to interrupt the pain signals in your head. You\\'ll get several shots in your head and neck. Each treatment lasts up to 12 weeks.Migraine surgerySome people have surgery for migraine when other treatments don\\'t work. But this approach hasn\\'t been well-studied, and it\\'s controversial. The American Headache Society doesn\\'t recommend surgery unless it\\'s done as part of a research study.The two main types of migraine surgery are:Nerve decompression surgery.In this operation, a surgeon removes tissue that\\'s putting pressure on and irritating nerves that are thought to be trigger points for migraine.Neurectomy.This involves cutting the end of a nerve in the area where your pain starts.Cognitive behavioral therapy for migraineA therapist can teach you how your actions and thoughts affect how you sense pain. They can also teach you ways to reduce stress, a known trigger formigraine attacks.Migraine Home RemediesYou may be able to easesymptomsby:Resting with your eyes closed in a dark, quiet roomPutting a cool compress or ice pack on your foreheadDrinking plenty of liquidsPlacing a warm compress or washcloth on your head or the back of your neckGently massaging your neck, scalp, or templesMeditatingComplementary and alternative treatments for migraineSome people get relief with therapies they use in addition to or instead of traditional medical treatment. These are called complementary or alternative treatments. For migraine, they include:Biofeedback.This helps you take note of stressful situations that could trigger symptoms. If the headache begins slowly,biofeedbackcan stop the attack before it becomes full-blown.Supplements.Research has found that some vitamins,minerals, and herbs can prevent or treat migraines. These include riboflavin, coenzyme Q10, feverfew, magnesium, andmelatonin. Butterbur may head off attacks, but it can also affect your liver enzymes.Body work.Physical treatments like chiropractic, massage,acupressure, acupuncture, and craniosacial therapy might ease headache symptoms. Mind-body practices like yoga or tai chi might also help.Talk to your doctor before you try any complementary or alternative treatments.Migraine Health DisparitiesNot only are women about three times more likely to have migraine than men, their headaches tend to be worse and last longer. Experts think that\\'s mostly because hormonal changes can trigger migraines, though stress may also play a role.Migraine is more common among people who identify as bisexual, gay, or lesbian than in those who describe themselves as straight (heterosexual). One study found that the condition affected about:37% of bisexual women25% of lesbians23% of bisexual men20% of straight women15% of gay men10% of straight menSome researchers believe one reason for this could be the stress of coping withstigma and discrimination. Unequal treatment for LGBT+ people within the health-care system may also be to blame.Researchers say the rate of migraine is similar across different racial groups in the U.S. But Hispanic people are 50% less likely to be diagnosed than White people, and Black people are 25% less likely to be diagnosed. And while 37% of White people with migraine get prescriptions for medication to stop their headaches, just14% of Black people do.The reasons for these differences include racism, distrust of the medical system, and a lack of minority doctors, experts say. Socioeconomic status also plays a major role. People with lower income levels are 60% more likely to have migraine. But they\\'re much less likely to have access to high-quality health care.Living With MigrainesTry these steps to prevent symptoms:Identify and avoid your triggers. Keep track of your symptom patterns in a diary or on an app so you can figure out what may be causing your attacks.Manage stress. Relaxation techniques likemeditation,yoga, and mindfulbreathingcan help.Eat and sleep on a regular schedule.Drink lots of fluids.Get plenty of rest.Get regular moderate exercise.Are migraines a disability?Not everyone with migraine is considered to have a disability under the federal Americans With Disabilities Act. It may be considered a disability if it \"substantially\" limits your ability to do important life activities like working, communicating, or caring for yourself.TakeawaysMigraine is a neurological (brain and nervous system) disorder whose main symptom is intense headaches. There\\'s no cure, but medical treatment and healthy lifestyle changes can help keep them under control. If you have headaches that interfere with your daily life, make an appointment with your doctor or aheadache specialist.Migraine FAQsAre migraines curable?There\\'s no cure for migraines yet. But medications can help prevent or stop them or keep your symptoms from getting worse. You can also avoid things that trigger your migraines. Lifestyle changes like easingstressand having good sleep habits can help, too.Are migraines fatal?Most migraines don\\'t cause lasting harm. Rarely, you can have a complication called migrainous infarction. That\\'s when you have astrokewhile you\\'re having a migraine. But there\\'s no evidence migraine can trigger a stroke.It\\'s extremely rare, but a hemiplegic migraine can sometimes lead to acomaor other serious complications.A very intense headache that starts suddenly can be a sign of another, more serious condition, like a stroke or aneurysm. Get medical help right away if this happens.SourcesUpdate HistorySharePrintPhoto Credit: Thinkstock / Getty ImagesSOURCES:National Headache Foundation: \"Migraine.\"Annals of Neurology: \"Familial risk of migraine: A population‐based study.\"Daroff, R.Bradley\\'s Neurology in Clinical Practice, 6th edition,Saunders, 2012.Medical Clinics of North America,March 2009.FDA.Medscape: \"Migraine Headache.\"American Migraine Foundation: \"What Is Chronic Migraine?\" \"What Type of Headache Do You Have?\" \"Silent Migraine: A Guide,\"\\xa0\"Identifying and Treating Migraine,\" \"What Is Migraine?\" \"What Is Photophobia & Can It Be Treated?\" \"The Timeline of a Migraine Attack,\" \"Diet and Headache Control,\"\"Abdominal Migraine,\" \"What You Need to Know About Migraine and Botox.\"MedlinePlus: \"Migraine,\" \"Headaches - danger signs.\"American Academy of Family Physicians: \"Migraines.\"Mayo Clinic: \"Migraine,\"\"Migraine Aura,\" \"Celecoxib,\" \"Migraine Headache.\"The Migraine Trust: \"Menstrual migraine,\" \"Prodrome: Spotting the first signs of a migraine attack,\" \"Cluster headache vs. migraine,\"\"Hemiplegic Migraine.\"Johns Hopkins Medicine: \"Vestibular Migraine,\" \"Migraine Headaches,\" \"Tension Headaches.\"Yale Medicine: \"Abdominal Migraine: Symptoms, Diagnosis & Treatment.\"U.S. Department of Health and Human Services Office on Women\\'s Health: \"Migraine.\"Cleveland Clinic: \"Migraine Headaches,\"\"A Migraine Without Pain? Yes, It Can Happen, and It\\'s Called an Ocular Migraine,\"\"Migraine Aura.\"UpToDate: \"Acute treatment of migraine in adults,\"\"Pathophysiology, clinical manifestations, and diagnosis of migraine in adults,\"\"Preventive treatment of migraine in adults.\"National Organization for Rare Disorders: \"Hemiplegic Migraine.\"Stroke Association: \"Migraine and stroke.\"Journal of Headache and Pain: \"Shift from high-frequency to low-frequency episodic migraine in patients treated with Galcanezumab: results from two global randomized clinical trials.\"Medline Plus: \"Migraine.\"WomensHealth.Gov: \"Migraine Fact Sheet.\"Cephalalgia: \"Abdominal migraine.\"National Institute of Neurological Disorders and Stroke: \"Migraine.\"NYU Langone Health: \"Diagnosing Migraine.\"American Headache Society: \"What\\'s that smell?\" \"Comparing Neuromodulation Devices,\" \"Five Things Physicians and Patients Should Question.\"BMC Neurology: \"Global assessment of migraine severity measure: preliminary evidence of construct validity.\"Barrow Neurological Institute: \"Neuromodulation for Headaches.\"Premier Health: \"Surgery For Migraine Relief: Fad Or Fact?\"Current Pain and Headache Reports: \"Legal Aspects of Migraine in the Workplace.\"View privacy policy, copyright and trust infoSharePrintView privacy policy, copyright and trust infoNext In MigraineWhy Migraines Aren\\'t \\'Just\\' a HeadacheMigraines vs. Chronic MigrainesMixed Tension MigraineWhat Are High-Frequency Episodic Migraines?What Are Cyclic Migraines?Show more articlesMore on Migraine & HeadachesHerbal Supplements for Migraine: What to KnowTips to Manage Your Migraine HeadachesWhat Are Migraine Symptoms and Causes?RecommendedFEATUREDTop doctors in ,Find more top doctors onSearchRelated LinksMigraine & Headaches BlogsMigraine & Headaches VideosMigraine & Headaches MedicationsFind a NeurologistBrain & Nervous SystemHigh Blood PressureStress ManagementMigraines  OverviewMigraines  SymptomsMigraines CausesMigraines DiagnosisMigraines TreatmentTypesRisks and ComplicationsPoliciesPrivacy PolicyCookie PolicyEditorial PolicyAdvertising PolicyCorrection PolicyTerms of UseAboutContact UsCareersNewsletterWebMD AppCorporateSite MapFor AdvertisersAdvertise with Us© 2005 - 2025 WebMD LLC, anInternet Brandscompany. All rights reserved. WebMD does not provide medical advice, diagnosis or treatment.See additional information.')]"
      ]
     },
     "execution_count": 4,
     "metadata": {},
     "output_type": "execute_result"
    }
   ],
   "source": [
    "docs"
   ]
  },
  {
   "cell_type": "code",
   "execution_count": 5,
   "metadata": {
    "execution": {
     "iopub.execute_input": "2024-06-07T21:36:39.54771Z",
     "iopub.status.busy": "2024-06-07T21:36:39.547254Z",
     "iopub.status.idle": "2024-06-07T21:38:35.017363Z",
     "shell.execute_reply": "2024-06-07T21:38:35.016307Z",
     "shell.execute_reply.started": "2024-06-07T21:36:39.54767Z"
    },
    "trusted": true
   },
   "outputs": [],
   "source": [
    "text_splitter = RecursiveCharacterTextSplitter(chunk_size=500, chunk_overlap=30)\n",
    "chunks = text_splitter.split_documents(docs)\n",
    "\n",
    "embedding_function = HuggingFaceEmbeddings()\n",
    "\n",
    "vector_store = Chroma.from_documents(documents=chunks, embedding=embedding_function)\n",
    "\n",
    "retriever = vector_store.as_retriever(search_kwargs={\"k\": 3})"
   ]
  },
  {
   "cell_type": "code",
   "execution_count": 6,
   "metadata": {
    "execution": {
     "iopub.execute_input": "2024-06-07T21:38:35.019515Z",
     "iopub.status.busy": "2024-06-07T21:38:35.018665Z",
     "iopub.status.idle": "2024-06-07T21:38:35.024835Z",
     "shell.execute_reply": "2024-06-07T21:38:35.023753Z",
     "shell.execute_reply.started": "2024-06-07T21:38:35.019475Z"
    },
    "trusted": true
   },
   "outputs": [
    {
     "data": {
      "text/plain": [
       "[Document(metadata={'description': 'Migraine headaches, also known as migraines, are a type of headache that can cause debilitating pain. Learn more about the types, causes, symptoms, diagnosis, & treatment of migraines.', 'language': 'en', 'source': 'https://www.webmd.com/migraines-headaches/migraines-headaches-migraines', 'title': 'Migraine: Symptoms, Causes, and Treatment'}, page_content='This pain may:Begin as a dull ache and then become throbbingGet worse duringphysical activityAffect one sideof your head or move from one side to the other, be in the front of your head, or affect your entire headDuring the headache, you may also:Have nausea (About 80% of people with migraine do, and about half vomit.)Be paleand clammyFeelfaintordizzyHave neck pain or stiffnessFeel anxious or depressedHave a runny nose or feel stuffed upBe sensitive to light(Noise or odors might also bother'),\n",
       " Document(metadata={'description': 'Migraine headaches, also known as migraines, are a type of headache that can cause debilitating pain. Learn more about the types, causes, symptoms, diagnosis, & treatment of migraines.', 'language': 'en', 'source': 'https://www.webmd.com/migraines-headaches/migraines-headaches-migraines', 'title': 'Migraine: Symptoms, Causes, and Treatment'}, page_content=\"when you move around.You feel it mostly on one side of your head.You also have at least one of these symptoms: sensitivity to light and/or sound,nausea, and vomiting.Migraine SymptomsFor many people, a migraine episode happens in stages. Symptoms you may have during these stagesinclude:Migraine prodromeHours or days before a headache, about 60% of people who have migraine notice symptoms like:Sensitivity to light, sound, or smell. Levels of light and sound that don't usually bother you may feel\"),\n",
       " Document(metadata={'description': 'Migraine headaches, also known as migraines, are a type of headache that can cause debilitating pain. Learn more about the types, causes, symptoms, diagnosis, & treatment of migraines.', 'language': 'en', 'source': 'https://www.webmd.com/migraines-headaches/migraines-headaches-migraines', 'title': 'Migraine: Symptoms, Causes, and Treatment'}, page_content=\"may also have nausea and other migraine symptoms. An attack usually lasts only about 20-30 minutes.Vestibular migraine.You have balance problems,vertigo, nausea, and vomiting, with or without a headache. It usually happens in people who have a history ofmotion sickness.Abdominal migraine.Experts don't know a lot about this type. It causesstomach pain, nausea, and vomiting. It's more common in children and may change into classic migraine headaches over time.Hemiplegic migraine.You have a short\")]"
      ]
     },
     "execution_count": 6,
     "metadata": {},
     "output_type": "execute_result"
    }
   ],
   "source": [
    "retriever.get_relevant_documents(\"Symptoms of migraine\")"
   ]
  },
  {
   "cell_type": "markdown",
   "metadata": {},
   "source": [
    "- tạo ra 2 route về tìm kiếm docs trên web hay là tìm kiếm trong vectorStore\n",
    "- đưa vào một câu query thì nó sẽ đi qua hàm bind_tools để thu được kết quả route nào phù hợp"
   ]
  },
  {
   "cell_type": "code",
   "execution_count": 7,
   "metadata": {
    "execution": {
     "iopub.execute_input": "2024-06-07T21:38:35.026872Z",
     "iopub.status.busy": "2024-06-07T21:38:35.026296Z",
     "iopub.status.idle": "2024-06-07T21:38:35.34531Z",
     "shell.execute_reply": "2024-06-07T21:38:35.344303Z",
     "shell.execute_reply.started": "2024-06-07T21:38:35.026842Z"
    },
    "trusted": true
   },
   "outputs": [],
   "source": [
    "class VectorStore(BaseModel):\n",
    "    (\n",
    "        \"A vectorstore contains information about symptoms, treatment\"\n",
    "        \", risk factors and other information about malaria, type 1 and\"\n",
    "        \"type 2 diabetes and migraines\"\n",
    "    )\n",
    "\n",
    "    query: str\n",
    "\n",
    "\n",
    "class SearchEngine(BaseModel):\n",
    "    \"\"\"A search engine for searching other medical information on the web\"\"\"\n",
    "\n",
    "    query: str\n",
    "\n",
    "\n",
    "router_prompt_template = (\n",
    "    \"You are an expert in routing user queries to either a VectorStore, SearchEngine\\n\"\n",
    "    \"Use SearchEngine for all other medical queries that are not related to malaria, diabetes, or migraines.\\n\"\n",
    "    \"The VectorStore contains information on malaria, diabetes, and migraines.\\n\"\n",
    "    'Note that if a query is not medically-related, you must output \"not medically-related\", don\\'t try to use any tool.\\n\\n'\n",
    "    \"query: {query}\"\n",
    ")\n",
    "\n",
    "llm = ChatGroq(model=\"llama3-70b-8192\", temperature=0)\n",
    "prompt = ChatPromptTemplate.from_template(router_prompt_template)\n",
    "question_router = prompt | llm.bind_tools(tools=[VectorStore, SearchEngine])"
   ]
  },
  {
   "cell_type": "code",
   "execution_count": 8,
   "metadata": {
    "execution": {
     "iopub.execute_input": "2024-06-07T21:38:35.346919Z",
     "iopub.status.busy": "2024-06-07T21:38:35.346594Z",
     "iopub.status.idle": "2024-06-07T21:38:36.081131Z",
     "shell.execute_reply": "2024-06-07T21:38:36.080015Z",
     "shell.execute_reply.started": "2024-06-07T21:38:35.34689Z"
    },
    "trusted": true
   },
   "outputs": [
    {
     "data": {
      "text/plain": [
       "True"
      ]
     },
     "execution_count": 8,
     "metadata": {},
     "output_type": "execute_result"
    }
   ],
   "source": [
    "response = question_router.invoke(\"What are the symptoms of chest pain?\")\n",
    "\"tool_calls\" in response.additional_kwargs"
   ]
  },
  {
   "cell_type": "markdown",
   "metadata": {},
   "source": [
    "- cụ thể ở đây nó sử dụng WebEngine"
   ]
  },
  {
   "cell_type": "code",
   "execution_count": 9,
   "metadata": {
    "execution": {
     "iopub.execute_input": "2024-06-07T21:38:36.08321Z",
     "iopub.status.busy": "2024-06-07T21:38:36.082878Z",
     "iopub.status.idle": "2024-06-07T21:38:36.090183Z",
     "shell.execute_reply": "2024-06-07T21:38:36.089058Z",
     "shell.execute_reply.started": "2024-06-07T21:38:36.08318Z"
    },
    "trusted": true
   },
   "outputs": [
    {
     "name": "stdout",
     "output_type": "stream",
     "text": [
      "content='' additional_kwargs={'tool_calls': [{'id': 'call_en09', 'function': {'arguments': '{\"query\":\"chest pain symptoms\"}', 'name': 'SearchEngine'}, 'type': 'function'}]} response_metadata={'token_usage': {'completion_tokens': 45, 'prompt_tokens': 1110, 'total_tokens': 1155, 'completion_time': 0.137031012, 'prompt_time': 0.054377937, 'queue_time': 0.022188265999999998, 'total_time': 0.191408949}, 'model_name': 'llama3-70b-8192', 'system_fingerprint': 'fp_2f30b0b571', 'finish_reason': 'tool_calls', 'logprobs': None} id='run-415bebce-eff9-4781-b3e5-63a114e5b135-0' tool_calls=[{'name': 'SearchEngine', 'args': {'query': 'chest pain symptoms'}, 'id': 'call_en09', 'type': 'tool_call'}] usage_metadata={'input_tokens': 1110, 'output_tokens': 45, 'total_tokens': 1155}\n"
     ]
    }
   ],
   "source": [
    "print(response)"
   ]
  },
  {
   "cell_type": "markdown",
   "metadata": {},
   "source": [
    "- question và docs được kiểm tra xem có relevant hay irrelevant"
   ]
  },
  {
   "cell_type": "code",
   "execution_count": 10,
   "metadata": {
    "execution": {
     "iopub.execute_input": "2024-06-07T21:38:36.092224Z",
     "iopub.status.busy": "2024-06-07T21:38:36.091807Z",
     "iopub.status.idle": "2024-06-07T21:39:13.316213Z",
     "shell.execute_reply": "2024-06-07T21:39:13.314935Z",
     "shell.execute_reply.started": "2024-06-07T21:38:36.092185Z"
    },
    "trusted": true
   },
   "outputs": [],
   "source": [
    "from langchain_core.pydantic_v1 import validator\n",
    "\n",
    "class Grader(BaseModel):\n",
    "    \"Use this format to give a binary score for relevance check on retrived documents.\"\n",
    "\n",
    "    grade: Literal[\"relevant\", \"irrelevant\"] = Field(\n",
    "        ...,\n",
    "        description=\"The relevance score for the document.\\n\"\n",
    "        \"Set this to 'relevant' if the given context is relevant to the user's query, or 'irrlevant' if the document is not relevant.\",\n",
    "    )\n",
    "\n",
    "    @validator(\"grade\", pre=True)\n",
    "    def validate_grade(cls, value):\n",
    "        if value == \"not relevant\":\n",
    "            return \"irrelevant\"\n",
    "        return value\n",
    "\n",
    "\n",
    "grader_system_prompt_template = \"\"\"\"You are a grader tasked with assessing the relevance of a given context to a query. \n",
    "    If the context is relevant to the query, score it as \"relevant\". Otherwise, give \"irrelevant\".\n",
    "    Do not answer the actual answer, just provide the grade in JSON format with \"grade\" as the key, without any additional explanation.\"\n",
    "    \"\"\"\n",
    "\n",
    "grader_prompt = ChatPromptTemplate.from_messages(\n",
    "    [\n",
    "        (\"system\", grader_system_prompt_template),\n",
    "        (\"human\", \"context: {context}\\n\\nquery: {query}\"),\n",
    "    ]\n",
    ")\n",
    "\n",
    "\n",
    "grader_chain = grader_prompt | llm.with_structured_output(Grader, method=\"json_mode\")\n",
    "\n",
    "query = \"symptoms of migraine\"\n",
    "context = retriever.get_relevant_documents(query)\n",
    "\n",
    "response = grader_chain.invoke({\"query\": query, \"context\": context})"
   ]
  },
  {
   "cell_type": "code",
   "execution_count": 11,
   "metadata": {
    "execution": {
     "iopub.execute_input": "2024-06-07T21:39:13.318665Z",
     "iopub.status.busy": "2024-06-07T21:39:13.31824Z",
     "iopub.status.idle": "2024-06-07T21:39:13.325171Z",
     "shell.execute_reply": "2024-06-07T21:39:13.323862Z",
     "shell.execute_reply.started": "2024-06-07T21:39:13.318631Z"
    },
    "trusted": true
   },
   "outputs": [
    {
     "name": "stdout",
     "output_type": "stream",
     "text": [
      "grade='relevant'\n"
     ]
    }
   ],
   "source": [
    "print(response)"
   ]
  },
  {
   "cell_type": "code",
   "execution_count": 12,
   "metadata": {
    "execution": {
     "iopub.execute_input": "2024-06-07T21:39:13.326943Z",
     "iopub.status.busy": "2024-06-07T21:39:13.326562Z",
     "iopub.status.idle": "2024-06-07T21:39:49.969505Z",
     "shell.execute_reply": "2024-06-07T21:39:49.968208Z",
     "shell.execute_reply.started": "2024-06-07T21:39:13.326912Z"
    },
    "trusted": true
   },
   "outputs": [
    {
     "name": "stdout",
     "output_type": "stream",
     "text": [
      "grade='irrelevant'\n"
     ]
    }
   ],
   "source": [
    "query = \"Treatment of Ulcer\"\n",
    "context = retriever.get_relevant_documents(query)\n",
    "\n",
    "response = grader_chain.invoke({\"query\": query, \"context\": context})\n",
    "print(response)"
   ]
  },
  {
   "cell_type": "markdown",
   "metadata": {},
   "source": [
    "- trả lời dựa trên docs liên quan"
   ]
  },
  {
   "cell_type": "code",
   "execution_count": 13,
   "metadata": {
    "execution": {
     "iopub.execute_input": "2024-06-07T21:39:49.97571Z",
     "iopub.status.busy": "2024-06-07T21:39:49.975339Z",
     "iopub.status.idle": "2024-06-07T21:40:27.245803Z",
     "shell.execute_reply": "2024-06-07T21:40:27.244622Z",
     "shell.execute_reply.started": "2024-06-07T21:39:49.975681Z"
    },
    "trusted": true
   },
   "outputs": [
    {
     "data": {
      "text/markdown": [
       "Based on the provided context, the symptoms of malaria include:\n",
       "\n",
       "* Impaired consciousness\n",
       "* Convulsions\n",
       "* Difficulty breathing\n",
       "* Serious tiredness and fatigue\n",
       "* Dark or bloody urine\n",
       "* Yellow eyes and skin (jaundice)\n",
       "* Abnormal bleeding\n",
       "* Very tired (fatigue)\n",
       "* Body aches\n",
       "* Yellow skin (jaundice)\n",
       "* Kidney failure\n",
       "* Seizure\n",
       "* Confusion\n",
       "* Bloody stools\n",
       "* Convulsions\n",
       "* Death\n",
       "* High fever\n",
       "* Chills\n",
       "* Sweating\n",
       "* Nausea or vomiting\n",
       "* Headache\n",
       "* Diarrhea\n",
       "* Being very tired\n",
       "\n",
       "Note that some of these symptoms may be similar to those of a cold or flu, and it's important to seek medical care as soon as possible if you suspect you may have malaria."
      ],
      "text/plain": [
       "<IPython.core.display.Markdown object>"
      ]
     },
     "execution_count": 13,
     "metadata": {},
     "output_type": "execute_result"
    }
   ],
   "source": [
    "rag_template_str = (\n",
    "    \"You are a helpful assistant. Answer the query below based only on the provided context.\\n\\n\"\n",
    "    \"context: {context}\\n\\n\"\n",
    "    \"query: {query}\"\n",
    ")\n",
    "\n",
    "\n",
    "rag_prompt = ChatPromptTemplate.from_template(rag_template_str)\n",
    "rag_chain = rag_prompt | llm | StrOutputParser()\n",
    "\n",
    "query = \"What are the symptoms of malaria?\"\n",
    "context = retriever.get_relevant_documents(query)\n",
    "\n",
    "response = rag_chain.invoke({\"query\": query, \"context\": context})\n",
    "\n",
    "Markdown(response)"
   ]
  },
  {
   "cell_type": "code",
   "execution_count": 14,
   "metadata": {
    "execution": {
     "iopub.execute_input": "2024-06-07T21:40:27.247792Z",
     "iopub.status.busy": "2024-06-07T21:40:27.24736Z",
     "iopub.status.idle": "2024-06-07T21:40:27.530686Z",
     "shell.execute_reply": "2024-06-07T21:40:27.529488Z",
     "shell.execute_reply.started": "2024-06-07T21:40:27.247749Z"
    },
    "trusted": true
   },
   "outputs": [
    {
     "data": {
      "text/plain": [
       "\"Hello! I'm happy to help with any health-related questions or concerns you may have. How can I assist you today?\""
      ]
     },
     "execution_count": 14,
     "metadata": {},
     "output_type": "execute_result"
    }
   ],
   "source": [
    "fallback_prompt = ChatPromptTemplate.from_template(\n",
    "    (\n",
    "        \"You are a friendly medical assistant created by NHVAI.\\n\"\n",
    "        \"Do not respond to queries that are not related to health.\\n\"\n",
    "        \"If a query is not related to health, acknowledge your limitations.\\n\"\n",
    "        \"Provide concise responses to only medically-related queries.\\n\\n\"\n",
    "        \"Current conversations:\\n\\n{chat_history}\\n\\n\"\n",
    "        \"human: {query}\"\n",
    "    )\n",
    ")\n",
    "\n",
    "fallback_chain = (\n",
    "    {\n",
    "        \"chat_history\": lambda x: \"\\n\".join(\n",
    "            [\n",
    "                (\n",
    "                    f\"human: {msg.content}\"\n",
    "                    if isinstance(msg, HumanMessage)\n",
    "                    else f\"AI: {msg.content}\"\n",
    "                )\n",
    "                for msg in x[\"chat_history\"]\n",
    "            ]\n",
    "        ),\n",
    "        \"query\": itemgetter(\"query\") ,\n",
    "    }\n",
    "    | fallback_prompt\n",
    "    | llm\n",
    "    | StrOutputParser()\n",
    ")\n",
    "\n",
    "fallback_chain.invoke(\n",
    "    {\n",
    "        \"query\": \"Hello\",\n",
    "        \"chat_history\": [],\n",
    "    }\n",
    ")"
   ]
  },
  {
   "cell_type": "markdown",
   "metadata": {},
   "source": [
    "- đánh giá câu trả lời có dựa trên docs hay không"
   ]
  },
  {
   "cell_type": "code",
   "execution_count": 15,
   "metadata": {
    "execution": {
     "iopub.execute_input": "2024-06-07T21:40:27.532376Z",
     "iopub.status.busy": "2024-06-07T21:40:27.532031Z",
     "iopub.status.idle": "2024-06-07T21:41:04.574058Z",
     "shell.execute_reply": "2024-06-07T21:41:04.573002Z",
     "shell.execute_reply.started": "2024-06-07T21:40:27.532347Z"
    },
    "trusted": true
   },
   "outputs": [],
   "source": [
    "class HallucinationGrader(BaseModel):\n",
    "    \"Binary score for hallucination check in llm's response\"\n",
    "\n",
    "    grade: Literal[\"yes\", \"no\"] = Field(\n",
    "        ..., description=\"'yes' if the llm's reponse is hallucinated otherwise 'no'\"\n",
    "    )\n",
    "\n",
    "\n",
    "hallucination_grader_system_prompt_template = (\n",
    "    \"You are a grader assessing whether a response from an llm is based on a given context.\\n\"\n",
    "    \"If the llm's response is not based on the given context give a score of 'yes' meaning it's a hallucination\"\n",
    "    \"otherwise give 'no'\\n\"\n",
    "    \"Just give the grade in json with 'grade' as a key and a binary value of 'yes' or 'no' without additional explanation\"\n",
    ")\n",
    "\n",
    "hallucination_grader_prompt = ChatPromptTemplate.from_messages(\n",
    "    [\n",
    "        (\"system\", hallucination_grader_system_prompt_template),\n",
    "        (\"human\", \"context: {context}\\n\\nllm's response: {response}\"),\n",
    "    ]\n",
    ")\n",
    "\n",
    "\n",
    "hallucination_grader_chain = (\n",
    "    RunnableParallel(\n",
    "        {\n",
    "            \"response\": itemgetter(\"response\"),\n",
    "            \"context\": lambda x: \"\\n\\n\".join([c.page_content for c in x[\"context\"]]),\n",
    "        }\n",
    "    )\n",
    "    | hallucination_grader_prompt\n",
    "    | llm.with_structured_output(HallucinationGrader, method=\"json_mode\")\n",
    ")\n",
    "\n",
    "query = \"Symptoms of malaria\"\n",
    "context = retriever.get_relevant_documents(query)\n",
    "response = \"\"\"Based on the context provided, the symptoms of malaria include: Impaired consciousness, Convulsions, Difficulty breathing,\n",
    "Serious tiredness and fatigue, Dark or bloody urine, Yellow eyes and skin (jaundice), Abnormal bleeding, High fever, Chills,\n",
    "Sweating, Nausea or vomiting, Headache, Diarrhea\"\"\"\n",
    "\n",
    "response = hallucination_grader_chain.invoke({\"response\": response, \"context\": context})"
   ]
  },
  {
   "cell_type": "code",
   "execution_count": 16,
   "metadata": {
    "execution": {
     "iopub.execute_input": "2024-06-07T21:41:04.575684Z",
     "iopub.status.busy": "2024-06-07T21:41:04.575367Z",
     "iopub.status.idle": "2024-06-07T21:41:04.583968Z",
     "shell.execute_reply": "2024-06-07T21:41:04.582573Z",
     "shell.execute_reply.started": "2024-06-07T21:41:04.575656Z"
    },
    "trusted": true
   },
   "outputs": [
    {
     "data": {
      "text/plain": [
       "HallucinationGrader(grade='no')"
      ]
     },
     "execution_count": 16,
     "metadata": {},
     "output_type": "execute_result"
    }
   ],
   "source": [
    "response"
   ]
  },
  {
   "cell_type": "code",
   "execution_count": 17,
   "metadata": {
    "execution": {
     "iopub.execute_input": "2024-06-07T21:41:04.586424Z",
     "iopub.status.busy": "2024-06-07T21:41:04.586051Z",
     "iopub.status.idle": "2024-06-07T21:41:04.809207Z",
     "shell.execute_reply": "2024-06-07T21:41:04.807358Z",
     "shell.execute_reply.started": "2024-06-07T21:41:04.586393Z"
    },
    "trusted": true
   },
   "outputs": [],
   "source": [
    "class AnswerGrader(BaseModel):\n",
    "    \"Binary score for an answer check based on a query.\"\n",
    "\n",
    "    grade: Literal[\"yes\", \"no\"] = Field(\n",
    "        ...,\n",
    "        description=\"'yes' if the provided answer is an actual answer to the query otherwise 'no'\",\n",
    "    )\n",
    "\n",
    "\n",
    "answer_grader_system_prompt_template = (\n",
    "    \"You are a grader assessing whether a provided answer is in fact an answer to the given query.\\n\"\n",
    "    \"If the provided answer does not answer the query give a score of 'no' otherwise give 'yes'\\n\"\n",
    "    \"Just give the grade in json with 'grade' as a key and a binary value of 'yes' or 'no' without additional explanation\"\n",
    ")\n",
    "\n",
    "answer_grader_prompt = ChatPromptTemplate.from_messages(\n",
    "    [\n",
    "        (\"system\", answer_grader_system_prompt_template),\n",
    "        (\"human\", \"query: {query}\\n\\nanswer: {response}\"),\n",
    "    ]\n",
    ")\n",
    "\n",
    "\n",
    "answer_grader_chain = answer_grader_prompt | llm.with_structured_output(\n",
    "    AnswerGrader, method=\"json_mode\"\n",
    ")\n",
    "\n",
    "query = \"Symptoms of malaria\"\n",
    "# context = retriever.get_relevant_documents(query)\n",
    "response = \"\"\"Based on the context provided, the symptoms of malaria include: Impaired consciousness, Convulsions, Difficulty breathing,\n",
    "Serious tiredness and fatigue, Dark or bloody urine, Yellow eyes and skin (jaundice), Abnormal bleeding, High fever, Chills,\n",
    "Sweating, Nausea or vomiting, Headache, Diarrhea\"\"\"\n",
    "\n",
    "response = answer_grader_chain.invoke({\"response\": response, \"query\": query})"
   ]
  },
  {
   "cell_type": "code",
   "execution_count": 18,
   "metadata": {
    "execution": {
     "iopub.execute_input": "2024-06-07T21:41:04.811343Z",
     "iopub.status.busy": "2024-06-07T21:41:04.810883Z",
     "iopub.status.idle": "2024-06-07T21:41:04.820697Z",
     "shell.execute_reply": "2024-06-07T21:41:04.819432Z",
     "shell.execute_reply.started": "2024-06-07T21:41:04.811301Z"
    },
    "trusted": true
   },
   "outputs": [
    {
     "data": {
      "text/plain": [
       "AnswerGrader(grade='yes')"
      ]
     },
     "execution_count": 18,
     "metadata": {},
     "output_type": "execute_result"
    }
   ],
   "source": [
    "response"
   ]
  },
  {
   "cell_type": "code",
   "execution_count": 19,
   "metadata": {
    "execution": {
     "iopub.execute_input": "2024-06-07T21:41:04.822539Z",
     "iopub.status.busy": "2024-06-07T21:41:04.822158Z",
     "iopub.status.idle": "2024-06-07T21:41:04.918503Z",
     "shell.execute_reply": "2024-06-07T21:41:04.917455Z",
     "shell.execute_reply.started": "2024-06-07T21:41:04.822507Z"
    },
    "trusted": true
   },
   "outputs": [],
   "source": [
    "from typing import TypedDict\n",
    "from langchain_core.documents import Document\n",
    "from langgraph.prebuilt import ToolExecutor\n",
    "from langchain_core.tools import Tool\n",
    "from langchain_core.messages.base import BaseMessage\n",
    "\n",
    "tavily_search = TavilySearchResults()\n",
    "tool_executor = ToolExecutor(\n",
    "    tools=[\n",
    "        Tool(\n",
    "            name=\"VectorStore\",\n",
    "            func=retriever.invoke,\n",
    "            description=\"Useful to search the vector database\",\n",
    "        ),\n",
    "        Tool(\n",
    "            name=\"SearchEngine\", func=tavily_search, description=\"Useful to search the web\"\n",
    "        ),\n",
    "    ]\n",
    ")\n",
    "\n",
    "\n",
    "class AgentSate(TypedDict):\n",
    "    \"\"\"The dictionary keeps track of the data required by the various nodes in the graph\"\"\"\n",
    "\n",
    "    query: str\n",
    "    chat_history:list[BaseMessage]\n",
    "    generation: str\n",
    "    documents: list[Document]\n",
    "\n",
    "\n",
    "def retrieve_node(state: dict) -> dict[str, list[Document] | str]:\n",
    "    \"\"\"\n",
    "    Retrieve relevent documents from the vectorstore\n",
    "\n",
    "    query: str\n",
    "\n",
    "    return list[Document]\n",
    "    \"\"\"\n",
    "    query = state[\"query\"]\n",
    "    documents = retriever.invoke(input=query)\n",
    "    return {\"documents\": documents}\n",
    "\n",
    "\n",
    "def fallback_node(state: dict):\n",
    "    \"\"\"\n",
    "    Fallback to this node when there is no tool call\n",
    "    \"\"\"\n",
    "    query = state[\"query\"]\n",
    "    chat_history = state[\"chat_history\"]\n",
    "    generation = fallback_chain.invoke({\"query\": query, \"chat_history\": chat_history})\n",
    "    return {\"generation\": generation, \"documents\": []}\n",
    "\n",
    "\n",
    "def filter_documents_node(state: dict):\n",
    "    filtered_docs = list()\n",
    "\n",
    "    query = state[\"query\"]\n",
    "    documents = state[\"documents\"]\n",
    "    for i, doc in enumerate(documents, start=1):\n",
    "        grade = grader_chain.invoke({\"query\": query, \"context\": doc})\n",
    "        if grade.grade == \"relevant\":\n",
    "            print(f\"---CHUCK {i}: RELEVANT---\")\n",
    "            filtered_docs.append(doc)\n",
    "        else:\n",
    "            print(f\"---CHUCK {i}: NOT RELEVANT---\")\n",
    "    return {\"documents\": filtered_docs}\n",
    "\n",
    "\n",
    "def rag_node(state: dict):\n",
    "    query = state[\"query\"]\n",
    "    documents = state[\"documents\"]\n",
    "\n",
    "    generation = rag_chain.invoke({\"query\": query, \"context\": documents})\n",
    "    return {\"generation\": generation}\n",
    "\n",
    "\n",
    "def web_search_node(state: dict):\n",
    "    query = state[\"query\"]\n",
    "    results = tavily_search.invoke(query)\n",
    "    documents = [\n",
    "        Document(page_content=doc[\"content\"], metadata={\"source\": doc[\"url\"]})\n",
    "        for doc in results\n",
    "    ]\n",
    "    return {\"documents\": documents}\n",
    "\n",
    "\n",
    "def question_router_node(state: dict):\n",
    "    query = state[\"query\"]\n",
    "    try:\n",
    "        response = question_router.invoke({\"query\": query})\n",
    "    except Exception:\n",
    "        return \"llm_fallback\"\n",
    "\n",
    "    if \"tool_calls\" not in response.additional_kwargs:\n",
    "        print(\"---No tool called---\")\n",
    "        return \"llm_fallback\"\n",
    "\n",
    "    if len(response.additional_kwargs[\"tool_calls\"]) == 0:\n",
    "        raise \"Router could not decide route!\"\n",
    "\n",
    "    route = response.additional_kwargs[\"tool_calls\"][0][\"function\"][\"name\"]\n",
    "    if route == \"VectorStore\":\n",
    "        print(\"---Routing to VectorStore---\")\n",
    "        return \"VectorStore\"\n",
    "    elif route == \"SearchEngine\":\n",
    "        print(\"---Routing to SearchEngine---\")\n",
    "        return \"SearchEngine\"\n",
    "\n",
    "\n",
    "def should_generate(state: dict):\n",
    "    filtered_docs = state[\"documents\"]\n",
    "\n",
    "    if not filtered_docs:\n",
    "        print(\"---All retrived documents not relevant---\")\n",
    "        return \"SearchEngine\"\n",
    "    else:\n",
    "        print(\"---Some retrived documents are relevant---\")\n",
    "        return \"generate\"\n",
    "\n",
    "\n",
    "def hallucination_and_answer_relevance_check(state: dict):\n",
    "    llm_response = state[\"generation\"]\n",
    "    documents = state[\"documents\"]\n",
    "    query = state[\"query\"]\n",
    "\n",
    "    hallucination_grade = hallucination_grader_chain.invoke(\n",
    "        {\"response\": llm_response, \"context\": documents}\n",
    "    )\n",
    "    if hallucination_grade.grade == \"no\":\n",
    "        print(\"---Hallucination check passed---\")\n",
    "        answer_relevance_grade = answer_grader_chain.invoke(\n",
    "            {\"response\": llm_response, \"query\": query}\n",
    "        )\n",
    "        if answer_relevance_grade.grade == \"yes\":\n",
    "            print(\"---Answer is relevant to question---\\n\")\n",
    "            return \"useful\"\n",
    "        else:\n",
    "            print(\"---Answer is not relevant to question---\")\n",
    "            return \"not useful\"\n",
    "    print(\"---Hallucination check failed---\")\n",
    "    return \"generate\""
   ]
  },
  {
   "cell_type": "code",
   "execution_count": 20,
   "metadata": {
    "execution": {
     "iopub.execute_input": "2024-06-07T21:41:04.920117Z",
     "iopub.status.busy": "2024-06-07T21:41:04.919815Z",
     "iopub.status.idle": "2024-06-07T21:41:04.930502Z",
     "shell.execute_reply": "2024-06-07T21:41:04.929192Z",
     "shell.execute_reply.started": "2024-06-07T21:41:04.920091Z"
    },
    "trusted": true
   },
   "outputs": [
    {
     "data": {
      "text/plain": [
       "<langgraph.graph.state.StateGraph at 0x7fc7da13fa00>"
      ]
     },
     "execution_count": 20,
     "metadata": {},
     "output_type": "execute_result"
    }
   ],
   "source": [
    "from langgraph.graph import StateGraph, END\n",
    "\n",
    "workflow = StateGraph(AgentSate)\n",
    "workflow.add_node(\"VectorStore\", retrieve_node)\n",
    "workflow.add_node(\"SearchEngine\", web_search_node)\n",
    "workflow.add_node(\"filter_docs\", filter_documents_node)\n",
    "workflow.add_node(\"fallback\", fallback_node)\n",
    "workflow.add_node(\"rag\", rag_node)\n",
    "\n",
    "workflow.set_conditional_entry_point(\n",
    "    question_router_node,\n",
    "    {\n",
    "        \"llm_fallback\": \"fallback\",\n",
    "        \"VectorStore\": \"VectorStore\",\n",
    "        \"SearchEngine\": \"SearchEngine\",\n",
    "    },\n",
    ")\n",
    "\n",
    "workflow.add_edge(\"VectorStore\", \"filter_docs\")\n",
    "workflow.add_edge(\"SearchEngine\", \"filter_docs\")\n",
    "workflow.add_conditional_edges(\n",
    "    \"filter_docs\", should_generate, {\"SearchEngine\": \"SearchEngine\", \"generate\": \"rag\"}\n",
    ")\n",
    "workflow.add_conditional_edges(\n",
    "    \"rag\",\n",
    "    hallucination_and_answer_relevance_check,\n",
    "    {\"useful\": END, \"not useful\": \"SearchEngine\", \"generate\": \"rag\"},\n",
    ")\n",
    "\n",
    "workflow.add_edge(\"fallback\", END)"
   ]
  },
  {
   "cell_type": "code",
   "execution_count": 21,
   "metadata": {
    "execution": {
     "iopub.execute_input": "2024-06-07T21:41:04.932309Z",
     "iopub.status.busy": "2024-06-07T21:41:04.931883Z",
     "iopub.status.idle": "2024-06-07T21:41:05.965986Z",
     "shell.execute_reply": "2024-06-07T21:41:05.964994Z",
     "shell.execute_reply.started": "2024-06-07T21:41:04.932251Z"
    },
    "trusted": true
   },
   "outputs": [],
   "source": [
    "app = workflow.compile(debug=False)\n",
    "plot = app.get_graph().draw_mermaid_png()\n",
    "\n",
    "with open(\"plot.png\", \"wb\") as fp:\n",
    "    fp.write(plot)"
   ]
  },
  {
   "cell_type": "code",
   "execution_count": 22,
   "metadata": {
    "execution": {
     "iopub.execute_input": "2024-06-07T21:41:05.967772Z",
     "iopub.status.busy": "2024-06-07T21:41:05.967374Z",
     "iopub.status.idle": "2024-06-07T21:41:06.023459Z",
     "shell.execute_reply": "2024-06-07T21:41:06.022353Z",
     "shell.execute_reply.started": "2024-06-07T21:41:05.967735Z"
    },
    "trusted": true
   },
   "outputs": [
    {
     "data": {
      "image/jpeg": "[encoded data removed]",
      "image/png": "[encoded data removed]",
      "text/plain": [
       "<PIL.PngImagePlugin.PngImageFile image mode=RGB size=466x593>"
      ]
     },
     "metadata": {},
     "output_type": "display_data"
    }
   ],
   "source": [
    "from io import BytesIO\n",
    "from PIL import Image\n",
    "from IPython.display import display\n",
    "\n",
    "# Assuming you have the byte image stream in the 'byte_image' variable\n",
    "img = Image.open(BytesIO(plot))\n",
    "display(img)"
   ]
  },
  {
   "cell_type": "code",
   "execution_count": 23,
   "metadata": {
    "execution": {
     "iopub.execute_input": "2024-06-07T21:41:06.025302Z",
     "iopub.status.busy": "2024-06-07T21:41:06.024973Z",
     "iopub.status.idle": "2024-06-07T21:41:47.622968Z",
     "shell.execute_reply": "2024-06-07T21:41:47.621786Z",
     "shell.execute_reply.started": "2024-06-07T21:41:06.025253Z"
    },
    "scrolled": true,
    "trusted": true
   },
   "outputs": [
    {
     "name": "stdout",
     "output_type": "stream",
     "text": [
      "---Routing to VectorStore---\n",
      "{'VectorStore': {'documents': [Document(metadata={'description': 'Migraine headaches, also known as migraines, are a type of headache that can cause debilitating pain. Learn more about the types, causes, symptoms, diagnosis, & treatment of migraines.', 'language': 'en', 'source': 'https://www.webmd.com/migraines-headaches/migraines-headaches-migraines', 'title': 'Migraine: Symptoms, Causes, and Treatment'}, page_content=\"members who get them. If one parent has a history of thesetypes of headaches, you have a 50% chance of getting them. If both parents have them, the risk jumps to 75%.Other medical conditions.Depression,\\xa0anxiety,bipolar disorder,sleep disorders, andepilepsycan raise your odds.Migraine TriggersSome things that may trigger an attack\\xa0include:Hormone changes.You maynotice that you have headaches around your period, while you'repregnant, or when you'reovulating. Symptoms may also be tied to\"), Document(metadata={'description': 'Migraine headaches, also known as migraines, are a type of headache that can cause debilitating pain. Learn more about the types, causes, symptoms, diagnosis, & treatment of migraines.', 'language': 'en', 'source': 'https://www.webmd.com/migraines-headaches/migraines-headaches-migraines', 'title': 'Migraine: Symptoms, Causes, and Treatment'}, page_content='estimates that more than 38 million Americans get migraines. Some things may make you more likely to get them:Sex.Women (and those assigned female at birth) have migraines three times more often than men and those assigned male at birth.Age.Most people start having migraine headaches between ages 10 and 40. If you have periods, you may find that your attacks get better or go away after menopause.Family history.Four out of five people with migraine have other family members who get them. If one'), Document(metadata={'description': 'Migraine headaches, also known as migraines, are a type of headache that can cause debilitating pain. Learn more about the types, causes, symptoms, diagnosis, & treatment of migraines.', 'language': 'en', 'source': 'https://www.webmd.com/migraines-headaches/migraines-headaches-migraines', 'title': 'Migraine: Symptoms, Causes, and Treatment'}, page_content=\"which widen your blood vessels, can trigger headaches.Physical activity.This includesexerciseandsex.TobaccoChanges in yoursleep.You might get headaches when you sleep too much or not enough.Migraine trigger foodsSome foods and drinks, such as agedcheeses,alcohol, chocolate, and beans, have been linked to migraine attacks. So havefood additiveslike nitrates (in pepperoni, hot dogs, and lunch meats), monosodium glutamate, and the artificialsweetener aspartame. There's little solid research on\")]}}---CHUCK 1: RELEVANT---\n",
      "---CHUCK 2: RELEVANT---\n",
      "---CHUCK 3: RELEVANT---\n",
      "---Some retrived documents are relevant---\n",
      "{'filter_docs': {'documents': [Document(metadata={'description': 'Migraine headaches, also known as migraines, are a type of headache that can cause debilitating pain. Learn more about the types, causes, symptoms, diagnosis, & treatment of migraines.', 'language': 'en', 'source': 'https://www.webmd.com/migraines-headaches/migraines-headaches-migraines', 'title': 'Migraine: Symptoms, Causes, and Treatment'}, page_content=\"members who get them. If one parent has a history of thesetypes of headaches, you have a 50% chance of getting them. If both parents have them, the risk jumps to 75%.Other medical conditions.Depression,\\xa0anxiety,bipolar disorder,sleep disorders, andepilepsycan raise your odds.Migraine TriggersSome things that may trigger an attack\\xa0include:Hormone changes.You maynotice that you have headaches around your period, while you'repregnant, or when you'reovulating. Symptoms may also be tied to\"), Document(metadata={'description': 'Migraine headaches, also known as migraines, are a type of headache that can cause debilitating pain. Learn more about the types, causes, symptoms, diagnosis, & treatment of migraines.', 'language': 'en', 'source': 'https://www.webmd.com/migraines-headaches/migraines-headaches-migraines', 'title': 'Migraine: Symptoms, Causes, and Treatment'}, page_content='estimates that more than 38 million Americans get migraines. Some things may make you more likely to get them:Sex.Women (and those assigned female at birth) have migraines three times more often than men and those assigned male at birth.Age.Most people start having migraine headaches between ages 10 and 40. If you have periods, you may find that your attacks get better or go away after menopause.Family history.Four out of five people with migraine have other family members who get them. If one'), Document(metadata={'description': 'Migraine headaches, also known as migraines, are a type of headache that can cause debilitating pain. Learn more about the types, causes, symptoms, diagnosis, & treatment of migraines.', 'language': 'en', 'source': 'https://www.webmd.com/migraines-headaches/migraines-headaches-migraines', 'title': 'Migraine: Symptoms, Causes, and Treatment'}, page_content=\"which widen your blood vessels, can trigger headaches.Physical activity.This includesexerciseandsex.TobaccoChanges in yoursleep.You might get headaches when you sleep too much or not enough.Migraine trigger foodsSome foods and drinks, such as agedcheeses,alcohol, chocolate, and beans, have been linked to migraine attacks. So havefood additiveslike nitrates (in pepperoni, hot dogs, and lunch meats), monosodium glutamate, and the artificialsweetener aspartame. There's little solid research on\")]}}---Hallucination check passed---\n",
      "---Answer is relevant to question---\n",
      "\n",
      "{'rag': {'generation': 'Based on the provided context, the risk factors of migraines mentioned are:\\n\\n1. Family history: If one parent has a history of migraines, you have a 50% chance of getting them. If both parents have them, the risk jumps to 75%.\\n2. Other medical conditions: Depression, anxiety, bipolar disorder, sleep disorders, and epilepsy can raise your odds of getting migraines.\\n3. Sex: Women (and those assigned female at birth) have migraines three times more often than men and those assigned male at birth.\\n4. Age: Most people start having migraine headaches between ages 10 and 40.\\n\\nAdditionally, the context also mentions some potential triggers of migraines, which may not be directly referred to as risk factors, but can contribute to the likelihood of getting migraines. These include:\\n\\n1. Hormone changes\\n2. Certain foods and drinks (e.g. aged cheeses, alcohol, chocolate, beans, food additives like nitrates, monosodium glutamate, and aspartame)\\n3. Physical activity (e.g. exercise, sex)\\n4. Tobacco\\n5. Changes in sleep patterns (e.g. sleeping too much or not enough)'}}"
     ]
    }
   ],
   "source": [
    "for token in app.stream({\"query\": \"What are the risk factors of migraines\", \"chat_history\": []}):\n",
    "    print(token, end=\"\", flush=True)"
   ]
  },
  {
   "cell_type": "code",
   "execution_count": 24,
   "metadata": {
    "execution": {
     "iopub.execute_input": "2024-06-07T21:41:47.624752Z",
     "iopub.status.busy": "2024-06-07T21:41:47.624413Z",
     "iopub.status.idle": "2024-06-07T21:41:52.101162Z",
     "shell.execute_reply": "2024-06-07T21:41:52.099811Z",
     "shell.execute_reply.started": "2024-06-07T21:41:47.624721Z"
    },
    "trusted": true
   },
   "outputs": [],
   "source": [
    "# response = app.invoke({\"query\": \"What are the symptoms of hypertension\", \"chat_history\": []})\n",
    "# Markdown(response[\"generation\"])"
   ]
  },
  {
   "cell_type": "code",
   "execution_count": 25,
   "metadata": {},
   "outputs": [],
   "source": [
    "# !pip install gradio"
   ]
  },
  {
   "cell_type": "code",
   "execution_count": 26,
   "metadata": {
    "execution": {
     "iopub.execute_input": "2024-06-07T21:41:52.102817Z",
     "iopub.status.busy": "2024-06-07T21:41:52.102483Z",
     "iopub.status.idle": "2024-06-07T21:41:58.597819Z",
     "shell.execute_reply": "2024-06-07T21:41:58.596576Z",
     "shell.execute_reply.started": "2024-06-07T21:41:52.102788Z"
    },
    "trusted": true
   },
   "outputs": [],
   "source": [
    "# import gradio as gr\n",
    "# from uuid import uuid4\n",
    "\n",
    "# history = {}\n",
    "# session_id = str(uuid4())\n",
    "\n",
    "# def chat(query):\n",
    "\n",
    "#     # Initialize the chat history for the current session\n",
    "#     if session_id not in history:\n",
    "#         history[session_id] = []\n",
    "\n",
    "#     chat_history = history[session_id]\n",
    "\n",
    "#     # Invoke the app with the current query and chat history\n",
    "#     result = app.invoke({\"query\": query, \"chat_history\": chat_history})\n",
    "\n",
    "#     # Separate the response from the retrieved documents\n",
    "#     response = result[\"generation\"]\n",
    "#     documents = result[\"documents\"]\n",
    "\n",
    "#     # Add the current exchange to the chat history\n",
    "#     chat_history.extend([HumanMessage(content=query), AIMessage(content=response)])\n",
    "\n",
    "#     if not documents:\n",
    "#         return response, documents\n",
    "\n",
    "#     documents = [\n",
    "#         f\"{doc.page_content}\\nsource: {doc.metadata['source']}\" for doc in documents\n",
    "#     ]\n",
    "\n",
    "#     return response, \"\\n\\n\".join(documents)\n",
    "\n",
    "# # Create the Gradio interface\n",
    "# demo = gr.Interface(\n",
    "#     fn=chat,\n",
    "#     inputs=gr.Textbox(label=\"Question\"),\n",
    "#     outputs=[gr.Textbox(label=\"Response\"), gr.Textbox(label=\"Retrieved Documents\")],\n",
    "#     title=\"RAG Chatbot\",\n",
    "#     description=\"Ask a health-related query and the chatbot will generate a response using Retrieval Augmented Generation.\",\n",
    "# )\n",
    "\n",
    "# if __name__ == \"__main__\":\n",
    "#     demo.launch(share=True, inline=True)"
   ]
  },
  {
   "cell_type": "code",
   "execution_count": 27,
   "metadata": {},
   "outputs": [
    {
     "name": "stdout",
     "output_type": "stream",
     "text": [
      "Thoát chương trình.\n"
     ]
    }
   ],
   "source": [
    "from uuid import uuid4\n",
    "\n",
    "history = {}\n",
    "session_id = str(uuid4())\n",
    "\n",
    "if session_id not in history:\n",
    "    history[session_id] = []\n",
    "\n",
    "chat_history = history[session_id]\n",
    "\n",
    "while True:\n",
    "    query = input(\"Bạn: \")\n",
    "    \n",
    "    if query.lower() == \"exit\":\n",
    "        print(\"Thoát chương trình.\")\n",
    "        break\n",
    "\n",
    "    # Gọi mô hình với câu hỏi và lịch sử hội thoại\n",
    "    # try:\n",
    "    print(\"chat_history\", chat_history)\n",
    "    result = app.invoke({\"query\": query, \"chat_history\": chat_history})\n",
    "    \n",
    "    # Tách câu trả lời và tài liệu truy xuất\n",
    "    response = result[\"generation\"]\n",
    "    documents = result[\"documents\"]\n",
    "    # except Exception:\n",
    "    #     print(\"Câu hỏi này không thuộc trong chủ đề về y tế. Hãy đặt câu hỏi khác.\")\n",
    "    #     continue\n",
    "\n",
    "    # Lưu vào lịch sử hội thoại\n",
    "    # chat_history.append({\"human\": query, \"ai\": response})\n",
    "    chat_history.extend([HumanMessage(content=query), AIMessage(content=response)])\n",
    "\n",
    "    print(f\"AI: {response}\")\n",
    "\n",
    "    if documents:\n",
    "        print(\"\\nTài liệu liên quan:\")\n",
    "        for doc in documents:\n",
    "            print(f\"- {doc.page_content} (Nguồn: {doc.metadata['source']})\")\n",
    "\n",
    "    \n",
    "    print(\"-\" * 50)  # Dòng ngăn cách giữa các lần hỏi\n"
   ]
  },
  {
   "cell_type": "code",
   "execution_count": 28,
   "metadata": {},
   "outputs": [],
   "source": [
    "contract_text = \"\"\"\n",
    "SERVICE AGREEMENT\n",
    "This Service Agreement (\"Agreement\") is made and entered into on this 10th day of February 2025, by and between:\n",
    "\n",
    "Company A (\"Service Provider\"), having its principal place of business at 123 Business Road, New York, NY 10001, USA.\n",
    "Company B (\"Client\"), having its principal place of business at 456 Client Avenue, San Francisco, CA 94105, USA.\n",
    "1. Scope of Services\n",
    "The Service Provider agrees to provide software development and IT consulting services as per the requirements specified by the Client.\n",
    "\n",
    "2. Term of Agreement\n",
    "This Agreement shall commence on February 15, 2025, and shall remain in effect for a period of one (1) year, unless terminated earlier under the provisions of this Agreement.\n",
    "\n",
    "3. Payment Terms\n",
    "3.1. The Client agrees to pay the Service Provider a fixed monthly fee of $10,000 for the services rendered.\n",
    "3.2. Payments shall be made within 30 days of receiving an invoice from the Service Provider.\n",
    "3.3. Late payments will incur a penalty of 5% per month on the outstanding amount.\n",
    "\n",
    "4. Confidentiality\n",
    "Both parties agree to maintain confidentiality regarding any business, technical, or financial information disclosed during the term of this Agreement.\n",
    "\n",
    "5. Termination\n",
    "5.1. Either party may terminate this Agreement with 30 days' written notice to the other party.\n",
    "5.2. If the Client terminates the Agreement before the one-year term is completed, a penalty fee of $20,000 shall be payable to the Service Provider.\n",
    "5.3. Notwithstanding the above, the Client may terminate the Agreement at any time without penalty if the Service Provider fails to meet its service obligations for three consecutive months.\n",
    "\n",
    "6. Governing Law\n",
    "This Agreement shall be governed by and construed in accordance with the laws of the State of New York.\n",
    "\n",
    "7. Dispute Resolution  \n",
    "In case of any dispute arising from late payments as outlined in Section 3, both parties agree to attempt an amicable resolution through mediation before initiating any legal proceedings.\n",
    "\"\"\"\n"
   ]
  },
  {
   "cell_type": "code",
   "execution_count": 29,
   "metadata": {},
   "outputs": [
    {
     "name": "stdout",
     "output_type": "stream",
     "text": [
      "current_chunk ['SERVICE AGREEMENT\\nThis Service Agreement (\"Agreement\") is made and entered into on this 10th day of February 2025, by and between:\\n\\nCompany A (\"Service Provider\"), having its principal place of business at 123 Business Road, New York, NY 10001, USA.\\nCompany B (\"Client\"), having its principal place of business at 456 Client Avenue, San Francisco, CA 94105, USA.']\n",
      "current_chunk ['1. Scope of Services\\nThe Service Provider agrees to provide software development and IT consulting services as per the requirements specified by the Client.']\n",
      "current_chunk ['2. Term of Agreement\\nThis Agreement shall commence on February 15, 2025, and shall remain in effect for a period of one (1) year, unless terminated earlier under the provisions of this Agreement.']\n",
      "current_chunk ['3. Payment Terms', '3.1. The Client agrees to pay the Service Provider a fixed monthly fee of $10,000 for the services rendered.', '3.2. Payments shall be made within 30 days of receiving an invoice from the Service Provider.', '3.3. Late payments will incur a penalty of 5% per month on the outstanding amount.']\n",
      "current_chunk ['4. Confidentiality\\nBoth parties agree to maintain confidentiality regarding any business, technical, or financial information disclosed during the term of this Agreement.']\n",
      "current_chunk ['5. Termination', \"5.1. Either party may terminate this Agreement with 30 days' written notice to the other party.\", '5.2. If the Client terminates the Agreement before the one-year term is completed, a penalty fee of $20,000 shall be payable to the Service Provider.', '5.3. Notwithstanding the above, the Client may terminate the Agreement at any time without penalty if the Service Provider fails to meet its service obligations for three consecutive months.']\n",
      "current_chunk ['6. Governing Law\\nThis Agreement shall be governed by and construed in accordance with the laws of the State of New York.']\n",
      "current_chunk ['7. Dispute Resolution  \\nIn case of any dispute arising from late payments as outlined in Section 3, both parties agree to attempt an amicable resolution through mediation before initiating any legal proceedings.']\n",
      "Chunk section_0:\n",
      "SERVICE AGREEMENT\n",
      "This Service Agreement (\"Agreement\") is made and entered into on this 10th day of February 2025, by and between:\n",
      "\n",
      "Company A (\"Service Provider\"), having its principal place of business at 123 Business Road, New York, NY 10001, USA.\n",
      "Company B (\"Client\"), having its principal place of business at 456 Client Avenue, San Francisco, CA 94105, USA.\n",
      "--------------------------------------------------\n",
      "Chunk section_1:\n",
      "SERVICE AGREEMENT\n",
      "1. Scope of Services\n",
      "The Service Provider agrees to provide software development and IT consulting services as per the requirements specified by the Client.\n",
      "--------------------------------------------------\n",
      "Chunk section_2:\n",
      "SERVICE AGREEMENT\n",
      "2. Term of Agreement\n",
      "This Agreement shall commence on February 15, 2025, and shall remain in effect for a period of one (1) year, unless terminated earlier under the provisions of this Agreement.\n",
      "--------------------------------------------------\n",
      "Chunk section_3:\n",
      "SERVICE AGREEMENT\n",
      "3. Payment Terms\n",
      "3.1. The Client agrees to pay the Service Provider a fixed monthly fee of $10,000 for the services rendered.\n",
      "3.2. Payments shall be made within 30 days of receiving an invoice from the Service Provider.\n",
      "3.3. Late payments will incur a penalty of 5% per month on the outstanding amount.\n",
      "--------------------------------------------------\n",
      "Chunk section_4:\n",
      "SERVICE AGREEMENT\n",
      "4. Confidentiality\n",
      "Both parties agree to maintain confidentiality regarding any business, technical, or financial information disclosed during the term of this Agreement.\n",
      "--------------------------------------------------\n",
      "Chunk section_5:\n",
      "SERVICE AGREEMENT\n",
      "5. Termination\n",
      "5.1. Either party may terminate this Agreement with 30 days' written notice to the other party.\n",
      "5.2. If the Client terminates the Agreement before the one-year term is completed, a penalty fee of $20,000 shall be payable to the Service Provider.\n",
      "5.3. Notwithstanding the above, the Client may terminate the Agreement at any time without penalty if the Service Provider fails to meet its service obligations for three consecutive months.\n",
      "--------------------------------------------------\n",
      "Chunk section_6:\n",
      "SERVICE AGREEMENT\n",
      "6. Governing Law\n",
      "This Agreement shall be governed by and construed in accordance with the laws of the State of New York.\n",
      "--------------------------------------------------\n",
      "Chunk section_7:\n",
      "SERVICE AGREEMENT\n",
      "7. Dispute Resolution  \n",
      "In case of any dispute arising from late payments as outlined in Section 3, both parties agree to attempt an amicable resolution through mediation before initiating any legal proceedings.\n",
      "--------------------------------------------------\n"
     ]
    }
   ],
   "source": [
    "# chia thành các chunks\n",
    "import re\n",
    "\n",
    "def split_contract_text(contract_text):\n",
    "    sections = re.split(r'(?=\\n\\d+\\.)', contract_text)\n",
    "    title = \"SERVICE AGREEMENT\"\n",
    "    # chunks = []\n",
    "    dict_chunks = {}\n",
    "    \n",
    "    current_chunk = []\n",
    "    \n",
    "    for section in sections:\n",
    "        section = section.strip()\n",
    "        if section:\n",
    "            if re.match(r'\\d+\\.', section) and not re.match(r'\\d+\\.\\d+', section):\n",
    "                if current_chunk:\n",
    "                    print(\"current_chunk\", current_chunk)\n",
    "                    id_chunk = \"section_\" + current_chunk[0].split(\".\")[0]\n",
    "                    if title not in current_chunk[0]:\n",
    "                        # chunks.append(f\"{title}\\n\" + \"\\n\".join(current_chunk))\n",
    "                        dict_chunks[id_chunk] = f\"{title}\\n\" + \"\\n\".join(current_chunk)\n",
    "                    else:\n",
    "                        # chunks.append(\"\\n\".join(current_chunk))\n",
    "                        dict_chunks[\"section_0\"] = \"\\n\".join(current_chunk)\n",
    "                    current_chunk = []\n",
    "            current_chunk.append(section)\n",
    "    \n",
    "    if current_chunk:\n",
    "        print(\"current_chunk\", current_chunk)\n",
    "        id_chunk = \"section_\" + current_chunk[0].split(\".\")[0]\n",
    "        if title not in current_chunk[0]:\n",
    "            # chunks.append(f\"{title}\\n\" + \"\\n\".join(current_chunk))\n",
    "            dict_chunks[id_chunk] = f\"{title}\\n\" + \"\\n\".join(current_chunk)\n",
    "        else:\n",
    "            # chunks.append(\"\\n\".join(current_chunk))\n",
    "            dict_chunks[id_chunk] = \"\\n\".join(current_chunk)\n",
    "    \n",
    "    return dict_chunks\n",
    "\n",
    "dict_chunks = split_contract_text(contract_text)\n",
    "for key, value in dict_chunks.items():\n",
    "    print(f\"Chunk {key}:\\n{value}\\n{'-'*50}\")\n",
    "\n",
    "# chunks = split_contract_text(contract_text)\n",
    "# for i, chunk in enumerate(chunks, 1):\n",
    "#     print(f\"Chunk {i}:\\n{chunk}\\n{'-'*50}\")"
   ]
  },
  {
   "cell_type": "markdown",
   "metadata": {},
   "source": [
    "- chunk 7 nhắc trực tiếp đến chunk 3\n",
    "- chunk 5.2 liên quan đến chunk 5.3 (trong cùng một chunk 5)\n",
    "- chunk 2 liên quan đến chunk 5 (cụ thể là 5.1)"
   ]
  },
  {
   "cell_type": "code",
   "execution_count": 30,
   "metadata": {},
   "outputs": [
    {
     "name": "stdout",
     "output_type": "stream",
     "text": [
      "list_id=['section_3']\n"
     ]
    }
   ],
   "source": [
    "# kiểm tra xem chunk có nhắc trực tiếp đến chunk khác không?\n",
    "### Mention Grader \n",
    "\n",
    "from typing import Literal\n",
    "\n",
    "from langchain_core.prompts import ChatPromptTemplate\n",
    "from langchain_core.pydantic_v1 import BaseModel, Field\n",
    "from langchain_groq import ChatGroq\n",
    "\n",
    "\n",
    "# Data model\n",
    "class GradeMentions(BaseModel):\n",
    "    \"\"\"id of the chunks referred to in the query.\"\"\"\n",
    "    list_id: list[str] = Field(description=\"List of chunk ids mentioned in the query, is [] if no chunk is mentioned\")\n",
    "    # binary_score: str = Field(description=\"Documents are relevant to the question, 'yes' or 'no'\")\n",
    "\n",
    "# LLM with function call \n",
    "llm = ChatGroq(model=\"llama3-70b-8192\", temperature=0)\n",
    "structured_llm_grader = llm.with_structured_output(GradeMentions)\n",
    "\n",
    "# Prompt \n",
    "system = \"\"\"You are the one who lists the ids of the chunks mentioned in the user's query. \\n\n",
    "If the query contains keywords that refer to other chunks, return a list of the ids mentioned in the query. Only list the ids that are mentioned, not the ids that are the query itself. \\n\n",
    "The output must be in lowercase format and have an _ in the middle. Otherwise, leave the array empty. \\n\n",
    "Example output: ['section_1, section_3']\"\"\"\n",
    "grade_prompt = ChatPromptTemplate.from_messages(\n",
    "    [\n",
    "        (\"system\", system),\n",
    "        (\"human\", \"User query: {query}\"),\n",
    "    ]\n",
    ")\n",
    "\n",
    "mention_grader = grade_prompt | structured_llm_grader\n",
    "query = \"\"\"SERVICE AGREEMENT\n",
    "7. Dispute Resolution  \n",
    "In case of any dispute arising from late payments as outlined in Section 3, both parties agree to attempt an amicable resolution through mediation before initiating any legal proceedings.\"\"\"\n",
    "print(mention_grader.invoke({\"query\": query}))"
   ]
  },
  {
   "cell_type": "code",
   "execution_count": 31,
   "metadata": {},
   "outputs": [
    {
     "name": "stdout",
     "output_type": "stream",
     "text": [
      "[]\n"
     ]
    }
   ],
   "source": [
    "query = \"\"\"SERVICE AGREEMENT\n",
    "2. Term of Agreement\n",
    "This Agreement shall commence on February 15, 2025, and shall remain in effect for a period of one (1) year, unless terminated earlier under the provisions of this Agreement.\n",
    "\"\"\"\n",
    "print(mention_grader.invoke({\"query\": query}).list_id)"
   ]
  },
  {
   "cell_type": "code",
   "execution_count": 32,
   "metadata": {},
   "outputs": [
    {
     "name": "stdout",
     "output_type": "stream",
     "text": [
      "Chunk section_0 mentions: []\n",
      "Chunk section_1 mentions: []\n",
      "Chunk section_2 mentions: []\n",
      "Chunk section_3 mentions: []\n",
      "Chunk section_4 mentions: []\n",
      "Chunk section_5 mentions: []\n",
      "Chunk section_6 mentions: []\n",
      "Chunk section_7 mentions: ['section_3']\n"
     ]
    }
   ],
   "source": [
    "mentions = {}\n",
    "\n",
    "for key, value in dict_chunks.items():\n",
    "    # print(f\"Chunk {key}:\\n{value}\\n{'-'*50}\")\n",
    "    mentions[key] = mention_grader.invoke({\"query\": value}).list_id\n",
    "\n",
    "for key, value in mentions.items():\n",
    "    print(f\"Chunk {key} mentions: {value}\")"
   ]
  },
  {
   "cell_type": "code",
   "execution_count": null,
   "metadata": {},
   "outputs": [
    {
     "name": "stdout",
     "output_type": "stream",
     "text": [
      "binary_score='yes' explanation='The two chunks are related as they both discuss the termination of the service agreement, with one specifying the notice period and the other outlining the penalty fee and conditions for termination.'\n"
     ]
    }
   ],
   "source": [
    "# kiểm tra liên quan trực tiếp đến nhau hay không?\n",
    "### Contracts Grader \n",
    "\n",
    "from typing import Literal\n",
    "\n",
    "from langchain_core.prompts import ChatPromptTemplate\n",
    "from langchain_core.pydantic_v1 import BaseModel, Field\n",
    "from langchain_groq import ChatGroq\n",
    "\n",
    "\n",
    "# Data model\n",
    "class GradeContracts(BaseModel):\n",
    "    \"\"\"Binary score for relevance check on chunks in the contract.\"\"\"\n",
    "\n",
    "    binary_score: str = Field(description=\"Two chunks in the contract are relevant to each other, 'yes' or 'no'\")\n",
    "    explanation: str = Field(description=\"The short explanation is that the two related chunks are similar, conflict, or unrelated.\")\n",
    "\n",
    "# LLM with function call \n",
    "llm = ChatGroq(model=\"llama3-70b-8192\", temperature=0)\n",
    "structured_llm_grader = llm.with_structured_output(GradeContracts)\n",
    "\n",
    "# Prompt \n",
    "system = \"\"\"You are the grader who evaluates the relevance of two different chunks in the user-supplied contract. \\n\n",
    "The goal is to find chunks that are closely related in the contract. \\n\n",
    "Chunks that are related in topic but not in content are considered unrelated. \\n\n",
    "If the two chunks are similar or contradictory, score them as relevant. If they refer to different issues in more or less the same way, score them as unrelated. \\n\n",
    "Give a binary 'yes' or 'no' score to indicate whether the document is relevant to the question.\"\"\"\n",
    "grade_contract_prompt = ChatPromptTemplate.from_messages(\n",
    "    [\n",
    "        (\"system\", system),\n",
    "        (\"human\", \"Chunk 1: \\n\\n {chunk_1} \\n\\n Chunk 2: {chunk_2}\"),\n",
    "    ]\n",
    ")\n",
    "\n",
    "contracts_grader = grade_contract_prompt | structured_llm_grader\n",
    "chunk_1 = \"\"\"SERVICE AGREEMENT\n",
    "2. Term of Agreement\n",
    "This Agreement shall commence on February 15, 2025, and shall remain in effect for a period of one (1) year, unless terminated earlier under the provisions of this Agreement.\"\"\"\n",
    "chunk_2 = \"\"\"SERVICE AGREEMENT\n",
    "5. Termination\n",
    "5.1. Either party may terminate this Agreement with 30 days' written notice to the other party.\n",
    "5.2. If the Client terminates the Agreement before the one-year term is completed, a penalty fee of $20,000 shall be payable to the Service Provider.\n",
    "5.3. Notwithstanding the above, the Client may terminate the Agreement at any time without penalty if the Service Provider fails to meet its service obligations for three consecutive months.\"\"\"\n",
    "print(contracts_grader.invoke({\"chunk_1\": chunk_1, \"chunk_2\": chunk_2}))"
   ]
  },
  {
   "cell_type": "code",
   "execution_count": 56,
   "metadata": {},
   "outputs": [
    {
     "name": "stdout",
     "output_type": "stream",
     "text": [
      "0 1\n",
      "This Service Agreement (\"Agreement\") is made and entered into on this 10th day of February 2025, by and between:\n",
      "\n",
      "Company A (\"Service Provider\"), having its principal place of business at 123 Business Road, New York, NY 10001, USA.\n",
      "Company B (\"Client\"), having its principal place of business at 456 Client Avenue, San Francisco, CA 94105, USA. 1. Scope of Services\n",
      "The Service Provider agrees to provide software development and IT consulting services as per the requirements specified by the Client.\n",
      "Chunk 0 and Chunk 1 relevance: binary_score='yes' explanation='The two chunks are related as they both describe the agreement between the Service Provider and the Client.'\n",
      "0 2\n",
      "This Service Agreement (\"Agreement\") is made and entered into on this 10th day of February 2025, by and between:\n",
      "\n",
      "Company A (\"Service Provider\"), having its principal place of business at 123 Business Road, New York, NY 10001, USA.\n",
      "Company B (\"Client\"), having its principal place of business at 456 Client Avenue, San Francisco, CA 94105, USA. 2. Term of Agreement\n",
      "This Agreement shall commence on February 15, 2025, and shall remain in effect for a period of one (1) year, unless terminated earlier under the provisions of this Agreement.\n",
      "Chunk 0 and Chunk 2 relevance: binary_score='no' explanation='The two chunks are unrelated as one is about the parties involved and the other is about the term of the agreement.'\n",
      "0 3\n",
      "This Service Agreement (\"Agreement\") is made and entered into on this 10th day of February 2025, by and between:\n",
      "\n",
      "Company A (\"Service Provider\"), having its principal place of business at 123 Business Road, New York, NY 10001, USA.\n",
      "Company B (\"Client\"), having its principal place of business at 456 Client Avenue, San Francisco, CA 94105, USA. 3. Payment Terms\n",
      "3.1. The Client agrees to pay the Service Provider a fixed monthly fee of $10,000 for the services rendered.\n",
      "3.2. Payments shall be made within 30 days of receiving an invoice from the Service Provider.\n",
      "3.3. Late payments will incur a penalty of 5% per month on the outstanding amount.\n",
      "Chunk 0 and Chunk 3 relevance: binary_score='yes' explanation='The two chunks are related as they both refer to the agreement between the Service Provider and the Client.'\n",
      "0 4\n",
      "This Service Agreement (\"Agreement\") is made and entered into on this 10th day of February 2025, by and between:\n",
      "\n",
      "Company A (\"Service Provider\"), having its principal place of business at 123 Business Road, New York, NY 10001, USA.\n",
      "Company B (\"Client\"), having its principal place of business at 456 Client Avenue, San Francisco, CA 94105, USA. 4. Confidentiality\n",
      "Both parties agree to maintain confidentiality regarding any business, technical, or financial information disclosed during the term of this Agreement.\n",
      "Chunk 0 and Chunk 4 relevance: binary_score='yes' explanation='The two chunks are related as they both refer to the agreement between the Service Provider and the Client.'\n",
      "0 5\n",
      "This Service Agreement (\"Agreement\") is made and entered into on this 10th day of February 2025, by and between:\n",
      "\n",
      "Company A (\"Service Provider\"), having its principal place of business at 123 Business Road, New York, NY 10001, USA.\n",
      "Company B (\"Client\"), having its principal place of business at 456 Client Avenue, San Francisco, CA 94105, USA. 5. Termination\n",
      "5.1. Either party may terminate this Agreement with 30 days' written notice to the other party.\n",
      "5.2. If the Client terminates the Agreement before the one-year term is completed, a penalty fee of $20,000 shall be payable to the Service Provider.\n",
      "5.3. Notwithstanding the above, the Client may terminate the Agreement at any time without penalty if the Service Provider fails to meet its service obligations for three consecutive months.\n",
      "Chunk 0 and Chunk 5 relevance: binary_score='yes' explanation='The two chunks are related as they both refer to the agreement between the Service Provider and the Client.'\n",
      "0 6\n",
      "This Service Agreement (\"Agreement\") is made and entered into on this 10th day of February 2025, by and between:\n",
      "\n",
      "Company A (\"Service Provider\"), having its principal place of business at 123 Business Road, New York, NY 10001, USA.\n",
      "Company B (\"Client\"), having its principal place of business at 456 Client Avenue, San Francisco, CA 94105, USA. 6. Governing Law\n",
      "This Agreement shall be governed by and construed in accordance with the laws of the State of New York.\n",
      "Chunk 0 and Chunk 6 relevance: binary_score='yes' explanation='The two chunks are related as they both refer to the location of the companies involved in the agreement.'\n",
      "0 7\n",
      "This Service Agreement (\"Agreement\") is made and entered into on this 10th day of February 2025, by and between:\n",
      "\n",
      "Company A (\"Service Provider\"), having its principal place of business at 123 Business Road, New York, NY 10001, USA.\n",
      "Company B (\"Client\"), having its principal place of business at 456 Client Avenue, San Francisco, CA 94105, USA. 7. Dispute Resolution  \n",
      "In case of any dispute arising from late payments as outlined in Section 3, both parties agree to attempt an amicable resolution through mediation before initiating any legal proceedings.\n",
      "Chunk 0 and Chunk 7 relevance: binary_score='yes' explanation='The two chunks are related as they both refer to the agreement between the Service Provider and the Client.'\n",
      "1 2\n",
      "1. Scope of Services\n",
      "The Service Provider agrees to provide software development and IT consulting services as per the requirements specified by the Client. 2. Term of Agreement\n",
      "This Agreement shall commence on February 15, 2025, and shall remain in effect for a period of one (1) year, unless terminated earlier under the provisions of this Agreement.\n",
      "Chunk 1 and Chunk 2 relevance: binary_score='no' explanation='The two chunks are unrelated as they refer to different aspects of the contract, one describing the scope of services and the other the term of agreement.'\n",
      "1 3\n",
      "1. Scope of Services\n",
      "The Service Provider agrees to provide software development and IT consulting services as per the requirements specified by the Client. 3. Payment Terms\n",
      "3.1. The Client agrees to pay the Service Provider a fixed monthly fee of $10,000 for the services rendered.\n",
      "3.2. Payments shall be made within 30 days of receiving an invoice from the Service Provider.\n",
      "3.3. Late payments will incur a penalty of 5% per month on the outstanding amount.\n",
      "Chunk 1 and Chunk 3 relevance: binary_score='no' explanation='The two chunks are unrelated as they refer to different issues in the contract, one being the scope of services and the other being payment terms.'\n",
      "1 4\n",
      "1. Scope of Services\n",
      "The Service Provider agrees to provide software development and IT consulting services as per the requirements specified by the Client. 4. Confidentiality\n",
      "Both parties agree to maintain confidentiality regarding any business, technical, or financial information disclosed during the term of this Agreement.\n",
      "Chunk 1 and Chunk 4 relevance: binary_score='no' explanation='The two chunks are unrelated as they refer to different issues in the contract.'\n",
      "1 5\n",
      "1. Scope of Services\n",
      "The Service Provider agrees to provide software development and IT consulting services as per the requirements specified by the Client. 5. Termination\n",
      "5.1. Either party may terminate this Agreement with 30 days' written notice to the other party.\n",
      "5.2. If the Client terminates the Agreement before the one-year term is completed, a penalty fee of $20,000 shall be payable to the Service Provider.\n",
      "5.3. Notwithstanding the above, the Client may terminate the Agreement at any time without penalty if the Service Provider fails to meet its service obligations for three consecutive months.\n",
      "Chunk 1 and Chunk 5 relevance: binary_score='no' explanation='The two chunks are unrelated as they refer to different issues in the contract.'\n",
      "1 6\n",
      "1. Scope of Services\n",
      "The Service Provider agrees to provide software development and IT consulting services as per the requirements specified by the Client. 6. Governing Law\n",
      "This Agreement shall be governed by and construed in accordance with the laws of the State of New York.\n",
      "Chunk 1 and Chunk 6 relevance: binary_score='no' explanation='The two chunks are unrelated as they refer to different issues in the contract.'\n",
      "1 7\n",
      "1. Scope of Services\n",
      "The Service Provider agrees to provide software development and IT consulting services as per the requirements specified by the Client. 7. Dispute Resolution  \n",
      "In case of any dispute arising from late payments as outlined in Section 3, both parties agree to attempt an amicable resolution through mediation before initiating any legal proceedings.\n",
      "Chunk 1 and Chunk 7 relevance: binary_score='no' explanation='The two chunks are unrelated as they refer to different issues in the contract.'\n",
      "2 3\n",
      "2. Term of Agreement\n",
      "This Agreement shall commence on February 15, 2025, and shall remain in effect for a period of one (1) year, unless terminated earlier under the provisions of this Agreement. 3. Payment Terms\n",
      "3.1. The Client agrees to pay the Service Provider a fixed monthly fee of $10,000 for the services rendered.\n",
      "3.2. Payments shall be made within 30 days of receiving an invoice from the Service Provider.\n",
      "3.3. Late payments will incur a penalty of 5% per month on the outstanding amount.\n",
      "Chunk 2 and Chunk 3 relevance: binary_score='no' explanation='The two chunks are unrelated as they refer to different issues in the contract, one being the term of agreement and the other being payment terms.'\n",
      "2 4\n",
      "2. Term of Agreement\n",
      "This Agreement shall commence on February 15, 2025, and shall remain in effect for a period of one (1) year, unless terminated earlier under the provisions of this Agreement. 4. Confidentiality\n",
      "Both parties agree to maintain confidentiality regarding any business, technical, or financial information disclosed during the term of this Agreement.\n",
      "Chunk 2 and Chunk 4 relevance: binary_score='yes' explanation='The two chunks are related as they both refer to the term of the agreement.'\n",
      "2 5\n",
      "2. Term of Agreement\n",
      "This Agreement shall commence on February 15, 2025, and shall remain in effect for a period of one (1) year, unless terminated earlier under the provisions of this Agreement. 5. Termination\n",
      "5.1. Either party may terminate this Agreement with 30 days' written notice to the other party.\n",
      "5.2. If the Client terminates the Agreement before the one-year term is completed, a penalty fee of $20,000 shall be payable to the Service Provider.\n",
      "5.3. Notwithstanding the above, the Client may terminate the Agreement at any time without penalty if the Service Provider fails to meet its service obligations for three consecutive months.\n",
      "Chunk 2 and Chunk 5 relevance: binary_score='yes' explanation='The two chunks are related as they both discuss the termination of the agreement, with one specifying the term and the other outlining the termination process.'\n",
      "2 6\n",
      "2. Term of Agreement\n",
      "This Agreement shall commence on February 15, 2025, and shall remain in effect for a period of one (1) year, unless terminated earlier under the provisions of this Agreement. 6. Governing Law\n",
      "This Agreement shall be governed by and construed in accordance with the laws of the State of New York.\n",
      "Chunk 2 and Chunk 6 relevance: binary_score='no' explanation='The two chunks are unrelated as they refer to different issues in the contract.'\n",
      "2 7\n",
      "2. Term of Agreement\n",
      "This Agreement shall commence on February 15, 2025, and shall remain in effect for a period of one (1) year, unless terminated earlier under the provisions of this Agreement. 7. Dispute Resolution  \n",
      "In case of any dispute arising from late payments as outlined in Section 3, both parties agree to attempt an amicable resolution through mediation before initiating any legal proceedings.\n",
      "Chunk 2 and Chunk 7 relevance: binary_score='yes' explanation='The two chunks are related as they both refer to different aspects of the contract, one being the term and the other being dispute resolution.'\n",
      "3 4\n",
      "3. Payment Terms\n",
      "3.1. The Client agrees to pay the Service Provider a fixed monthly fee of $10,000 for the services rendered.\n",
      "3.2. Payments shall be made within 30 days of receiving an invoice from the Service Provider.\n",
      "3.3. Late payments will incur a penalty of 5% per month on the outstanding amount. 4. Confidentiality\n",
      "Both parties agree to maintain confidentiality regarding any business, technical, or financial information disclosed during the term of this Agreement.\n",
      "Chunk 3 and Chunk 4 relevance: binary_score='no' explanation='The two chunks are unrelated as they refer to different issues in the contract, one being payment terms and the other being confidentiality.'\n",
      "3 5\n",
      "3. Payment Terms\n",
      "3.1. The Client agrees to pay the Service Provider a fixed monthly fee of $10,000 for the services rendered.\n",
      "3.2. Payments shall be made within 30 days of receiving an invoice from the Service Provider.\n",
      "3.3. Late payments will incur a penalty of 5% per month on the outstanding amount. 5. Termination\n",
      "5.1. Either party may terminate this Agreement with 30 days' written notice to the other party.\n",
      "5.2. If the Client terminates the Agreement before the one-year term is completed, a penalty fee of $20,000 shall be payable to the Service Provider.\n",
      "5.3. Notwithstanding the above, the Client may terminate the Agreement at any time without penalty if the Service Provider fails to meet its service obligations for three consecutive months.\n",
      "Chunk 3 and Chunk 5 relevance: binary_score='yes' explanation='The two chunks are related as they both discuss the financial aspects of the contract, specifically payment and termination terms.'\n",
      "3 6\n",
      "3. Payment Terms\n",
      "3.1. The Client agrees to pay the Service Provider a fixed monthly fee of $10,000 for the services rendered.\n",
      "3.2. Payments shall be made within 30 days of receiving an invoice from the Service Provider.\n",
      "3.3. Late payments will incur a penalty of 5% per month on the outstanding amount. 6. Governing Law\n",
      "This Agreement shall be governed by and construed in accordance with the laws of the State of New York.\n",
      "Chunk 3 and Chunk 6 relevance: binary_score='no' explanation='The two chunks are unrelated as they refer to different issues in the contract, one being payment terms and the other being governing law.'\n",
      "3 7\n",
      "3. Payment Terms\n",
      "3.1. The Client agrees to pay the Service Provider a fixed monthly fee of $10,000 for the services rendered.\n",
      "3.2. Payments shall be made within 30 days of receiving an invoice from the Service Provider.\n",
      "3.3. Late payments will incur a penalty of 5% per month on the outstanding amount. 7. Dispute Resolution  \n",
      "In case of any dispute arising from late payments as outlined in Section 3, both parties agree to attempt an amicable resolution through mediation before initiating any legal proceedings.\n",
      "Chunk 3 and Chunk 7 relevance: binary_score='yes' explanation='The two chunks are related as they both refer to late payments.'\n",
      "4 5\n",
      "4. Confidentiality\n",
      "Both parties agree to maintain confidentiality regarding any business, technical, or financial information disclosed during the term of this Agreement. 5. Termination\n",
      "5.1. Either party may terminate this Agreement with 30 days' written notice to the other party.\n",
      "5.2. If the Client terminates the Agreement before the one-year term is completed, a penalty fee of $20,000 shall be payable to the Service Provider.\n",
      "5.3. Notwithstanding the above, the Client may terminate the Agreement at any time without penalty if the Service Provider fails to meet its service obligations for three consecutive months.\n",
      "Chunk 4 and Chunk 5 relevance: binary_score='no' explanation='The two chunks are unrelated as they refer to different issues in the contract.'\n",
      "4 6\n",
      "4. Confidentiality\n",
      "Both parties agree to maintain confidentiality regarding any business, technical, or financial information disclosed during the term of this Agreement. 6. Governing Law\n",
      "This Agreement shall be governed by and construed in accordance with the laws of the State of New York.\n",
      "Chunk 4 and Chunk 6 relevance: binary_score='no' explanation='The two chunks are unrelated as they refer to different issues in the contract.'\n",
      "4 7\n",
      "4. Confidentiality\n",
      "Both parties agree to maintain confidentiality regarding any business, technical, or financial information disclosed during the term of this Agreement. 7. Dispute Resolution  \n",
      "In case of any dispute arising from late payments as outlined in Section 3, both parties agree to attempt an amicable resolution through mediation before initiating any legal proceedings.\n",
      "Chunk 4 and Chunk 7 relevance: binary_score='no' explanation='The two chunks are unrelated as they refer to different issues in the contract.'\n",
      "5 6\n",
      "5. Termination\n",
      "5.1. Either party may terminate this Agreement with 30 days' written notice to the other party.\n",
      "5.2. If the Client terminates the Agreement before the one-year term is completed, a penalty fee of $20,000 shall be payable to the Service Provider.\n",
      "5.3. Notwithstanding the above, the Client may terminate the Agreement at any time without penalty if the Service Provider fails to meet its service obligations for three consecutive months. 6. Governing Law\n",
      "This Agreement shall be governed by and construed in accordance with the laws of the State of New York.\n",
      "Chunk 5 and Chunk 6 relevance: binary_score='no' explanation='The two chunks are unrelated as they refer to different issues in the contract.'\n",
      "5 7\n",
      "5. Termination\n",
      "5.1. Either party may terminate this Agreement with 30 days' written notice to the other party.\n",
      "5.2. If the Client terminates the Agreement before the one-year term is completed, a penalty fee of $20,000 shall be payable to the Service Provider.\n",
      "5.3. Notwithstanding the above, the Client may terminate the Agreement at any time without penalty if the Service Provider fails to meet its service obligations for three consecutive months. 7. Dispute Resolution  \n",
      "In case of any dispute arising from late payments as outlined in Section 3, both parties agree to attempt an amicable resolution through mediation before initiating any legal proceedings.\n",
      "Chunk 5 and Chunk 7 relevance: binary_score='no' explanation='The two chunks are unrelated as they refer to different issues in the contract.'\n",
      "6 7\n",
      "6. Governing Law\n",
      "This Agreement shall be governed by and construed in accordance with the laws of the State of New York. 7. Dispute Resolution  \n",
      "In case of any dispute arising from late payments as outlined in Section 3, both parties agree to attempt an amicable resolution through mediation before initiating any legal proceedings.\n",
      "Chunk 6 and Chunk 7 relevance: binary_score='yes' explanation='The two chunks are related as they both refer to the legal aspects of the contract.'\n"
     ]
    }
   ],
   "source": [
    "# kiểm tra liên quan trực tiếp đến nhau hay không?\n",
    "# 1 liên quan đến 2 thì 2 cũng liên quan đến 1 nên không cần lặp qua tất cả các cặp chunk\n",
    "for i in range(len(dict_chunks)):\n",
    "    for j in range(i + 1, len(dict_chunks)):\n",
    "        chunk_1 = dict_chunks[f\"section_{i}\"]\n",
    "        chunk_2 = dict_chunks[f\"section_{j}\"]\n",
    "        # loại bỏ dòng đầu tiên vì nó chứa tiêu đề\n",
    "        chunk_1 = chunk_1.split(\"\\n\", 1)[1]\n",
    "        chunk_2 = chunk_2.split(\"\\n\", 1)[1]\n",
    "        print(i, j)\n",
    "        print(chunk_1, chunk_2)\n",
    "        print(f\"Chunk {i} and Chunk {j} relevance: {contracts_grader.invoke({'chunk_1': chunk_1, 'chunk_2': chunk_2})}\")\n",
    "# print(contracts_grader.invoke({\"chunk_1\": chunk_1, \"chunk_2\": chunk_2}))"
   ]
  },
  {
   "cell_type": "code",
   "execution_count": 61,
   "metadata": {},
   "outputs": [
    {
     "data": {
      "text/plain": [
       "AIMessage(content=\"After analyzing the list of laws, I have identified 7 groups that fit the laws. Here are the group names and descriptions:\\n\\n**Group 1: Labor Laws**\\nLaws related to labor, employment, and worker's rights.\\n\\n**Group 2: Social Security and Insurance Laws**\\nLaws related to social security, insurance, and benefits for workers and citizens.\\n\\n**Group 3: Public Service and Government Laws**\\nLaws related to public service, government employees, and government agencies.\\n\\n**Group 4: Education and Research Laws**\\nLaws related to education, research, and academic institutions.\\n\\n**Group 5: Health and Welfare Laws**\\nLaws related to health, welfare, and social services.\\n\\n**Group 6: Judicial and Legal System Laws**\\nLaws related to the judicial system, legal procedures, and law enforcement.\\n\\n**Group 7: Miscellaneous Laws**\\nLaws that do not fit into the above categories, including laws related to information disclosure, environmental protection, and other miscellaneous topics.\\n\\nHere are the 79 laws grouped into these categories:\\n\\n**Group 1: Labor Laws (24 laws)**\\n\\n1. 昭和二十二年法律第四十九号\\u3000労働基準法\\n2. 平成十九年法律第百二十八号\\u3000労働契約法\\n3. 昭和四十一年法律第百三十二号\\u3000労働施策の総合的な推進並びに労働者の雇用の安定及び職業生活の充実等に関する法律\\n4. ...\\n23. 昭和二十二年法律第五十号\\u3000労働者災害補償保険法\\n24. 平成二十六年法律第百三十七号\\u3000専門的知識等を有する有期雇用労働者等に関する特別措置法\\n\\n**Group 2: Social Security and Insurance Laws (15 laws)**\\n\\n1. 昭和三十四年法律第百四十一号\\u3000国民年金法\\n2. 昭和二十九年法律第百十五号\\u3000厚生年金保険法\\n3. 昭和二十三年法律第百二十九号\\u3000社会保険診療報酬支払基金法\\n4. ...\\n13. 昭和四十四年法律第八十四号\\u3000労働保険の保険料の徴収等に関する法律\\n14. 昭和四十五年法律第六十号\\u3000家内労働法\\n15. 平成十九年法律第百四号\\u3000社会保障協定の実施に伴う厚生年金保険法等の特例等に関する法律\\n\\n**Group 3: Public Service and Government Laws (14 laws)**\\n\\n1. 昭和二十二年法律第四十九号\\u3000労働基準法\\n2. 昭和二十五年法律第六十二号\\u3000退職職員に支給する退職手当支給の財源に充てるための特別会計からする一般会計への繰入れに関する法律\\n3. 昭和四十一年法律第五十二号\\u3000最高裁判所裁判官退職手当特例法\\n4. ...\\n11. 平成三年法律第百十一号\\u3000裁判官の育児休業に関する法律\\n12. 平成二十五年法律第九十一号\\u3000裁判官の配偶者同行休業に関する法律\\n13. 昭和六十三年法律第九十三号\\u3000裁判所の休日に関する法律\\n14. 平成二十五年法律第八十号\\u3000国会職員の配偶者同行休業に関する法律\\n\\n**Group 4: Education and Research Laws (6 laws)**\\n\\n1. 昭和三十四年法律第百二十一号\\u3000特許法\\n2. 平成九年法律第六十五号\\u3000一般職の任期付研究員の採用、給与及び勤務時間の特例に関する法律\\n3. 昭和三十二年法律第六十五号\\u3000公衆衛生修学資金貸与法\\n4. ...\\n5. 平成三年法律第七十六号\\u3000育児休業、介護休業等育児又は家族介護を行う労働者の福祉に関する法律\\n6. 平成十二年法律第五十一号\\u3000地方公共団体の一般職の任期付研究員の採用等に関する法律\\n\\n**Group 5: Health and Welfare Laws (8 laws)**\\n\\n1. 大正十一年法律第七十号\\u3000健康保険法\\n2. 昭和二十六年法律第四十五号\\u3000社会福祉法\\n3. 昭和三十九年法律第百十八号\\u3000労働災害防止団体法\\n4. ...\\n6. 昭和二十九年法律第六十四号\\u3000刑事訴訟法第百九十四条に基く懲戒処分に関する法律\\n7. 平成三年法律第百八号\\u3000国会職員の育児休業等に関する法律\\n8. 昭和三十六年法律第百五十五号\\u3000社会福祉施設職員等退職手当共済法\\n\\n**Group 6: Judicial and Legal System Laws (6 laws)**\\n\\n1. 昭和二十一年憲法\\u3000日本国憲法\\n2. 昭和二十七年法律第百十七号\\u3000公務員等の懲戒免除等に関する法律\\n3. 昭和二十八年法律第二百六号\\u3000社会保険審査官及び社会保険審査会法\\n4. ...\\n5. 昭和二十六年法律第四十五号\\u3000社会福祉法\\n6. 平成十六年法律第百二十二号\\u3000公益通報者保護法\\n\\n**Group 7: Miscellaneous Laws (6 laws)**\\n\\n1. 平成十五年法律第六十号\\u3000情報公開・個人情報保護審査会設置法\\n2. 昭和八年法律第四十二号\\u3000昭和八年法律第四十二号（身元保証ニ関スル法律）\\n3. 昭和二十七年法律第九十三号\\u3000在外公館の名称及び位置並びに在外公館に勤務する外務公務員の給与に関する法律\\n4. ...\\n5. 昭和四十一年法律第百十三号\\u3000雇用の分野における男女の均等な機会及び待遇の確保等に関する法律\\n6. 平成四年法律第九十号\\u3000労働時間等の設定の改善に関する特別措置法\", additional_kwargs={}, response_metadata={'token_usage': {'completion_tokens': 1439, 'prompt_tokens': 2356, 'total_tokens': 3795, 'completion_time': 4.270555422, 'prompt_time': 0.140328899, 'queue_time': 0.020709856, 'total_time': 4.410884321}, 'model_name': 'llama3-70b-8192', 'system_fingerprint': 'fp_753a4aecf6', 'finish_reason': 'stop', 'logprobs': None}, id='run-c341b7fd-6d21-46a2-9f7b-b2438c752071-0', usage_metadata={'input_tokens': 2356, 'output_tokens': 1439, 'total_tokens': 3795})"
      ]
     },
     "execution_count": 61,
     "metadata": {},
     "output_type": "execute_result"
    }
   ],
   "source": [
    "prompt_tem = \"\"\"Here is my list of laws, I want to divide these laws into different groups, give me the names and descriptions of the groups that fit. Then put all 79 laws into those groups, no law should be missing.\n",
    "\n",
    "[\n",
    "    \"平成十五年法律第五十七号　個人情報の保護に関する法律\",\n",
    "    \"昭和二十二年法律第四十九号　労働基準法\",\n",
    "    \"昭和三十四年法律第百四十一号　国民年金法\",\n",
    "    \"平成十九年法律第百二十八号　労働契約法\",\n",
    "    \"昭和二十五年法律第六十二号　退職職員に支給する退職手当支給の財源に充てるための特別会計からする一般会計への繰入れに関する法律\",\n",
    "    \"昭和四十一年法律第百三十二号　労働施策の総合的な推進並びに労働者の雇用の安定及び職業生活の充実等に関する法律\",\n",
    "    \"平成十四年法律第四十八号　地方公共団体の一般職の任期付職員の採用に関する法律\",\n",
    "    \"昭和二十七年法律第九十三号　在外公館の名称及び位置並びに在外公館に勤務する外務公務員の給与に関する法律\",\n",
    "    \"昭和四十四年法律第八十四号　労働保険の保険料の徴収等に関する法律\",\n",
    "    \"昭和四十三年法律第八十九号　社会保険労務士法\",\n",
    "    \"昭和三十一年法律第百四十九号　昭和二十三年六月三十日以前に給与事由の生じた恩給等の年額の改定に関する法律\",\n",
    "    \"昭和三十七年法律第百十六号　昭和三十七年度における旧令による共済組合等からの年金受給者のための特別措置法等の規定による年金の額の改定に関する法律\",\n",
    "    \"平成十二年法律第百二十五号　一般職の任期付職員の採用及び給与の特例に関する法律\",\n",
    "    \"平成十九年法律第百九号　日本年金機構法\",\n",
    "    \"平成二十五年法律第八十号　国会職員の配偶者同行休業に関する法律\",\n",
    "    \"昭和八年法律第四十二号　昭和八年法律第四十二号（身元保証ニ関スル法律）\",\n",
    "    \"平成十六年法律第百二十二号　公益通報者保護法\",\n",
    "    \"昭和四十六年法律第六十八号　高年齢者等の雇用の安定等に関する法律\",\n",
    "    \"昭和二十一年憲法　日本国憲法\",\n",
    "    \"昭和四十七年法律第百十三号　雇用の分野における男女の均等な機会及び待遇の確保等に関する法律\",\n",
    "    \"昭和二十四年法律第二百五十二号　特別職の職員の給与に関する法律\",\n",
    "    \"昭和三十六年法律第二十三号　矯正医官修学資金貸与法\",\n",
    "    \"昭和二十五年法律第四十七号　社会保険医療協議会法\",\n",
    "    \"昭和二十七年法律第百十七号　公務員等の懲戒免除等に関する法律\",\n",
    "    \"平成四年法律第九十号　労働時間等の設定の改善に関する特別措置法\",\n",
    "    \"平成三年法律第百十号　地方公務員の育児休業等に関する法律\",\n",
    "    \"昭和二十九年法律第百十五号　厚生年金保険法\",\n",
    "    \"昭和二十三年法律第百二十九号　社会保険診療報酬支払基金法\",\n",
    "    \"昭和二十八年法律第百六十号　昭和二十七年度における給与の改訂に伴う国家公務員共済組合法等の規定による年金の額の改定に関する法律\",\n",
    "    \"平成二十四年法律第二号　国家公務員の給与の改定及び臨時特例に関する法律　抄\",\n",
    "    \"昭和二十五年法律第九十五号　一般職の職員の給与に関する法律\",\n",
    "    \"昭和三十九年法律第百五十八号　漁業災害補償法\",\n",
    "    \"昭和六十三年法律第百五号　国会に置かれる機関の休日に関する法律\",\n",
    "    \"平成二年法律第四十九号　国会議員の秘書の給与等に関する法律\",\n",
    "    \"昭和四十五年法律第六十号　家内労働法\",\n",
    "    \"昭和二十五年法律第二百五十六号　旧令による共済組合等からの年金受給者のための特別措置法\",\n",
    "    \"昭和三十四年法律第百六十号　中小企業退職金共済法\",\n",
    "    \"昭和二十二年法律第百四十一号　職業安定法\",\n",
    "    \"昭和四十六年法律第七十七号　公立の義務教育諸学校等の教育職員の給与等に関する特別措置法\",\n",
    "    \"昭和二十二年法律第百八十五号　農業保険法\",\n",
    "    \"昭和四十四年法律第八十五号　失業保険法及び労働者災害補償保険法の一部を改正する法律及び労働保険の保険料の徴収等に関する法律の施行に伴う関係法律の整備等に関する法律　抄\",\n",
    "    \"昭和三十九年法律第百十八号　労働災害防止団体法\",\n",
    "    \"平成二十五年法律第九十一号　裁判官の配偶者同行休業に関する法律\",\n",
    "    \"昭和二十三年法律第百三十五号　市町村立学校職員給与負担法\",\n",
    "    \"昭和三十四年法律第百二十一号　特許法\",\n",
    "    \"平成九年法律第六十五号　一般職の任期付研究員の採用、給与及び勤務時間の特例に関する法律\",\n",
    "    \"昭和四十一年法律第五十二号　最高裁判所裁判官退職手当特例法\",\n",
    "    \"大正十一年法律第七十号　健康保険法\",\n",
    "    \"平成二十六年法律第百三十七号　専門的知識等を有する有期雇用労働者等に関する特別措置法\",\n",
    "    \"平成十五年法律第六十号　情報公開・個人情報保護審査会設置法\",\n",
    "    \"昭和二十六年法律第三百八号　昭和二十六年度における給与の改訂に伴う国家公務員共済組合法の規定による年金の額の改定に関する法律\",\n",
    "    \"平成十九年法律第百四号　社会保障協定の実施に伴う厚生年金保険法等の特例等に関する法律\",\n",
    "    \"昭和二十九年法律第六十四号　刑事訴訟法第百九十四条に基く懲戒処分に関する法律\",\n",
    "    \"昭和四十七年法律第五十七号　労働安全衛生法\",\n",
    "    \"平成三年法律第七十六号　育児休業、介護休業等育児又は家族介護を行う労働者の福祉に関する法律\",\n",
    "    \"昭和六十三年法律第九十三号　裁判所の休日に関する法律\",\n",
    "    \"昭和二十八年法律第二百六号　社会保険審査官及び社会保険審査会法\",\n",
    "    \"昭和二十七年法律第二百六十六号　防衛省の職員の給与等に関する法律\",\n",
    "    \"昭和二十八年法律第百八十二号　国家公務員退職手当法\",\n",
    "    \"昭和三十二年法律第六十五号　公衆衛生修学資金貸与法\",\n",
    "    \"昭和二十六年法律第百九十一号　国家公務員災害補償法\",\n",
    "    \"平成十二年法律第百三号　会社分割に伴う労働契約の承継等に関する法律\",\n",
    "    \"昭和五十一年法律第三十四号　賃金の支払の確保等に関する法律\",\n",
    "    \"昭和三十三年法律第百二十六号　旧令による共済組合等からの年金受給者のための特別措置法等の規定による年金の額の改定に関する法律\",\n",
    "    \"昭和二十六年法律第四十五号　社会福祉法\",\n",
    "    \"平成五年法律第七十六号　短時間労働者及び有期雇用労働者の雇用管理の改善等に関する法律\",\n",
    "    \"昭和二十二年法律第五十号　労働者災害補償保険法\",\n",
    "    \"平成三年法律第百十一号　裁判官の育児休業に関する法律\",\n",
    "    \"昭和三十一年法律第百七号　消防団員等公務災害補償等責任共済等に関する法律\",\n",
    "    \"昭和三十四年法律第百三十七号　最低賃金法\",\n",
    "    \"平成十二年法律第五十一号　地方公共団体の一般職の任期付研究員の採用等に関する法律\",\n",
    "    \"平成三年法律第百八号　国会職員の育児休業等に関する法律\",\n",
    "    \"昭和三十年法律第六十八号　昭和二十七年九月三十日以前に給与事由の生じた旧財団法人私学恩給財団の年金の特別措置に関する法律\",\n",
    "    \"昭和四十二年法律第百二十一号　地方公務員災害補償法\",\n",
    "    \"昭和四十九年法律第百十六号　雇用保険法\",\n",
    "    \"昭和三十二年法律第百四十三号　公立学校の学校医、学校歯科医及び学校薬剤師の公務災害補償に関する法律\",\n",
    "    \"昭和六十三年法律第九十一号　行政機関の休日に関する法律\",\n",
    "    \"昭和四十年法律第百一号　昭和四十年度における旧令による共済組合等からの年金受給者のための特別措置法等の規定による年金の額の改定に関する法律\",\n",
    "    \"昭和三十六年法律第百五十五号　社会福祉施設職員等退職手当共済法\"\n",
    "]\"\"\"\n",
    "prompt = ChatPromptTemplate.from_template(prompt_tem)\n",
    "chain = prompt | llm\n",
    "chain.invoke({})"
   ]
  },
  {
   "cell_type": "code",
   "execution_count": 62,
   "metadata": {},
   "outputs": [
    {
     "name": "stdout",
     "output_type": "stream",
     "text": [
      "After analyzing the list of laws, I have identified 7 groups that fit the laws. Here are the group names and descriptions:\n",
      "\n",
      "**Group 1: Labor Laws**\n",
      "Laws related to labor, employment, and worker's rights.\n",
      "\n",
      "**Group 2: Social Security and Insurance Laws**\n",
      "Laws related to social security, insurance, and benefits for workers and citizens.\n",
      "\n",
      "**Group 3: Public Service and Government Laws**\n",
      "Laws related to public service, government employees, and government agencies.\n",
      "\n",
      "**Group 4: Education and Research Laws**\n",
      "Laws related to education, research, and academic institutions.\n",
      "\n",
      "**Group 5: Health and Welfare Laws**\n",
      "Laws related to health, welfare, and social services.\n",
      "\n",
      "**Group 6: Judicial and Legal System Laws**\n",
      "Laws related to the judicial system, legal procedures, and law enforcement.\n",
      "\n",
      "**Group 7: Miscellaneous Laws**\n",
      "Laws that do not fit into the above categories, including laws related to information disclosure, environmental protection, and other miscellaneous topics.\n",
      "\n",
      "Here are the 79 laws grouped into these categories:\n",
      "\n",
      "**Group 1: Labor Laws (23 laws)**\n",
      "\n",
      "1. 昭和二十二年法律第四十九号　労働基準法\n",
      "2. 平成十九年法律第百二十八号　労働契約法\n",
      "3. 昭和四十一年法律第百三十二号　労働施策の総合的な推進並びに労働者の雇用の安定及び職業生活の充実等に関する法律\n",
      "4. 昭和四十四年法律第八十四号　労働保険の保険料の徴収等に関する法律\n",
      "5. 昭和四十六年法律第六十八号　高年齢者等の雇用の安定等に関する法律\n",
      "6. 昭和二十二年法律第百八十五号　農業保険法\n",
      "7. 昭和二十五年法律第四十七号　社会保険医療協議会法\n",
      "8. 昭和二十八年法律第二百六号　社会保険審査官及び社会保険審査会法\n",
      "9. 昭和二十九年法律第百十五号　厚生年金保険法\n",
      "10. 昭和三十四年法律第百二十一号　特許法\n",
      "11. 昭和三十四年法律第百六十号　中小企業退職金共済法\n",
      "12. 昭和四十一年法律第五十二号　最高裁判所裁判官退職手当特例法\n",
      "13. 昭和四十五年法律第六十号　家内労働法\n",
      "14. 昭和四十六年法律第七十七号　公立の義務教育諸学校等の教育職員の給与等に関する特別措置法\n",
      "15. 平成三年法律第七十六号　育児休業、介護休業等育児又は家族介護を行う労働者の福祉に関する法律\n",
      "16. 平成四年法律第九十号　労働時間等の設定の改善に関する特別措置法\n",
      "17. 平成九年法律第六十五号　一般職の任期付研究員の採用、給与及び勤務時間の特例に関する法律\n",
      "18. 平成十二年法律第百三号　会社分割に伴う労働契約の承継等に関する法律\n",
      "19. 平成十五年法律第六十号　情報公開・個人情報保護審査会設置法\n",
      "20. 平成二十四年法律第二号　国家公務員の給与の改定及び臨時特例に関する法律　抄\n",
      "21. 平成二十五年法律第九十一号　裁判官の配偶者同行休業に関する法律\n",
      "22. 平成二十六年法律第百三十七号　専門的知識等を有する有期雇用労働者等に関する特別措置法\n",
      "23. 平成二十五年法律第八十号　国会職員の配偶者同行休業に関する法律\n",
      "\n",
      "**Group 2: Social Security and Insurance Laws (14 laws)**\n",
      "\n",
      "1. 昭和二十三年法律第百二十九号　社会保険診療報酬支払基金法\n",
      "2. 昭和二十五年法律第二百五十六号　旧令による共済組合等からの年金受給者のための特別措置法\n",
      "3. 昭和二十七年法律第百十七号　公務員等の懲戒免除等に関する法律\n",
      "4. 昭和二十八年法律第百八十二号　国家公務員退職手当法\n",
      "5. 昭和二十九年法律第六十四号　刑事訴訟法第百九十四条に基く懲戒処分に関する法律\n",
      "6. 昭和三十四年法律第百四十一号　国民年金法\n",
      "7. 昭和三十九年法律第百十八号　労働災害防止団体法\n",
      "8. 昭和四十一年法律第百十三号　雇用の分野における男女の均等な機会及び待遇の確保等に関する法律\n",
      "9. 昭和四十四年法律第八十五号　失業保険法及び労働者災害補償保険法の一部を改正する法律及び労働保険の保険料の徴収等に関する法律の施行に伴う関係法律の整備等に関する法律　抄\n",
      "10. 昭和四十五年法律第百十六号　雇用保険法\n",
      "11. 平成十九年法律第百九号　日本年金機構法\n",
      "12. 平成十九年法律第百四号　社会保障協定の実施に伴う厚生年金保険法等の特例等に関する法律\n",
      "13. 平成三年法律第百十号　地方公務員の育児休業等に関する法律\n",
      "14. 平成二十四年法律第二号　国家公務員の給与の改定及び臨時特例に関する法律　抄\n",
      "\n",
      "**Group 3: Public Service and Government Laws (13 laws)**\n",
      "\n",
      "1. 昭和二十二年法律第四十九号　労働基準法\n",
      "2. 昭和二十五年法律第六十二号　退職職員に支給する退職手当支給の財源に充てるための特別会計からする一般会計への繰入れに関する法律\n",
      "3. 昭和二十七年法律第九十三号　在外公館の名称及び位置並びに在外公館に勤務する外務公務員の給与に関する法律\n",
      "4. 昭和三十四年法律第百四十一号　国民年金法\n",
      "5. 昭和四十一年法律第五十二号　最高裁判所裁判官退職手当特例法\n",
      "6. 昭和四十三年法律第八十九号　社会保険労務士法\n",
      "7. 昭和四十四年法律第八十四号　労働保険の保険料の徴収等に関する法律\n",
      "8. 昭和四十五年法律第六十号　家内労働法\n",
      "9. 平成三年法律第百十一号　裁判官の育児休業に関する法律\n",
      "10. 平成四年法律第九十号　労働時間等の設定の改善に関する特別措置法\n",
      "11. 平成十二年法律第百二十五号　一般職の任期付職員の採用及び給与の特例に関する法律\n",
      "12. 平成十四年法律第四十八号　地方公共団体の一般職の任期付職員の採用に関する法律\n",
      "13. 平成二十五年法律第八十号　国会職員の配偶者同行休業に関する法律\n",
      "\n",
      "**Group 4: Education and Research Laws (6 laws)**\n",
      "\n",
      "1. 昭和二十三年法律第百三十五号　市町村立学校職員給与負担法\n",
      "2. 昭和二十六年法律第三百八号　昭和二十六年度における給与の改訂に伴う国家公務員共済組合法の規定による年金の額の改定に関する法律\n",
      "3. 昭和三十二年法律第六十五号　公衆衛生修学資金貸与法\n",
      "4. 昭和三十四年法律第百二十一号　特許法\n",
      "5. 平成三年法律第百八号　国会職員の育児休業等に関する法律\n",
      "6. 平成十二年法律第五十一号　地方公共団体の一般職の任期付研究員の採用等に関する法律\n",
      "\n",
      "**Group 5: Health and Welfare Laws (7 laws)**\n",
      "\n",
      "1. 昭和二十三年法律第百二十九号　社会保険診療報酬支払基金法\n",
      "2. 昭和二十五年法律第四十七号　社会保険医療協議会法\n",
      "3. 昭和二十九年法律第百十五号　厚生年金保険法\n",
      "4. 昭和三十四年法律第百四十一号　国民年金法\n",
      "5. 昭和三十九年法律第百十八号　労働災害防止団体法\n",
      "6. 平成三年法律第七十六号　育児休業、介護休業等育児又は家族介護を行う労働者の福祉に関する法律\n",
      "7. 平成十五年法律第六十号　情報公開・個人情報保護審査会設置法\n",
      "\n",
      "**Group 6: Judicial and Legal System Laws (5 laws)**\n",
      "\n",
      "1. 昭和二十二年法律第四十九号　労働基準法\n",
      "2. 昭和二十七年法律第百十七号　公務員等の懲戒免除等に関する法律\n",
      "3. 昭和二十九年法律第六十四号　刑事訴訟法第百九十四条に基く懲戒処分に関する法律\n",
      "4. 平成三年法律第百十一号　裁判官の育児休業に関する法律\n",
      "5. 平成二十五年法律第九十一号　裁判官の配偶者同行休業に関する法律\n",
      "\n",
      "**Group 7: Miscellaneous Laws (10 laws)**\n",
      "\n",
      "1. 昭和八年法律第四十二号　昭和八年法律第四十二号（身元保証ニ関スル法律）\n",
      "2. 昭和二十二年憲法　日本国憲法\n",
      "3. 昭和二十六年法律第四十五号　社会福祉法\n",
      "4. 昭和三十一年法律第百四十九号　昭和二十三年六月三十日以前に給与事由の生じた恩給等の年額の改定に関する法律\n",
      "5. 昭和三十六年法律第二十三号　矯正医官修学資金貸与法\n",
      "6. 昭和三十七年法律第百十六号　昭和三十七年度における旧令による共済組合等からの年金受給者のための特別措置法等の規定による年金の額の改定に関する法律\n",
      "7. 昭和四十一年法律第百十三号　雇用の分野における男女の均等な機会及び待遇の確保等に関する法律\n",
      "8. 昭和四十四年法律第八十五号　失業保険法及び労働者災害補償保険法の一部を改正する法律及び労働保険の保険料の徴収等に関する法律の施行に伴う関係法律の整備等に関する法律　抄\n",
      "9. 平成十六年法律第百二十二号　公益通報者保護法\n",
      "10. 平成二十四年法律第二号　国家公務員の給与の改定及び臨時特例に関する法律　抄\n"
     ]
    }
   ],
   "source": [
    "res = chain.invoke({})\n",
    "print(res.content)"
   ]
  },
  {
   "cell_type": "code",
   "execution_count": 64,
   "metadata": {},
   "outputs": [
    {
     "name": "stdout",
     "output_type": "stream",
     "text": [
      "After analyzing the list of laws, I have identified 7 groups that fit the laws. Here are the group names and descriptions:\n",
      "\n",
      "**Group 1: Labor Laws**\n",
      "Laws related to labor, employment, and worker's rights.\n",
      "\n",
      "**Group 2: Social Security and Insurance Laws**\n",
      "Laws related to social security, insurance, and benefits for workers and citizens.\n",
      "\n",
      "**Group 3: Public Service and Government Laws**\n",
      "Laws related to public service, government employees, and government agencies.\n",
      "\n",
      "**Group 4: Education and Research Laws**\n",
      "Laws related to education, research, and academic institutions.\n",
      "\n",
      "**Group 5: Health and Welfare Laws**\n",
      "Laws related to health, welfare, and social services.\n",
      "\n",
      "**Group 6: Judicial and Legal System Laws**\n",
      "Laws related to the judicial system, legal procedures, and law enforcement.\n",
      "\n",
      "**Group 7: Miscellaneous Laws**\n",
      "Laws that do not fit into the above categories, including laws related to information disclosure, environmental protection, and other miscellaneous topics.\n",
      "\n",
      "Here are the 79 laws grouped into these categories:\n",
      "\n",
      "**Group 1: Labor Laws (24 laws)**\n",
      "\n",
      "1. 昭和二十二年法律第四十九号　労働基準法\n",
      "2. 平成十九年法律第百二十八号　労働契約法\n",
      "3. 昭和四十一年法律第百三十二号　労働施策の総合的な推進並びに労働者の雇用の安定及び職業生活の充実等に関する法律\n",
      "4. 昭和四十四年法律第八十四号　労働保険の保険料の徴収等に関する法律\n",
      "5. ...\n",
      "24. 平成二十六年法律第百三十七号　専門的知識等を有する有期雇用労働者等に関する特別措置法\n",
      "\n",
      "**Group 2: Social Security and Insurance Laws (15 laws)**\n",
      "\n",
      "1. 昭和三十四年法律第百四十一号　国民年金法\n",
      "2. 昭和二十九年法律第百十五号　厚生年金保険法\n",
      "3. 昭和二十三年法律第百二十九号　社会保険診療報酬支払基金法\n",
      "4. ...\n",
      "15. 平成十九年法律第百四号　社会保障協定の実施に伴う厚生年金保険法等の特例等に関する法律\n",
      "\n",
      "**Group 3: Public Service and Government Laws (14 laws)**\n",
      "\n",
      "1. 昭和二十二年法律第百四十一号　職業安定法\n",
      "2. 昭和二十五年法律第六十二号　退職職員に支給する退職手当支給の財源に充てるための特別会計からする一般会計への繰入れに関する法律\n",
      "3. 昭和二十七年法律第九十三号　在外公館の名称及び位置並びに在外公館に勤務する外務公務員の給与に関する法律\n",
      "4. ...\n",
      "14. 平成二十五年法律第八十号　国会職員の配偶者同行休業に関する法律\n",
      "\n",
      "**Group 4: Education and Research Laws (6 laws)**\n",
      "\n",
      "1. 昭和三十四年法律第百二十一号　特許法\n",
      "2. 昭和三十二年法律第六十五号　公衆衛生修学資金貸与法\n",
      "3. 昭和三十六年法律第二十三号　矯正医官修学資金貸与法\n",
      "4. ...\n",
      "6. 平成九年法律第六十五号　一般職の任期付研究員の採用、給与及び勤務時間の特例に関する法律\n",
      "\n",
      "**Group 5: Health and Welfare Laws (8 laws)**\n",
      "\n",
      "1. 大正十一年法律第七十号　健康保険法\n",
      "2. 昭和二十六年法律第四十五号　社会福祉法\n",
      "3. 昭和三十九年法律第百十八号　労働災害防止団体法\n",
      "4. ...\n",
      "8. 平成三年法律第七十六号　育児休業、介護休業等育児又は家族介護を行う労働者の福祉に関する法律\n",
      "\n",
      "**Group 6: Judicial and Legal System Laws (6 laws)**\n",
      "\n",
      "1. 昭和二十七年法律第百十七号　公務員等の懲戒免除等に関する法律\n",
      "2. 昭和二十九年法律第六十四号　刑事訴訟法第百九十四条に基く懲戒処分に関する法律\n",
      "3. 昭和二十八年法律第二百六号　社会保険審査官及び社会保険審査会法\n",
      "4. ...\n",
      "6. 平成三年法律第百十一号　裁判官の育児休業に関する法律\n",
      "\n",
      "**Group 7: Miscellaneous Laws (12 laws)**\n",
      "\n",
      "1. 平成十五年法律第五十七号　個人情報の保護に関する法律\n",
      "2. 昭和八年法律第四十二号　昭和八年法律第四十二号（身元保証ニ関スル法律）\n",
      "3. 平成十六年法律第百二十二号　公益通報者保護法\n",
      "4. ...\n",
      "12. 昭和六十三年法律第九十三号　裁判所の休日に関する法律\n"
     ]
    }
   ],
   "source": [
    "res = chain.invoke({})\n",
    "print(res.content)"
   ]
  }
 ],
 "metadata": {
  "kaggle": {
   "accelerator": "none",
   "dataSources": [],
   "dockerImageVersionId": 30673,
   "isGpuEnabled": false,
   "isInternetEnabled": false,
   "language": "python",
   "sourceType": "notebook"
  },
  "kernelspec": {
   "display_name": "Python 3",
   "language": "python",
   "name": "python3"
  },
  "language_info": {
   "codemirror_mode": {
    "name": "ipython",
    "version": 3
   },
   "file_extension": ".py",
   "mimetype": "text/x-python",
   "name": "python",
   "nbconvert_exporter": "python",
   "pygments_lexer": "ipython3",
   "version": "3.10.12"
  }
 },
 "nbformat": 4,
 "nbformat_minor": 4
}
