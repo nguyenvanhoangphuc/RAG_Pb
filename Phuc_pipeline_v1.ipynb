{
 "cells": [
  {
   "cell_type": "markdown",
   "metadata": {},
   "source": [
    "## Init"
   ]
  },
  {
   "cell_type": "code",
   "execution_count": 2,
   "metadata": {},
   "outputs": [
    {
     "name": "stderr",
     "output_type": "stream",
     "text": [
      "USER_AGENT environment variable not set, consider setting it to identify your requests.\n",
      "/home/trung/.conda/envs/rag_env/lib/python3.10/site-packages/IPython/core/interactiveshell.py:3579: LangChainDeprecationWarning: As of langchain-core 0.3.0, LangChain uses pydantic v2 internally. The langchain_core.pydantic_v1 module was a compatibility shim for pydantic v1, and should no longer be used. Please update the code to import from Pydantic directly.\n",
      "\n",
      "For example, replace imports like: `from langchain_core.pydantic_v1 import BaseModel`\n",
      "with: `from pydantic import BaseModel`\n",
      "or the v1 compatibility namespace if you are working in a code base that has not been fully upgraded to pydantic 2 yet. \tfrom pydantic.v1 import BaseModel\n",
      "\n",
      "  exec(code_obj, self.user_global_ns, self.user_ns)\n"
     ]
    },
    {
     "data": {
      "text/plain": [
       "True"
      ]
     },
     "execution_count": 2,
     "metadata": {},
     "output_type": "execute_result"
    }
   ],
   "source": [
    "import os\n",
    "from dotenv import load_dotenv, find_dotenv\n",
    "from langchain_community.document_loaders.web_base import WebBaseLoader\n",
    "from langchain.text_splitter import RecursiveCharacterTextSplitter\n",
    "from langchain_community.vectorstores.chroma import Chroma\n",
    "from langchain_community.embeddings import HuggingFaceEmbeddings\n",
    "from langchain_groq.chat_models import ChatGroq\n",
    "from langchain_community.tools.tavily_search import TavilySearchResults\n",
    "from langchain.prompts import ChatPromptTemplate\n",
    "from langchain_core.pydantic_v1 import BaseModel, Field\n",
    "from typing import Literal\n",
    "from operator import itemgetter\n",
    "from langchain_core.output_parsers import StrOutputParser\n",
    "from IPython.core.display import Markdown\n",
    "from langchain_core.runnables import RunnableParallel\n",
    "from langchain_core.messages import HumanMessage, AIMessage\n",
    "import warnings\n",
    "\n",
    "warnings.filterwarnings(\"ignore\")\n",
    "load_dotenv(find_dotenv())"
   ]
  },
  {
   "cell_type": "code",
   "execution_count": 3,
   "metadata": {},
   "outputs": [],
   "source": [
    "GROQ_API_KEY = os.getenv(\"GROQQ_API_KEY\")\n",
    "LANGCHAIN_API_KEY = os.getenv(\"LANGCHAIN_API_KEY\")\n",
    "TAVILY_API_KEY = os.getenv(\"TAVILY_API_KEY\")\n",
    "\n",
    "os.environ[\"GROQ_API_KEY\"] = GROQ_API_KEY\n",
    "os.environ[\"LANGCHAIN_TRACING_V2\"]=\"true\"\n",
    "os.environ[\"LANGCHAIN_ENDPOINT\"]=\"https://api.smith.langchain.com\"\n",
    "os.environ[\"LANGCHAIN_API_KEY\"]=LANGCHAIN_API_KEY\n",
    "os.environ[\"LANGCHAIN_PROJECT\"]=\"advanced-rag\"\n",
    "os.environ[\"TAVILY_API_KEY\"]=TAVILY_API_KEY"
   ]
  },
  {
   "cell_type": "markdown",
   "metadata": {},
   "source": [
    "## Query transformation\n",
    "\n",
    "- Lần lượt lấy từng chunks thực hiện query translation (sinh ra các query làm nhiệm vụ tìm kiếm luật) (phuc) - chưa làm nhưng ở trong code có sẵn prompt (tạo prompt tiếng nhật)"
   ]
  },
  {
   "cell_type": "code",
   "execution_count": 4,
   "metadata": {},
   "outputs": [],
   "source": [
    "from langchain.prompts import ChatPromptTemplate\n",
    "\n",
    "# Multi Query: Different Perspectives\n",
    "# Template for generating multiple perspectives on a user question\n",
    "template = \"\"\"あなたはAI言語モデルアシスタントです。あなたのタスクは、与えられた契約文の正当性を証明するために関連する法律を検索するための5つの異なるバージョンの質問を生成することです。元の契約文に対して異なる視点からの質問を作成することで、距離ベースの類似検索の限界を克服し、より適切な法的情報を取得できるようにします。これらの代替質問を改行で区切って提供してください。\n",
    "\n",
    "元の契約文: {contract_clause}\"\"\"\n",
    "prompt_perspectives = ChatPromptTemplate.from_template(template)\n",
    "\n",
    "generate_queries = (\n",
    "    prompt_perspectives \n",
    "    | ChatGroq(temperature=0)   # thực chất là một model LLMs \n",
    "    | StrOutputParser()         # chuyển đổi output từ model LLMs thành dạng string\n",
    "    | (lambda x: x.split(\"\\n\")) # tách các câu hỏi thành list các câu hỏi\n",
    ") # kết quả trả về là list các câu hỏi"
   ]
  },
  {
   "cell_type": "code",
   "execution_count": null,
   "metadata": {},
   "outputs": [],
   "source": [
    "generate_queries.invoke({\"contract_clause\":\"雇用主は従業員を解雇する場合、少なくとも 40 日前に通知する必要があります。\"})"
   ]
  },
  {
   "cell_type": "markdown",
   "metadata": {},
   "source": [
    "## Routing\n",
    "\n",
    "- Mỗi chunks thực hiện routingLLM để chọn ra route phù hợp. Route là danh sách các vectorDB về luật (đã tạo). Sau đó LLMs duyệt lại các route đó và trả về các route liên quan. (phuc)"
   ]
  },
  {
   "cell_type": "code",
   "execution_count": 6,
   "metadata": {},
   "outputs": [],
   "source": [
    "# # Danh sách các vectorDB\n",
    "# # 1 \n",
    "# \"category\": \"Labor Laws\",\n",
    "#         \"description\": \"Laws related to labor, employment, and worker's rights.\",\n",
    "# # 2\n",
    "# \"category\": \"Social Security and Insurance Laws\",\n",
    "#         \"description\": \"Laws related to social security, insurance, and benefits for workers and citizens.\",\n",
    "# # 3\n",
    "# \"category\": \"Public Service and Government Laws\",\n",
    "#         \"description\": \"Laws related to public service, government employees, and government agencies.\",\n",
    "# # 4\n",
    "# \"category\": \"Education and Research Laws\",\n",
    "#         \"description\": \"Laws related to education, research, and academic institutions.\",\n",
    "# # 5\n",
    "# \"category\": \"Health and Welfare Laws\",\n",
    "#         \"description\": \"Laws related to health, welfare, and social services.\",\n",
    "# # 6\n",
    "# \"category\": \"Judicial and Legal System Laws\",\n",
    "#         \"description\": \"Laws related to the judicial system, legal procedures, and law enforcement.\",\n",
    "# # 7\n",
    "# \"category\": \"Miscellaneous Laws\",\n",
    "#         \"description\": \"Laws that do not fit into the above categories, including laws related to information disclosure, environmental protection, and other miscellaneous topics.\","
   ]
  },
  {
   "cell_type": "code",
   "execution_count": 7,
   "metadata": {},
   "outputs": [],
   "source": [
    "from pydantic import BaseModel\n",
    "\n",
    "class LaborLawsVectorStore(BaseModel):\n",
    "    \"\"\"\n",
    "    A vectorstore contains information about labor laws, employment regulations,\n",
    "    worker's rights, and related legal frameworks.\n",
    "    \"\"\"\n",
    "    query: str\n",
    "\n",
    "class SocialSecurityVectorStore(BaseModel):\n",
    "    \"\"\"\n",
    "    A vectorstore contains information about social security laws, insurance policies,\n",
    "    and benefits for workers and citizens.\n",
    "    \"\"\"\n",
    "    query: str\n",
    "\n",
    "class PublicServiceVectorStore(BaseModel):\n",
    "    \"\"\"\n",
    "    A vectorstore contains information about laws related to public service,\n",
    "    government employees, and government agencies.\n",
    "    \"\"\"\n",
    "    query: str\n",
    "\n",
    "class EducationResearchVectorStore(BaseModel):\n",
    "    \"\"\"\n",
    "    A vectorstore contains information about laws related to education, research,\n",
    "    and academic institutions.\n",
    "    \"\"\"\n",
    "    query: str\n",
    "\n",
    "class HealthWelfareVectorStore(BaseModel):\n",
    "    \"\"\"\n",
    "    A vectorstore contains information about laws related to health, welfare,\n",
    "    and social services.\n",
    "    \"\"\"\n",
    "    query: str\n",
    "\n",
    "class JudicialLegalSystemVectorStore(BaseModel):\n",
    "    \"\"\"\n",
    "    A vectorstore contains information about laws related to the judicial system,\n",
    "    legal procedures, and law enforcement.\n",
    "    \"\"\"\n",
    "    query: str\n",
    "\n",
    "class MiscellaneousLawsVectorStore(BaseModel):\n",
    "    \"\"\"\n",
    "    A vectorstore contains information about laws that do not fit into the above categories,\n",
    "    including laws related to information disclosure, environmental protection, and other topics.\n",
    "    \"\"\"\n",
    "    query: str"
   ]
  },
  {
   "cell_type": "code",
   "execution_count": 8,
   "metadata": {},
   "outputs": [],
   "source": [
    "router_prompt_template = (\n",
    "    \"あなたは法律の専門家であり、ユーザーのクエリを適切な法律カテゴリの VectorStore に振り分ける役割を担っています。\\n\"\n",
    "    \"以下の詳細な基準に基づいて、クエリを最適なカテゴリに分類してください。\\n\\n\"\n",
    "\n",
    "    \"### カテゴリの説明:\\n\"\n",
    "    \"- **労働法 (LaborLawsVectorStore)**:\\n\"\n",
    "    \"  - 労働契約、解雇、残業、労働時間、最低賃金、職場のハラスメント、労働組合の権利など、雇用関係に関するすべての法律。\\n\"\n",
    "    \"  - 例: 「従業員を解雇する際の正当な理由とは？」「最低賃金は法律でどのように定められているか？」\\n\\n\"\n",
    "    \n",
    "    \"- **社会保障法 (SocialSecurityVectorStore)**:\\n\"\n",
    "    \"  - 年金、健康保険、失業保険、介護保険、生活保護など、社会的セーフティネットに関連する法律。\\n\"\n",
    "    \"  - 例: 「年金の受給資格は何ですか？」「健康保険に加入しないとどうなる？」\\n\\n\"\n",
    "\n",
    "    \"- **公務員法 (PublicServiceVectorStore)**:\\n\"\n",
    "    \"  - 国家公務員法、地方公務員法、公務員の職務、給与、倫理規定、懲戒処分に関する法律。\\n\"\n",
    "    \"  - 例: 「公務員が副業をすることは許されているのか？」「国家公務員と地方公務員の違いは？」\\n\\n\"\n",
    "\n",
    "    \"- **教育・研究法 (EducationResearchVectorStore)**:\\n\"\n",
    "    \"  - 学校教育法、大学制度、研究助成金、学術論文の著作権、教育機関の運営に関する法律。\\n\"\n",
    "    \"  - 例: 「日本の義務教育は何歳まで？」「研究費の不正使用はどのように罰せられる？」\\n\\n\"\n",
    "\n",
    "    \"- **医療・福祉法 (HealthWelfareVectorStore)**:\\n\"\n",
    "    \"  - 医療制度、患者の権利、福祉サービス、高齢者・障害者支援、医療機関の運営に関する法律。\\n\"\n",
    "    \"  - 例: 「インフォームド・コンセントとは何か？」「介護保険の申請方法は？」\\n\\n\"\n",
    "\n",
    "    \"- **司法・法律制度 (JudicialLegalSystemVectorStore)**:\\n\"\n",
    "    \"  - 裁判制度、弁護士・検察官・裁判官の職務、刑法、民法、訴訟手続き、法執行機関の活動に関する法律。\\n\"\n",
    "    \"  - 例: 「刑事裁判と民事裁判の違いは？」「裁判所の判決を不服として上訴する方法は？」\\n\\n\"\n",
    "\n",
    "    \"- **その他の法律 (MiscellaneousLawsVectorStore)**:\\n\"\n",
    "    \"  - 上記のカテゴリに該当しないが、日本の法律に関連するすべての質問。\\n\"\n",
    "    \"  - 例: 「環境保護法の内容は？」「情報公開請求の方法を知りたい。」\\n\\n\"\n",
    "\n",
    "    \"### 重要な指示:\\n\"\n",
    "    \"- ユーザーのクエリが法律に関係ない場合は「法律に関係なし」と返してください。\\n\"\n",
    "    \"- クエリを慎重に分析し、最も適切なカテゴリを選択してください。\\n\"\n",
    "    \"- ユーザーの質問が複数のカテゴリにまたがる場合は、最も関連性の高いカテゴリに振り分けてください。\\n\\n\"\n",
    "    \n",
    "    \"クエリ: {query}\"\n",
    ")\n",
    "\n",
    "\n",
    "llm = ChatGroq(model=\"llama3-70b-8192\", temperature=0)\n",
    "prompt = ChatPromptTemplate.from_template(router_prompt_template)\n",
    "query_router = prompt | llm.bind_tools(\n",
    "    tools=[\n",
    "        LaborLawsVectorStore, \n",
    "        SocialSecurityVectorStore, \n",
    "        PublicServiceVectorStore, \n",
    "        EducationResearchVectorStore, \n",
    "        HealthWelfareVectorStore, \n",
    "        JudicialLegalSystemVectorStore, \n",
    "        MiscellaneousLawsVectorStore\n",
    "    ]\n",
    ")"
   ]
  },
  {
   "cell_type": "code",
   "execution_count": 9,
   "metadata": {},
   "outputs": [],
   "source": [
    "# ['1. 労働者の採用に必要なドキュメントについて、個人情報保護法に基づく誓約書は法的に必須ですか？',\n",
    "#  '2. 新労働法に基づいて、採用された労働者が会社に提出する必要がある初期課税申告について、源泉徴収票はどのように関連していますか？',\n",
    "#  '3. 労働者の入社に際して、法的に必要な手続きについて、入社誓約書と雇用契約書の違いは何ですか？',\n",
    "#  '4. 労働者の採用に際して、法的に必要な身元保証について、身元保証書と雇用保険被保険者証の写しの違いは何ですか？',\n",
    "#  '5. 労働者の採用に必要な身分証明書について、パスポートの写しは法的に有効ですか？それとも、マイナンバーカード又はマイナンバー通知書の写しのみが有効ですか？']"
   ]
  },
  {
   "cell_type": "code",
   "execution_count": 10,
   "metadata": {},
   "outputs": [
    {
     "name": "stdout",
     "output_type": "stream",
     "text": [
      "True\n",
      "1\n",
      "LaborLawsVectorStore\n"
     ]
    }
   ],
   "source": [
    "response = query_router.invoke(\"労働者の採用に必要な身分証明書について、パスポートの写しは法的に有効ですか？それとも、マイナンバーカード又はマイナンバー通知書の写しのみが有効ですか？\")\n",
    "print(\"tool_calls\" in response.additional_kwargs)\n",
    "print(len(response.additional_kwargs[\"tool_calls\"]))\n",
    "print(response.additional_kwargs[\"tool_calls\"][0][\"function\"][\"name\"])\n"
   ]
  },
  {
   "cell_type": "markdown",
   "metadata": {},
   "source": [
    "## Retrieval\n",
    "\n",
    "- Sau đó các route tức là các vectorDB (đã được embedding từ trước - có thể gộp lại của nhiều bộ vectorDB được thực chất là gộp các file pickle) thực hiện retrieval (có thể chromaDB hoặc FAISS đã làm) hoặc thực hiện lọc theo metadata hoặc kết hợp 2 phương pháp truy xuất cho từng chunk thu được docs liên quan của chunk đó. Và thông qua LLMs duyệt lại. (phuc)"
   ]
  },
  {
   "cell_type": "markdown",
   "metadata": {},
   "source": [
    "### Init"
   ]
  },
  {
   "cell_type": "code",
   "execution_count": 11,
   "metadata": {},
   "outputs": [],
   "source": [
    "import json\n",
    "\n",
    "with open(\"./full_corpus_110225_with_metadata.json\", \"r\", encoding=\"utf-8\") as f:\n",
    "    data_docs = json.load(f)\n",
    "\n",
    "from langchain_core.documents import Document\n",
    "\n",
    "docs = []\n",
    "for doc in data_docs:\n",
    "    docs.append(\n",
    "        Document(\n",
    "            page_content=doc[\"content\"],\n",
    "            metadata=doc[\"metadata\"]\n",
    "        )\n",
    "    )"
   ]
  },
  {
   "cell_type": "code",
   "execution_count": 12,
   "metadata": {},
   "outputs": [
    {
     "data": {
      "text/plain": [
       "5016"
      ]
     },
     "execution_count": 12,
     "metadata": {},
     "output_type": "execute_result"
    }
   ],
   "source": [
    "len(docs)"
   ]
  },
  {
   "cell_type": "code",
   "execution_count": 13,
   "metadata": {},
   "outputs": [],
   "source": [
    "text_splitter = RecursiveCharacterTextSplitter(chunk_size=500, chunk_overlap=30)\n",
    "chunks = text_splitter.split_documents(docs)"
   ]
  },
  {
   "cell_type": "code",
   "execution_count": 14,
   "metadata": {},
   "outputs": [],
   "source": [
    "embedding_function = HuggingFaceEmbeddings(model_name=\"intfloat/multilingual-e5-large\")"
   ]
  },
  {
   "cell_type": "markdown",
   "metadata": {},
   "source": [
    "### Using dense retrieval"
   ]
  },
  {
   "cell_type": "code",
   "execution_count": null,
   "metadata": {},
   "outputs": [],
   "source": [
    "import numpy as np\n",
    "import json\n",
    "import torch\n",
    "import pickle\n",
    "from sentence_transformers import SentenceTransformer, util\n",
    "\n",
    "\n",
    "class RetrievalData:\n",
    "    def __init__(self, legal_dict_json, model_paths, legal_data_path, weighted, top_n=20, range_score=0.2, encode_legal_data_flag=False):\n",
    "        self.legal_dict_json = legal_dict_json\n",
    "        self.legal_data_path = legal_data_path\n",
    "        self.weighted = weighted\n",
    "        self.top_n = top_n\n",
    "        self.range_score = range_score\n",
    "        self.models = self.load_models(model_paths)\n",
    "\n",
    "        if encode_legal_data_flag:\n",
    "            self.emb_legal_data = self.encode_legal_data()\n",
    "            with open(self.legal_data_path, \"wb\") as f:\n",
    "                pickle.dump(self.emb_legal_data, f)\n",
    "        else:\n",
    "            with open(self.legal_data_path, \"rb\") as f:\n",
    "                self.emb_legal_data = pickle.load(f)\n",
    "\n",
    "    def load_models(self, model_paths):\n",
    "        return [SentenceTransformer(model_path) for model_path in model_paths]\n",
    "\n",
    "    def encode_legal_data(self):\n",
    "        doc_data = json.load(open(self.legal_dict_json, encoding='utf-8'))\n",
    "        list_emb_models = []\n",
    "        for model in self.models:\n",
    "            emb2_list = [model.encode(doc[\"content\"]) for doc in doc_data]\n",
    "            list_emb_models.append(np.array(emb2_list))\n",
    "        return list_emb_models\n",
    "\n",
    "    def encode_question(self, question_data):\n",
    "        return [model.encode(question_data) for model in self.models]\n",
    "\n",
    "    def calculate_cosine_similarity(self, question_embs, list_embed=None):\n",
    "        cos_sim = []\n",
    "        if list_embed != None:\n",
    "            for idx, emb_legal in enumerate(list_embed):\n",
    "                scores = util.cos_sim(question_embs[idx], emb_legal)\n",
    "                cos_sim.append(self.weighted[idx] * scores)\n",
    "        else:\n",
    "            for idx, emb_legal in enumerate(self.emb_legal_data):\n",
    "                scores = util.cos_sim(question_embs[idx], emb_legal)\n",
    "                cos_sim.append(self.weighted[idx] * scores)\n",
    "        cos_sim = torch.cat(cos_sim, dim=0)\n",
    "        cos_sim = torch.sum(cos_sim, dim=0).squeeze(0).numpy()\n",
    "        return cos_sim\n",
    "\n",
    "    def process_predictions(self, cos_sim):\n",
    "        max_score = np.max(cos_sim)\n",
    "        predictions = np.argpartition(cos_sim, len(cos_sim) - self.top_n)[-self.top_n:]\n",
    "        new_scores = cos_sim[predictions]\n",
    "        new_predictions = np.where(new_scores >= (max_score - self.range_score))[0]\n",
    "        map_ids = predictions[new_predictions]\n",
    "        new_scores = new_scores[new_scores >= (max_score - self.range_score)]\n",
    "        if new_scores.shape[0] > self.top_n:\n",
    "            predictions_2 = np.argpartition(new_scores, len(new_scores) - self.top_n)[-self.top_n:]\n",
    "            map_ids = map_ids[predictions_2]\n",
    "        return map_ids, new_scores\n",
    "\n",
    "    def display_results(self, map_ids):\n",
    "        dup_ans = []\n",
    "        with open(self.legal_dict_json, 'r', encoding='utf-8') as file:\n",
    "            doc_data = json.load(file)\n",
    "        for idx_pred in map_ids:\n",
    "            law_id_article = doc_data[idx_pred][\"id\"]\n",
    "            content = doc_data[idx_pred][\"content\"]\n",
    "            if law_id_article not in dup_ans:\n",
    "                dup_ans.append(law_id_article)\n",
    "                print(f'Law and Article ID: {law_id_article}')\n",
    "                print(f'Text: {content}')\n",
    "                print(\"=\" * 80)\n",
    "\n",
    "    def inference(self, question, list_embed=None):\n",
    "        question_embs = self.encode_question(question)\n",
    "        cos_sim = self.calculate_cosine_similarity(question_embs, list_embed)\n",
    "        map_ids, new_scores = self.process_predictions(cos_sim)\n",
    "        return map_ids, new_scores\n",
    "        # self.display_results(map_ids)\n",
    "\n",
    "\n",
    "\n",
    "if __name__ == \"__main__\":\n",
    "    model_paths = [\"paraphrase-multilingual-mpnet-base-v2\", \n",
    "                   \"distiluse-base-multilingual-cased-v1\", \n",
    "                   \"saved_model_finetune_mlm_lms_round2\"]\n",
    "    legal_dict_json = \"generated_data/full_corpus_110225_with_metadata_new.json\"\n",
    "    legal_data_path = \"generated_data/vectorDB_full_corpus_110225.pkl\"\n",
    "    weighted = [0.3, 0.2, 0.5]\n",
    "\n",
    "    retrieval = RetrievalData(legal_dict_json, model_paths, legal_data_path, weighted, encode_legal_data_flag = True)\n",
    "    \n",
    "    # while True:\n",
    "    #     question = input(\"\\nEnter a contract sentence: \").strip()\n",
    "    #     retrieval.inference(question)\n",
    "    #     print(\"=\" * 80)"
   ]
  },
  {
   "cell_type": "code",
   "execution_count": 16,
   "metadata": {},
   "outputs": [],
   "source": [
    "legal_dict_json = \"generated_data/full_corpus_110225_with_metadata_new.json\""
   ]
  },
  {
   "cell_type": "code",
   "execution_count": 17,
   "metadata": {},
   "outputs": [],
   "source": [
    "def display_results(map_ids, new_scores):\n",
    "    dup_ans = []\n",
    "    with open(legal_dict_json, 'r', encoding='utf-8') as file:\n",
    "        doc_data = json.load(file)\n",
    "    for idx_pred in map_ids:\n",
    "        law_id_article = doc_data[idx_pred][\"id\"]\n",
    "        content = doc_data[idx_pred][\"content\"]\n",
    "        if law_id_article not in dup_ans:\n",
    "            dup_ans.append(law_id_article)\n",
    "            print(f'Law and Article ID: {law_id_article}')\n",
    "            print(f'Text: {content}')\n",
    "            print(\"=\" * 80)"
   ]
  },
  {
   "cell_type": "code",
   "execution_count": 18,
   "metadata": {},
   "outputs": [],
   "source": [
    "def return_documents(map_ids, new_scores):\n",
    "    dup_ans = []\n",
    "    with open(legal_dict_json, 'r', encoding='utf-8') as file:\n",
    "        doc_data = json.load(file)\n",
    "    test_docs = []\n",
    "    for idx_pred in map_ids:\n",
    "        law_id_article = doc_data[idx_pred][\"id\"]\n",
    "        content = doc_data[idx_pred][\"content\"]\n",
    "        metadata = doc_data[idx_pred][\"metadata\"]\n",
    "\n",
    "        if law_id_article not in dup_ans:\n",
    "            test_docs.append(\n",
    "                Document(\n",
    "                    page_content=content,\n",
    "                    metadata=metadata\n",
    "                )\n",
    "            )\n",
    "            dup_ans.append(law_id_article)\n",
    "    return test_docs  "
   ]
  },
  {
   "cell_type": "code",
   "execution_count": 19,
   "metadata": {},
   "outputs": [],
   "source": [
    "# question = input(\"\\nEnter a contract sentence: \").strip()\n",
    "question = \"雇用主が従業員を解雇する場合、雇用契約で定められている通知期間は、40日以上である必要があるのか？\"\n",
    "map_ids, new_scores = retrieval.inference(question)\n",
    "documents = return_documents(map_ids, new_scores)\n",
    "# display_results(map_ids, new_scores)"
   ]
  },
  {
   "cell_type": "code",
   "execution_count": 20,
   "metadata": {},
   "outputs": [
    {
     "data": {
      "text/plain": [
       "[Document(metadata={'law_number': '平成十九年法律第百二十八号', 'law_name': '労働契約法', 'enactment_year': '令和2年4月1日 施行', 'chapter_number': '第三章', 'chapter_name': '労働契約の継続及び終了', 'division_number': '', 'division_name': '', 'article_number': '第十六条', 'article_name': '解雇', 'document_source': 'https://laws.e-gov.go.jp/law/419AC0000000128'}, page_content='平成十九年法律第百二十八号\\u3000労働契約法/第三章\\u3000労働契約の継続及び終了/第十六条\\u3000解雇/解雇は、客観的に合理的な理由を欠き、社会通念上相当であると認められない場合は、その権利を濫用したものとして、無効とする。'),\n",
       " Document(metadata={'law_number': '昭和二十二年法律第四十九号', 'law_name': '労働基準法', 'enactment_year': '令和6年5月31日 施行', 'chapter_number': '第二章', 'chapter_name': '労働契約', 'division_number': '', 'division_name': '', 'article_number': '第二十二条', 'article_name': '退職時等の証明', 'document_source': 'https://laws.e-gov.go.jp/law/322AC0000000049'}, page_content='昭和二十二年法律第四十九号\\u3000労働基準法/第二章\\u3000労働契約/第二十二条\\u3000退職時等の証明/労働者が、退職の場合において、使用期間、業務の種類、その事業における地位、賃金又は退職の事由（退職の事由が解雇の場合にあつては、その理由を含む。）について証明書を請求した場合においては、使用者は、遅滞なくこれを交付しなければならない。\\n労働者が、第二十条第一項の解雇の予告がされた日から退職の日までの間において、当該解雇の理由について証明書を請求した場合においては、使用者は、遅滞なくこれを交付しなければならない。ただし、解雇の予告がされた日以後に労働者が当該解雇以外の事由により退職した場合においては、使用者は、当該退職の日以後、これを交付することを要しない。\\n前二項の証明書には、労働者の請求しない事項を記入してはならない。\\n使用者は、あらかじめ第三者と謀り、労働者の就業を妨げることを目的として、労働者の国籍、信条、社会的身分若しくは労働組合運動に関する通信をし、又は第一項及び第二項の証明書に秘密の記号を記入してはならない。'),\n",
       " Document(metadata={'law_number': '昭和二十二年法律第四十九号', 'law_name': '労働基準法', 'enactment_year': '令和6年5月31日 施行', 'chapter_number': '第二章', 'chapter_name': '労働契約', 'division_number': '', 'division_name': '', 'article_number': '第二十条', 'article_name': '解雇の予告', 'document_source': 'https://laws.e-gov.go.jp/law/322AC0000000049'}, page_content='昭和二十二年法律第四十九号\\u3000労働基準法/第二章\\u3000労働契約/第二十条\\u3000解雇の予告/使用者は、労働者を解雇しようとする場合においては、少くとも三十日前にその予告をしなければならない。三十日前に予告をしない使用者は、三十日分以上の平均賃金を支払わなければならない。但し、天災事変その他やむを得ない事由のために事業の継続が不可能となつた場合又は労働者の責に帰すべき事由に基いて解雇する場合においては、この限りでない。\\n前項の予告の日数は、一日について平均賃金を支払つた場合においては、その日数を短縮することができる。\\n前条第二項の規定は、第一項但書の場合にこれを準用する。')]"
      ]
     },
     "execution_count": 20,
     "metadata": {},
     "output_type": "execute_result"
    }
   ],
   "source": [
    "documents"
   ]
  },
  {
   "cell_type": "markdown",
   "metadata": {},
   "source": [
    "### Using embedding chromaDB"
   ]
  },
  {
   "cell_type": "code",
   "execution_count": 21,
   "metadata": {},
   "outputs": [],
   "source": [
    "text_splitter = RecursiveCharacterTextSplitter(chunk_size=500, chunk_overlap=30)\n",
    "chunks = text_splitter.split_documents(docs)"
   ]
  },
  {
   "cell_type": "code",
   "execution_count": 22,
   "metadata": {},
   "outputs": [
    {
     "data": {
      "text/plain": [
       "6795"
      ]
     },
     "execution_count": 22,
     "metadata": {},
     "output_type": "execute_result"
    }
   ],
   "source": [
    "len(chunks)"
   ]
  },
  {
   "cell_type": "code",
   "execution_count": 23,
   "metadata": {},
   "outputs": [],
   "source": [
    "# from langchain_community.embeddings import HuggingFaceBgeEmbeddings\n",
    "\n",
    "# model_name = \"BAAI/bge-multilingual-gemma2\"\n",
    "# model_kwargs = {\"device\": \"gpu\"}\n",
    "# encode_kwargs = {\"normalize_embeddings\": True}\n",
    "# hf_embeddings = HuggingFaceBgeEmbeddings(\n",
    "#     model_name=model_name, model_kwargs=model_kwargs, encode_kwargs=encode_kwargs\n",
    "# )\n",
    "\n",
    "# # Add to vectorDB\n",
    "# vectorstore = Chroma.from_documents(\n",
    "#     documents=chunks,\n",
    "#     collection_name=\"rag-chroma\",\n",
    "#     embedding=hf_embeddings,\n",
    "# )\n",
    "# retriever = vectorstore.as_retriever()"
   ]
  },
  {
   "cell_type": "code",
   "execution_count": 24,
   "metadata": {},
   "outputs": [],
   "source": [
    "embedding_function = HuggingFaceEmbeddings(model_name=\"intfloat/multilingual-e5-large\")\n",
    "\n",
    "chromaa = Chroma()\n",
    "vector_store = chromaa.from_documents(documents=chunks, embedding=embedding_function)\n",
    "\n",
    "retriever = vector_store.as_retriever(search_kwargs={\"k\": 10})"
   ]
  },
  {
   "cell_type": "code",
   "execution_count": 25,
   "metadata": {},
   "outputs": [
    {
     "data": {
      "text/plain": [
       "[Document(metadata={'article_name': '労働条件等の明示', 'article_number': '第五条の三', 'chapter_name': '総則', 'chapter_number': '第一章', 'division_name': '', 'division_number': '', 'document_source': 'https://laws.e-gov.go.jp/law/322AC0000000141', 'enactment_year': '令和4年10月1日 施行', 'law_name': '職業安定法', 'law_number': '昭和二十二年法律第百四十一号'}, page_content='求人者、労働者の募集を行う者及び労働者供給を受けようとする者（供給される労働者を雇用する場合に限る。）は、それぞれ、求人の申込みをした公共職業安定所、特定地方公共団体若しくは職業紹介事業者の紹介による求職者、募集に応じて労働者になろうとする者又は供給される労働者と労働契約を締結しようとする場合であつて、これらの者に対して第一項の規定により明示された従事すべき業務の内容及び賃金、労働時間その他の労働条件（以下この項において「従事すべき業務の内容等」という。）を変更する場合その他厚生労働省令で定める場合は、当該契約の相手方となろうとする者に対し、当該変更する従事すべき業務の内容等その他厚生労働省令で定める事項を明示しなければならない。\\n前三項の規定による明示は、賃金及び労働時間に関する事項その他の厚生労働省令で定める事項については、厚生労働省令で定める方法により行わなければならない。'),\n",
       " Document(metadata={'article_name': '労働者名簿', 'article_number': '第百七条', 'chapter_name': '雑則', 'chapter_number': '第十二章', 'division_name': '', 'division_number': '', 'document_source': 'https://laws.e-gov.go.jp/law/322AC0000000049', 'enactment_year': '令和6年5月31日 施行', 'law_name': '労働基準法', 'law_number': '昭和二十二年法律第四十九号'}, page_content='昭和二十二年法律第四十九号\\u3000労働基準法/第十二章\\u3000雑則/第百七条\\u3000労働者名簿/使用者は、各事業場ごとに労働者名簿を、各労働者（日日雇い入れられる者を除く。）について調製し、労働者の氏名、生年月日、履歴その他厚生労働省令で定める事項を記入しなければならない。\\n前項の規定により記入すべき事項に変更があつた場合においては、遅滞なく訂正しなければならない。'),\n",
       " Document(metadata={'article_name': '労働者名簿', 'article_number': '第百七条', 'chapter_name': '雑則', 'chapter_number': '第十二章', 'division_name': '', 'division_number': '', 'document_source': 'https://laws.e-gov.go.jp/law/322AC0000000049', 'enactment_year': '令和6年5月31日 施行', 'law_name': '労働基準法', 'law_number': '昭和二十二年法律第四十九号'}, page_content='昭和二十二年法律第四十九号\\u3000労働基準法/第十二章\\u3000雑則/第百七条\\u3000労働者名簿/使用者は、各事業場ごとに労働者名簿を、各労働者（日日雇い入れられる者を除く。）について調製し、労働者の氏名、生年月日、履歴その他厚生労働省令で定める事項を記入しなければならない。\\n前項の規定により記入すべき事項に変更があつた場合においては、遅滞なく訂正しなければならない。'),\n",
       " Document(metadata={'article_name': '所定給付日数', 'article_number': '第二十二条', 'chapter_name': '失業等給付', 'chapter_number': '第三章', 'division_name': '一般被保険者の求職者給付', 'division_number': '第二節', 'document_source': 'https://laws.e-gov.go.jp/law/349AC0000000116', 'enactment_year': '令和6年10月1日 施行', 'law_name': '雇用保険法', 'law_number': '昭和四十九年法律第百十六号'}, page_content='一の被保険者であつた期間に関し、被保険者となつた日が第九条の規定による被保険者となつたことの確認があつた日の二年前の日より前であるときは、当該確認のあつた日の二年前の日に当該被保険者となつたものとみなして、前項の規定による算定を行うものとする。\\n次に掲げる要件のいずれにも該当する者（第一号に規定する事実を知つていた者を除く。）に対する前項の規定の適用については、同項中「当該確認のあつた日の二年前の日」とあるのは、「次項第二号に規定する被保険者の負担すべき額に相当する額がその者に支払われた賃金から控除されていたことが明らかである時期のうち最も古い時期として厚生労働省令で定める日」とする。\\n一\\u3000その者に係る第七条の規定による届出がされていなかつたこと。\\n二\\u3000厚生労働省令で定める書類に基づき、第九条の規定による被保険者となつたことの確認があつた日の二年前の日より前に徴収法第三十二条第一項の規定により被保険者の負担すべき額に相当する額がその者に支払われた賃金から控除されていたことが明らかである時期があること。'),\n",
       " Document(metadata={'article_name': '労働条件等の明示', 'article_number': '第五条の三', 'chapter_name': '総則', 'chapter_number': '第一章', 'division_name': '', 'division_number': '', 'document_source': 'https://laws.e-gov.go.jp/law/322AC0000000141', 'enactment_year': '令和4年10月1日 施行', 'law_name': '職業安定法', 'law_number': '昭和二十二年法律第百四十一号'}, page_content='昭和二十二年法律第百四十一号\\u3000職業安定法/第一章\\u3000総則/第五条の三\\u3000労働条件等の明示/公共職業安定所、特定地方公共団体及び職業紹介事業者、労働者の募集を行う者及び募集受託者並びに労働者供給事業者は、それぞれ、職業紹介、労働者の募集又は労働者供給に当たり、求職者、募集に応じて労働者になろうとする者又は供給される労働者に対し、その者が従事すべき業務の内容及び賃金、労働時間その他の労働条件を明示しなければならない。\\n求人者は求人の申込みに当たり公共職業安定所、特定地方公共団体又は職業紹介事業者に対し、労働者供給を受けようとする者はあらかじめ労働者供給事業者に対し、それぞれ、求職者又は供給される労働者が従事すべき業務の内容及び賃金、労働時間その他の労働条件を明示しなければならない。'),\n",
       " Document(metadata={'article_name': '被保険者に関する届出', 'article_number': '第七条', 'chapter_name': '適用事業等', 'chapter_number': '第二章', 'division_name': '', 'division_number': '', 'document_source': 'https://laws.e-gov.go.jp/law/349AC0000000116', 'enactment_year': '令和6年10月1日 施行', 'law_name': '雇用保険法', 'law_number': '昭和四十九年法律第百十六号'}, page_content='昭和四十九年法律第百十六号\\u3000雇用保険法/第二章\\u3000適用事業等/第七条\\u3000被保険者に関する届出/事業主（徴収法第八条第一項又は第二項の規定により元請負人が事業主とされる場合にあつては、当該事業に係る労働者のうち元請負人が雇用する労働者以外の労働者については、当該労働者を雇用する下請負人。以下同じ。）は、厚生労働省令で定めるところにより、その雇用する労働者に関し、当該事業主の行う適用事業（同条第一項又は第二項の規定により数次の請負によつて行われる事業が一の事業とみなされる場合にあつては、当該事業に係る労働者のうち元請負人が雇用する労働者以外の労働者については、当該請負に係るそれぞれの事業。以下同じ。）に係る被保険者となつたこと、当該事業主の行う適用事業に係る被保険者でなくなつたことその他厚生労働省令で定める事項を厚生労働大臣に届け出なければならない。当該事業主から徴収法第三十三条第一項の委託を受けて同項に規定する労働保険事務の一部として前段の届出に関する事務を処理する同条第三項に規定する労働保険事務組合（以下「労働保険事務組合」という。）についても、同様とする。'),\n",
       " Document(metadata={'article_name': '外国人雇用状況の届出等', 'article_number': '第二十八条', 'chapter_name': '外国人の雇用管理の改善、再就職の促進等の措置', 'chapter_number': '第八章', 'division_name': '', 'division_number': '', 'document_source': 'https://laws.e-gov.go.jp/law/341AC0000000132', 'enactment_year': '令和6年6月10日 施行', 'law_name': '労働施策の総合的な推進並びに労働者の雇用の安定及び職業生活の充実等に関する法律', 'law_number': '昭和四十一年法律第百三十二号'}, page_content='昭和四十一年法律第百三十二号\\u3000労働施策の総合的な推進並びに労働者の雇用の安定及び職業生活の充実等に関する法律/第八章\\u3000外国人の雇用管理の改善、再就職の促進等の措置/第二十八条\\u3000外国人雇用状況の届出等/事業主は、新たに外国人を雇い入れた場合又はその雇用する外国人が離職した場合には、厚生労働省令で定めるところにより、その者の氏名並びに出入国管理及び難民認定法第二条の二第一項に規定する在留資格（以下この項及び次項において「在留資格」という。）及び同条第三項に規定する在留期間（その者が在留資格を有しない者であつて、同法第四十四条の五第一項又は第六十一条の二の七第二項の規定による許可を受けて報酬を受ける活動を行うものである場合にあつては、これらの許可を受けている旨）その他厚生労働省令で定める事項について確認し、当該事項を厚生労働大臣に届け出なければならない。\\n前項の規定による届出があつたときは、国は、次に掲げる措置を講ずることにより、当該届出に係る外国人の雇用管理の改善の促進又は再就職の促進に努めるものとする。'),\n",
       " Document(metadata={'article_name': '日雇特例被保険者に係る保険料の負担及び納付義務', 'article_number': '第百六十九条', 'chapter_name': '費用の負担', 'chapter_number': '第七章', 'division_name': '', 'division_number': '', 'document_source': 'https://laws.e-gov.go.jp/law/211AC0000000070', 'enactment_year': '令和6年12月2日 施行', 'law_name': '健康保険法', 'law_number': '大正十一年法律第七十号'}, page_content='日雇特例被保険者手帳を所持する日雇特例被保険者は、適用事業所に使用される日ごとに、その日雇特例被保険者手帳を事業主に提出しなければならない。\\n事業主は、日雇特例被保険者を使用する日ごとに、日雇特例被保険者にその所持する日雇特例被保険者手帳の提出を求めなければならない。\\n事業主は、第二項の規定により保険料を納付したときは、日雇特例被保険者の負担すべき保険料額に相当する額をその者に支払う賃金から控除することができる。この場合においては、事業主は、その旨を日雇特例被保険者に告げなければならない。\\n事業主は、日雇特例被保険者に対して賞与を支払った日の属する月の翌月末日までに、その者及び自己の負担すべきその日の賞与額に係る保険料を納付する義務を負う。\\n第百六十四条第二項及び第三項並びに第百六十六条の規定は前項の規定による保険料の納付について、第百六十七条第二項及び第三項の規定は日雇特例被保険者に対して通貨をもって賞与を支払う場合について準用する。'),\n",
       " Document(metadata={'article_name': '第十二条の七', 'article_number': '第十二条の七', 'chapter_name': '保険給付', 'chapter_number': '第三章', 'division_name': '', 'division_number': '', 'document_source': 'https://laws.e-gov.go.jp/law/322AC0000000050', 'enactment_year': '令和4年6月17日 施行', 'law_name': '労働者災害補償保険法', 'law_number': '昭和二十二年法律第五十号'}, page_content='昭和二十二年法律第五十号\\u3000労働者災害補償保険法/第三章\\u3000保険給付/第十二条の七/保険給付を受ける権利を有する者は、厚生労働省令で定めるところにより、政府に対して、保険給付に関し必要な厚生労働省令で定める事項を届け出、又は保険給付に関し必要な厚生労働省令で定める書類その他の物件を提出しなければならない。'),\n",
       " Document(metadata={'article_name': '印紙保険料の納付', 'article_number': '第二十三条', 'chapter_name': '労働保険料の納付の手続等', 'chapter_number': '第三章', 'division_name': '', 'division_number': '', 'document_source': 'https://laws.e-gov.go.jp/law/344AC0000000084', 'enactment_year': '令和6年10月1日 施行', 'law_name': '労働保険の保険料の徴収等に関する法律', 'law_number': '昭和四十四年法律第八十四号'}, page_content='昭和四十四年法律第八十四号\\u3000労働保険の保険料の徴収等に関する法律/第三章\\u3000労働保険料の納付の手続等/第二十三条\\u3000印紙保険料の納付/事業主（第八条第一項又は第二項の規定により元請負人が事業主とされる場合にあつては、当該事業に係る労働者のうち元請負人が使用する労働者以外の日雇労働被保険者に係る印紙保険料については、当該日雇労働被保険者を使用する下請負人。以下この条から第二十五条まで、第三十一条、第三十二条、第四十二条、第四十三条及び第四十六条において同じ。）は、日雇労働被保険者に賃金を支払う都度その者に係る印紙保険料を納付しなければならない。\\n前項の規定による印紙保険料の納付は、事業主が、雇用保険法第四十四条の規定により当該日雇労働被保険者に交付された日雇労働被保険者手帳（以下「日雇労働被保険者手帳」という。）に雇用保険印紙をはり、これに消印して行わなければならない。')]"
      ]
     },
     "execution_count": 25,
     "metadata": {},
     "output_type": "execute_result"
    }
   ],
   "source": [
    "retriever.get_relevant_documents(\"労働者として採用された者は、採用を通知された日から会社が指定する期日までに履歴書・職務経歴書、入社誓約書、個人情報保護法に基づく誓約書、住民票記載事項証明書、給与所得者の扶養控除等(異動)申告書、源泉徴収票、雇用契約書、年金手帳の写し、通勤手当申請書、住宅手当申請書、給与振込先申請書、身元保証書、雇用保険被保険者証の写し、マイナンバーカード又はマイナンバー通知書の写し、資格免許証の写し、健康診断結果、学生証の写し、パスポートの写しを提出しなければならない。\")"
   ]
  },
  {
   "cell_type": "code",
   "execution_count": 26,
   "metadata": {},
   "outputs": [
    {
     "name": "stdout",
     "output_type": "stream",
     "text": [
      "10\n",
      "9\n"
     ]
    }
   ],
   "source": [
    "import json\n",
    "\n",
    "# Đọc dữ liệu từ full_data.json\n",
    "fullxxx = [Document(metadata={'article_name': '労働条件等の明示', 'article_number': '第五条の三', 'chapter_name': '総則', 'chapter_number': '第一章', 'division_name': '', 'division_number': '', 'document_source': 'https://laws.e-gov.go.jp/law/322AC0000000141', 'enactment_year': '令和4年10月1日 施行', 'law_name': '職業安定法', 'law_number': '昭和二十二年法律第百四十一号'}, page_content='求人者、労働者の募集を行う者及び労働者供給を受けようとする者（供給される労働者を雇用する場合に限る。）は、それぞれ、求人の申込みをした公共職業安定所、特定地方公共団体若しくは職業紹介事業者の紹介による求職者、募集に応じて労働者になろうとする者又は供給される労働者と労働契約を締結しようとする場合であつて、これらの者に対して第一項の規定により明示された従事すべき業務の内容及び賃金、労働時間その他の労働条件（以下この項において「従事すべき業務の内容等」という。）を変更する場合その他厚生労働省令で定める場合は、当該契約の相手方となろうとする者に対し、当該変更する従事すべき業務の内容等その他厚生労働省令で定める事項を明示しなければならない。\\n前三項の規定による明示は、賃金及び労働時間に関する事項その他の厚生労働省令で定める事項については、厚生労働省令で定める方法により行わなければならない。'),\n",
    " Document(metadata={'article_name': '労働者名簿', 'article_number': '第百七条', 'chapter_name': '雑則', 'chapter_number': '第十二章', 'division_name': '', 'division_number': '', 'document_source': 'https://laws.e-gov.go.jp/law/322AC0000000049', 'enactment_year': '令和6年5月31日 施行', 'law_name': '労働基準法', 'law_number': '昭和二十二年法律第四十九号'}, page_content='昭和二十二年法律第四十九号\\u3000労働基準法/第十二章\\u3000雑則/第百七条\\u3000労働者名簿/使用者は、各事業場ごとに労働者名簿を、各労働者（日日雇い入れられる者を除く。）について調製し、労働者の氏名、生年月日、履歴その他厚生労働省令で定める事項を記入しなければならない。\\n前項の規定により記入すべき事項に変更があつた場合においては、遅滞なく訂正しなければならない。'),\n",
    " Document(metadata={'article_name': '労働者名簿', 'article_number': '第百七条', 'chapter_name': '雑則', 'chapter_number': '第十二章', 'division_name': '', 'division_number': '', 'document_source': 'https://laws.e-gov.go.jp/law/322AC0000000049', 'enactment_year': '令和6年5月31日 施行', 'law_name': '労働基準法', 'law_number': '昭和二十二年法律第四十九号'}, page_content='昭和二十二年法律第四十九号\\u3000労働基準法/第十二章\\u3000雑則/第百七条\\u3000労働者名簿/使用者は、各事業場ごとに労働者名簿を、各労働者（日日雇い入れられる者を除く。）について調製し、労働者の氏名、生年月日、履歴その他厚生労働省令で定める事項を記入しなければならない。\\n前項の規定により記入すべき事項に変更があつた場合においては、遅滞なく訂正しなければならない。'),\n",
    " Document(metadata={'article_name': '所定給付日数', 'article_number': '第二十二条', 'chapter_name': '失業等給付', 'chapter_number': '第三章', 'division_name': '一般被保険者の求職者給付', 'division_number': '第二節', 'document_source': 'https://laws.e-gov.go.jp/law/349AC0000000116', 'enactment_year': '令和6年10月1日 施行', 'law_name': '雇用保険法', 'law_number': '昭和四十九年法律第百十六号'}, page_content='一の被保険者であつた期間に関し、被保険者となつた日が第九条の規定による被保険者となつたことの確認があつた日の二年前の日より前であるときは、当該確認のあつた日の二年前の日に当該被保険者となつたものとみなして、前項の規定による算定を行うものとする。\\n次に掲げる要件のいずれにも該当する者（第一号に規定する事実を知つていた者を除く。）に対する前項の規定の適用については、同項中「当該確認のあつた日の二年前の日」とあるのは、「次項第二号に規定する被保険者の負担すべき額に相当する額がその者に支払われた賃金から控除されていたことが明らかである時期のうち最も古い時期として厚生労働省令で定める日」とする。\\n一\\u3000その者に係る第七条の規定による届出がされていなかつたこと。\\n二\\u3000厚生労働省令で定める書類に基づき、第九条の規定による被保険者となつたことの確認があつた日の二年前の日より前に徴収法第三十二条第一項の規定により被保険者の負担すべき額に相当する額がその者に支払われた賃金から控除されていたことが明らかである時期があること。'),\n",
    " Document(metadata={'article_name': '労働条件等の明示', 'article_number': '第五条の三', 'chapter_name': '総則', 'chapter_number': '第一章', 'division_name': '', 'division_number': '', 'document_source': 'https://laws.e-gov.go.jp/law/322AC0000000141', 'enactment_year': '令和4年10月1日 施行', 'law_name': '職業安定法', 'law_number': '昭和二十二年法律第百四十一号'}, page_content='昭和二十二年法律第百四十一号\\u3000職業安定法/第一章\\u3000総則/第五条の三\\u3000労働条件等の明示/公共職業安定所、特定地方公共団体及び職業紹介事業者、労働者の募集を行う者及び募集受託者並びに労働者供給事業者は、それぞれ、職業紹介、労働者の募集又は労働者供給に当たり、求職者、募集に応じて労働者になろうとする者又は供給される労働者に対し、その者が従事すべき業務の内容及び賃金、労働時間その他の労働条件を明示しなければならない。\\n求人者は求人の申込みに当たり公共職業安定所、特定地方公共団体又は職業紹介事業者に対し、労働者供給を受けようとする者はあらかじめ労働者供給事業者に対し、それぞれ、求職者又は供給される労働者が従事すべき業務の内容及び賃金、労働時間その他の労働条件を明示しなければならない。'),\n",
    " Document(metadata={'article_name': '被保険者に関する届出', 'article_number': '第七条', 'chapter_name': '適用事業等', 'chapter_number': '第二章', 'division_name': '', 'division_number': '', 'document_source': 'https://laws.e-gov.go.jp/law/349AC0000000116', 'enactment_year': '令和6年10月1日 施行', 'law_name': '雇用保険法', 'law_number': '昭和四十九年法律第百十六号'}, page_content='昭和四十九年法律第百十六号\\u3000雇用保険法/第二章\\u3000適用事業等/第七条\\u3000被保険者に関する届出/事業主（徴収法第八条第一項又は第二項の規定により元請負人が事業主とされる場合にあつては、当該事業に係る労働者のうち元請負人が雇用する労働者以外の労働者については、当該労働者を雇用する下請負人。以下同じ。）は、厚生労働省令で定めるところにより、その雇用する労働者に関し、当該事業主の行う適用事業（同条第一項又は第二項の規定により数次の請負によつて行われる事業が一の事業とみなされる場合にあつては、当該事業に係る労働者のうち元請負人が雇用する労働者以外の労働者については、当該請負に係るそれぞれの事業。以下同じ。）に係る被保険者となつたこと、当該事業主の行う適用事業に係る被保険者でなくなつたことその他厚生労働省令で定める事項を厚生労働大臣に届け出なければならない。当該事業主から徴収法第三十三条第一項の委託を受けて同項に規定する労働保険事務の一部として前段の届出に関する事務を処理する同条第三項に規定する労働保険事務組合（以下「労働保険事務組合」という。）についても、同様とする。'),\n",
    " Document(metadata={'article_name': '外国人雇用状況の届出等', 'article_number': '第二十八条', 'chapter_name': '外国人の雇用管理の改善、再就職の促進等の措置', 'chapter_number': '第八章', 'division_name': '', 'division_number': '', 'document_source': 'https://laws.e-gov.go.jp/law/341AC0000000132', 'enactment_year': '令和6年6月10日 施行', 'law_name': '労働施策の総合的な推進並びに労働者の雇用の安定及び職業生活の充実等に関する法律', 'law_number': '昭和四十一年法律第百三十二号'}, page_content='昭和四十一年法律第百三十二号\\u3000労働施策の総合的な推進並びに労働者の雇用の安定及び職業生活の充実等に関する法律/第八章\\u3000外国人の雇用管理の改善、再就職の促進等の措置/第二十八条\\u3000外国人雇用状況の届出等/事業主は、新たに外国人を雇い入れた場合又はその雇用する外国人が離職した場合には、厚生労働省令で定めるところにより、その者の氏名並びに出入国管理及び難民認定法第二条の二第一項に規定する在留資格（以下この項及び次項において「在留資格」という。）及び同条第三項に規定する在留期間（その者が在留資格を有しない者であつて、同法第四十四条の五第一項又は第六十一条の二の七第二項の規定による許可を受けて報酬を受ける活動を行うものである場合にあつては、これらの許可を受けている旨）その他厚生労働省令で定める事項について確認し、当該事項を厚生労働大臣に届け出なければならない。\\n前項の規定による届出があつたときは、国は、次に掲げる措置を講ずることにより、当該届出に係る外国人の雇用管理の改善の促進又は再就職の促進に努めるものとする。'),\n",
    " Document(metadata={'article_name': '日雇特例被保険者に係る保険料の負担及び納付義務', 'article_number': '第百六十九条', 'chapter_name': '費用の負担', 'chapter_number': '第七章', 'division_name': '', 'division_number': '', 'document_source': 'https://laws.e-gov.go.jp/law/211AC0000000070', 'enactment_year': '令和6年12月2日 施行', 'law_name': '健康保険法', 'law_number': '大正十一年法律第七十号'}, page_content='日雇特例被保険者手帳を所持する日雇特例被保険者は、適用事業所に使用される日ごとに、その日雇特例被保険者手帳を事業主に提出しなければならない。\\n事業主は、日雇特例被保険者を使用する日ごとに、日雇特例被保険者にその所持する日雇特例被保険者手帳の提出を求めなければならない。\\n事業主は、第二項の規定により保険料を納付したときは、日雇特例被保険者の負担すべき保険料額に相当する額をその者に支払う賃金から控除することができる。この場合においては、事業主は、その旨を日雇特例被保険者に告げなければならない。\\n事業主は、日雇特例被保険者に対して賞与を支払った日の属する月の翌月末日までに、その者及び自己の負担すべきその日の賞与額に係る保険料を納付する義務を負う。\\n第百六十四条第二項及び第三項並びに第百六十六条の規定は前項の規定による保険料の納付について、第百六十七条第二項及び第三項の規定は日雇特例被保険者に対して通貨をもって賞与を支払う場合について準用する。'),\n",
    " Document(metadata={'article_name': '第十二条の七', 'article_number': '第十二条の七', 'chapter_name': '保険給付', 'chapter_number': '第三章', 'division_name': '', 'division_number': '', 'document_source': 'https://laws.e-gov.go.jp/law/322AC0000000050', 'enactment_year': '令和4年6月17日 施行', 'law_name': '労働者災害補償保険法', 'law_number': '昭和二十二年法律第五十号'}, page_content='昭和二十二年法律第五十号\\u3000労働者災害補償保険法/第三章\\u3000保険給付/第十二条の七/保険給付を受ける権利を有する者は、厚生労働省令で定めるところにより、政府に対して、保険給付に関し必要な厚生労働省令で定める事項を届け出、又は保険給付に関し必要な厚生労働省令で定める書類その他の物件を提出しなければならない。'),\n",
    " Document(metadata={'article_name': '印紙保険料の納付', 'article_number': '第二十三条', 'chapter_name': '労働保険料の納付の手続等', 'chapter_number': '第三章', 'division_name': '', 'division_number': '', 'document_source': 'https://laws.e-gov.go.jp/law/344AC0000000084', 'enactment_year': '令和6年10月1日 施行', 'law_name': '労働保険の保険料の徴収等に関する法律', 'law_number': '昭和四十四年法律第八十四号'}, page_content='昭和四十四年法律第八十四号\\u3000労働保険の保険料の徴収等に関する法律/第三章\\u3000労働保険料の納付の手続等/第二十三条\\u3000印紙保険料の納付/事業主（第八条第一項又は第二項の規定により元請負人が事業主とされる場合にあつては、当該事業に係る労働者のうち元請負人が使用する労働者以外の日雇労働被保険者に係る印紙保険料については、当該日雇労働被保険者を使用する下請負人。以下この条から第二十五条まで、第三十一条、第三十二条、第四十二条、第四十三条及び第四十六条において同じ。）は、日雇労働被保険者に賃金を支払う都度その者に係る印紙保険料を納付しなければならない。\\n前項の規定による印紙保険料の納付は、事業主が、雇用保険法第四十四条の規定により当該日雇労働被保険者に交付された日雇労働被保険者手帳（以下「日雇労働被保険者手帳」という。）に雇用保険印紙をはり、これに消印して行わなければならない。')]\n",
    "\n",
    "print(len(fullxxx))\n",
    "# Loại bỏ các tài liệu trùng lặp hoàn toàn\n",
    "unique_data = []\n",
    "seen = set()\n",
    "\n",
    "for item in fullxxx:\n",
    "    item_str = str(item)\n",
    "    if item_str not in seen:\n",
    "        seen.add(item_str)\n",
    "        unique_data.append(item)\n",
    "\n",
    "print(len(unique_data))\n"
   ]
  },
  {
   "cell_type": "markdown",
   "metadata": {},
   "source": [
    "### Main"
   ]
  },
  {
   "cell_type": "code",
   "execution_count": 27,
   "metadata": {},
   "outputs": [
    {
     "name": "stdout",
     "output_type": "stream",
     "text": [
      "{'Labor_Laws': ['昭和二十二年法律第四十九号\\u3000労働基準法', '平成十九年法律第百二十八号\\u3000労働契約法', '昭和四十一年法律第百三十二号\\u3000労働施策の総合的な推進並びに労働者の雇用の安定及び職業生活の充実等に関する法律', '昭和四十四年法律第八十四号\\u3000労働保険の保険料の徴収等に関する法律', '昭和四十六年法律第六十八号\\u3000高年齢者等の雇用の安定等に関する法律', '昭和二十二年法律第百八十五号\\u3000農業保険法', '昭和二十五年法律第四十七号\\u3000社会保険医療協議会法', '昭和二十八年法律第二百六号\\u3000社会保険審査官及び社会保険審査会法', '昭和二十九年法律第百十五号\\u3000厚生年金保険法', '昭和三十四年法律第百二十一号\\u3000特許法', '昭和三十四年法律第百六十号\\u3000中小企業退職金共済法', '昭和四十一年法律第五十二号\\u3000最高裁判所裁判官退職手当特例法', '昭和四十五年法律第六十号\\u3000家内労働法', '昭和四十六年法律第七十七号\\u3000公立の義務教育諸学校等の教育職員の給与等に関する特別措置法', '平成三年法律第七十六号\\u3000育児休業、介護休業等育児又は家族介護を行う労働者の福祉に関する法律', '平成四年法律第九十号\\u3000労働時間等の設定の改善に関する特別措置法', '平成九年法律第六十五号\\u3000一般職の任期付研究員の採用、給与及び勤務時間の特例に関する法律', '平成十二年法律第百三号\\u3000会社分割に伴う労働契約の承継等に関する法律', '平成十五年法律第六十号\\u3000情報公開・個人情報保護審査会設置法', '平成二十四年法律第二号\\u3000国家公務員の給与の改定及び臨時特例に関する法律\\u3000抄', '平成二十五年法律第九十一号\\u3000裁判官の配偶者同行休業に関する法律', '平成二十六年法律第百三十七号\\u3000専門的知識等を有する有期雇用労働者等に関する特別措置法', '平成二十五年法律第八十号\\u3000国会職員の配偶者同行休業に関する法律', '昭和四十七年法律第百十三号\\u3000雇用の分野における男女の均等な機会及び待遇の確保等に関する法律', '昭和四十七年法律第五十七号\\u3000労働安全衛生法', '昭和三十四年法律第百三十七号\\u3000最低賃金法', '昭和五十一年法律第三十四号\\u3000賃金の支払の確保等に関する法律', '平成五年法律第七十六号\\u3000短時間労働者及び有期雇用労働者の雇用管理の改善等に関する法律', '昭和二十二年法律第五十号\\u3000労働者災害補償保険法', '昭和四十九年法律第百十六号\\u3000雇用保険法', '昭和二十二年法律第百四十一号\\u3000職業安定法'], 'Social_Security_and_Insurance_Laws': ['昭和二十三年法律第百二十九号\\u3000社会保険診療報酬支払基金法', '昭和二十五年法律第二百五十六号\\u3000旧令による共済組合等からの年金受給者のための特別措置法', '昭和二十七年法律第百十七号\\u3000公務員等の懲戒免除等に関する法律', '昭和二十八年法律第百八十二号\\u3000国家公務員退職手当法', '昭和二十九年法律第六十四号\\u3000刑事訴訟法第百九十四条に基く懲戒処分に関する法律', '昭和三十四年法律第百四十一号\\u3000国民年金法', '昭和三十九年法律第百十八号\\u3000労働災害防止団体法', '昭和四十四年法律第八十五号\\u3000失業保険法及び労働者災害補償保険法の一部を改正する法律及び労働保険の保険料の徴収等に関する法律の施行に伴う関係法律の整備等に関する法律\\u3000抄', '平成十九年法律第百九号\\u3000日本年金機構法', '平成十九年法律第百四号\\u3000社会保障協定の実施に伴う厚生年金保険法等の特例等に関する法律', '平成三年法律第百十号\\u3000地方公務員の育児休業等に関する法律', '平成二十四年法律第二号\\u3000国家公務員の給与の改定及び臨時特例に関する法律\\u3000抄', '大正十一年法律第七十号\\u3000健康保険法', '昭和三十六年法律第百五十五号\\u3000社会福祉施設職員等退職手当共済法', '昭和三十九年法律第百五十八号\\u3000漁業災害補償法', '昭和四十二年法律第百二十一号\\u3000地方公務員災害補償法', '昭和三十一年法律第百七号\\u3000消防団員等公務災害補償等責任共済等に関する法律', '昭和四十年法律第百一号\\u3000昭和四十年度における旧令による共済組合等からの年金受給者のための特別措置法等の規定による年金の額の改定に関する法律', '昭和三十年法律第六十八号\\u3000昭和二十七年九月三十日以前に給与事由の生じた旧財団法人私学恩給財団の年金の特別措置に関する法律', '昭和二十八年法律第百六十号\\u3000昭和二十七年度における給与の改訂に伴う国家公務員共済組合法等の規定による年金の額の改定に関する法律', '昭和三十三年法律第百二十六号\\u3000旧令による共済組合等からの年金受給者のための特別措置法等の規定による年金の額の改定に関する法律'], 'Public_Service_and_Government_Laws': ['昭和二十二年法律第四十九号\\u3000労働基準法', '昭和二十五年法律第六十二号\\u3000退職職員に支給する退職手当支給の財源に充てるための特別会計からする一般会計への繰入れに関する法律', '昭和二十七年法律第九十三号\\u3000在外公館の名称及び位置並びに在外公館に勤務する外務公務員の給与に関する法律', '昭和三十四年法律第百四十一号\\u3000国民年金法', '昭和四十一年法律第五十二号\\u3000最高裁判所裁判官退職手当特例法', '昭和四十三年法律第八十九号\\u3000社会保険労務士法', '昭和四十四年法律第八十四号\\u3000労働保険の保険料の徴収等に関する法律', '昭和四十五年法律第六十号\\u3000家内労働法', '平成三年法律第百十一号\\u3000裁判官の育児休業に関する法律', '平成四年法律第九十号\\u3000労働時間等の設定の改善に関する特別措置法', '平成十二年法律第百二十五号\\u3000一般職の任期付職員の採用及び給与の特例に関する法律', '平成十四年法律第四十八号\\u3000地方公共団体の一般職の任期付職員の採用に関する法律', '平成二十五年法律第八十号\\u3000国会職員の配偶者同行休業に関する法律', '昭和二十五年法律第九十五号\\u3000一般職の職員の給与に関する法律', '昭和二十六年法律第百九十一号\\u3000国家公務員災害補償法', '昭和二十七年法律第二百六十六号\\u3000防衛省の職員の給与等に関する法律', '昭和二十四年法律第二百五十二号\\u3000特別職の職員の給与に関する法律', '昭和六十三年法律第百五号\\u3000国会に置かれる機関の休日に関する法律', '平成二年法律第四十九号\\u3000国会議員の秘書の給与等に関する法律'], 'Education_and_Research_Laws': ['昭和二十三年法律第百三十五号\\u3000市町村立学校職員給与負担法', '昭和二十六年法律第三百八号\\u3000昭和二十六年度における給与の改訂に伴う国家公務員共済組合法の規定による年金の額の改定に関する法律', '昭和三十二年法律第六十五号\\u3000公衆衛生修学資金貸与法', '昭和三十四年法律第百二十一号\\u3000特許法', '平成三年法律第百八号\\u3000国会職員の育児休業等に関する法律', '平成十二年法律第五十一号\\u3000地方公共団体の一般職の任期付研究員の採用等に関する法律'], 'Health_and_Welfare_Laws': ['昭和二十三年法律第百二十九号\\u3000社会保険診療報酬支払基金法', '昭和二十五年法律第四十七号\\u3000社会保険医療協議会法', '昭和二十九年法律第百十五号\\u3000厚生年金保険法', '昭和三十四年法律第百四十一号\\u3000国民年金法', '昭和三十九年法律第百十八号\\u3000労働災害防止団体法', '平成三年法律第七十六号\\u3000育児休業、介護休業等育児又は家族介護を行う労働者の福祉に関する法律', '平成十五年法律第六十号\\u3000情報公開・個人情報保護審査会設置法'], 'Judicial_and_Legal_System_Laws': ['昭和二十二年法律第四十九号\\u3000労働基準法', '昭和二十七年法律第百十七号\\u3000公務員等の懲戒免除等に関する法律', '昭和二十九年法律第六十四号\\u3000刑事訴訟法第百九十四条に基く懲戒処分に関する法律', '平成三年法律第百十一号\\u3000裁判官の育児休業に関する法律', '平成二十五年法律第九十一号\\u3000裁判官の配偶者同行休業に関する法律', '昭和六十三年法律第九十三号\\u3000裁判所の休日に関する法律'], 'Miscellaneous_Laws': ['昭和八年法律第四十二号\\u3000昭和八年法律第四十二号（身元保証ニ関スル法律）', '昭和二十六年法律第四十五号\\u3000社会福祉法', '昭和三十一年法律第百四十九号\\u3000昭和二十三年六月三十日以前に給与事由の生じた恩給等の年額の改定に関する法律', '昭和三十六年法律第二十三号\\u3000矯正医官修学資金貸与法', '昭和三十七年法律第百十六号\\u3000昭和三十七年度における旧令による共済組合等からの年金受給者のための特別措置法等の規定による年金の額の改定に関する法律', '昭和四十四年法律第八十五号\\u3000失業保険法及び労働者災害補償保険法の一部を改正する法律及び労働保険の保険料の徴収等に関する法律の施行に伴う関係法律の整備等に関する法律\\u3000抄', '平成十六年法律第百二十二号\\u3000公益通報者保護法', '平成二十四年法律第二号\\u3000国家公務員の給与の改定及び臨時特例に関する法律\\u3000抄', '昭和六十三年法律第九十一号\\u3000行政機関の休日に関する法律', '平成十五年法律第五十七号\\u3000個人情報の保護に関する法律', '昭和二十一年憲法\\u3000日本国憲法', '昭和三十二年法律第百四十三号\\u3000公立学校の学校医、学校歯科医及び学校薬剤師の公務災害補償に関する法律']}\n"
     ]
    }
   ],
   "source": [
    "# Đọc file json chứa danh sách các lawid của các route (nhóm luật) tương ứng\n",
    "import json\n",
    "with open(\"./laws_grouping_110225.json\", \"r\", encoding=\"utf-8\") as f:\n",
    "    route_lawids = json.load(f)\n",
    "\n",
    "route_lawids_dict = {}\n",
    "for route in route_lawids:\n",
    "    id_route = route[\"category\"].replace(\" \", \"_\")\n",
    "    route_lawids_dict[id_route] = route[\"laws\"]\n",
    "\n",
    "print(route_lawids_dict)"
   ]
  },
  {
   "cell_type": "code",
   "execution_count": 28,
   "metadata": {},
   "outputs": [
    {
     "name": "stdout",
     "output_type": "stream",
     "text": [
      "Đã tạo retriever cho Labor_Laws tại chroma_db/labor_laws\n",
      "Đã tạo retriever cho Social_Security_and_Insurance_Laws tại chroma_db/social_security\n",
      "Đã tạo retriever cho Public_Service_and_Government_Laws tại chroma_db/public_service\n",
      "Đã tạo retriever cho Education_and_Research_Laws tại chroma_db/education\n",
      "Đã tạo retriever cho Health_and_Welfare_Laws tại chroma_db/health\n",
      "Đã tạo retriever cho Judicial_and_Legal_System_Laws tại chroma_db/judicial\n",
      "Đã tạo retriever cho Miscellaneous_Laws tại chroma_db/miscellaneous\n"
     ]
    }
   ],
   "source": [
    "from langchain.vectorstores import Chroma\n",
    "\n",
    "retrievers_dict = {}\n",
    "\n",
    "# Danh sách các route và thư mục tương ứng\n",
    "route_directories = {\n",
    "    \"Labor_Laws\": \"chroma_db/labor_laws\",\n",
    "    \"Social_Security_and_Insurance_Laws\": \"chroma_db/social_security\",\n",
    "    \"Public_Service_and_Government_Laws\": \"chroma_db/public_service\",\n",
    "    \"Education_and_Research_Laws\": \"chroma_db/education\",\n",
    "    \"Health_and_Welfare_Laws\": \"chroma_db/health\",\n",
    "    \"Judicial_and_Legal_System_Laws\": \"chroma_db/judicial\",\n",
    "    \"Miscellaneous_Laws\": \"chroma_db/miscellaneous\"\n",
    "}\n",
    "\n",
    "# Tạo vector store cho từng nhóm luật\n",
    "for route, directory in route_directories.items():\n",
    "    # Lấy các tài liệu tương ứng\n",
    "    route_docs = [doc for doc in docs if doc.metadata[\"law_number\"] + \"　\" + doc.metadata[\"law_name\"] in route_lawids_dict[route]]\n",
    "    \n",
    "    # Nếu không có tài liệu thì bỏ qua\n",
    "    if not route_docs:\n",
    "        print(f\"Không có tài liệu cho {route}\")\n",
    "        continue\n",
    "    \n",
    "    # Chia nhỏ văn bản\n",
    "    route_chunks = text_splitter.split_documents(route_docs)\n",
    "    \n",
    "    # Tạo vector store với thư mục riêng biệt\n",
    "    chromaa = Chroma()\n",
    "    route_vector_store = chromaa.from_documents(documents=route_chunks, \n",
    "                                               embedding=embedding_function,\n",
    "                                               persist_directory=directory)\n",
    "    \n",
    "    # Tạo retriever cho nhóm luật\n",
    "    retrievers_dict[route] = route_vector_store.as_retriever(search_kwargs={\"k\": 50})\n",
    "    print(f\"Đã tạo retriever cho {route} tại {directory}\")\n",
    "\n",
    "    # Dọn bộ nhớ\n",
    "    del route_docs, route_chunks, route_vector_store\n"
   ]
  },
  {
   "cell_type": "code",
   "execution_count": 29,
   "metadata": {},
   "outputs": [
    {
     "name": "stdout",
     "output_type": "stream",
     "text": [
      "Labor Laws: [{'article_name': '第七条', 'article_number': '第七条', 'chapter_name': '労働契約の成立及び変更', 'chapter_number': '第二章', 'division_name': '', 'division_number': '', 'document_source': 'https://laws.e-gov.go.jp/law/419AC0000000128', 'enactment_year': '令和2年4月1日 施行', 'law_name': '労働契約法', 'law_number': '平成十九年法律第百二十八号'}, {'article_name': '第七条', 'article_number': '第七条', 'chapter_name': '労働契約の成立及び変更', 'chapter_number': '第二章', 'division_name': '', 'division_number': '', 'document_source': 'https://laws.e-gov.go.jp/law/419AC0000000128', 'enactment_year': '令和2年4月1日 施行', 'law_name': '労働契約法', 'law_number': '平成十九年法律第百二十八号'}, {'article_name': '第七条', 'article_number': '第七条', 'chapter_name': '労働契約の成立及び変更', 'chapter_number': '第二章', 'division_name': '', 'division_number': '', 'document_source': 'https://laws.e-gov.go.jp/law/419AC0000000128', 'enactment_year': '令和2年4月1日 施行', 'law_name': '労働契約法', 'law_number': '平成十九年法律第百二十八号'}, {'article_name': '第七条', 'article_number': '第七条', 'chapter_name': '労働契約の成立及び変更', 'chapter_number': '第二章', 'division_name': '', 'division_number': '', 'document_source': 'https://laws.e-gov.go.jp/law/419AC0000000128', 'enactment_year': '令和2年4月1日 施行', 'law_name': '労働契約法', 'law_number': '平成十九年法律第百二十八号'}, {'article_name': '第七条', 'article_number': '第七条', 'chapter_name': '労働契約の成立及び変更', 'chapter_number': '第二章', 'division_name': '', 'division_number': '', 'document_source': 'https://laws.e-gov.go.jp/law/419AC0000000128', 'enactment_year': '令和2年4月1日 施行', 'law_name': '労働契約法', 'law_number': '平成十九年法律第百二十八号'}, {'article_name': '第七条', 'article_number': '第七条', 'chapter_name': '労働契約の成立及び変更', 'chapter_number': '第二章', 'division_name': '', 'division_number': '', 'document_source': 'https://laws.e-gov.go.jp/law/419AC0000000128', 'enactment_year': '令和2年4月1日 施行', 'law_name': '労働契約法', 'law_number': '平成十九年法律第百二十八号'}, {'article_name': '第七条', 'article_number': '第七条', 'chapter_name': '労働契約の成立及び変更', 'chapter_number': '第二章', 'division_name': '', 'division_number': '', 'document_source': 'https://laws.e-gov.go.jp/law/419AC0000000128', 'enactment_year': '令和2年4月1日 施行', 'law_name': '労働契約法', 'law_number': '平成十九年法律第百二十八号'}, {'article_name': '第七条', 'article_number': '第七条', 'chapter_name': '労働契約の成立及び変更', 'chapter_number': '第二章', 'division_name': '', 'division_number': '', 'document_source': 'https://laws.e-gov.go.jp/law/419AC0000000128', 'enactment_year': '令和2年4月1日 施行', 'law_name': '労働契約法', 'law_number': '平成十九年法律第百二十八号'}, {'article_name': '第七条', 'article_number': '第七条', 'chapter_name': '労働契約の成立及び変更', 'chapter_number': '第二章', 'division_name': '', 'division_number': '', 'document_source': 'https://laws.e-gov.go.jp/law/419AC0000000128', 'enactment_year': '令和2年4月1日 施行', 'law_name': '労働契約法', 'law_number': '平成十九年法律第百二十八号'}, {'article_name': '第七条', 'article_number': '第七条', 'chapter_name': '労働契約の成立及び変更', 'chapter_number': '第二章', 'division_name': '', 'division_number': '', 'document_source': 'https://laws.e-gov.go.jp/law/419AC0000000128', 'enactment_year': '令和2年4月1日 施行', 'law_name': '労働契約法', 'law_number': '平成十九年法律第百二十八号'}, {'article_name': '第七条', 'article_number': '第七条', 'chapter_name': '労働契約の成立及び変更', 'chapter_number': '第二章', 'division_name': '', 'division_number': '', 'document_source': 'https://laws.e-gov.go.jp/law/419AC0000000128', 'enactment_year': '令和2年4月1日 施行', 'law_name': '労働契約法', 'law_number': '平成十九年法律第百二十八号'}, {'article_name': '第七条', 'article_number': '第七条', 'chapter_name': '労働契約の成立及び変更', 'chapter_number': '第二章', 'division_name': '', 'division_number': '', 'document_source': 'https://laws.e-gov.go.jp/law/419AC0000000128', 'enactment_year': '令和2年4月1日 施行', 'law_name': '労働契約法', 'law_number': '平成十九年法律第百二十八号'}, {'article_name': '第七条', 'article_number': '第七条', 'chapter_name': '労働契約の成立及び変更', 'chapter_number': '第二章', 'division_name': '', 'division_number': '', 'document_source': 'https://laws.e-gov.go.jp/law/419AC0000000128', 'enactment_year': '令和2年4月1日 施行', 'law_name': '労働契約法', 'law_number': '平成十九年法律第百二十八号'}, {'article_name': '第七条', 'article_number': '第七条', 'chapter_name': '労働契約の成立及び変更', 'chapter_number': '第二章', 'division_name': '', 'division_number': '', 'document_source': 'https://laws.e-gov.go.jp/law/419AC0000000128', 'enactment_year': '令和2年4月1日 施行', 'law_name': '労働契約法', 'law_number': '平成十九年法律第百二十八号'}, {'article_name': '労働契約との関係', 'article_number': '第九十三条', 'chapter_name': '就業規則', 'chapter_number': '第九章', 'division_name': '', 'division_number': '', 'document_source': 'https://laws.e-gov.go.jp/law/322AC0000000049', 'enactment_year': '令和6年5月31日 施行', 'law_name': '労働基準法', 'law_number': '昭和二十二年法律第四十九号'}, {'article_name': '労働契約との関係', 'article_number': '第九十三条', 'chapter_name': '就業規則', 'chapter_number': '第九章', 'division_name': '', 'division_number': '', 'document_source': 'https://laws.e-gov.go.jp/law/322AC0000000049', 'enactment_year': '令和6年5月31日 施行', 'law_name': '労働基準法', 'law_number': '昭和二十二年法律第四十九号'}, {'article_name': '労働契約との関係', 'article_number': '第九十三条', 'chapter_name': '就業規則', 'chapter_number': '第九章', 'division_name': '', 'division_number': '', 'document_source': 'https://laws.e-gov.go.jp/law/322AC0000000049', 'enactment_year': '令和6年5月31日 施行', 'law_name': '労働基準法', 'law_number': '昭和二十二年法律第四十九号'}, {'article_name': '労働契約との関係', 'article_number': '第九十三条', 'chapter_name': '就業規則', 'chapter_number': '第九章', 'division_name': '', 'division_number': '', 'document_source': 'https://laws.e-gov.go.jp/law/322AC0000000049', 'enactment_year': '令和6年5月31日 施行', 'law_name': '労働基準法', 'law_number': '昭和二十二年法律第四十九号'}, {'article_name': '労働契約との関係', 'article_number': '第九十三条', 'chapter_name': '就業規則', 'chapter_number': '第九章', 'division_name': '', 'division_number': '', 'document_source': 'https://laws.e-gov.go.jp/law/322AC0000000049', 'enactment_year': '令和6年5月31日 施行', 'law_name': '労働基準法', 'law_number': '昭和二十二年法律第四十九号'}, {'article_name': '労働契約との関係', 'article_number': '第九十三条', 'chapter_name': '就業規則', 'chapter_number': '第九章', 'division_name': '', 'division_number': '', 'document_source': 'https://laws.e-gov.go.jp/law/322AC0000000049', 'enactment_year': '令和6年5月31日 施行', 'law_name': '労働基準法', 'law_number': '昭和二十二年法律第四十九号'}, {'article_name': '労働契約との関係', 'article_number': '第九十三条', 'chapter_name': '就業規則', 'chapter_number': '第九章', 'division_name': '', 'division_number': '', 'document_source': 'https://laws.e-gov.go.jp/law/322AC0000000049', 'enactment_year': '令和6年5月31日 施行', 'law_name': '労働基準法', 'law_number': '昭和二十二年法律第四十九号'}, {'article_name': '労働契約との関係', 'article_number': '第九十三条', 'chapter_name': '就業規則', 'chapter_number': '第九章', 'division_name': '', 'division_number': '', 'document_source': 'https://laws.e-gov.go.jp/law/322AC0000000049', 'enactment_year': '令和6年5月31日 施行', 'law_name': '労働基準法', 'law_number': '昭和二十二年法律第四十九号'}, {'article_name': '労働契約との関係', 'article_number': '第九十三条', 'chapter_name': '就業規則', 'chapter_number': '第九章', 'division_name': '', 'division_number': '', 'document_source': 'https://laws.e-gov.go.jp/law/322AC0000000049', 'enactment_year': '令和6年5月31日 施行', 'law_name': '労働基準法', 'law_number': '昭和二十二年法律第四十九号'}, {'article_name': '労働契約との関係', 'article_number': '第九十三条', 'chapter_name': '就業規則', 'chapter_number': '第九章', 'division_name': '', 'division_number': '', 'document_source': 'https://laws.e-gov.go.jp/law/322AC0000000049', 'enactment_year': '令和6年5月31日 施行', 'law_name': '労働基準法', 'law_number': '昭和二十二年法律第四十九号'}, {'article_name': '労働契約との関係', 'article_number': '第九十三条', 'chapter_name': '就業規則', 'chapter_number': '第九章', 'division_name': '', 'division_number': '', 'document_source': 'https://laws.e-gov.go.jp/law/322AC0000000049', 'enactment_year': '令和6年5月31日 施行', 'law_name': '労働基準法', 'law_number': '昭和二十二年法律第四十九号'}, {'article_name': '労働契約との関係', 'article_number': '第九十三条', 'chapter_name': '就業規則', 'chapter_number': '第九章', 'division_name': '', 'division_number': '', 'document_source': 'https://laws.e-gov.go.jp/law/322AC0000000049', 'enactment_year': '令和6年5月31日 施行', 'law_name': '労働基準法', 'law_number': '昭和二十二年法律第四十九号'}, {'article_name': '労働契約との関係', 'article_number': '第九十三条', 'chapter_name': '就業規則', 'chapter_number': '第九章', 'division_name': '', 'division_number': '', 'document_source': 'https://laws.e-gov.go.jp/law/322AC0000000049', 'enactment_year': '令和6年5月31日 施行', 'law_name': '労働基準法', 'law_number': '昭和二十二年法律第四十九号'}, {'article_name': '労働契約との関係', 'article_number': '第九十三条', 'chapter_name': '就業規則', 'chapter_number': '第九章', 'division_name': '', 'division_number': '', 'document_source': 'https://laws.e-gov.go.jp/law/322AC0000000049', 'enactment_year': '令和6年5月31日 施行', 'law_name': '労働基準法', 'law_number': '昭和二十二年法律第四十九号'}, {'article_name': '労働契約の原則', 'article_number': '第三条', 'chapter_name': '総則', 'chapter_number': '第一章', 'division_name': '', 'division_number': '', 'document_source': 'https://laws.e-gov.go.jp/law/419AC0000000128', 'enactment_year': '令和2年4月1日 施行', 'law_name': '労働契約法', 'law_number': '平成十九年法律第百二十八号'}, {'article_name': '労働契約の原則', 'article_number': '第三条', 'chapter_name': '総則', 'chapter_number': '第一章', 'division_name': '', 'division_number': '', 'document_source': 'https://laws.e-gov.go.jp/law/419AC0000000128', 'enactment_year': '令和2年4月1日 施行', 'law_name': '労働契約法', 'law_number': '平成十九年法律第百二十八号'}, {'article_name': '労働契約の原則', 'article_number': '第三条', 'chapter_name': '総則', 'chapter_number': '第一章', 'division_name': '', 'division_number': '', 'document_source': 'https://laws.e-gov.go.jp/law/419AC0000000128', 'enactment_year': '令和2年4月1日 施行', 'law_name': '労働契約法', 'law_number': '平成十九年法律第百二十八号'}, {'article_name': '労働契約の原則', 'article_number': '第三条', 'chapter_name': '総則', 'chapter_number': '第一章', 'division_name': '', 'division_number': '', 'document_source': 'https://laws.e-gov.go.jp/law/419AC0000000128', 'enactment_year': '令和2年4月1日 施行', 'law_name': '労働契約法', 'law_number': '平成十九年法律第百二十八号'}, {'article_name': '労働契約の原則', 'article_number': '第三条', 'chapter_name': '総則', 'chapter_number': '第一章', 'division_name': '', 'division_number': '', 'document_source': 'https://laws.e-gov.go.jp/law/419AC0000000128', 'enactment_year': '令和2年4月1日 施行', 'law_name': '労働契約法', 'law_number': '平成十九年法律第百二十八号'}, {'article_name': '労働契約の原則', 'article_number': '第三条', 'chapter_name': '総則', 'chapter_number': '第一章', 'division_name': '', 'division_number': '', 'document_source': 'https://laws.e-gov.go.jp/law/419AC0000000128', 'enactment_year': '令和2年4月1日 施行', 'law_name': '労働契約法', 'law_number': '平成十九年法律第百二十八号'}, {'article_name': '労働契約の原則', 'article_number': '第三条', 'chapter_name': '総則', 'chapter_number': '第一章', 'division_name': '', 'division_number': '', 'document_source': 'https://laws.e-gov.go.jp/law/419AC0000000128', 'enactment_year': '令和2年4月1日 施行', 'law_name': '労働契約法', 'law_number': '平成十九年法律第百二十八号'}, {'article_name': '労働契約の原則', 'article_number': '第三条', 'chapter_name': '総則', 'chapter_number': '第一章', 'division_name': '', 'division_number': '', 'document_source': 'https://laws.e-gov.go.jp/law/419AC0000000128', 'enactment_year': '令和2年4月1日 施行', 'law_name': '労働契約法', 'law_number': '平成十九年法律第百二十八号'}, {'article_name': '労働契約の原則', 'article_number': '第三条', 'chapter_name': '総則', 'chapter_number': '第一章', 'division_name': '', 'division_number': '', 'document_source': 'https://laws.e-gov.go.jp/law/419AC0000000128', 'enactment_year': '令和2年4月1日 施行', 'law_name': '労働契約法', 'law_number': '平成十九年法律第百二十八号'}, {'article_name': '労働契約の原則', 'article_number': '第三条', 'chapter_name': '総則', 'chapter_number': '第一章', 'division_name': '', 'division_number': '', 'document_source': 'https://laws.e-gov.go.jp/law/419AC0000000128', 'enactment_year': '令和2年4月1日 施行', 'law_name': '労働契約法', 'law_number': '平成十九年法律第百二十八号'}, {'article_name': '労働契約の原則', 'article_number': '第三条', 'chapter_name': '総則', 'chapter_number': '第一章', 'division_name': '', 'division_number': '', 'document_source': 'https://laws.e-gov.go.jp/law/419AC0000000128', 'enactment_year': '令和2年4月1日 施行', 'law_name': '労働契約法', 'law_number': '平成十九年法律第百二十八号'}, {'article_name': '労働契約の原則', 'article_number': '第三条', 'chapter_name': '総則', 'chapter_number': '第一章', 'division_name': '', 'division_number': '', 'document_source': 'https://laws.e-gov.go.jp/law/419AC0000000128', 'enactment_year': '令和2年4月1日 施行', 'law_name': '労働契約法', 'law_number': '平成十九年法律第百二十八号'}, {'article_name': '労働契約の原則', 'article_number': '第三条', 'chapter_name': '総則', 'chapter_number': '第一章', 'division_name': '', 'division_number': '', 'document_source': 'https://laws.e-gov.go.jp/law/419AC0000000128', 'enactment_year': '令和2年4月1日 施行', 'law_name': '労働契約法', 'law_number': '平成十九年法律第百二十八号'}, {'article_name': '労働契約の原則', 'article_number': '第三条', 'chapter_name': '総則', 'chapter_number': '第一章', 'division_name': '', 'division_number': '', 'document_source': 'https://laws.e-gov.go.jp/law/419AC0000000128', 'enactment_year': '令和2年4月1日 施行', 'law_name': '労働契約法', 'law_number': '平成十九年法律第百二十八号'}, {'article_name': '労働契約の成立', 'article_number': '第六条', 'chapter_name': '労働契約の成立及び変更', 'chapter_number': '第二章', 'division_name': '', 'division_number': '', 'document_source': 'https://laws.e-gov.go.jp/law/419AC0000000128', 'enactment_year': '令和2年4月1日 施行', 'law_name': '労働契約法', 'law_number': '平成十九年法律第百二十八号'}, {'article_name': '労働契約の成立', 'article_number': '第六条', 'chapter_name': '労働契約の成立及び変更', 'chapter_number': '第二章', 'division_name': '', 'division_number': '', 'document_source': 'https://laws.e-gov.go.jp/law/419AC0000000128', 'enactment_year': '令和2年4月1日 施行', 'law_name': '労働契約法', 'law_number': '平成十九年法律第百二十八号'}, {'article_name': '労働契約の成立', 'article_number': '第六条', 'chapter_name': '労働契約の成立及び変更', 'chapter_number': '第二章', 'division_name': '', 'division_number': '', 'document_source': 'https://laws.e-gov.go.jp/law/419AC0000000128', 'enactment_year': '令和2年4月1日 施行', 'law_name': '労働契約法', 'law_number': '平成十九年法律第百二十八号'}, {'article_name': '労働契約の成立', 'article_number': '第六条', 'chapter_name': '労働契約の成立及び変更', 'chapter_number': '第二章', 'division_name': '', 'division_number': '', 'document_source': 'https://laws.e-gov.go.jp/law/419AC0000000128', 'enactment_year': '令和2年4月1日 施行', 'law_name': '労働契約法', 'law_number': '平成十九年法律第百二十八号'}, {'article_name': '労働契約の成立', 'article_number': '第六条', 'chapter_name': '労働契約の成立及び変更', 'chapter_number': '第二章', 'division_name': '', 'division_number': '', 'document_source': 'https://laws.e-gov.go.jp/law/419AC0000000128', 'enactment_year': '令和2年4月1日 施行', 'law_name': '労働契約法', 'law_number': '平成十九年法律第百二十八号'}, {'article_name': '労働契約の成立', 'article_number': '第六条', 'chapter_name': '労働契約の成立及び変更', 'chapter_number': '第二章', 'division_name': '', 'division_number': '', 'document_source': 'https://laws.e-gov.go.jp/law/419AC0000000128', 'enactment_year': '令和2年4月1日 施行', 'law_name': '労働契約法', 'law_number': '平成十九年法律第百二十八号'}, {'article_name': '労働契約の成立', 'article_number': '第六条', 'chapter_name': '労働契約の成立及び変更', 'chapter_number': '第二章', 'division_name': '', 'division_number': '', 'document_source': 'https://laws.e-gov.go.jp/law/419AC0000000128', 'enactment_year': '令和2年4月1日 施行', 'law_name': '労働契約法', 'law_number': '平成十九年法律第百二十八号'}, {'article_name': '労働契約の成立', 'article_number': '第六条', 'chapter_name': '労働契約の成立及び変更', 'chapter_number': '第二章', 'division_name': '', 'division_number': '', 'document_source': 'https://laws.e-gov.go.jp/law/419AC0000000128', 'enactment_year': '令和2年4月1日 施行', 'law_name': '労働契約法', 'law_number': '平成十九年法律第百二十八号'}]\n",
      "Judicial Laws: [{'article_name': '労働契約との関係', 'article_number': '第九十三条', 'chapter_name': '就業規則', 'chapter_number': '第九章', 'division_name': '', 'division_number': '', 'document_source': 'https://laws.e-gov.go.jp/law/322AC0000000049', 'enactment_year': '令和6年5月31日 施行', 'law_name': '労働基準法', 'law_number': '昭和二十二年法律第四十九号'}, {'article_name': '労働契約との関係', 'article_number': '第九十三条', 'chapter_name': '就業規則', 'chapter_number': '第九章', 'division_name': '', 'division_number': '', 'document_source': 'https://laws.e-gov.go.jp/law/322AC0000000049', 'enactment_year': '令和6年5月31日 施行', 'law_name': '労働基準法', 'law_number': '昭和二十二年法律第四十九号'}, {'article_name': '労働契約との関係', 'article_number': '第九十三条', 'chapter_name': '就業規則', 'chapter_number': '第九章', 'division_name': '', 'division_number': '', 'document_source': 'https://laws.e-gov.go.jp/law/322AC0000000049', 'enactment_year': '令和6年5月31日 施行', 'law_name': '労働基準法', 'law_number': '昭和二十二年法律第四十九号'}, {'article_name': '労働契約との関係', 'article_number': '第九十三条', 'chapter_name': '就業規則', 'chapter_number': '第九章', 'division_name': '', 'division_number': '', 'document_source': 'https://laws.e-gov.go.jp/law/322AC0000000049', 'enactment_year': '令和6年5月31日 施行', 'law_name': '労働基準法', 'law_number': '昭和二十二年法律第四十九号'}, {'article_name': '労働契約との関係', 'article_number': '第九十三条', 'chapter_name': '就業規則', 'chapter_number': '第九章', 'division_name': '', 'division_number': '', 'document_source': 'https://laws.e-gov.go.jp/law/322AC0000000049', 'enactment_year': '令和6年5月31日 施行', 'law_name': '労働基準法', 'law_number': '昭和二十二年法律第四十九号'}, {'article_name': '労働契約との関係', 'article_number': '第九十三条', 'chapter_name': '就業規則', 'chapter_number': '第九章', 'division_name': '', 'division_number': '', 'document_source': 'https://laws.e-gov.go.jp/law/322AC0000000049', 'enactment_year': '令和6年5月31日 施行', 'law_name': '労働基準法', 'law_number': '昭和二十二年法律第四十九号'}, {'article_name': '労働契約との関係', 'article_number': '第九十三条', 'chapter_name': '就業規則', 'chapter_number': '第九章', 'division_name': '', 'division_number': '', 'document_source': 'https://laws.e-gov.go.jp/law/322AC0000000049', 'enactment_year': '令和6年5月31日 施行', 'law_name': '労働基準法', 'law_number': '昭和二十二年法律第四十九号'}, {'article_name': '労働契約との関係', 'article_number': '第九十三条', 'chapter_name': '就業規則', 'chapter_number': '第九章', 'division_name': '', 'division_number': '', 'document_source': 'https://laws.e-gov.go.jp/law/322AC0000000049', 'enactment_year': '令和6年5月31日 施行', 'law_name': '労働基準法', 'law_number': '昭和二十二年法律第四十九号'}, {'article_name': '労働契約との関係', 'article_number': '第九十三条', 'chapter_name': '就業規則', 'chapter_number': '第九章', 'division_name': '', 'division_number': '', 'document_source': 'https://laws.e-gov.go.jp/law/322AC0000000049', 'enactment_year': '令和6年5月31日 施行', 'law_name': '労働基準法', 'law_number': '昭和二十二年法律第四十九号'}, {'article_name': '労働契約との関係', 'article_number': '第九十三条', 'chapter_name': '就業規則', 'chapter_number': '第九章', 'division_name': '', 'division_number': '', 'document_source': 'https://laws.e-gov.go.jp/law/322AC0000000049', 'enactment_year': '令和6年5月31日 施行', 'law_name': '労働基準法', 'law_number': '昭和二十二年法律第四十九号'}, {'article_name': '労働契約との関係', 'article_number': '第九十三条', 'chapter_name': '就業規則', 'chapter_number': '第九章', 'division_name': '', 'division_number': '', 'document_source': 'https://laws.e-gov.go.jp/law/322AC0000000049', 'enactment_year': '令和6年5月31日 施行', 'law_name': '労働基準法', 'law_number': '昭和二十二年法律第四十九号'}, {'article_name': '労働契約との関係', 'article_number': '第九十三条', 'chapter_name': '就業規則', 'chapter_number': '第九章', 'division_name': '', 'division_number': '', 'document_source': 'https://laws.e-gov.go.jp/law/322AC0000000049', 'enactment_year': '令和6年5月31日 施行', 'law_name': '労働基準法', 'law_number': '昭和二十二年法律第四十九号'}, {'article_name': '労働契約との関係', 'article_number': '第九十三条', 'chapter_name': '就業規則', 'chapter_number': '第九章', 'division_name': '', 'division_number': '', 'document_source': 'https://laws.e-gov.go.jp/law/322AC0000000049', 'enactment_year': '令和6年5月31日 施行', 'law_name': '労働基準法', 'law_number': '昭和二十二年法律第四十九号'}, {'article_name': '労働契約との関係', 'article_number': '第九十三条', 'chapter_name': '就業規則', 'chapter_number': '第九章', 'division_name': '', 'division_number': '', 'document_source': 'https://laws.e-gov.go.jp/law/322AC0000000049', 'enactment_year': '令和6年5月31日 施行', 'law_name': '労働基準法', 'law_number': '昭和二十二年法律第四十九号'}, {'article_name': '労働条件の決定', 'article_number': '第二条', 'chapter_name': '総則', 'chapter_number': '第一章', 'division_name': '', 'division_number': '', 'document_source': 'https://laws.e-gov.go.jp/law/322AC0000000049', 'enactment_year': '令和6年5月31日 施行', 'law_name': '労働基準法', 'law_number': '昭和二十二年法律第四十九号'}, {'article_name': '労働条件の決定', 'article_number': '第二条', 'chapter_name': '総則', 'chapter_number': '第一章', 'division_name': '', 'division_number': '', 'document_source': 'https://laws.e-gov.go.jp/law/322AC0000000049', 'enactment_year': '令和6年5月31日 施行', 'law_name': '労働基準法', 'law_number': '昭和二十二年法律第四十九号'}, {'article_name': '労働条件の決定', 'article_number': '第二条', 'chapter_name': '総則', 'chapter_number': '第一章', 'division_name': '', 'division_number': '', 'document_source': 'https://laws.e-gov.go.jp/law/322AC0000000049', 'enactment_year': '令和6年5月31日 施行', 'law_name': '労働基準法', 'law_number': '昭和二十二年法律第四十九号'}, {'article_name': '労働条件の決定', 'article_number': '第二条', 'chapter_name': '総則', 'chapter_number': '第一章', 'division_name': '', 'division_number': '', 'document_source': 'https://laws.e-gov.go.jp/law/322AC0000000049', 'enactment_year': '令和6年5月31日 施行', 'law_name': '労働基準法', 'law_number': '昭和二十二年法律第四十九号'}, {'article_name': '労働条件の決定', 'article_number': '第二条', 'chapter_name': '総則', 'chapter_number': '第一章', 'division_name': '', 'division_number': '', 'document_source': 'https://laws.e-gov.go.jp/law/322AC0000000049', 'enactment_year': '令和6年5月31日 施行', 'law_name': '労働基準法', 'law_number': '昭和二十二年法律第四十九号'}, {'article_name': '労働条件の決定', 'article_number': '第二条', 'chapter_name': '総則', 'chapter_number': '第一章', 'division_name': '', 'division_number': '', 'document_source': 'https://laws.e-gov.go.jp/law/322AC0000000049', 'enactment_year': '令和6年5月31日 施行', 'law_name': '労働基準法', 'law_number': '昭和二十二年法律第四十九号'}, {'article_name': '労働条件の決定', 'article_number': '第二条', 'chapter_name': '総則', 'chapter_number': '第一章', 'division_name': '', 'division_number': '', 'document_source': 'https://laws.e-gov.go.jp/law/322AC0000000049', 'enactment_year': '令和6年5月31日 施行', 'law_name': '労働基準法', 'law_number': '昭和二十二年法律第四十九号'}, {'article_name': '労働条件の決定', 'article_number': '第二条', 'chapter_name': '総則', 'chapter_number': '第一章', 'division_name': '', 'division_number': '', 'document_source': 'https://laws.e-gov.go.jp/law/322AC0000000049', 'enactment_year': '令和6年5月31日 施行', 'law_name': '労働基準法', 'law_number': '昭和二十二年法律第四十九号'}, {'article_name': '労働条件の決定', 'article_number': '第二条', 'chapter_name': '総則', 'chapter_number': '第一章', 'division_name': '', 'division_number': '', 'document_source': 'https://laws.e-gov.go.jp/law/322AC0000000049', 'enactment_year': '令和6年5月31日 施行', 'law_name': '労働基準法', 'law_number': '昭和二十二年法律第四十九号'}, {'article_name': '労働条件の決定', 'article_number': '第二条', 'chapter_name': '総則', 'chapter_number': '第一章', 'division_name': '', 'division_number': '', 'document_source': 'https://laws.e-gov.go.jp/law/322AC0000000049', 'enactment_year': '令和6年5月31日 施行', 'law_name': '労働基準法', 'law_number': '昭和二十二年法律第四十九号'}, {'article_name': '労働条件の決定', 'article_number': '第二条', 'chapter_name': '総則', 'chapter_number': '第一章', 'division_name': '', 'division_number': '', 'document_source': 'https://laws.e-gov.go.jp/law/322AC0000000049', 'enactment_year': '令和6年5月31日 施行', 'law_name': '労働基準法', 'law_number': '昭和二十二年法律第四十九号'}, {'article_name': '労働条件の決定', 'article_number': '第二条', 'chapter_name': '総則', 'chapter_number': '第一章', 'division_name': '', 'division_number': '', 'document_source': 'https://laws.e-gov.go.jp/law/322AC0000000049', 'enactment_year': '令和6年5月31日 施行', 'law_name': '労働基準法', 'law_number': '昭和二十二年法律第四十九号'}, {'article_name': '労働条件の決定', 'article_number': '第二条', 'chapter_name': '総則', 'chapter_number': '第一章', 'division_name': '', 'division_number': '', 'document_source': 'https://laws.e-gov.go.jp/law/322AC0000000049', 'enactment_year': '令和6年5月31日 施行', 'law_name': '労働基準法', 'law_number': '昭和二十二年法律第四十九号'}, {'article_name': '労働条件の決定', 'article_number': '第二条', 'chapter_name': '総則', 'chapter_number': '第一章', 'division_name': '', 'division_number': '', 'document_source': 'https://laws.e-gov.go.jp/law/322AC0000000049', 'enactment_year': '令和6年5月31日 施行', 'law_name': '労働基準法', 'law_number': '昭和二十二年法律第四十九号'}, {'article_name': 'この法律違反の契約', 'article_number': '第十三条', 'chapter_name': '労働契約', 'chapter_number': '第二章', 'division_name': '', 'division_number': '', 'document_source': 'https://laws.e-gov.go.jp/law/322AC0000000049', 'enactment_year': '令和6年5月31日 施行', 'law_name': '労働基準法', 'law_number': '昭和二十二年法律第四十九号'}, {'article_name': 'この法律違反の契約', 'article_number': '第十三条', 'chapter_name': '労働契約', 'chapter_number': '第二章', 'division_name': '', 'division_number': '', 'document_source': 'https://laws.e-gov.go.jp/law/322AC0000000049', 'enactment_year': '令和6年5月31日 施行', 'law_name': '労働基準法', 'law_number': '昭和二十二年法律第四十九号'}, {'article_name': 'この法律違反の契約', 'article_number': '第十三条', 'chapter_name': '労働契約', 'chapter_number': '第二章', 'division_name': '', 'division_number': '', 'document_source': 'https://laws.e-gov.go.jp/law/322AC0000000049', 'enactment_year': '令和6年5月31日 施行', 'law_name': '労働基準法', 'law_number': '昭和二十二年法律第四十九号'}, {'article_name': 'この法律違反の契約', 'article_number': '第十三条', 'chapter_name': '労働契約', 'chapter_number': '第二章', 'division_name': '', 'division_number': '', 'document_source': 'https://laws.e-gov.go.jp/law/322AC0000000049', 'enactment_year': '令和6年5月31日 施行', 'law_name': '労働基準法', 'law_number': '昭和二十二年法律第四十九号'}, {'article_name': 'この法律違反の契約', 'article_number': '第十三条', 'chapter_name': '労働契約', 'chapter_number': '第二章', 'division_name': '', 'division_number': '', 'document_source': 'https://laws.e-gov.go.jp/law/322AC0000000049', 'enactment_year': '令和6年5月31日 施行', 'law_name': '労働基準法', 'law_number': '昭和二十二年法律第四十九号'}, {'article_name': 'この法律違反の契約', 'article_number': '第十三条', 'chapter_name': '労働契約', 'chapter_number': '第二章', 'division_name': '', 'division_number': '', 'document_source': 'https://laws.e-gov.go.jp/law/322AC0000000049', 'enactment_year': '令和6年5月31日 施行', 'law_name': '労働基準法', 'law_number': '昭和二十二年法律第四十九号'}, {'article_name': 'この法律違反の契約', 'article_number': '第十三条', 'chapter_name': '労働契約', 'chapter_number': '第二章', 'division_name': '', 'division_number': '', 'document_source': 'https://laws.e-gov.go.jp/law/322AC0000000049', 'enactment_year': '令和6年5月31日 施行', 'law_name': '労働基準法', 'law_number': '昭和二十二年法律第四十九号'}, {'article_name': 'この法律違反の契約', 'article_number': '第十三条', 'chapter_name': '労働契約', 'chapter_number': '第二章', 'division_name': '', 'division_number': '', 'document_source': 'https://laws.e-gov.go.jp/law/322AC0000000049', 'enactment_year': '令和6年5月31日 施行', 'law_name': '労働基準法', 'law_number': '昭和二十二年法律第四十九号'}, {'article_name': 'この法律違反の契約', 'article_number': '第十三条', 'chapter_name': '労働契約', 'chapter_number': '第二章', 'division_name': '', 'division_number': '', 'document_source': 'https://laws.e-gov.go.jp/law/322AC0000000049', 'enactment_year': '令和6年5月31日 施行', 'law_name': '労働基準法', 'law_number': '昭和二十二年法律第四十九号'}, {'article_name': 'この法律違反の契約', 'article_number': '第十三条', 'chapter_name': '労働契約', 'chapter_number': '第二章', 'division_name': '', 'division_number': '', 'document_source': 'https://laws.e-gov.go.jp/law/322AC0000000049', 'enactment_year': '令和6年5月31日 施行', 'law_name': '労働基準法', 'law_number': '昭和二十二年法律第四十九号'}, {'article_name': 'この法律違反の契約', 'article_number': '第十三条', 'chapter_name': '労働契約', 'chapter_number': '第二章', 'division_name': '', 'division_number': '', 'document_source': 'https://laws.e-gov.go.jp/law/322AC0000000049', 'enactment_year': '令和6年5月31日 施行', 'law_name': '労働基準法', 'law_number': '昭和二十二年法律第四十九号'}, {'article_name': 'この法律違反の契約', 'article_number': '第十三条', 'chapter_name': '労働契約', 'chapter_number': '第二章', 'division_name': '', 'division_number': '', 'document_source': 'https://laws.e-gov.go.jp/law/322AC0000000049', 'enactment_year': '令和6年5月31日 施行', 'law_name': '労働基準法', 'law_number': '昭和二十二年法律第四十九号'}, {'article_name': 'この法律違反の契約', 'article_number': '第十三条', 'chapter_name': '労働契約', 'chapter_number': '第二章', 'division_name': '', 'division_number': '', 'document_source': 'https://laws.e-gov.go.jp/law/322AC0000000049', 'enactment_year': '令和6年5月31日 施行', 'law_name': '労働基準法', 'law_number': '昭和二十二年法律第四十九号'}, {'article_name': 'この法律違反の契約', 'article_number': '第十三条', 'chapter_name': '労働契約', 'chapter_number': '第二章', 'division_name': '', 'division_number': '', 'document_source': 'https://laws.e-gov.go.jp/law/322AC0000000049', 'enactment_year': '令和6年5月31日 施行', 'law_name': '労働基準法', 'law_number': '昭和二十二年法律第四十九号'}, {'article_name': '契約期間等', 'article_number': '第十四条', 'chapter_name': '労働契約', 'chapter_number': '第二章', 'division_name': '', 'division_number': '', 'document_source': 'https://laws.e-gov.go.jp/law/322AC0000000049', 'enactment_year': '令和6年5月31日 施行', 'law_name': '労働基準法', 'law_number': '昭和二十二年法律第四十九号'}, {'article_name': '契約期間等', 'article_number': '第十四条', 'chapter_name': '労働契約', 'chapter_number': '第二章', 'division_name': '', 'division_number': '', 'document_source': 'https://laws.e-gov.go.jp/law/322AC0000000049', 'enactment_year': '令和6年5月31日 施行', 'law_name': '労働基準法', 'law_number': '昭和二十二年法律第四十九号'}, {'article_name': '契約期間等', 'article_number': '第十四条', 'chapter_name': '労働契約', 'chapter_number': '第二章', 'division_name': '', 'division_number': '', 'document_source': 'https://laws.e-gov.go.jp/law/322AC0000000049', 'enactment_year': '令和6年5月31日 施行', 'law_name': '労働基準法', 'law_number': '昭和二十二年法律第四十九号'}, {'article_name': '契約期間等', 'article_number': '第十四条', 'chapter_name': '労働契約', 'chapter_number': '第二章', 'division_name': '', 'division_number': '', 'document_source': 'https://laws.e-gov.go.jp/law/322AC0000000049', 'enactment_year': '令和6年5月31日 施行', 'law_name': '労働基準法', 'law_number': '昭和二十二年法律第四十九号'}, {'article_name': '契約期間等', 'article_number': '第十四条', 'chapter_name': '労働契約', 'chapter_number': '第二章', 'division_name': '', 'division_number': '', 'document_source': 'https://laws.e-gov.go.jp/law/322AC0000000049', 'enactment_year': '令和6年5月31日 施行', 'law_name': '労働基準法', 'law_number': '昭和二十二年法律第四十九号'}, {'article_name': '契約期間等', 'article_number': '第十四条', 'chapter_name': '労働契約', 'chapter_number': '第二章', 'division_name': '', 'division_number': '', 'document_source': 'https://laws.e-gov.go.jp/law/322AC0000000049', 'enactment_year': '令和6年5月31日 施行', 'law_name': '労働基準法', 'law_number': '昭和二十二年法律第四十九号'}, {'article_name': '契約期間等', 'article_number': '第十四条', 'chapter_name': '労働契約', 'chapter_number': '第二章', 'division_name': '', 'division_number': '', 'document_source': 'https://laws.e-gov.go.jp/law/322AC0000000049', 'enactment_year': '令和6年5月31日 施行', 'law_name': '労働基準法', 'law_number': '昭和二十二年法律第四十九号'}, {'article_name': '契約期間等', 'article_number': '第十四条', 'chapter_name': '労働契約', 'chapter_number': '第二章', 'division_name': '', 'division_number': '', 'document_source': 'https://laws.e-gov.go.jp/law/322AC0000000049', 'enactment_year': '令和6年5月31日 施行', 'law_name': '労働基準法', 'law_number': '昭和二十二年法律第四十九号'}]\n"
     ]
    }
   ],
   "source": [
    "result1 = retrievers_dict[\"Labor_Laws\"].get_relevant_documents(\"労働基準法に基づく雇用契約について教えてください。\")\n",
    "result2 = retrievers_dict[\"Judicial_and_Legal_System_Laws\"].get_relevant_documents(\"労働基準法に基づく雇用契約について教えてください。\")\n",
    "\n",
    "# So sánh kết quả\n",
    "print(\"Labor Laws:\", [doc.metadata for doc in result1])\n",
    "print(\"Judicial Laws:\", [doc.metadata for doc in result2])\n"
   ]
  },
  {
   "cell_type": "code",
   "execution_count": null,
   "metadata": {},
   "outputs": [],
   "source": [
    "result1"
   ]
  },
  {
   "cell_type": "code",
   "execution_count": null,
   "metadata": {},
   "outputs": [],
   "source": [
    "result2"
   ]
  },
  {
   "cell_type": "code",
   "execution_count": 32,
   "metadata": {},
   "outputs": [],
   "source": [
    "retrievers_dict = {}\n",
    "\n",
    "# Labor_Laws retriever\n",
    "labor_laws_docs = [doc for doc in docs if doc.metadata[\"law_number\"] + \"　\" + doc.metadata[\"law_name\"] in route_lawids_dict[\"Labor_Laws\"]]\n",
    "labor_laws_chunks = text_splitter.split_documents(labor_laws_docs)\n",
    "labor_chroma = Chroma()\n",
    "labor_laws_vector_store = labor_chroma.from_documents(documents=labor_laws_chunks, embedding=embedding_function)\n",
    "labor_retrievers = labor_laws_vector_store.as_retriever(search_kwargs={\"k\": 50})\n",
    "\n",
    "# Social_Security_and_Insurance_Laws retriever\n",
    "social_security_docs = [doc for doc in docs if doc.metadata[\"law_number\"] + \"　\" + doc.metadata[\"law_name\"] in route_lawids_dict[\"Social_Security_and_Insurance_Laws\"]]\n",
    "social_security_chunks = text_splitter.split_documents(social_security_docs)\n",
    "social_security_chroma = Chroma()\n",
    "social_security_vector_store = social_security_chroma.from_documents(documents=social_security_chunks, embedding=embedding_function)\n",
    "social_security_retriever = social_security_vector_store.as_retriever(search_kwargs={\"k\": 50})\n",
    "\n",
    "# Public_Service_and_Government_Laws retriever\n",
    "public_service_docs = [doc for doc in docs if doc.metadata[\"law_number\"] + \"　\" + doc.metadata[\"law_name\"] in route_lawids_dict[\"Public_Service_and_Government_Laws\"]]\n",
    "public_service_chunks = text_splitter.split_documents(public_service_docs)\n",
    "public_service_chroma = Chroma()\n",
    "public_service_vector_store = Chroma.from_documents(documents=public_service_chunks, embedding=embedding_function)\n",
    "public_service_retriever = public_service_vector_store.as_retriever(search_kwargs={\"k\": 50})\n",
    "\n",
    "# Education_and_Research_Laws retriever\n",
    "education_docs = [doc for doc in docs if doc.metadata[\"law_number\"] + \"　\" + doc.metadata[\"law_name\"] in route_lawids_dict[\"Education_and_Research_Laws\"]]\n",
    "education_chunks = text_splitter.split_documents(education_docs)\n",
    "education_chroma = Chroma()\n",
    "education_vector_store = education_chroma.from_documents(documents=education_chunks, embedding=embedding_function)\n",
    "education_retriever = education_vector_store.as_retriever(search_kwargs={\"k\": 50})\n",
    "\n",
    "# Health_and_Welfare_Laws retriever\n",
    "health_docs = [doc for doc in docs if doc.metadata[\"law_number\"] + \"　\" + doc.metadata[\"law_name\"] in route_lawids_dict[\"Health_and_Welfare_Laws\"]]\n",
    "health_chunks = text_splitter.split_documents(health_docs)\n",
    "health_chroma = Chroma()\n",
    "health_vector_store = health_chroma.from_documents(documents=health_chunks, embedding=embedding_function)\n",
    "health_retriever = health_vector_store.as_retriever(search_kwargs={\"k\": 50})\n",
    "\n",
    "# Judicial_and_Legal_System_Laws retriever\n",
    "judicial_docs = [doc for doc in docs if doc.metadata[\"law_number\"] + \"　\" + doc.metadata[\"law_name\"] in route_lawids_dict[\"Judicial_and_Legal_System_Laws\"]]\n",
    "judicial_chunks = text_splitter.split_documents(judicial_docs)\n",
    "jidocial_chroma = Chroma()\n",
    "judicial_vector_store = jidocial_chroma.from_documents(documents=judicial_chunks, embedding=embedding_function)\n",
    "judicial_retriever = judicial_vector_store.as_retriever(search_kwargs={\"k\": 50})\n",
    "\n",
    "# Miscellaneous_Laws retriever\n",
    "miscellaneous_docs = [doc for doc in docs if doc.metadata[\"law_number\"] + \"　\" + doc.metadata[\"law_name\"] in route_lawids_dict[\"Miscellaneous_Laws\"]]\n",
    "miscellaneous_chunks = text_splitter.split_documents(miscellaneous_docs)\n",
    "miscellaneous_chroma = Chroma()\n",
    "miscellaneous_vector_store = miscellaneous_chroma.from_documents(documents=miscellaneous_chunks, embedding=embedding_function)\n",
    "miscellaneous_retriever = miscellaneous_vector_store.as_retriever(search_kwargs={\"k\": 50})"
   ]
  },
  {
   "cell_type": "code",
   "execution_count": 33,
   "metadata": {},
   "outputs": [],
   "source": [
    "# # Tạo ra các retrieval tương ứng với các route (Labor_Laws_retriever, Social_Security_retriever, ...)\n",
    "# retrievers_dict = {}\n",
    "\n",
    "# for route, lawids in route_lawids_dict.items():\n",
    "#     # Lấy ra các documents tương ứng với lawids\n",
    "#     print(\"len(lawids)\", len(lawids))\n",
    "#     route_docs = [doc for doc in docs if doc.metadata[\"law_number\"] + \"　\" + doc.metadata[\"law_name\"] in lawids]\n",
    "#     print(\"len(route_docs)\", len(route_docs))\n",
    "#     # Tạo ra các chunks từ các documents\n",
    "#     route_chunks = text_splitter.split_documents(route_docs)\n",
    "#     # Tạo ra vector store từ các chunks\n",
    "#     route_vector_store = Chroma.from_documents(documents=route_chunks, embedding=embedding_function)\n",
    "#     # Tạo ra retriever từ vector store\n",
    "#     route_retriever = route_vector_store.as_retriever(search_kwargs={\"k\": 10})\n",
    "#     retrievers_dict[route] = route_retriever\n",
    "#     del route_docs\n",
    "#     del route_chunks\n",
    "#     del route_vector_store\n",
    "    "
   ]
  },
  {
   "cell_type": "code",
   "execution_count": 34,
   "metadata": {},
   "outputs": [],
   "source": [
    "# route_lawids_dict.keys()"
   ]
  },
  {
   "cell_type": "code",
   "execution_count": 35,
   "metadata": {},
   "outputs": [],
   "source": [
    "# for key in route_lawids_dict.keys():\n",
    "#     print(f\"{key}: {retrievers_dict[key]}\")"
   ]
  },
  {
   "cell_type": "code",
   "execution_count": 36,
   "metadata": {},
   "outputs": [
    {
     "data": {
      "text/plain": [
       "[Document(metadata={'article_name': '労働条件等の明示', 'article_number': '第五条の三', 'chapter_name': '総則', 'chapter_number': '第一章', 'division_name': '', 'division_number': '', 'document_source': 'https://laws.e-gov.go.jp/law/322AC0000000141', 'enactment_year': '令和4年10月1日 施行', 'law_name': '職業安定法', 'law_number': '昭和二十二年法律第百四十一号'}, page_content='求人者、労働者の募集を行う者及び労働者供給を受けようとする者（供給される労働者を雇用する場合に限る。）は、それぞれ、求人の申込みをした公共職業安定所、特定地方公共団体若しくは職業紹介事業者の紹介による求職者、募集に応じて労働者になろうとする者又は供給される労働者と労働契約を締結しようとする場合であつて、これらの者に対して第一項の規定により明示された従事すべき業務の内容及び賃金、労働時間その他の労働条件（以下この項において「従事すべき業務の内容等」という。）を変更する場合その他厚生労働省令で定める場合は、当該契約の相手方となろうとする者に対し、当該変更する従事すべき業務の内容等その他厚生労働省令で定める事項を明示しなければならない。\\n前三項の規定による明示は、賃金及び労働時間に関する事項その他の厚生労働省令で定める事項については、厚生労働省令で定める方法により行わなければならない。'),\n",
       " Document(metadata={'article_name': '労働条件等の明示', 'article_number': '第五条の三', 'chapter_name': '総則', 'chapter_number': '第一章', 'division_name': '', 'division_number': '', 'document_source': 'https://laws.e-gov.go.jp/law/322AC0000000141', 'enactment_year': '令和4年10月1日 施行', 'law_name': '職業安定法', 'law_number': '昭和二十二年法律第百四十一号'}, page_content='求人者、労働者の募集を行う者及び労働者供給を受けようとする者（供給される労働者を雇用する場合に限る。）は、それぞれ、求人の申込みをした公共職業安定所、特定地方公共団体若しくは職業紹介事業者の紹介による求職者、募集に応じて労働者になろうとする者又は供給される労働者と労働契約を締結しようとする場合であつて、これらの者に対して第一項の規定により明示された従事すべき業務の内容及び賃金、労働時間その他の労働条件（以下この項において「従事すべき業務の内容等」という。）を変更する場合その他厚生労働省令で定める場合は、当該契約の相手方となろうとする者に対し、当該変更する従事すべき業務の内容等その他厚生労働省令で定める事項を明示しなければならない。\\n前三項の規定による明示は、賃金及び労働時間に関する事項その他の厚生労働省令で定める事項については、厚生労働省令で定める方法により行わなければならない。'),\n",
       " Document(metadata={'article_name': '労働者名簿', 'article_number': '第百七条', 'chapter_name': '雑則', 'chapter_number': '第十二章', 'division_name': '', 'division_number': '', 'document_source': 'https://laws.e-gov.go.jp/law/322AC0000000049', 'enactment_year': '令和6年5月31日 施行', 'law_name': '労働基準法', 'law_number': '昭和二十二年法律第四十九号'}, page_content='昭和二十二年法律第四十九号\\u3000労働基準法/第十二章\\u3000雑則/第百七条\\u3000労働者名簿/使用者は、各事業場ごとに労働者名簿を、各労働者（日日雇い入れられる者を除く。）について調製し、労働者の氏名、生年月日、履歴その他厚生労働省令で定める事項を記入しなければならない。\\n前項の規定により記入すべき事項に変更があつた場合においては、遅滞なく訂正しなければならない。'),\n",
       " Document(metadata={'article_name': '労働者名簿', 'article_number': '第百七条', 'chapter_name': '雑則', 'chapter_number': '第十二章', 'division_name': '', 'division_number': '', 'document_source': 'https://laws.e-gov.go.jp/law/322AC0000000049', 'enactment_year': '令和6年5月31日 施行', 'law_name': '労働基準法', 'law_number': '昭和二十二年法律第四十九号'}, page_content='昭和二十二年法律第四十九号\\u3000労働基準法/第十二章\\u3000雑則/第百七条\\u3000労働者名簿/使用者は、各事業場ごとに労働者名簿を、各労働者（日日雇い入れられる者を除く。）について調製し、労働者の氏名、生年月日、履歴その他厚生労働省令で定める事項を記入しなければならない。\\n前項の規定により記入すべき事項に変更があつた場合においては、遅滞なく訂正しなければならない。'),\n",
       " Document(metadata={'article_name': '労働者名簿', 'article_number': '第百七条', 'chapter_name': '雑則', 'chapter_number': '第十二章', 'division_name': '', 'division_number': '', 'document_source': 'https://laws.e-gov.go.jp/law/322AC0000000049', 'enactment_year': '令和6年5月31日 施行', 'law_name': '労働基準法', 'law_number': '昭和二十二年法律第四十九号'}, page_content='昭和二十二年法律第四十九号\\u3000労働基準法/第十二章\\u3000雑則/第百七条\\u3000労働者名簿/使用者は、各事業場ごとに労働者名簿を、各労働者（日日雇い入れられる者を除く。）について調製し、労働者の氏名、生年月日、履歴その他厚生労働省令で定める事項を記入しなければならない。\\n前項の規定により記入すべき事項に変更があつた場合においては、遅滞なく訂正しなければならない。'),\n",
       " Document(metadata={'article_name': '労働者名簿', 'article_number': '第百七条', 'chapter_name': '雑則', 'chapter_number': '第十二章', 'division_name': '', 'division_number': '', 'document_source': 'https://laws.e-gov.go.jp/law/322AC0000000049', 'enactment_year': '令和6年5月31日 施行', 'law_name': '労働基準法', 'law_number': '昭和二十二年法律第四十九号'}, page_content='昭和二十二年法律第四十九号\\u3000労働基準法/第十二章\\u3000雑則/第百七条\\u3000労働者名簿/使用者は、各事業場ごとに労働者名簿を、各労働者（日日雇い入れられる者を除く。）について調製し、労働者の氏名、生年月日、履歴その他厚生労働省令で定める事項を記入しなければならない。\\n前項の規定により記入すべき事項に変更があつた場合においては、遅滞なく訂正しなければならない。'),\n",
       " Document(metadata={'article_name': '労働者名簿', 'article_number': '第百七条', 'chapter_name': '雑則', 'chapter_number': '第十二章', 'division_name': '', 'division_number': '', 'document_source': 'https://laws.e-gov.go.jp/law/322AC0000000049', 'enactment_year': '令和6年5月31日 施行', 'law_name': '労働基準法', 'law_number': '昭和二十二年法律第四十九号'}, page_content='昭和二十二年法律第四十九号\\u3000労働基準法/第十二章\\u3000雑則/第百七条\\u3000労働者名簿/使用者は、各事業場ごとに労働者名簿を、各労働者（日日雇い入れられる者を除く。）について調製し、労働者の氏名、生年月日、履歴その他厚生労働省令で定める事項を記入しなければならない。\\n前項の規定により記入すべき事項に変更があつた場合においては、遅滞なく訂正しなければならない。'),\n",
       " Document(metadata={'article_name': '労働者名簿', 'article_number': '第百七条', 'chapter_name': '雑則', 'chapter_number': '第十二章', 'division_name': '', 'division_number': '', 'document_source': 'https://laws.e-gov.go.jp/law/322AC0000000049', 'enactment_year': '令和6年5月31日 施行', 'law_name': '労働基準法', 'law_number': '昭和二十二年法律第四十九号'}, page_content='昭和二十二年法律第四十九号\\u3000労働基準法/第十二章\\u3000雑則/第百七条\\u3000労働者名簿/使用者は、各事業場ごとに労働者名簿を、各労働者（日日雇い入れられる者を除く。）について調製し、労働者の氏名、生年月日、履歴その他厚生労働省令で定める事項を記入しなければならない。\\n前項の規定により記入すべき事項に変更があつた場合においては、遅滞なく訂正しなければならない。'),\n",
       " Document(metadata={'article_name': '労働者名簿', 'article_number': '第百七条', 'chapter_name': '雑則', 'chapter_number': '第十二章', 'division_name': '', 'division_number': '', 'document_source': 'https://laws.e-gov.go.jp/law/322AC0000000049', 'enactment_year': '令和6年5月31日 施行', 'law_name': '労働基準法', 'law_number': '昭和二十二年法律第四十九号'}, page_content='昭和二十二年法律第四十九号\\u3000労働基準法/第十二章\\u3000雑則/第百七条\\u3000労働者名簿/使用者は、各事業場ごとに労働者名簿を、各労働者（日日雇い入れられる者を除く。）について調製し、労働者の氏名、生年月日、履歴その他厚生労働省令で定める事項を記入しなければならない。\\n前項の規定により記入すべき事項に変更があつた場合においては、遅滞なく訂正しなければならない。'),\n",
       " Document(metadata={'article_name': '労働者名簿', 'article_number': '第百七条', 'chapter_name': '雑則', 'chapter_number': '第十二章', 'division_name': '', 'division_number': '', 'document_source': 'https://laws.e-gov.go.jp/law/322AC0000000049', 'enactment_year': '令和6年5月31日 施行', 'law_name': '労働基準法', 'law_number': '昭和二十二年法律第四十九号'}, page_content='昭和二十二年法律第四十九号\\u3000労働基準法/第十二章\\u3000雑則/第百七条\\u3000労働者名簿/使用者は、各事業場ごとに労働者名簿を、各労働者（日日雇い入れられる者を除く。）について調製し、労働者の氏名、生年月日、履歴その他厚生労働省令で定める事項を記入しなければならない。\\n前項の規定により記入すべき事項に変更があつた場合においては、遅滞なく訂正しなければならない。'),\n",
       " Document(metadata={'article_name': '労働条件等の明示', 'article_number': '第五条の三', 'chapter_name': '総則', 'chapter_number': '第一章', 'division_name': '', 'division_number': '', 'document_source': 'https://laws.e-gov.go.jp/law/322AC0000000141', 'enactment_year': '令和4年10月1日 施行', 'law_name': '職業安定法', 'law_number': '昭和二十二年法律第百四十一号'}, page_content='昭和二十二年法律第百四十一号\\u3000職業安定法/第一章\\u3000総則/第五条の三\\u3000労働条件等の明示/公共職業安定所、特定地方公共団体及び職業紹介事業者、労働者の募集を行う者及び募集受託者並びに労働者供給事業者は、それぞれ、職業紹介、労働者の募集又は労働者供給に当たり、求職者、募集に応じて労働者になろうとする者又は供給される労働者に対し、その者が従事すべき業務の内容及び賃金、労働時間その他の労働条件を明示しなければならない。\\n求人者は求人の申込みに当たり公共職業安定所、特定地方公共団体又は職業紹介事業者に対し、労働者供給を受けようとする者はあらかじめ労働者供給事業者に対し、それぞれ、求職者又は供給される労働者が従事すべき業務の内容及び賃金、労働時間その他の労働条件を明示しなければならない。'),\n",
       " Document(metadata={'article_name': '労働条件等の明示', 'article_number': '第五条の三', 'chapter_name': '総則', 'chapter_number': '第一章', 'division_name': '', 'division_number': '', 'document_source': 'https://laws.e-gov.go.jp/law/322AC0000000141', 'enactment_year': '令和4年10月1日 施行', 'law_name': '職業安定法', 'law_number': '昭和二十二年法律第百四十一号'}, page_content='昭和二十二年法律第百四十一号\\u3000職業安定法/第一章\\u3000総則/第五条の三\\u3000労働条件等の明示/公共職業安定所、特定地方公共団体及び職業紹介事業者、労働者の募集を行う者及び募集受託者並びに労働者供給事業者は、それぞれ、職業紹介、労働者の募集又は労働者供給に当たり、求職者、募集に応じて労働者になろうとする者又は供給される労働者に対し、その者が従事すべき業務の内容及び賃金、労働時間その他の労働条件を明示しなければならない。\\n求人者は求人の申込みに当たり公共職業安定所、特定地方公共団体又は職業紹介事業者に対し、労働者供給を受けようとする者はあらかじめ労働者供給事業者に対し、それぞれ、求職者又は供給される労働者が従事すべき業務の内容及び賃金、労働時間その他の労働条件を明示しなければならない。'),\n",
       " Document(metadata={'article_name': '被保険者に関する届出', 'article_number': '第七条', 'chapter_name': '適用事業等', 'chapter_number': '第二章', 'division_name': '', 'division_number': '', 'document_source': 'https://laws.e-gov.go.jp/law/349AC0000000116', 'enactment_year': '令和6年10月1日 施行', 'law_name': '雇用保険法', 'law_number': '昭和四十九年法律第百十六号'}, page_content='昭和四十九年法律第百十六号\\u3000雇用保険法/第二章\\u3000適用事業等/第七条\\u3000被保険者に関する届出/事業主（徴収法第八条第一項又は第二項の規定により元請負人が事業主とされる場合にあつては、当該事業に係る労働者のうち元請負人が雇用する労働者以外の労働者については、当該労働者を雇用する下請負人。以下同じ。）は、厚生労働省令で定めるところにより、その雇用する労働者に関し、当該事業主の行う適用事業（同条第一項又は第二項の規定により数次の請負によつて行われる事業が一の事業とみなされる場合にあつては、当該事業に係る労働者のうち元請負人が雇用する労働者以外の労働者については、当該請負に係るそれぞれの事業。以下同じ。）に係る被保険者となつたこと、当該事業主の行う適用事業に係る被保険者でなくなつたことその他厚生労働省令で定める事項を厚生労働大臣に届け出なければならない。当該事業主から徴収法第三十三条第一項の委託を受けて同項に規定する労働保険事務の一部として前段の届出に関する事務を処理する同条第三項に規定する労働保険事務組合（以下「労働保険事務組合」という。）についても、同様とする。'),\n",
       " Document(metadata={'article_name': '被保険者に関する届出', 'article_number': '第七条', 'chapter_name': '適用事業等', 'chapter_number': '第二章', 'division_name': '', 'division_number': '', 'document_source': 'https://laws.e-gov.go.jp/law/349AC0000000116', 'enactment_year': '令和6年10月1日 施行', 'law_name': '雇用保険法', 'law_number': '昭和四十九年法律第百十六号'}, page_content='昭和四十九年法律第百十六号\\u3000雇用保険法/第二章\\u3000適用事業等/第七条\\u3000被保険者に関する届出/事業主（徴収法第八条第一項又は第二項の規定により元請負人が事業主とされる場合にあつては、当該事業に係る労働者のうち元請負人が雇用する労働者以外の労働者については、当該労働者を雇用する下請負人。以下同じ。）は、厚生労働省令で定めるところにより、その雇用する労働者に関し、当該事業主の行う適用事業（同条第一項又は第二項の規定により数次の請負によつて行われる事業が一の事業とみなされる場合にあつては、当該事業に係る労働者のうち元請負人が雇用する労働者以外の労働者については、当該請負に係るそれぞれの事業。以下同じ。）に係る被保険者となつたこと、当該事業主の行う適用事業に係る被保険者でなくなつたことその他厚生労働省令で定める事項を厚生労働大臣に届け出なければならない。当該事業主から徴収法第三十三条第一項の委託を受けて同項に規定する労働保険事務の一部として前段の届出に関する事務を処理する同条第三項に規定する労働保険事務組合（以下「労働保険事務組合」という。）についても、同様とする。'),\n",
       " Document(metadata={'article_name': '日雇特例被保険者に係る保険料の負担及び納付義務', 'article_number': '第百六十九条', 'chapter_name': '費用の負担', 'chapter_number': '第七章', 'division_name': '', 'division_number': '', 'document_source': 'https://laws.e-gov.go.jp/law/211AC0000000070', 'enactment_year': '令和6年12月2日 施行', 'law_name': '健康保険法', 'law_number': '大正十一年法律第七十号'}, page_content='日雇特例被保険者手帳を所持する日雇特例被保険者は、適用事業所に使用される日ごとに、その日雇特例被保険者手帳を事業主に提出しなければならない。\\n事業主は、日雇特例被保険者を使用する日ごとに、日雇特例被保険者にその所持する日雇特例被保険者手帳の提出を求めなければならない。\\n事業主は、第二項の規定により保険料を納付したときは、日雇特例被保険者の負担すべき保険料額に相当する額をその者に支払う賃金から控除することができる。この場合においては、事業主は、その旨を日雇特例被保険者に告げなければならない。\\n事業主は、日雇特例被保険者に対して賞与を支払った日の属する月の翌月末日までに、その者及び自己の負担すべきその日の賞与額に係る保険料を納付する義務を負う。\\n第百六十四条第二項及び第三項並びに第百六十六条の規定は前項の規定による保険料の納付について、第百六十七条第二項及び第三項の規定は日雇特例被保険者に対して通貨をもって賞与を支払う場合について準用する。'),\n",
       " Document(metadata={'article_name': '日雇特例被保険者に係る保険料の負担及び納付義務', 'article_number': '第百六十九条', 'chapter_name': '費用の負担', 'chapter_number': '第七章', 'division_name': '', 'division_number': '', 'document_source': 'https://laws.e-gov.go.jp/law/211AC0000000070', 'enactment_year': '令和6年12月2日 施行', 'law_name': '健康保険法', 'law_number': '大正十一年法律第七十号'}, page_content='日雇特例被保険者手帳を所持する日雇特例被保険者は、適用事業所に使用される日ごとに、その日雇特例被保険者手帳を事業主に提出しなければならない。\\n事業主は、日雇特例被保険者を使用する日ごとに、日雇特例被保険者にその所持する日雇特例被保険者手帳の提出を求めなければならない。\\n事業主は、第二項の規定により保険料を納付したときは、日雇特例被保険者の負担すべき保険料額に相当する額をその者に支払う賃金から控除することができる。この場合においては、事業主は、その旨を日雇特例被保険者に告げなければならない。\\n事業主は、日雇特例被保険者に対して賞与を支払った日の属する月の翌月末日までに、その者及び自己の負担すべきその日の賞与額に係る保険料を納付する義務を負う。\\n第百六十四条第二項及び第三項並びに第百六十六条の規定は前項の規定による保険料の納付について、第百六十七条第二項及び第三項の規定は日雇特例被保険者に対して通貨をもって賞与を支払う場合について準用する。'),\n",
       " Document(metadata={'article_name': '第十二条の七', 'article_number': '第十二条の七', 'chapter_name': '保険給付', 'chapter_number': '第三章', 'division_name': '', 'division_number': '', 'document_source': 'https://laws.e-gov.go.jp/law/322AC0000000050', 'enactment_year': '令和4年6月17日 施行', 'law_name': '労働者災害補償保険法', 'law_number': '昭和二十二年法律第五十号'}, page_content='昭和二十二年法律第五十号\\u3000労働者災害補償保険法/第三章\\u3000保険給付/第十二条の七/保険給付を受ける権利を有する者は、厚生労働省令で定めるところにより、政府に対して、保険給付に関し必要な厚生労働省令で定める事項を届け出、又は保険給付に関し必要な厚生労働省令で定める書類その他の物件を提出しなければならない。'),\n",
       " Document(metadata={'article_name': '第十二条の七', 'article_number': '第十二条の七', 'chapter_name': '保険給付', 'chapter_number': '第三章', 'division_name': '', 'division_number': '', 'document_source': 'https://laws.e-gov.go.jp/law/322AC0000000050', 'enactment_year': '令和4年6月17日 施行', 'law_name': '労働者災害補償保険法', 'law_number': '昭和二十二年法律第五十号'}, page_content='昭和二十二年法律第五十号\\u3000労働者災害補償保険法/第三章\\u3000保険給付/第十二条の七/保険給付を受ける権利を有する者は、厚生労働省令で定めるところにより、政府に対して、保険給付に関し必要な厚生労働省令で定める事項を届け出、又は保険給付に関し必要な厚生労働省令で定める書類その他の物件を提出しなければならない。'),\n",
       " Document(metadata={'article_name': '印紙保険料の納付', 'article_number': '第二十三条', 'chapter_name': '労働保険料の納付の手続等', 'chapter_number': '第三章', 'division_name': '', 'division_number': '', 'document_source': 'https://laws.e-gov.go.jp/law/344AC0000000084', 'enactment_year': '令和6年10月1日 施行', 'law_name': '労働保険の保険料の徴収等に関する法律', 'law_number': '昭和四十四年法律第八十四号'}, page_content='昭和四十四年法律第八十四号\\u3000労働保険の保険料の徴収等に関する法律/第三章\\u3000労働保険料の納付の手続等/第二十三条\\u3000印紙保険料の納付/事業主（第八条第一項又は第二項の規定により元請負人が事業主とされる場合にあつては、当該事業に係る労働者のうち元請負人が使用する労働者以外の日雇労働被保険者に係る印紙保険料については、当該日雇労働被保険者を使用する下請負人。以下この条から第二十五条まで、第三十一条、第三十二条、第四十二条、第四十三条及び第四十六条において同じ。）は、日雇労働被保険者に賃金を支払う都度その者に係る印紙保険料を納付しなければならない。\\n前項の規定による印紙保険料の納付は、事業主が、雇用保険法第四十四条の規定により当該日雇労働被保険者に交付された日雇労働被保険者手帳（以下「日雇労働被保険者手帳」という。）に雇用保険印紙をはり、これに消印して行わなければならない。'),\n",
       " Document(metadata={'article_name': '印紙保険料の納付', 'article_number': '第二十三条', 'chapter_name': '労働保険料の納付の手続等', 'chapter_number': '第三章', 'division_name': '', 'division_number': '', 'document_source': 'https://laws.e-gov.go.jp/law/344AC0000000084', 'enactment_year': '令和6年10月1日 施行', 'law_name': '労働保険の保険料の徴収等に関する法律', 'law_number': '昭和四十四年法律第八十四号'}, page_content='昭和四十四年法律第八十四号\\u3000労働保険の保険料の徴収等に関する法律/第三章\\u3000労働保険料の納付の手続等/第二十三条\\u3000印紙保険料の納付/事業主（第八条第一項又は第二項の規定により元請負人が事業主とされる場合にあつては、当該事業に係る労働者のうち元請負人が使用する労働者以外の日雇労働被保険者に係る印紙保険料については、当該日雇労働被保険者を使用する下請負人。以下この条から第二十五条まで、第三十一条、第三十二条、第四十二条、第四十三条及び第四十六条において同じ。）は、日雇労働被保険者に賃金を支払う都度その者に係る印紙保険料を納付しなければならない。\\n前項の規定による印紙保険料の納付は、事業主が、雇用保険法第四十四条の規定により当該日雇労働被保険者に交付された日雇労働被保険者手帳（以下「日雇労働被保険者手帳」という。）に雇用保険印紙をはり、これに消印して行わなければならない。'),\n",
       " Document(metadata={'article_name': '印紙保険料の納付', 'article_number': '第二十三条', 'chapter_name': '労働保険料の納付の手続等', 'chapter_number': '第三章', 'division_name': '', 'division_number': '', 'document_source': 'https://laws.e-gov.go.jp/law/344AC0000000084', 'enactment_year': '令和6年10月1日 施行', 'law_name': '労働保険の保険料の徴収等に関する法律', 'law_number': '昭和四十四年法律第八十四号'}, page_content='昭和四十四年法律第八十四号\\u3000労働保険の保険料の徴収等に関する法律/第三章\\u3000労働保険料の納付の手続等/第二十三条\\u3000印紙保険料の納付/事業主（第八条第一項又は第二項の規定により元請負人が事業主とされる場合にあつては、当該事業に係る労働者のうち元請負人が使用する労働者以外の日雇労働被保険者に係る印紙保険料については、当該日雇労働被保険者を使用する下請負人。以下この条から第二十五条まで、第三十一条、第三十二条、第四十二条、第四十三条及び第四十六条において同じ。）は、日雇労働被保険者に賃金を支払う都度その者に係る印紙保険料を納付しなければならない。\\n前項の規定による印紙保険料の納付は、事業主が、雇用保険法第四十四条の規定により当該日雇労働被保険者に交付された日雇労働被保険者手帳（以下「日雇労働被保険者手帳」という。）に雇用保険印紙をはり、これに消印して行わなければならない。'),\n",
       " Document(metadata={'article_name': '育児休業の申出', 'article_number': '第五条', 'chapter_name': '育児休業', 'chapter_number': '第二章', 'division_name': '', 'division_number': '', 'document_source': 'https://laws.e-gov.go.jp/law/403AC0000000076', 'enactment_year': '令和6年5月31日 施行', 'law_name': '育児休業、介護休業等育児又は家族介護を行う労働者の福祉に関する法律', 'law_number': '平成三年法律第七十六号'}, page_content='第一項ただし書、第二項、第三項（第一号及び第二号を除く。）、第四項（第一号及び第二号を除く。）、第五項及び前項後段の規定は、期間を定めて雇用される者であって、その締結する労働契約の期間の末日を育児休業終了予定日（第七条第三項の規定により当該育児休業終了予定日が変更された場合にあっては、その変更後の育児休業終了予定日とされた日）とする育児休業をしているものが、当該育児休業に係る子について、当該労働契約の更新に伴い、当該更新後の労働契約の期間の初日を育児休業開始予定日とする育児休業申出をする場合には、これを適用しない。'),\n",
       " Document(metadata={'article_name': '育児休業の申出', 'article_number': '第五条', 'chapter_name': '育児休業', 'chapter_number': '第二章', 'division_name': '', 'division_number': '', 'document_source': 'https://laws.e-gov.go.jp/law/403AC0000000076', 'enactment_year': '令和6年5月31日 施行', 'law_name': '育児休業、介護休業等育児又は家族介護を行う労働者の福祉に関する法律', 'law_number': '平成三年法律第七十六号'}, page_content='第一項ただし書、第二項、第三項（第一号及び第二号を除く。）、第四項（第一号及び第二号を除く。）、第五項及び前項後段の規定は、期間を定めて雇用される者であって、その締結する労働契約の期間の末日を育児休業終了予定日（第七条第三項の規定により当該育児休業終了予定日が変更された場合にあっては、その変更後の育児休業終了予定日とされた日）とする育児休業をしているものが、当該育児休業に係る子について、当該労働契約の更新に伴い、当該更新後の労働契約の期間の初日を育児休業開始予定日とする育児休業申出をする場合には、これを適用しない。'),\n",
       " Document(metadata={'article_name': '育児休業の申出', 'article_number': '第五条', 'chapter_name': '育児休業', 'chapter_number': '第二章', 'division_name': '', 'division_number': '', 'document_source': 'https://laws.e-gov.go.jp/law/403AC0000000076', 'enactment_year': '令和6年5月31日 施行', 'law_name': '育児休業、介護休業等育児又は家族介護を行う労働者の福祉に関する法律', 'law_number': '平成三年法律第七十六号'}, page_content='第一項ただし書、第二項、第三項（第一号及び第二号を除く。）、第四項（第一号及び第二号を除く。）、第五項及び前項後段の規定は、期間を定めて雇用される者であって、その締結する労働契約の期間の末日を育児休業終了予定日（第七条第三項の規定により当該育児休業終了予定日が変更された場合にあっては、その変更後の育児休業終了予定日とされた日）とする育児休業をしているものが、当該育児休業に係る子について、当該労働契約の更新に伴い、当該更新後の労働契約の期間の初日を育児休業開始予定日とする育児休業申出をする場合には、これを適用しない。'),\n",
       " Document(metadata={'article_name': '育児休業の申出', 'article_number': '第五条', 'chapter_name': '育児休業', 'chapter_number': '第二章', 'division_name': '', 'division_number': '', 'document_source': 'https://laws.e-gov.go.jp/law/403AC0000000076', 'enactment_year': '令和6年5月31日 施行', 'law_name': '育児休業、介護休業等育児又は家族介護を行う労働者の福祉に関する法律', 'law_number': '平成三年法律第七十六号'}, page_content='第一項ただし書、第二項、第三項（第一号及び第二号を除く。）、第四項（第一号及び第二号を除く。）、第五項及び前項後段の規定は、期間を定めて雇用される者であって、その締結する労働契約の期間の末日を育児休業終了予定日（第七条第三項の規定により当該育児休業終了予定日が変更された場合にあっては、その変更後の育児休業終了予定日とされた日）とする育児休業をしているものが、当該育児休業に係る子について、当該労働契約の更新に伴い、当該更新後の労働契約の期間の初日を育児休業開始予定日とする育児休業申出をする場合には、これを適用しない。'),\n",
       " Document(metadata={'article_name': '育児休業の申出', 'article_number': '第五条', 'chapter_name': '育児休業', 'chapter_number': '第二章', 'division_name': '', 'division_number': '', 'document_source': 'https://laws.e-gov.go.jp/law/403AC0000000076', 'enactment_year': '令和6年5月31日 施行', 'law_name': '育児休業、介護休業等育児又は家族介護を行う労働者の福祉に関する法律', 'law_number': '平成三年法律第七十六号'}, page_content='第一項ただし書、第二項、第三項（第一号及び第二号を除く。）、第四項（第一号及び第二号を除く。）、第五項及び前項後段の規定は、期間を定めて雇用される者であって、その締結する労働契約の期間の末日を育児休業終了予定日（第七条第三項の規定により当該育児休業終了予定日が変更された場合にあっては、その変更後の育児休業終了予定日とされた日）とする育児休業をしているものが、当該育児休業に係る子について、当該労働契約の更新に伴い、当該更新後の労働契約の期間の初日を育児休業開始予定日とする育児休業申出をする場合には、これを適用しない。'),\n",
       " Document(metadata={'article_name': '育児休業の申出', 'article_number': '第五条', 'chapter_name': '育児休業', 'chapter_number': '第二章', 'division_name': '', 'division_number': '', 'document_source': 'https://laws.e-gov.go.jp/law/403AC0000000076', 'enactment_year': '令和6年5月31日 施行', 'law_name': '育児休業、介護休業等育児又は家族介護を行う労働者の福祉に関する法律', 'law_number': '平成三年法律第七十六号'}, page_content='第一項ただし書、第二項、第三項（第一号及び第二号を除く。）、第四項（第一号及び第二号を除く。）、第五項及び前項後段の規定は、期間を定めて雇用される者であって、その締結する労働契約の期間の末日を育児休業終了予定日（第七条第三項の規定により当該育児休業終了予定日が変更された場合にあっては、その変更後の育児休業終了予定日とされた日）とする育児休業をしているものが、当該育児休業に係る子について、当該労働契約の更新に伴い、当該更新後の労働契約の期間の初日を育児休業開始予定日とする育児休業申出をする場合には、これを適用しない。'),\n",
       " Document(metadata={'article_name': '登録の申請', 'article_number': '第十四条の五', 'chapter_name': '登録', 'chapter_number': '第二章の二', 'division_name': '', 'division_number': '', 'document_source': 'https://laws.e-gov.go.jp/law/343AC1000000089', 'enactment_year': '令和5年6月14日 施行', 'law_name': '社会保険労務士法', 'law_number': '昭和四十三年法律第八十九号'}, page_content='昭和四十三年法律第八十九号\\u3000社会保険労務士法/第二章の二\\u3000登録/第十四条の五\\u3000登録の申請/第十四条の二第一項の規定による登録を受けようとする者は、同項に規定する事項その他厚生労働省令で定める事項を記載した登録申請書を、社会保険労務士となる資格を有することを証する書類を添付の上、厚生労働省令で定める社会保険労務士会を経由して、連合会に提出しなければならない。'),\n",
       " Document(metadata={'article_name': '登録の申請', 'article_number': '第十四条の五', 'chapter_name': '登録', 'chapter_number': '第二章の二', 'division_name': '', 'division_number': '', 'document_source': 'https://laws.e-gov.go.jp/law/343AC1000000089', 'enactment_year': '令和5年6月14日 施行', 'law_name': '社会保険労務士法', 'law_number': '昭和四十三年法律第八十九号'}, page_content='昭和四十三年法律第八十九号\\u3000社会保険労務士法/第二章の二\\u3000登録/第十四条の五\\u3000登録の申請/第十四条の二第一項の規定による登録を受けようとする者は、同項に規定する事項その他厚生労働省令で定める事項を記載した登録申請書を、社会保険労務士となる資格を有することを証する書類を添付の上、厚生労働省令で定める社会保険労務士会を経由して、連合会に提出しなければならない。'),\n",
       " Document(metadata={'article_name': '届出', 'article_number': '第十二条', 'chapter_name': '被保険者', 'chapter_number': '第二章', 'division_name': '', 'division_number': '', 'document_source': 'https://laws.e-gov.go.jp/law/334AC0000000141', 'enactment_year': '令和6年12月2日 施行', 'law_name': '国民年金法', 'law_number': '昭和三十四年法律第百四十一号'}, page_content='前項の届出は、厚生労働省令で定める場合を除き、厚生年金保険法第二条の五第一項第一号に規定する第一号厚生年金被保険者（以下「第一号厚生年金被保険者」という。）である第二号被保険者の被扶養配偶者である第三号被保険者にあつては、その配偶者である第二号被保険者を使用する事業主を経由して行うものとし、同項第二号に規定する第二号厚生年金被保険者（以下「第二号厚生年金被保険者」という。）、同項第三号に規定する第三号厚生年金被保険者（以下「第三号厚生年金被保険者」という。）又は同項第四号に規定する第四号厚生年金被保険者（以下「第四号厚生年金被保険者」という。）である第二号被保険者の被扶養配偶者である第三号被保険者にあつては、その配偶者である第二号被保険者を組合員又は加入者とする国家公務員共済組合、地方公務員共済組合又は日本私立学校振興・共済事業団を経由して行うものとする。'),\n",
       " Document(metadata={'article_name': '届出', 'article_number': '第十二条', 'chapter_name': '被保険者', 'chapter_number': '第二章', 'division_name': '', 'division_number': '', 'document_source': 'https://laws.e-gov.go.jp/law/334AC0000000141', 'enactment_year': '令和6年12月2日 施行', 'law_name': '国民年金法', 'law_number': '昭和三十四年法律第百四十一号'}, page_content='前項の届出は、厚生労働省令で定める場合を除き、厚生年金保険法第二条の五第一項第一号に規定する第一号厚生年金被保険者（以下「第一号厚生年金被保険者」という。）である第二号被保険者の被扶養配偶者である第三号被保険者にあつては、その配偶者である第二号被保険者を使用する事業主を経由して行うものとし、同項第二号に規定する第二号厚生年金被保険者（以下「第二号厚生年金被保険者」という。）、同項第三号に規定する第三号厚生年金被保険者（以下「第三号厚生年金被保険者」という。）又は同項第四号に規定する第四号厚生年金被保険者（以下「第四号厚生年金被保険者」という。）である第二号被保険者の被扶養配偶者である第三号被保険者にあつては、その配偶者である第二号被保険者を組合員又は加入者とする国家公務員共済組合、地方公務員共済組合又は日本私立学校振興・共済事業団を経由して行うものとする。'),\n",
       " Document(metadata={'article_name': '届出', 'article_number': '第十二条', 'chapter_name': '被保険者', 'chapter_number': '第二章', 'division_name': '', 'division_number': '', 'document_source': 'https://laws.e-gov.go.jp/law/334AC0000000141', 'enactment_year': '令和6年12月2日 施行', 'law_name': '国民年金法', 'law_number': '昭和三十四年法律第百四十一号'}, page_content='前項の届出は、厚生労働省令で定める場合を除き、厚生年金保険法第二条の五第一項第一号に規定する第一号厚生年金被保険者（以下「第一号厚生年金被保険者」という。）である第二号被保険者の被扶養配偶者である第三号被保険者にあつては、その配偶者である第二号被保険者を使用する事業主を経由して行うものとし、同項第二号に規定する第二号厚生年金被保険者（以下「第二号厚生年金被保険者」という。）、同項第三号に規定する第三号厚生年金被保険者（以下「第三号厚生年金被保険者」という。）又は同項第四号に規定する第四号厚生年金被保険者（以下「第四号厚生年金被保険者」という。）である第二号被保険者の被扶養配偶者である第三号被保険者にあつては、その配偶者である第二号被保険者を組合員又は加入者とする国家公務員共済組合、地方公務員共済組合又は日本私立学校振興・共済事業団を経由して行うものとする。'),\n",
       " Document(metadata={'article_name': '届出', 'article_number': '第十二条', 'chapter_name': '被保険者', 'chapter_number': '第二章', 'division_name': '', 'division_number': '', 'document_source': 'https://laws.e-gov.go.jp/law/334AC0000000141', 'enactment_year': '令和6年12月2日 施行', 'law_name': '国民年金法', 'law_number': '昭和三十四年法律第百四十一号'}, page_content='前項の届出は、厚生労働省令で定める場合を除き、厚生年金保険法第二条の五第一項第一号に規定する第一号厚生年金被保険者（以下「第一号厚生年金被保険者」という。）である第二号被保険者の被扶養配偶者である第三号被保険者にあつては、その配偶者である第二号被保険者を使用する事業主を経由して行うものとし、同項第二号に規定する第二号厚生年金被保険者（以下「第二号厚生年金被保険者」という。）、同項第三号に規定する第三号厚生年金被保険者（以下「第三号厚生年金被保険者」という。）又は同項第四号に規定する第四号厚生年金被保険者（以下「第四号厚生年金被保険者」という。）である第二号被保険者の被扶養配偶者である第三号被保険者にあつては、その配偶者である第二号被保険者を組合員又は加入者とする国家公務員共済組合、地方公務員共済組合又は日本私立学校振興・共済事業団を経由して行うものとする。'),\n",
       " Document(metadata={'article_name': '確定保険料', 'article_number': '第十九条', 'chapter_name': '労働保険料の納付の手続等', 'chapter_number': '第三章', 'division_name': '', 'division_number': '', 'document_source': 'https://laws.e-gov.go.jp/law/344AC0000000084', 'enactment_year': '令和6年10月1日 施行', 'law_name': '労働保険の保険料の徴収等に関する法律', 'law_number': '昭和四十四年法律第八十四号'}, page_content='昭和四十四年法律第八十四号\\u3000労働保険の保険料の徴収等に関する法律/第三章\\u3000労働保険料の納付の手続等/第十九条\\u3000確定保険料/事業主は、保険年度ごとに、次に掲げる労働保険料の額その他厚生労働省令で定める事項を記載した申告書を、次の保険年度の六月一日から四十日以内（保険年度の中途に保険関係が消滅したものについては、当該保険関係が消滅した日（保険年度の中途に労災保険法第三十四条第一項の承認が取り消された事業に係る第一種特別加入保険料及び保険年度の中途に労災保険法第三十六条第一項の承認が取り消された事業に係る第三種特別加入保険料に関しては、それぞれ当該承認が取り消された日。第三項において同じ。）から五十日以内）に提出しなければならない。\\n一\\u3000第十五条第一項第一号の事業にあつては、その保険年度に使用したすべての労働者（保険年度の中途に保険関係が成立し、又は消滅したものについては、その保険年度において、当該保険関係が成立していた期間に使用したすべての労働者）に係る賃金総額に当該事業についての一般保険料率を乗じて算定した一般保険料\\n二\\u3000第十五条第一項第二号の事業にあつては、次に掲げる労働保険料'),\n",
       " Document(metadata={'article_name': '確定保険料', 'article_number': '第十九条', 'chapter_name': '労働保険料の納付の手続等', 'chapter_number': '第三章', 'division_name': '', 'division_number': '', 'document_source': 'https://laws.e-gov.go.jp/law/344AC0000000084', 'enactment_year': '令和6年10月1日 施行', 'law_name': '労働保険の保険料の徴収等に関する法律', 'law_number': '昭和四十四年法律第八十四号'}, page_content='昭和四十四年法律第八十四号\\u3000労働保険の保険料の徴収等に関する法律/第三章\\u3000労働保険料の納付の手続等/第十九条\\u3000確定保険料/事業主は、保険年度ごとに、次に掲げる労働保険料の額その他厚生労働省令で定める事項を記載した申告書を、次の保険年度の六月一日から四十日以内（保険年度の中途に保険関係が消滅したものについては、当該保険関係が消滅した日（保険年度の中途に労災保険法第三十四条第一項の承認が取り消された事業に係る第一種特別加入保険料及び保険年度の中途に労災保険法第三十六条第一項の承認が取り消された事業に係る第三種特別加入保険料に関しては、それぞれ当該承認が取り消された日。第三項において同じ。）から五十日以内）に提出しなければならない。\\n一\\u3000第十五条第一項第一号の事業にあつては、その保険年度に使用したすべての労働者（保険年度の中途に保険関係が成立し、又は消滅したものについては、その保険年度において、当該保険関係が成立していた期間に使用したすべての労働者）に係る賃金総額に当該事業についての一般保険料率を乗じて算定した一般保険料\\n二\\u3000第十五条第一項第二号の事業にあつては、次に掲げる労働保険料'),\n",
       " Document(metadata={'article_name': '確定保険料', 'article_number': '第十九条', 'chapter_name': '労働保険料の納付の手続等', 'chapter_number': '第三章', 'division_name': '', 'division_number': '', 'document_source': 'https://laws.e-gov.go.jp/law/344AC0000000084', 'enactment_year': '令和6年10月1日 施行', 'law_name': '労働保険の保険料の徴収等に関する法律', 'law_number': '昭和四十四年法律第八十四号'}, page_content='昭和四十四年法律第八十四号\\u3000労働保険の保険料の徴収等に関する法律/第三章\\u3000労働保険料の納付の手続等/第十九条\\u3000確定保険料/事業主は、保険年度ごとに、次に掲げる労働保険料の額その他厚生労働省令で定める事項を記載した申告書を、次の保険年度の六月一日から四十日以内（保険年度の中途に保険関係が消滅したものについては、当該保険関係が消滅した日（保険年度の中途に労災保険法第三十四条第一項の承認が取り消された事業に係る第一種特別加入保険料及び保険年度の中途に労災保険法第三十六条第一項の承認が取り消された事業に係る第三種特別加入保険料に関しては、それぞれ当該承認が取り消された日。第三項において同じ。）から五十日以内）に提出しなければならない。\\n一\\u3000第十五条第一項第一号の事業にあつては、その保険年度に使用したすべての労働者（保険年度の中途に保険関係が成立し、又は消滅したものについては、その保険年度において、当該保険関係が成立していた期間に使用したすべての労働者）に係る賃金総額に当該事業についての一般保険料率を乗じて算定した一般保険料\\n二\\u3000第十五条第一項第二号の事業にあつては、次に掲げる労働保険料'),\n",
       " Document(metadata={'article_name': '概算保険料の納付', 'article_number': '第十五条', 'chapter_name': '労働保険料の納付の手続等', 'chapter_number': '第三章', 'division_name': '', 'division_number': '', 'document_source': 'https://laws.e-gov.go.jp/law/344AC0000000084', 'enactment_year': '令和6年10月1日 施行', 'law_name': '労働保険の保険料の徴収等に関する法律', 'law_number': '昭和四十四年法律第八十四号'}, page_content='昭和四十四年法律第八十四号\\u3000労働保険の保険料の徴収等に関する法律/第三章\\u3000労働保険料の納付の手続等/第十五条\\u3000概算保険料の納付/事業主は、保険年度ごとに、次に掲げる労働保険料を、その労働保険料の額その他厚生労働省令で定める事項を記載した申告書に添えて、その保険年度の六月一日から四十日以内（保険年度の中途に保険関係が成立したものについては、当該保険関係が成立した日（保険年度の中途に労災保険法第三十四条第一項の承認があつた事業に係る第一種特別加入保険料及び保険年度の中途に労災保険法第三十六条第一項の承認があつた事業に係る第三種特別加入保険料に関しては、それぞれ当該承認があつた日）から五十日以内）に納付しなければならない。'),\n",
       " Document(metadata={'article_name': '概算保険料の納付', 'article_number': '第十五条', 'chapter_name': '労働保険料の納付の手続等', 'chapter_number': '第三章', 'division_name': '', 'division_number': '', 'document_source': 'https://laws.e-gov.go.jp/law/344AC0000000084', 'enactment_year': '令和6年10月1日 施行', 'law_name': '労働保険の保険料の徴収等に関する法律', 'law_number': '昭和四十四年法律第八十四号'}, page_content='昭和四十四年法律第八十四号\\u3000労働保険の保険料の徴収等に関する法律/第三章\\u3000労働保険料の納付の手続等/第十五条\\u3000概算保険料の納付/事業主は、保険年度ごとに、次に掲げる労働保険料を、その労働保険料の額その他厚生労働省令で定める事項を記載した申告書に添えて、その保険年度の六月一日から四十日以内（保険年度の中途に保険関係が成立したものについては、当該保険関係が成立した日（保険年度の中途に労災保険法第三十四条第一項の承認があつた事業に係る第一種特別加入保険料及び保険年度の中途に労災保険法第三十六条第一項の承認があつた事業に係る第三種特別加入保険料に関しては、それぞれ当該承認があつた日）から五十日以内）に納付しなければならない。'),\n",
       " Document(metadata={'article_name': '概算保険料の納付', 'article_number': '第十五条', 'chapter_name': '労働保険料の納付の手続等', 'chapter_number': '第三章', 'division_name': '', 'division_number': '', 'document_source': 'https://laws.e-gov.go.jp/law/344AC0000000084', 'enactment_year': '令和6年10月1日 施行', 'law_name': '労働保険の保険料の徴収等に関する法律', 'law_number': '昭和四十四年法律第八十四号'}, page_content='昭和四十四年法律第八十四号\\u3000労働保険の保険料の徴収等に関する法律/第三章\\u3000労働保険料の納付の手続等/第十五条\\u3000概算保険料の納付/事業主は、保険年度ごとに、次に掲げる労働保険料を、その労働保険料の額その他厚生労働省令で定める事項を記載した申告書に添えて、その保険年度の六月一日から四十日以内（保険年度の中途に保険関係が成立したものについては、当該保険関係が成立した日（保険年度の中途に労災保険法第三十四条第一項の承認があつた事業に係る第一種特別加入保険料及び保険年度の中途に労災保険法第三十六条第一項の承認があつた事業に係る第三種特別加入保険料に関しては、それぞれ当該承認があつた日）から五十日以内）に納付しなければならない。'),\n",
       " Document(metadata={'article_name': '出生時育児休業の申出', 'article_number': '第九条の二', 'chapter_name': '育児休業', 'chapter_number': '第二章', 'division_name': '', 'division_number': '', 'document_source': 'https://laws.e-gov.go.jp/law/403AC0000000076', 'enactment_year': '令和6年5月31日 施行', 'law_name': '育児休業、介護休業等育児又は家族介護を行う労働者の福祉に関する法律', 'law_number': '平成三年法律第七十六号'}, page_content='第一項ただし書及び第二項（第二号を除く。）の規定は、期間を定めて雇用される者であって、その締結する労働契約の期間の末日を出生時育児休業終了予定日（第九条の四において準用する第七条第三項の規定により当該出生時育児休業終了予定日が変更された場合にあっては、その変更後の出生時育児休業終了予定日とされた日）とする出生時育児休業をしているものが、当該出生時育児休業に係る子について、当該労働契約の更新に伴い、当該更新後の労働契約の期間の初日を出生時育児休業開始予定日とする出生時育児休業申出をする場合には、これを適用しない。'),\n",
       " Document(metadata={'article_name': '出生時育児休業の申出', 'article_number': '第九条の二', 'chapter_name': '育児休業', 'chapter_number': '第二章', 'division_name': '', 'division_number': '', 'document_source': 'https://laws.e-gov.go.jp/law/403AC0000000076', 'enactment_year': '令和6年5月31日 施行', 'law_name': '育児休業、介護休業等育児又は家族介護を行う労働者の福祉に関する法律', 'law_number': '平成三年法律第七十六号'}, page_content='第一項ただし書及び第二項（第二号を除く。）の規定は、期間を定めて雇用される者であって、その締結する労働契約の期間の末日を出生時育児休業終了予定日（第九条の四において準用する第七条第三項の規定により当該出生時育児休業終了予定日が変更された場合にあっては、その変更後の出生時育児休業終了予定日とされた日）とする出生時育児休業をしているものが、当該出生時育児休業に係る子について、当該労働契約の更新に伴い、当該更新後の労働契約の期間の初日を出生時育児休業開始予定日とする出生時育児休業申出をする場合には、これを適用しない。'),\n",
       " Document(metadata={'article_name': '出生時育児休業の申出', 'article_number': '第九条の二', 'chapter_name': '育児休業', 'chapter_number': '第二章', 'division_name': '', 'division_number': '', 'document_source': 'https://laws.e-gov.go.jp/law/403AC0000000076', 'enactment_year': '令和6年5月31日 施行', 'law_name': '育児休業、介護休業等育児又は家族介護を行う労働者の福祉に関する法律', 'law_number': '平成三年法律第七十六号'}, page_content='第一項ただし書及び第二項（第二号を除く。）の規定は、期間を定めて雇用される者であって、その締結する労働契約の期間の末日を出生時育児休業終了予定日（第九条の四において準用する第七条第三項の規定により当該出生時育児休業終了予定日が変更された場合にあっては、その変更後の出生時育児休業終了予定日とされた日）とする出生時育児休業をしているものが、当該出生時育児休業に係る子について、当該労働契約の更新に伴い、当該更新後の労働契約の期間の初日を出生時育児休業開始予定日とする出生時育児休業申出をする場合には、これを適用しない。'),\n",
       " Document(metadata={'article_name': '出生時育児休業の申出', 'article_number': '第九条の二', 'chapter_name': '育児休業', 'chapter_number': '第二章', 'division_name': '', 'division_number': '', 'document_source': 'https://laws.e-gov.go.jp/law/403AC0000000076', 'enactment_year': '令和6年5月31日 施行', 'law_name': '育児休業、介護休業等育児又は家族介護を行う労働者の福祉に関する法律', 'law_number': '平成三年法律第七十六号'}, page_content='第一項ただし書及び第二項（第二号を除く。）の規定は、期間を定めて雇用される者であって、その締結する労働契約の期間の末日を出生時育児休業終了予定日（第九条の四において準用する第七条第三項の規定により当該出生時育児休業終了予定日が変更された場合にあっては、その変更後の出生時育児休業終了予定日とされた日）とする出生時育児休業をしているものが、当該出生時育児休業に係る子について、当該労働契約の更新に伴い、当該更新後の労働契約の期間の初日を出生時育児休業開始予定日とする出生時育児休業申出をする場合には、これを適用しない。'),\n",
       " Document(metadata={'article_name': '出生時育児休業の申出', 'article_number': '第九条の二', 'chapter_name': '育児休業', 'chapter_number': '第二章', 'division_name': '', 'division_number': '', 'document_source': 'https://laws.e-gov.go.jp/law/403AC0000000076', 'enactment_year': '令和6年5月31日 施行', 'law_name': '育児休業、介護休業等育児又は家族介護を行う労働者の福祉に関する法律', 'law_number': '平成三年法律第七十六号'}, page_content='第一項ただし書及び第二項（第二号を除く。）の規定は、期間を定めて雇用される者であって、その締結する労働契約の期間の末日を出生時育児休業終了予定日（第九条の四において準用する第七条第三項の規定により当該出生時育児休業終了予定日が変更された場合にあっては、その変更後の出生時育児休業終了予定日とされた日）とする出生時育児休業をしているものが、当該出生時育児休業に係る子について、当該労働契約の更新に伴い、当該更新後の労働契約の期間の初日を出生時育児休業開始予定日とする出生時育児休業申出をする場合には、これを適用しない。'),\n",
       " Document(metadata={'article_name': '出生時育児休業の申出', 'article_number': '第九条の二', 'chapter_name': '育児休業', 'chapter_number': '第二章', 'division_name': '', 'division_number': '', 'document_source': 'https://laws.e-gov.go.jp/law/403AC0000000076', 'enactment_year': '令和6年5月31日 施行', 'law_name': '育児休業、介護休業等育児又は家族介護を行う労働者の福祉に関する法律', 'law_number': '平成三年法律第七十六号'}, page_content='第一項ただし書及び第二項（第二号を除く。）の規定は、期間を定めて雇用される者であって、その締結する労働契約の期間の末日を出生時育児休業終了予定日（第九条の四において準用する第七条第三項の規定により当該出生時育児休業終了予定日が変更された場合にあっては、その変更後の出生時育児休業終了予定日とされた日）とする出生時育児休業をしているものが、当該出生時育児休業に係る子について、当該労働契約の更新に伴い、当該更新後の労働契約の期間の初日を出生時育児休業開始予定日とする出生時育児休業申出をする場合には、これを適用しない。'),\n",
       " Document(metadata={'article_name': '年少者の証明書', 'article_number': '第五十七条', 'chapter_name': '年少者', 'chapter_number': '第六章', 'division_name': '', 'division_number': '', 'document_source': 'https://laws.e-gov.go.jp/law/322AC0000000049', 'enactment_year': '令和6年5月31日 施行', 'law_name': '労働基準法', 'law_number': '昭和二十二年法律第四十九号'}, page_content='昭和二十二年法律第四十九号\\u3000労働基準法/第六章\\u3000年少者/第五十七条\\u3000年少者の証明書/使用者は、満十八才に満たない者について、その年齢を証明する戸籍証明書を事業場に備え付けなければならない。\\n使用者は、前条第二項の規定によつて使用する児童については、修学に差し支えないことを証明する学校長の証明書及び親権者又は後見人の同意書を事業場に備え付けなければならない。'),\n",
       " Document(metadata={'article_name': '年少者の証明書', 'article_number': '第五十七条', 'chapter_name': '年少者', 'chapter_number': '第六章', 'division_name': '', 'division_number': '', 'document_source': 'https://laws.e-gov.go.jp/law/322AC0000000049', 'enactment_year': '令和6年5月31日 施行', 'law_name': '労働基準法', 'law_number': '昭和二十二年法律第四十九号'}, page_content='昭和二十二年法律第四十九号\\u3000労働基準法/第六章\\u3000年少者/第五十七条\\u3000年少者の証明書/使用者は、満十八才に満たない者について、その年齢を証明する戸籍証明書を事業場に備え付けなければならない。\\n使用者は、前条第二項の規定によつて使用する児童については、修学に差し支えないことを証明する学校長の証明書及び親権者又は後見人の同意書を事業場に備え付けなければならない。'),\n",
       " Document(metadata={'article_name': '年少者の証明書', 'article_number': '第五十七条', 'chapter_name': '年少者', 'chapter_number': '第六章', 'division_name': '', 'division_number': '', 'document_source': 'https://laws.e-gov.go.jp/law/322AC0000000049', 'enactment_year': '令和6年5月31日 施行', 'law_name': '労働基準法', 'law_number': '昭和二十二年法律第四十九号'}, page_content='昭和二十二年法律第四十九号\\u3000労働基準法/第六章\\u3000年少者/第五十七条\\u3000年少者の証明書/使用者は、満十八才に満たない者について、その年齢を証明する戸籍証明書を事業場に備え付けなければならない。\\n使用者は、前条第二項の規定によつて使用する児童については、修学に差し支えないことを証明する学校長の証明書及び親権者又は後見人の同意書を事業場に備え付けなければならない。'),\n",
       " Document(metadata={'article_name': '年少者の証明書', 'article_number': '第五十七条', 'chapter_name': '年少者', 'chapter_number': '第六章', 'division_name': '', 'division_number': '', 'document_source': 'https://laws.e-gov.go.jp/law/322AC0000000049', 'enactment_year': '令和6年5月31日 施行', 'law_name': '労働基準法', 'law_number': '昭和二十二年法律第四十九号'}, page_content='昭和二十二年法律第四十九号\\u3000労働基準法/第六章\\u3000年少者/第五十七条\\u3000年少者の証明書/使用者は、満十八才に満たない者について、その年齢を証明する戸籍証明書を事業場に備え付けなければならない。\\n使用者は、前条第二項の規定によつて使用する児童については、修学に差し支えないことを証明する学校長の証明書及び親権者又は後見人の同意書を事業場に備え付けなければならない。'),\n",
       " Document(metadata={'article_name': '年少者の証明書', 'article_number': '第五十七条', 'chapter_name': '年少者', 'chapter_number': '第六章', 'division_name': '', 'division_number': '', 'document_source': 'https://laws.e-gov.go.jp/law/322AC0000000049', 'enactment_year': '令和6年5月31日 施行', 'law_name': '労働基準法', 'law_number': '昭和二十二年法律第四十九号'}, page_content='昭和二十二年法律第四十九号\\u3000労働基準法/第六章\\u3000年少者/第五十七条\\u3000年少者の証明書/使用者は、満十八才に満たない者について、その年齢を証明する戸籍証明書を事業場に備え付けなければならない。\\n使用者は、前条第二項の規定によつて使用する児童については、修学に差し支えないことを証明する学校長の証明書及び親権者又は後見人の同意書を事業場に備え付けなければならない。')]"
      ]
     },
     "execution_count": 36,
     "metadata": {},
     "output_type": "execute_result"
    }
   ],
   "source": [
    "labor_retrievers.get_relevant_documents(\"労働者として採用された者は、採用を通知された日から会社が指定する期日までに履歴書・職務経歴書、入社誓約書、個人情報保護法に基づく誓約書、住民票記載事項証明書、給与所得者の扶養控除等(異動)申告書、源泉徴収票、雇用契約書、年金手帳の写し、通勤手当申請書、住宅手当申請書、給与振込先申請書、身元保証書、雇用保険被保険者証の写し、マイナンバーカード又はマイナンバー通知書の写し、資格免許証の写し、健康診断結果、学生証の写し、パスポートの写しを提出しなければならない。\")"
   ]
  },
  {
   "cell_type": "code",
   "execution_count": 37,
   "metadata": {},
   "outputs": [
    {
     "data": {
      "text/plain": [
       "[Document(metadata={'article_name': '労働条件等の明示', 'article_number': '第五条の三', 'chapter_name': '総則', 'chapter_number': '第一章', 'division_name': '', 'division_number': '', 'document_source': 'https://laws.e-gov.go.jp/law/322AC0000000141', 'enactment_year': '令和4年10月1日 施行', 'law_name': '職業安定法', 'law_number': '昭和二十二年法律第百四十一号'}, page_content='求人者、労働者の募集を行う者及び労働者供給を受けようとする者（供給される労働者を雇用する場合に限る。）は、それぞれ、求人の申込みをした公共職業安定所、特定地方公共団体若しくは職業紹介事業者の紹介による求職者、募集に応じて労働者になろうとする者又は供給される労働者と労働契約を締結しようとする場合であつて、これらの者に対して第一項の規定により明示された従事すべき業務の内容及び賃金、労働時間その他の労働条件（以下この項において「従事すべき業務の内容等」という。）を変更する場合その他厚生労働省令で定める場合は、当該契約の相手方となろうとする者に対し、当該変更する従事すべき業務の内容等その他厚生労働省令で定める事項を明示しなければならない。\\n前三項の規定による明示は、賃金及び労働時間に関する事項その他の厚生労働省令で定める事項については、厚生労働省令で定める方法により行わなければならない。'),\n",
       " Document(metadata={'article_name': '労働条件等の明示', 'article_number': '第五条の三', 'chapter_name': '総則', 'chapter_number': '第一章', 'division_name': '', 'division_number': '', 'document_source': 'https://laws.e-gov.go.jp/law/322AC0000000141', 'enactment_year': '令和4年10月1日 施行', 'law_name': '職業安定法', 'law_number': '昭和二十二年法律第百四十一号'}, page_content='求人者、労働者の募集を行う者及び労働者供給を受けようとする者（供給される労働者を雇用する場合に限る。）は、それぞれ、求人の申込みをした公共職業安定所、特定地方公共団体若しくは職業紹介事業者の紹介による求職者、募集に応じて労働者になろうとする者又は供給される労働者と労働契約を締結しようとする場合であつて、これらの者に対して第一項の規定により明示された従事すべき業務の内容及び賃金、労働時間その他の労働条件（以下この項において「従事すべき業務の内容等」という。）を変更する場合その他厚生労働省令で定める場合は、当該契約の相手方となろうとする者に対し、当該変更する従事すべき業務の内容等その他厚生労働省令で定める事項を明示しなければならない。\\n前三項の規定による明示は、賃金及び労働時間に関する事項その他の厚生労働省令で定める事項については、厚生労働省令で定める方法により行わなければならない。'),\n",
       " Document(metadata={'article_name': '労働者名簿', 'article_number': '第百七条', 'chapter_name': '雑則', 'chapter_number': '第十二章', 'division_name': '', 'division_number': '', 'document_source': 'https://laws.e-gov.go.jp/law/322AC0000000049', 'enactment_year': '令和6年5月31日 施行', 'law_name': '労働基準法', 'law_number': '昭和二十二年法律第四十九号'}, page_content='昭和二十二年法律第四十九号\\u3000労働基準法/第十二章\\u3000雑則/第百七条\\u3000労働者名簿/使用者は、各事業場ごとに労働者名簿を、各労働者（日日雇い入れられる者を除く。）について調製し、労働者の氏名、生年月日、履歴その他厚生労働省令で定める事項を記入しなければならない。\\n前項の規定により記入すべき事項に変更があつた場合においては、遅滞なく訂正しなければならない。'),\n",
       " Document(metadata={'article_name': '労働者名簿', 'article_number': '第百七条', 'chapter_name': '雑則', 'chapter_number': '第十二章', 'division_name': '', 'division_number': '', 'document_source': 'https://laws.e-gov.go.jp/law/322AC0000000049', 'enactment_year': '令和6年5月31日 施行', 'law_name': '労働基準法', 'law_number': '昭和二十二年法律第四十九号'}, page_content='昭和二十二年法律第四十九号\\u3000労働基準法/第十二章\\u3000雑則/第百七条\\u3000労働者名簿/使用者は、各事業場ごとに労働者名簿を、各労働者（日日雇い入れられる者を除く。）について調製し、労働者の氏名、生年月日、履歴その他厚生労働省令で定める事項を記入しなければならない。\\n前項の規定により記入すべき事項に変更があつた場合においては、遅滞なく訂正しなければならない。'),\n",
       " Document(metadata={'article_name': '労働者名簿', 'article_number': '第百七条', 'chapter_name': '雑則', 'chapter_number': '第十二章', 'division_name': '', 'division_number': '', 'document_source': 'https://laws.e-gov.go.jp/law/322AC0000000049', 'enactment_year': '令和6年5月31日 施行', 'law_name': '労働基準法', 'law_number': '昭和二十二年法律第四十九号'}, page_content='昭和二十二年法律第四十九号\\u3000労働基準法/第十二章\\u3000雑則/第百七条\\u3000労働者名簿/使用者は、各事業場ごとに労働者名簿を、各労働者（日日雇い入れられる者を除く。）について調製し、労働者の氏名、生年月日、履歴その他厚生労働省令で定める事項を記入しなければならない。\\n前項の規定により記入すべき事項に変更があつた場合においては、遅滞なく訂正しなければならない。'),\n",
       " Document(metadata={'article_name': '労働者名簿', 'article_number': '第百七条', 'chapter_name': '雑則', 'chapter_number': '第十二章', 'division_name': '', 'division_number': '', 'document_source': 'https://laws.e-gov.go.jp/law/322AC0000000049', 'enactment_year': '令和6年5月31日 施行', 'law_name': '労働基準法', 'law_number': '昭和二十二年法律第四十九号'}, page_content='昭和二十二年法律第四十九号\\u3000労働基準法/第十二章\\u3000雑則/第百七条\\u3000労働者名簿/使用者は、各事業場ごとに労働者名簿を、各労働者（日日雇い入れられる者を除く。）について調製し、労働者の氏名、生年月日、履歴その他厚生労働省令で定める事項を記入しなければならない。\\n前項の規定により記入すべき事項に変更があつた場合においては、遅滞なく訂正しなければならない。'),\n",
       " Document(metadata={'article_name': '労働者名簿', 'article_number': '第百七条', 'chapter_name': '雑則', 'chapter_number': '第十二章', 'division_name': '', 'division_number': '', 'document_source': 'https://laws.e-gov.go.jp/law/322AC0000000049', 'enactment_year': '令和6年5月31日 施行', 'law_name': '労働基準法', 'law_number': '昭和二十二年法律第四十九号'}, page_content='昭和二十二年法律第四十九号\\u3000労働基準法/第十二章\\u3000雑則/第百七条\\u3000労働者名簿/使用者は、各事業場ごとに労働者名簿を、各労働者（日日雇い入れられる者を除く。）について調製し、労働者の氏名、生年月日、履歴その他厚生労働省令で定める事項を記入しなければならない。\\n前項の規定により記入すべき事項に変更があつた場合においては、遅滞なく訂正しなければならない。'),\n",
       " Document(metadata={'article_name': '労働者名簿', 'article_number': '第百七条', 'chapter_name': '雑則', 'chapter_number': '第十二章', 'division_name': '', 'division_number': '', 'document_source': 'https://laws.e-gov.go.jp/law/322AC0000000049', 'enactment_year': '令和6年5月31日 施行', 'law_name': '労働基準法', 'law_number': '昭和二十二年法律第四十九号'}, page_content='昭和二十二年法律第四十九号\\u3000労働基準法/第十二章\\u3000雑則/第百七条\\u3000労働者名簿/使用者は、各事業場ごとに労働者名簿を、各労働者（日日雇い入れられる者を除く。）について調製し、労働者の氏名、生年月日、履歴その他厚生労働省令で定める事項を記入しなければならない。\\n前項の規定により記入すべき事項に変更があつた場合においては、遅滞なく訂正しなければならない。'),\n",
       " Document(metadata={'article_name': '労働者名簿', 'article_number': '第百七条', 'chapter_name': '雑則', 'chapter_number': '第十二章', 'division_name': '', 'division_number': '', 'document_source': 'https://laws.e-gov.go.jp/law/322AC0000000049', 'enactment_year': '令和6年5月31日 施行', 'law_name': '労働基準法', 'law_number': '昭和二十二年法律第四十九号'}, page_content='昭和二十二年法律第四十九号\\u3000労働基準法/第十二章\\u3000雑則/第百七条\\u3000労働者名簿/使用者は、各事業場ごとに労働者名簿を、各労働者（日日雇い入れられる者を除く。）について調製し、労働者の氏名、生年月日、履歴その他厚生労働省令で定める事項を記入しなければならない。\\n前項の規定により記入すべき事項に変更があつた場合においては、遅滞なく訂正しなければならない。'),\n",
       " Document(metadata={'article_name': '労働者名簿', 'article_number': '第百七条', 'chapter_name': '雑則', 'chapter_number': '第十二章', 'division_name': '', 'division_number': '', 'document_source': 'https://laws.e-gov.go.jp/law/322AC0000000049', 'enactment_year': '令和6年5月31日 施行', 'law_name': '労働基準法', 'law_number': '昭和二十二年法律第四十九号'}, page_content='昭和二十二年法律第四十九号\\u3000労働基準法/第十二章\\u3000雑則/第百七条\\u3000労働者名簿/使用者は、各事業場ごとに労働者名簿を、各労働者（日日雇い入れられる者を除く。）について調製し、労働者の氏名、生年月日、履歴その他厚生労働省令で定める事項を記入しなければならない。\\n前項の規定により記入すべき事項に変更があつた場合においては、遅滞なく訂正しなければならない。'),\n",
       " Document(metadata={'article_name': '労働条件等の明示', 'article_number': '第五条の三', 'chapter_name': '総則', 'chapter_number': '第一章', 'division_name': '', 'division_number': '', 'document_source': 'https://laws.e-gov.go.jp/law/322AC0000000141', 'enactment_year': '令和4年10月1日 施行', 'law_name': '職業安定法', 'law_number': '昭和二十二年法律第百四十一号'}, page_content='昭和二十二年法律第百四十一号\\u3000職業安定法/第一章\\u3000総則/第五条の三\\u3000労働条件等の明示/公共職業安定所、特定地方公共団体及び職業紹介事業者、労働者の募集を行う者及び募集受託者並びに労働者供給事業者は、それぞれ、職業紹介、労働者の募集又は労働者供給に当たり、求職者、募集に応じて労働者になろうとする者又は供給される労働者に対し、その者が従事すべき業務の内容及び賃金、労働時間その他の労働条件を明示しなければならない。\\n求人者は求人の申込みに当たり公共職業安定所、特定地方公共団体又は職業紹介事業者に対し、労働者供給を受けようとする者はあらかじめ労働者供給事業者に対し、それぞれ、求職者又は供給される労働者が従事すべき業務の内容及び賃金、労働時間その他の労働条件を明示しなければならない。'),\n",
       " Document(metadata={'article_name': '労働条件等の明示', 'article_number': '第五条の三', 'chapter_name': '総則', 'chapter_number': '第一章', 'division_name': '', 'division_number': '', 'document_source': 'https://laws.e-gov.go.jp/law/322AC0000000141', 'enactment_year': '令和4年10月1日 施行', 'law_name': '職業安定法', 'law_number': '昭和二十二年法律第百四十一号'}, page_content='昭和二十二年法律第百四十一号\\u3000職業安定法/第一章\\u3000総則/第五条の三\\u3000労働条件等の明示/公共職業安定所、特定地方公共団体及び職業紹介事業者、労働者の募集を行う者及び募集受託者並びに労働者供給事業者は、それぞれ、職業紹介、労働者の募集又は労働者供給に当たり、求職者、募集に応じて労働者になろうとする者又は供給される労働者に対し、その者が従事すべき業務の内容及び賃金、労働時間その他の労働条件を明示しなければならない。\\n求人者は求人の申込みに当たり公共職業安定所、特定地方公共団体又は職業紹介事業者に対し、労働者供給を受けようとする者はあらかじめ労働者供給事業者に対し、それぞれ、求職者又は供給される労働者が従事すべき業務の内容及び賃金、労働時間その他の労働条件を明示しなければならない。'),\n",
       " Document(metadata={'article_name': '被保険者に関する届出', 'article_number': '第七条', 'chapter_name': '適用事業等', 'chapter_number': '第二章', 'division_name': '', 'division_number': '', 'document_source': 'https://laws.e-gov.go.jp/law/349AC0000000116', 'enactment_year': '令和6年10月1日 施行', 'law_name': '雇用保険法', 'law_number': '昭和四十九年法律第百十六号'}, page_content='昭和四十九年法律第百十六号\\u3000雇用保険法/第二章\\u3000適用事業等/第七条\\u3000被保険者に関する届出/事業主（徴収法第八条第一項又は第二項の規定により元請負人が事業主とされる場合にあつては、当該事業に係る労働者のうち元請負人が雇用する労働者以外の労働者については、当該労働者を雇用する下請負人。以下同じ。）は、厚生労働省令で定めるところにより、その雇用する労働者に関し、当該事業主の行う適用事業（同条第一項又は第二項の規定により数次の請負によつて行われる事業が一の事業とみなされる場合にあつては、当該事業に係る労働者のうち元請負人が雇用する労働者以外の労働者については、当該請負に係るそれぞれの事業。以下同じ。）に係る被保険者となつたこと、当該事業主の行う適用事業に係る被保険者でなくなつたことその他厚生労働省令で定める事項を厚生労働大臣に届け出なければならない。当該事業主から徴収法第三十三条第一項の委託を受けて同項に規定する労働保険事務の一部として前段の届出に関する事務を処理する同条第三項に規定する労働保険事務組合（以下「労働保険事務組合」という。）についても、同様とする。'),\n",
       " Document(metadata={'article_name': '被保険者に関する届出', 'article_number': '第七条', 'chapter_name': '適用事業等', 'chapter_number': '第二章', 'division_name': '', 'division_number': '', 'document_source': 'https://laws.e-gov.go.jp/law/349AC0000000116', 'enactment_year': '令和6年10月1日 施行', 'law_name': '雇用保険法', 'law_number': '昭和四十九年法律第百十六号'}, page_content='昭和四十九年法律第百十六号\\u3000雇用保険法/第二章\\u3000適用事業等/第七条\\u3000被保険者に関する届出/事業主（徴収法第八条第一項又は第二項の規定により元請負人が事業主とされる場合にあつては、当該事業に係る労働者のうち元請負人が雇用する労働者以外の労働者については、当該労働者を雇用する下請負人。以下同じ。）は、厚生労働省令で定めるところにより、その雇用する労働者に関し、当該事業主の行う適用事業（同条第一項又は第二項の規定により数次の請負によつて行われる事業が一の事業とみなされる場合にあつては、当該事業に係る労働者のうち元請負人が雇用する労働者以外の労働者については、当該請負に係るそれぞれの事業。以下同じ。）に係る被保険者となつたこと、当該事業主の行う適用事業に係る被保険者でなくなつたことその他厚生労働省令で定める事項を厚生労働大臣に届け出なければならない。当該事業主から徴収法第三十三条第一項の委託を受けて同項に規定する労働保険事務の一部として前段の届出に関する事務を処理する同条第三項に規定する労働保険事務組合（以下「労働保険事務組合」という。）についても、同様とする。'),\n",
       " Document(metadata={'article_name': '日雇特例被保険者に係る保険料の負担及び納付義務', 'article_number': '第百六十九条', 'chapter_name': '費用の負担', 'chapter_number': '第七章', 'division_name': '', 'division_number': '', 'document_source': 'https://laws.e-gov.go.jp/law/211AC0000000070', 'enactment_year': '令和6年12月2日 施行', 'law_name': '健康保険法', 'law_number': '大正十一年法律第七十号'}, page_content='日雇特例被保険者手帳を所持する日雇特例被保険者は、適用事業所に使用される日ごとに、その日雇特例被保険者手帳を事業主に提出しなければならない。\\n事業主は、日雇特例被保険者を使用する日ごとに、日雇特例被保険者にその所持する日雇特例被保険者手帳の提出を求めなければならない。\\n事業主は、第二項の規定により保険料を納付したときは、日雇特例被保険者の負担すべき保険料額に相当する額をその者に支払う賃金から控除することができる。この場合においては、事業主は、その旨を日雇特例被保険者に告げなければならない。\\n事業主は、日雇特例被保険者に対して賞与を支払った日の属する月の翌月末日までに、その者及び自己の負担すべきその日の賞与額に係る保険料を納付する義務を負う。\\n第百六十四条第二項及び第三項並びに第百六十六条の規定は前項の規定による保険料の納付について、第百六十七条第二項及び第三項の規定は日雇特例被保険者に対して通貨をもって賞与を支払う場合について準用する。'),\n",
       " Document(metadata={'article_name': '日雇特例被保険者に係る保険料の負担及び納付義務', 'article_number': '第百六十九条', 'chapter_name': '費用の負担', 'chapter_number': '第七章', 'division_name': '', 'division_number': '', 'document_source': 'https://laws.e-gov.go.jp/law/211AC0000000070', 'enactment_year': '令和6年12月2日 施行', 'law_name': '健康保険法', 'law_number': '大正十一年法律第七十号'}, page_content='日雇特例被保険者手帳を所持する日雇特例被保険者は、適用事業所に使用される日ごとに、その日雇特例被保険者手帳を事業主に提出しなければならない。\\n事業主は、日雇特例被保険者を使用する日ごとに、日雇特例被保険者にその所持する日雇特例被保険者手帳の提出を求めなければならない。\\n事業主は、第二項の規定により保険料を納付したときは、日雇特例被保険者の負担すべき保険料額に相当する額をその者に支払う賃金から控除することができる。この場合においては、事業主は、その旨を日雇特例被保険者に告げなければならない。\\n事業主は、日雇特例被保険者に対して賞与を支払った日の属する月の翌月末日までに、その者及び自己の負担すべきその日の賞与額に係る保険料を納付する義務を負う。\\n第百六十四条第二項及び第三項並びに第百六十六条の規定は前項の規定による保険料の納付について、第百六十七条第二項及び第三項の規定は日雇特例被保険者に対して通貨をもって賞与を支払う場合について準用する。'),\n",
       " Document(metadata={'article_name': '第十二条の七', 'article_number': '第十二条の七', 'chapter_name': '保険給付', 'chapter_number': '第三章', 'division_name': '', 'division_number': '', 'document_source': 'https://laws.e-gov.go.jp/law/322AC0000000050', 'enactment_year': '令和4年6月17日 施行', 'law_name': '労働者災害補償保険法', 'law_number': '昭和二十二年法律第五十号'}, page_content='昭和二十二年法律第五十号\\u3000労働者災害補償保険法/第三章\\u3000保険給付/第十二条の七/保険給付を受ける権利を有する者は、厚生労働省令で定めるところにより、政府に対して、保険給付に関し必要な厚生労働省令で定める事項を届け出、又は保険給付に関し必要な厚生労働省令で定める書類その他の物件を提出しなければならない。'),\n",
       " Document(metadata={'article_name': '第十二条の七', 'article_number': '第十二条の七', 'chapter_name': '保険給付', 'chapter_number': '第三章', 'division_name': '', 'division_number': '', 'document_source': 'https://laws.e-gov.go.jp/law/322AC0000000050', 'enactment_year': '令和4年6月17日 施行', 'law_name': '労働者災害補償保険法', 'law_number': '昭和二十二年法律第五十号'}, page_content='昭和二十二年法律第五十号\\u3000労働者災害補償保険法/第三章\\u3000保険給付/第十二条の七/保険給付を受ける権利を有する者は、厚生労働省令で定めるところにより、政府に対して、保険給付に関し必要な厚生労働省令で定める事項を届け出、又は保険給付に関し必要な厚生労働省令で定める書類その他の物件を提出しなければならない。'),\n",
       " Document(metadata={'article_name': '印紙保険料の納付', 'article_number': '第二十三条', 'chapter_name': '労働保険料の納付の手続等', 'chapter_number': '第三章', 'division_name': '', 'division_number': '', 'document_source': 'https://laws.e-gov.go.jp/law/344AC0000000084', 'enactment_year': '令和6年10月1日 施行', 'law_name': '労働保険の保険料の徴収等に関する法律', 'law_number': '昭和四十四年法律第八十四号'}, page_content='昭和四十四年法律第八十四号\\u3000労働保険の保険料の徴収等に関する法律/第三章\\u3000労働保険料の納付の手続等/第二十三条\\u3000印紙保険料の納付/事業主（第八条第一項又は第二項の規定により元請負人が事業主とされる場合にあつては、当該事業に係る労働者のうち元請負人が使用する労働者以外の日雇労働被保険者に係る印紙保険料については、当該日雇労働被保険者を使用する下請負人。以下この条から第二十五条まで、第三十一条、第三十二条、第四十二条、第四十三条及び第四十六条において同じ。）は、日雇労働被保険者に賃金を支払う都度その者に係る印紙保険料を納付しなければならない。\\n前項の規定による印紙保険料の納付は、事業主が、雇用保険法第四十四条の規定により当該日雇労働被保険者に交付された日雇労働被保険者手帳（以下「日雇労働被保険者手帳」という。）に雇用保険印紙をはり、これに消印して行わなければならない。'),\n",
       " Document(metadata={'article_name': '印紙保険料の納付', 'article_number': '第二十三条', 'chapter_name': '労働保険料の納付の手続等', 'chapter_number': '第三章', 'division_name': '', 'division_number': '', 'document_source': 'https://laws.e-gov.go.jp/law/344AC0000000084', 'enactment_year': '令和6年10月1日 施行', 'law_name': '労働保険の保険料の徴収等に関する法律', 'law_number': '昭和四十四年法律第八十四号'}, page_content='昭和四十四年法律第八十四号\\u3000労働保険の保険料の徴収等に関する法律/第三章\\u3000労働保険料の納付の手続等/第二十三条\\u3000印紙保険料の納付/事業主（第八条第一項又は第二項の規定により元請負人が事業主とされる場合にあつては、当該事業に係る労働者のうち元請負人が使用する労働者以外の日雇労働被保険者に係る印紙保険料については、当該日雇労働被保険者を使用する下請負人。以下この条から第二十五条まで、第三十一条、第三十二条、第四十二条、第四十三条及び第四十六条において同じ。）は、日雇労働被保険者に賃金を支払う都度その者に係る印紙保険料を納付しなければならない。\\n前項の規定による印紙保険料の納付は、事業主が、雇用保険法第四十四条の規定により当該日雇労働被保険者に交付された日雇労働被保険者手帳（以下「日雇労働被保険者手帳」という。）に雇用保険印紙をはり、これに消印して行わなければならない。'),\n",
       " Document(metadata={'article_name': '印紙保険料の納付', 'article_number': '第二十三条', 'chapter_name': '労働保険料の納付の手続等', 'chapter_number': '第三章', 'division_name': '', 'division_number': '', 'document_source': 'https://laws.e-gov.go.jp/law/344AC0000000084', 'enactment_year': '令和6年10月1日 施行', 'law_name': '労働保険の保険料の徴収等に関する法律', 'law_number': '昭和四十四年法律第八十四号'}, page_content='昭和四十四年法律第八十四号\\u3000労働保険の保険料の徴収等に関する法律/第三章\\u3000労働保険料の納付の手続等/第二十三条\\u3000印紙保険料の納付/事業主（第八条第一項又は第二項の規定により元請負人が事業主とされる場合にあつては、当該事業に係る労働者のうち元請負人が使用する労働者以外の日雇労働被保険者に係る印紙保険料については、当該日雇労働被保険者を使用する下請負人。以下この条から第二十五条まで、第三十一条、第三十二条、第四十二条、第四十三条及び第四十六条において同じ。）は、日雇労働被保険者に賃金を支払う都度その者に係る印紙保険料を納付しなければならない。\\n前項の規定による印紙保険料の納付は、事業主が、雇用保険法第四十四条の規定により当該日雇労働被保険者に交付された日雇労働被保険者手帳（以下「日雇労働被保険者手帳」という。）に雇用保険印紙をはり、これに消印して行わなければならない。'),\n",
       " Document(metadata={'article_name': '育児休業の申出', 'article_number': '第五条', 'chapter_name': '育児休業', 'chapter_number': '第二章', 'division_name': '', 'division_number': '', 'document_source': 'https://laws.e-gov.go.jp/law/403AC0000000076', 'enactment_year': '令和6年5月31日 施行', 'law_name': '育児休業、介護休業等育児又は家族介護を行う労働者の福祉に関する法律', 'law_number': '平成三年法律第七十六号'}, page_content='第一項ただし書、第二項、第三項（第一号及び第二号を除く。）、第四項（第一号及び第二号を除く。）、第五項及び前項後段の規定は、期間を定めて雇用される者であって、その締結する労働契約の期間の末日を育児休業終了予定日（第七条第三項の規定により当該育児休業終了予定日が変更された場合にあっては、その変更後の育児休業終了予定日とされた日）とする育児休業をしているものが、当該育児休業に係る子について、当該労働契約の更新に伴い、当該更新後の労働契約の期間の初日を育児休業開始予定日とする育児休業申出をする場合には、これを適用しない。'),\n",
       " Document(metadata={'article_name': '育児休業の申出', 'article_number': '第五条', 'chapter_name': '育児休業', 'chapter_number': '第二章', 'division_name': '', 'division_number': '', 'document_source': 'https://laws.e-gov.go.jp/law/403AC0000000076', 'enactment_year': '令和6年5月31日 施行', 'law_name': '育児休業、介護休業等育児又は家族介護を行う労働者の福祉に関する法律', 'law_number': '平成三年法律第七十六号'}, page_content='第一項ただし書、第二項、第三項（第一号及び第二号を除く。）、第四項（第一号及び第二号を除く。）、第五項及び前項後段の規定は、期間を定めて雇用される者であって、その締結する労働契約の期間の末日を育児休業終了予定日（第七条第三項の規定により当該育児休業終了予定日が変更された場合にあっては、その変更後の育児休業終了予定日とされた日）とする育児休業をしているものが、当該育児休業に係る子について、当該労働契約の更新に伴い、当該更新後の労働契約の期間の初日を育児休業開始予定日とする育児休業申出をする場合には、これを適用しない。'),\n",
       " Document(metadata={'article_name': '育児休業の申出', 'article_number': '第五条', 'chapter_name': '育児休業', 'chapter_number': '第二章', 'division_name': '', 'division_number': '', 'document_source': 'https://laws.e-gov.go.jp/law/403AC0000000076', 'enactment_year': '令和6年5月31日 施行', 'law_name': '育児休業、介護休業等育児又は家族介護を行う労働者の福祉に関する法律', 'law_number': '平成三年法律第七十六号'}, page_content='第一項ただし書、第二項、第三項（第一号及び第二号を除く。）、第四項（第一号及び第二号を除く。）、第五項及び前項後段の規定は、期間を定めて雇用される者であって、その締結する労働契約の期間の末日を育児休業終了予定日（第七条第三項の規定により当該育児休業終了予定日が変更された場合にあっては、その変更後の育児休業終了予定日とされた日）とする育児休業をしているものが、当該育児休業に係る子について、当該労働契約の更新に伴い、当該更新後の労働契約の期間の初日を育児休業開始予定日とする育児休業申出をする場合には、これを適用しない。'),\n",
       " Document(metadata={'article_name': '育児休業の申出', 'article_number': '第五条', 'chapter_name': '育児休業', 'chapter_number': '第二章', 'division_name': '', 'division_number': '', 'document_source': 'https://laws.e-gov.go.jp/law/403AC0000000076', 'enactment_year': '令和6年5月31日 施行', 'law_name': '育児休業、介護休業等育児又は家族介護を行う労働者の福祉に関する法律', 'law_number': '平成三年法律第七十六号'}, page_content='第一項ただし書、第二項、第三項（第一号及び第二号を除く。）、第四項（第一号及び第二号を除く。）、第五項及び前項後段の規定は、期間を定めて雇用される者であって、その締結する労働契約の期間の末日を育児休業終了予定日（第七条第三項の規定により当該育児休業終了予定日が変更された場合にあっては、その変更後の育児休業終了予定日とされた日）とする育児休業をしているものが、当該育児休業に係る子について、当該労働契約の更新に伴い、当該更新後の労働契約の期間の初日を育児休業開始予定日とする育児休業申出をする場合には、これを適用しない。'),\n",
       " Document(metadata={'article_name': '育児休業の申出', 'article_number': '第五条', 'chapter_name': '育児休業', 'chapter_number': '第二章', 'division_name': '', 'division_number': '', 'document_source': 'https://laws.e-gov.go.jp/law/403AC0000000076', 'enactment_year': '令和6年5月31日 施行', 'law_name': '育児休業、介護休業等育児又は家族介護を行う労働者の福祉に関する法律', 'law_number': '平成三年法律第七十六号'}, page_content='第一項ただし書、第二項、第三項（第一号及び第二号を除く。）、第四項（第一号及び第二号を除く。）、第五項及び前項後段の規定は、期間を定めて雇用される者であって、その締結する労働契約の期間の末日を育児休業終了予定日（第七条第三項の規定により当該育児休業終了予定日が変更された場合にあっては、その変更後の育児休業終了予定日とされた日）とする育児休業をしているものが、当該育児休業に係る子について、当該労働契約の更新に伴い、当該更新後の労働契約の期間の初日を育児休業開始予定日とする育児休業申出をする場合には、これを適用しない。'),\n",
       " Document(metadata={'article_name': '育児休業の申出', 'article_number': '第五条', 'chapter_name': '育児休業', 'chapter_number': '第二章', 'division_name': '', 'division_number': '', 'document_source': 'https://laws.e-gov.go.jp/law/403AC0000000076', 'enactment_year': '令和6年5月31日 施行', 'law_name': '育児休業、介護休業等育児又は家族介護を行う労働者の福祉に関する法律', 'law_number': '平成三年法律第七十六号'}, page_content='第一項ただし書、第二項、第三項（第一号及び第二号を除く。）、第四項（第一号及び第二号を除く。）、第五項及び前項後段の規定は、期間を定めて雇用される者であって、その締結する労働契約の期間の末日を育児休業終了予定日（第七条第三項の規定により当該育児休業終了予定日が変更された場合にあっては、その変更後の育児休業終了予定日とされた日）とする育児休業をしているものが、当該育児休業に係る子について、当該労働契約の更新に伴い、当該更新後の労働契約の期間の初日を育児休業開始予定日とする育児休業申出をする場合には、これを適用しない。'),\n",
       " Document(metadata={'article_name': '登録の申請', 'article_number': '第十四条の五', 'chapter_name': '登録', 'chapter_number': '第二章の二', 'division_name': '', 'division_number': '', 'document_source': 'https://laws.e-gov.go.jp/law/343AC1000000089', 'enactment_year': '令和5年6月14日 施行', 'law_name': '社会保険労務士法', 'law_number': '昭和四十三年法律第八十九号'}, page_content='昭和四十三年法律第八十九号\\u3000社会保険労務士法/第二章の二\\u3000登録/第十四条の五\\u3000登録の申請/第十四条の二第一項の規定による登録を受けようとする者は、同項に規定する事項その他厚生労働省令で定める事項を記載した登録申請書を、社会保険労務士となる資格を有することを証する書類を添付の上、厚生労働省令で定める社会保険労務士会を経由して、連合会に提出しなければならない。'),\n",
       " Document(metadata={'article_name': '登録の申請', 'article_number': '第十四条の五', 'chapter_name': '登録', 'chapter_number': '第二章の二', 'division_name': '', 'division_number': '', 'document_source': 'https://laws.e-gov.go.jp/law/343AC1000000089', 'enactment_year': '令和5年6月14日 施行', 'law_name': '社会保険労務士法', 'law_number': '昭和四十三年法律第八十九号'}, page_content='昭和四十三年法律第八十九号\\u3000社会保険労務士法/第二章の二\\u3000登録/第十四条の五\\u3000登録の申請/第十四条の二第一項の規定による登録を受けようとする者は、同項に規定する事項その他厚生労働省令で定める事項を記載した登録申請書を、社会保険労務士となる資格を有することを証する書類を添付の上、厚生労働省令で定める社会保険労務士会を経由して、連合会に提出しなければならない。'),\n",
       " Document(metadata={'article_name': '届出', 'article_number': '第十二条', 'chapter_name': '被保険者', 'chapter_number': '第二章', 'division_name': '', 'division_number': '', 'document_source': 'https://laws.e-gov.go.jp/law/334AC0000000141', 'enactment_year': '令和6年12月2日 施行', 'law_name': '国民年金法', 'law_number': '昭和三十四年法律第百四十一号'}, page_content='前項の届出は、厚生労働省令で定める場合を除き、厚生年金保険法第二条の五第一項第一号に規定する第一号厚生年金被保険者（以下「第一号厚生年金被保険者」という。）である第二号被保険者の被扶養配偶者である第三号被保険者にあつては、その配偶者である第二号被保険者を使用する事業主を経由して行うものとし、同項第二号に規定する第二号厚生年金被保険者（以下「第二号厚生年金被保険者」という。）、同項第三号に規定する第三号厚生年金被保険者（以下「第三号厚生年金被保険者」という。）又は同項第四号に規定する第四号厚生年金被保険者（以下「第四号厚生年金被保険者」という。）である第二号被保険者の被扶養配偶者である第三号被保険者にあつては、その配偶者である第二号被保険者を組合員又は加入者とする国家公務員共済組合、地方公務員共済組合又は日本私立学校振興・共済事業団を経由して行うものとする。'),\n",
       " Document(metadata={'article_name': '届出', 'article_number': '第十二条', 'chapter_name': '被保険者', 'chapter_number': '第二章', 'division_name': '', 'division_number': '', 'document_source': 'https://laws.e-gov.go.jp/law/334AC0000000141', 'enactment_year': '令和6年12月2日 施行', 'law_name': '国民年金法', 'law_number': '昭和三十四年法律第百四十一号'}, page_content='前項の届出は、厚生労働省令で定める場合を除き、厚生年金保険法第二条の五第一項第一号に規定する第一号厚生年金被保険者（以下「第一号厚生年金被保険者」という。）である第二号被保険者の被扶養配偶者である第三号被保険者にあつては、その配偶者である第二号被保険者を使用する事業主を経由して行うものとし、同項第二号に規定する第二号厚生年金被保険者（以下「第二号厚生年金被保険者」という。）、同項第三号に規定する第三号厚生年金被保険者（以下「第三号厚生年金被保険者」という。）又は同項第四号に規定する第四号厚生年金被保険者（以下「第四号厚生年金被保険者」という。）である第二号被保険者の被扶養配偶者である第三号被保険者にあつては、その配偶者である第二号被保険者を組合員又は加入者とする国家公務員共済組合、地方公務員共済組合又は日本私立学校振興・共済事業団を経由して行うものとする。'),\n",
       " Document(metadata={'article_name': '届出', 'article_number': '第十二条', 'chapter_name': '被保険者', 'chapter_number': '第二章', 'division_name': '', 'division_number': '', 'document_source': 'https://laws.e-gov.go.jp/law/334AC0000000141', 'enactment_year': '令和6年12月2日 施行', 'law_name': '国民年金法', 'law_number': '昭和三十四年法律第百四十一号'}, page_content='前項の届出は、厚生労働省令で定める場合を除き、厚生年金保険法第二条の五第一項第一号に規定する第一号厚生年金被保険者（以下「第一号厚生年金被保険者」という。）である第二号被保険者の被扶養配偶者である第三号被保険者にあつては、その配偶者である第二号被保険者を使用する事業主を経由して行うものとし、同項第二号に規定する第二号厚生年金被保険者（以下「第二号厚生年金被保険者」という。）、同項第三号に規定する第三号厚生年金被保険者（以下「第三号厚生年金被保険者」という。）又は同項第四号に規定する第四号厚生年金被保険者（以下「第四号厚生年金被保険者」という。）である第二号被保険者の被扶養配偶者である第三号被保険者にあつては、その配偶者である第二号被保険者を組合員又は加入者とする国家公務員共済組合、地方公務員共済組合又は日本私立学校振興・共済事業団を経由して行うものとする。'),\n",
       " Document(metadata={'article_name': '届出', 'article_number': '第十二条', 'chapter_name': '被保険者', 'chapter_number': '第二章', 'division_name': '', 'division_number': '', 'document_source': 'https://laws.e-gov.go.jp/law/334AC0000000141', 'enactment_year': '令和6年12月2日 施行', 'law_name': '国民年金法', 'law_number': '昭和三十四年法律第百四十一号'}, page_content='前項の届出は、厚生労働省令で定める場合を除き、厚生年金保険法第二条の五第一項第一号に規定する第一号厚生年金被保険者（以下「第一号厚生年金被保険者」という。）である第二号被保険者の被扶養配偶者である第三号被保険者にあつては、その配偶者である第二号被保険者を使用する事業主を経由して行うものとし、同項第二号に規定する第二号厚生年金被保険者（以下「第二号厚生年金被保険者」という。）、同項第三号に規定する第三号厚生年金被保険者（以下「第三号厚生年金被保険者」という。）又は同項第四号に規定する第四号厚生年金被保険者（以下「第四号厚生年金被保険者」という。）である第二号被保険者の被扶養配偶者である第三号被保険者にあつては、その配偶者である第二号被保険者を組合員又は加入者とする国家公務員共済組合、地方公務員共済組合又は日本私立学校振興・共済事業団を経由して行うものとする。'),\n",
       " Document(metadata={'article_name': '確定保険料', 'article_number': '第十九条', 'chapter_name': '労働保険料の納付の手続等', 'chapter_number': '第三章', 'division_name': '', 'division_number': '', 'document_source': 'https://laws.e-gov.go.jp/law/344AC0000000084', 'enactment_year': '令和6年10月1日 施行', 'law_name': '労働保険の保険料の徴収等に関する法律', 'law_number': '昭和四十四年法律第八十四号'}, page_content='昭和四十四年法律第八十四号\\u3000労働保険の保険料の徴収等に関する法律/第三章\\u3000労働保険料の納付の手続等/第十九条\\u3000確定保険料/事業主は、保険年度ごとに、次に掲げる労働保険料の額その他厚生労働省令で定める事項を記載した申告書を、次の保険年度の六月一日から四十日以内（保険年度の中途に保険関係が消滅したものについては、当該保険関係が消滅した日（保険年度の中途に労災保険法第三十四条第一項の承認が取り消された事業に係る第一種特別加入保険料及び保険年度の中途に労災保険法第三十六条第一項の承認が取り消された事業に係る第三種特別加入保険料に関しては、それぞれ当該承認が取り消された日。第三項において同じ。）から五十日以内）に提出しなければならない。\\n一\\u3000第十五条第一項第一号の事業にあつては、その保険年度に使用したすべての労働者（保険年度の中途に保険関係が成立し、又は消滅したものについては、その保険年度において、当該保険関係が成立していた期間に使用したすべての労働者）に係る賃金総額に当該事業についての一般保険料率を乗じて算定した一般保険料\\n二\\u3000第十五条第一項第二号の事業にあつては、次に掲げる労働保険料'),\n",
       " Document(metadata={'article_name': '確定保険料', 'article_number': '第十九条', 'chapter_name': '労働保険料の納付の手続等', 'chapter_number': '第三章', 'division_name': '', 'division_number': '', 'document_source': 'https://laws.e-gov.go.jp/law/344AC0000000084', 'enactment_year': '令和6年10月1日 施行', 'law_name': '労働保険の保険料の徴収等に関する法律', 'law_number': '昭和四十四年法律第八十四号'}, page_content='昭和四十四年法律第八十四号\\u3000労働保険の保険料の徴収等に関する法律/第三章\\u3000労働保険料の納付の手続等/第十九条\\u3000確定保険料/事業主は、保険年度ごとに、次に掲げる労働保険料の額その他厚生労働省令で定める事項を記載した申告書を、次の保険年度の六月一日から四十日以内（保険年度の中途に保険関係が消滅したものについては、当該保険関係が消滅した日（保険年度の中途に労災保険法第三十四条第一項の承認が取り消された事業に係る第一種特別加入保険料及び保険年度の中途に労災保険法第三十六条第一項の承認が取り消された事業に係る第三種特別加入保険料に関しては、それぞれ当該承認が取り消された日。第三項において同じ。）から五十日以内）に提出しなければならない。\\n一\\u3000第十五条第一項第一号の事業にあつては、その保険年度に使用したすべての労働者（保険年度の中途に保険関係が成立し、又は消滅したものについては、その保険年度において、当該保険関係が成立していた期間に使用したすべての労働者）に係る賃金総額に当該事業についての一般保険料率を乗じて算定した一般保険料\\n二\\u3000第十五条第一項第二号の事業にあつては、次に掲げる労働保険料'),\n",
       " Document(metadata={'article_name': '確定保険料', 'article_number': '第十九条', 'chapter_name': '労働保険料の納付の手続等', 'chapter_number': '第三章', 'division_name': '', 'division_number': '', 'document_source': 'https://laws.e-gov.go.jp/law/344AC0000000084', 'enactment_year': '令和6年10月1日 施行', 'law_name': '労働保険の保険料の徴収等に関する法律', 'law_number': '昭和四十四年法律第八十四号'}, page_content='昭和四十四年法律第八十四号\\u3000労働保険の保険料の徴収等に関する法律/第三章\\u3000労働保険料の納付の手続等/第十九条\\u3000確定保険料/事業主は、保険年度ごとに、次に掲げる労働保険料の額その他厚生労働省令で定める事項を記載した申告書を、次の保険年度の六月一日から四十日以内（保険年度の中途に保険関係が消滅したものについては、当該保険関係が消滅した日（保険年度の中途に労災保険法第三十四条第一項の承認が取り消された事業に係る第一種特別加入保険料及び保険年度の中途に労災保険法第三十六条第一項の承認が取り消された事業に係る第三種特別加入保険料に関しては、それぞれ当該承認が取り消された日。第三項において同じ。）から五十日以内）に提出しなければならない。\\n一\\u3000第十五条第一項第一号の事業にあつては、その保険年度に使用したすべての労働者（保険年度の中途に保険関係が成立し、又は消滅したものについては、その保険年度において、当該保険関係が成立していた期間に使用したすべての労働者）に係る賃金総額に当該事業についての一般保険料率を乗じて算定した一般保険料\\n二\\u3000第十五条第一項第二号の事業にあつては、次に掲げる労働保険料'),\n",
       " Document(metadata={'article_name': '概算保険料の納付', 'article_number': '第十五条', 'chapter_name': '労働保険料の納付の手続等', 'chapter_number': '第三章', 'division_name': '', 'division_number': '', 'document_source': 'https://laws.e-gov.go.jp/law/344AC0000000084', 'enactment_year': '令和6年10月1日 施行', 'law_name': '労働保険の保険料の徴収等に関する法律', 'law_number': '昭和四十四年法律第八十四号'}, page_content='昭和四十四年法律第八十四号\\u3000労働保険の保険料の徴収等に関する法律/第三章\\u3000労働保険料の納付の手続等/第十五条\\u3000概算保険料の納付/事業主は、保険年度ごとに、次に掲げる労働保険料を、その労働保険料の額その他厚生労働省令で定める事項を記載した申告書に添えて、その保険年度の六月一日から四十日以内（保険年度の中途に保険関係が成立したものについては、当該保険関係が成立した日（保険年度の中途に労災保険法第三十四条第一項の承認があつた事業に係る第一種特別加入保険料及び保険年度の中途に労災保険法第三十六条第一項の承認があつた事業に係る第三種特別加入保険料に関しては、それぞれ当該承認があつた日）から五十日以内）に納付しなければならない。'),\n",
       " Document(metadata={'article_name': '概算保険料の納付', 'article_number': '第十五条', 'chapter_name': '労働保険料の納付の手続等', 'chapter_number': '第三章', 'division_name': '', 'division_number': '', 'document_source': 'https://laws.e-gov.go.jp/law/344AC0000000084', 'enactment_year': '令和6年10月1日 施行', 'law_name': '労働保険の保険料の徴収等に関する法律', 'law_number': '昭和四十四年法律第八十四号'}, page_content='昭和四十四年法律第八十四号\\u3000労働保険の保険料の徴収等に関する法律/第三章\\u3000労働保険料の納付の手続等/第十五条\\u3000概算保険料の納付/事業主は、保険年度ごとに、次に掲げる労働保険料を、その労働保険料の額その他厚生労働省令で定める事項を記載した申告書に添えて、その保険年度の六月一日から四十日以内（保険年度の中途に保険関係が成立したものについては、当該保険関係が成立した日（保険年度の中途に労災保険法第三十四条第一項の承認があつた事業に係る第一種特別加入保険料及び保険年度の中途に労災保険法第三十六条第一項の承認があつた事業に係る第三種特別加入保険料に関しては、それぞれ当該承認があつた日）から五十日以内）に納付しなければならない。'),\n",
       " Document(metadata={'article_name': '概算保険料の納付', 'article_number': '第十五条', 'chapter_name': '労働保険料の納付の手続等', 'chapter_number': '第三章', 'division_name': '', 'division_number': '', 'document_source': 'https://laws.e-gov.go.jp/law/344AC0000000084', 'enactment_year': '令和6年10月1日 施行', 'law_name': '労働保険の保険料の徴収等に関する法律', 'law_number': '昭和四十四年法律第八十四号'}, page_content='昭和四十四年法律第八十四号\\u3000労働保険の保険料の徴収等に関する法律/第三章\\u3000労働保険料の納付の手続等/第十五条\\u3000概算保険料の納付/事業主は、保険年度ごとに、次に掲げる労働保険料を、その労働保険料の額その他厚生労働省令で定める事項を記載した申告書に添えて、その保険年度の六月一日から四十日以内（保険年度の中途に保険関係が成立したものについては、当該保険関係が成立した日（保険年度の中途に労災保険法第三十四条第一項の承認があつた事業に係る第一種特別加入保険料及び保険年度の中途に労災保険法第三十六条第一項の承認があつた事業に係る第三種特別加入保険料に関しては、それぞれ当該承認があつた日）から五十日以内）に納付しなければならない。'),\n",
       " Document(metadata={'article_name': '出生時育児休業の申出', 'article_number': '第九条の二', 'chapter_name': '育児休業', 'chapter_number': '第二章', 'division_name': '', 'division_number': '', 'document_source': 'https://laws.e-gov.go.jp/law/403AC0000000076', 'enactment_year': '令和6年5月31日 施行', 'law_name': '育児休業、介護休業等育児又は家族介護を行う労働者の福祉に関する法律', 'law_number': '平成三年法律第七十六号'}, page_content='第一項ただし書及び第二項（第二号を除く。）の規定は、期間を定めて雇用される者であって、その締結する労働契約の期間の末日を出生時育児休業終了予定日（第九条の四において準用する第七条第三項の規定により当該出生時育児休業終了予定日が変更された場合にあっては、その変更後の出生時育児休業終了予定日とされた日）とする出生時育児休業をしているものが、当該出生時育児休業に係る子について、当該労働契約の更新に伴い、当該更新後の労働契約の期間の初日を出生時育児休業開始予定日とする出生時育児休業申出をする場合には、これを適用しない。'),\n",
       " Document(metadata={'article_name': '出生時育児休業の申出', 'article_number': '第九条の二', 'chapter_name': '育児休業', 'chapter_number': '第二章', 'division_name': '', 'division_number': '', 'document_source': 'https://laws.e-gov.go.jp/law/403AC0000000076', 'enactment_year': '令和6年5月31日 施行', 'law_name': '育児休業、介護休業等育児又は家族介護を行う労働者の福祉に関する法律', 'law_number': '平成三年法律第七十六号'}, page_content='第一項ただし書及び第二項（第二号を除く。）の規定は、期間を定めて雇用される者であって、その締結する労働契約の期間の末日を出生時育児休業終了予定日（第九条の四において準用する第七条第三項の規定により当該出生時育児休業終了予定日が変更された場合にあっては、その変更後の出生時育児休業終了予定日とされた日）とする出生時育児休業をしているものが、当該出生時育児休業に係る子について、当該労働契約の更新に伴い、当該更新後の労働契約の期間の初日を出生時育児休業開始予定日とする出生時育児休業申出をする場合には、これを適用しない。'),\n",
       " Document(metadata={'article_name': '出生時育児休業の申出', 'article_number': '第九条の二', 'chapter_name': '育児休業', 'chapter_number': '第二章', 'division_name': '', 'division_number': '', 'document_source': 'https://laws.e-gov.go.jp/law/403AC0000000076', 'enactment_year': '令和6年5月31日 施行', 'law_name': '育児休業、介護休業等育児又は家族介護を行う労働者の福祉に関する法律', 'law_number': '平成三年法律第七十六号'}, page_content='第一項ただし書及び第二項（第二号を除く。）の規定は、期間を定めて雇用される者であって、その締結する労働契約の期間の末日を出生時育児休業終了予定日（第九条の四において準用する第七条第三項の規定により当該出生時育児休業終了予定日が変更された場合にあっては、その変更後の出生時育児休業終了予定日とされた日）とする出生時育児休業をしているものが、当該出生時育児休業に係る子について、当該労働契約の更新に伴い、当該更新後の労働契約の期間の初日を出生時育児休業開始予定日とする出生時育児休業申出をする場合には、これを適用しない。'),\n",
       " Document(metadata={'article_name': '出生時育児休業の申出', 'article_number': '第九条の二', 'chapter_name': '育児休業', 'chapter_number': '第二章', 'division_name': '', 'division_number': '', 'document_source': 'https://laws.e-gov.go.jp/law/403AC0000000076', 'enactment_year': '令和6年5月31日 施行', 'law_name': '育児休業、介護休業等育児又は家族介護を行う労働者の福祉に関する法律', 'law_number': '平成三年法律第七十六号'}, page_content='第一項ただし書及び第二項（第二号を除く。）の規定は、期間を定めて雇用される者であって、その締結する労働契約の期間の末日を出生時育児休業終了予定日（第九条の四において準用する第七条第三項の規定により当該出生時育児休業終了予定日が変更された場合にあっては、その変更後の出生時育児休業終了予定日とされた日）とする出生時育児休業をしているものが、当該出生時育児休業に係る子について、当該労働契約の更新に伴い、当該更新後の労働契約の期間の初日を出生時育児休業開始予定日とする出生時育児休業申出をする場合には、これを適用しない。'),\n",
       " Document(metadata={'article_name': '出生時育児休業の申出', 'article_number': '第九条の二', 'chapter_name': '育児休業', 'chapter_number': '第二章', 'division_name': '', 'division_number': '', 'document_source': 'https://laws.e-gov.go.jp/law/403AC0000000076', 'enactment_year': '令和6年5月31日 施行', 'law_name': '育児休業、介護休業等育児又は家族介護を行う労働者の福祉に関する法律', 'law_number': '平成三年法律第七十六号'}, page_content='第一項ただし書及び第二項（第二号を除く。）の規定は、期間を定めて雇用される者であって、その締結する労働契約の期間の末日を出生時育児休業終了予定日（第九条の四において準用する第七条第三項の規定により当該出生時育児休業終了予定日が変更された場合にあっては、その変更後の出生時育児休業終了予定日とされた日）とする出生時育児休業をしているものが、当該出生時育児休業に係る子について、当該労働契約の更新に伴い、当該更新後の労働契約の期間の初日を出生時育児休業開始予定日とする出生時育児休業申出をする場合には、これを適用しない。'),\n",
       " Document(metadata={'article_name': '出生時育児休業の申出', 'article_number': '第九条の二', 'chapter_name': '育児休業', 'chapter_number': '第二章', 'division_name': '', 'division_number': '', 'document_source': 'https://laws.e-gov.go.jp/law/403AC0000000076', 'enactment_year': '令和6年5月31日 施行', 'law_name': '育児休業、介護休業等育児又は家族介護を行う労働者の福祉に関する法律', 'law_number': '平成三年法律第七十六号'}, page_content='第一項ただし書及び第二項（第二号を除く。）の規定は、期間を定めて雇用される者であって、その締結する労働契約の期間の末日を出生時育児休業終了予定日（第九条の四において準用する第七条第三項の規定により当該出生時育児休業終了予定日が変更された場合にあっては、その変更後の出生時育児休業終了予定日とされた日）とする出生時育児休業をしているものが、当該出生時育児休業に係る子について、当該労働契約の更新に伴い、当該更新後の労働契約の期間の初日を出生時育児休業開始予定日とする出生時育児休業申出をする場合には、これを適用しない。'),\n",
       " Document(metadata={'article_name': '年少者の証明書', 'article_number': '第五十七条', 'chapter_name': '年少者', 'chapter_number': '第六章', 'division_name': '', 'division_number': '', 'document_source': 'https://laws.e-gov.go.jp/law/322AC0000000049', 'enactment_year': '令和6年5月31日 施行', 'law_name': '労働基準法', 'law_number': '昭和二十二年法律第四十九号'}, page_content='昭和二十二年法律第四十九号\\u3000労働基準法/第六章\\u3000年少者/第五十七条\\u3000年少者の証明書/使用者は、満十八才に満たない者について、その年齢を証明する戸籍証明書を事業場に備え付けなければならない。\\n使用者は、前条第二項の規定によつて使用する児童については、修学に差し支えないことを証明する学校長の証明書及び親権者又は後見人の同意書を事業場に備え付けなければならない。'),\n",
       " Document(metadata={'article_name': '年少者の証明書', 'article_number': '第五十七条', 'chapter_name': '年少者', 'chapter_number': '第六章', 'division_name': '', 'division_number': '', 'document_source': 'https://laws.e-gov.go.jp/law/322AC0000000049', 'enactment_year': '令和6年5月31日 施行', 'law_name': '労働基準法', 'law_number': '昭和二十二年法律第四十九号'}, page_content='昭和二十二年法律第四十九号\\u3000労働基準法/第六章\\u3000年少者/第五十七条\\u3000年少者の証明書/使用者は、満十八才に満たない者について、その年齢を証明する戸籍証明書を事業場に備え付けなければならない。\\n使用者は、前条第二項の規定によつて使用する児童については、修学に差し支えないことを証明する学校長の証明書及び親権者又は後見人の同意書を事業場に備え付けなければならない。'),\n",
       " Document(metadata={'article_name': '年少者の証明書', 'article_number': '第五十七条', 'chapter_name': '年少者', 'chapter_number': '第六章', 'division_name': '', 'division_number': '', 'document_source': 'https://laws.e-gov.go.jp/law/322AC0000000049', 'enactment_year': '令和6年5月31日 施行', 'law_name': '労働基準法', 'law_number': '昭和二十二年法律第四十九号'}, page_content='昭和二十二年法律第四十九号\\u3000労働基準法/第六章\\u3000年少者/第五十七条\\u3000年少者の証明書/使用者は、満十八才に満たない者について、その年齢を証明する戸籍証明書を事業場に備え付けなければならない。\\n使用者は、前条第二項の規定によつて使用する児童については、修学に差し支えないことを証明する学校長の証明書及び親権者又は後見人の同意書を事業場に備え付けなければならない。'),\n",
       " Document(metadata={'article_name': '年少者の証明書', 'article_number': '第五十七条', 'chapter_name': '年少者', 'chapter_number': '第六章', 'division_name': '', 'division_number': '', 'document_source': 'https://laws.e-gov.go.jp/law/322AC0000000049', 'enactment_year': '令和6年5月31日 施行', 'law_name': '労働基準法', 'law_number': '昭和二十二年法律第四十九号'}, page_content='昭和二十二年法律第四十九号\\u3000労働基準法/第六章\\u3000年少者/第五十七条\\u3000年少者の証明書/使用者は、満十八才に満たない者について、その年齢を証明する戸籍証明書を事業場に備え付けなければならない。\\n使用者は、前条第二項の規定によつて使用する児童については、修学に差し支えないことを証明する学校長の証明書及び親権者又は後見人の同意書を事業場に備え付けなければならない。'),\n",
       " Document(metadata={'article_name': '年少者の証明書', 'article_number': '第五十七条', 'chapter_name': '年少者', 'chapter_number': '第六章', 'division_name': '', 'division_number': '', 'document_source': 'https://laws.e-gov.go.jp/law/322AC0000000049', 'enactment_year': '令和6年5月31日 施行', 'law_name': '労働基準法', 'law_number': '昭和二十二年法律第四十九号'}, page_content='昭和二十二年法律第四十九号\\u3000労働基準法/第六章\\u3000年少者/第五十七条\\u3000年少者の証明書/使用者は、満十八才に満たない者について、その年齢を証明する戸籍証明書を事業場に備え付けなければならない。\\n使用者は、前条第二項の規定によつて使用する児童については、修学に差し支えないことを証明する学校長の証明書及び親権者又は後見人の同意書を事業場に備え付けなければならない。')]"
      ]
     },
     "execution_count": 37,
     "metadata": {},
     "output_type": "execute_result"
    }
   ],
   "source": [
    "social_security_retriever.get_relevant_documents(\"労働者として採用された者は、採用を通知された日から会社が指定する期日までに履歴書・職務経歴書、入社誓約書、個人情報保護法に基づく誓約書、住民票記載事項証明書、給与所得者の扶養控除等(異動)申告書、源泉徴収票、雇用契約書、年金手帳の写し、通勤手当申請書、住宅手当申請書、給与振込先申請書、身元保証書、雇用保険被保険者証の写し、マイナンバーカード又はマイナンバー通知書の写し、資格免許証の写し、健康診断結果、学生証の写し、パスポートの写しを提出しなければならない。\")"
   ]
  },
  {
   "cell_type": "markdown",
   "metadata": {},
   "source": [
    "### Using metadata"
   ]
  },
  {
   "cell_type": "code",
   "execution_count": 38,
   "metadata": {},
   "outputs": [],
   "source": [
    "# Thực hiện sinh ra các metadata cần thiết cho việc tìm kiếm\n",
    "# metadata có sẵn gồm: \n",
    "# - law_name: Tên đầy đủ của luật, giúp nhận diện nhanh chóng (ví dụ: \"昭和二十六年法律第四十五号　社会福祉法\").\n",
    "# - law_number: Số hiệu chính thức của luật, thường bao gồm thông tin về năm ban hành (ví dụ: \"昭和二十六年法律第四十五号\").\n",
    "# - enactment_year: Năm ban hành của luật, hữu ích để lọc tài liệu theo thời gian.\n",
    "# - latest_revision_date: Ngày cập nhật hoặc sửa đổi mới nhất của luật, cho biết phiên bản hiện hành. (bỏ)\n",
    "# - chapter_number: Số chương của luật, giúp phân loại nội dung theo cấu trúc chương.\n",
    "# - chapter_name: Tên chương, mô tả chủ đề chính của phần đó (ví dụ: \"地域福祉の推進\").\n",
    "# - division_number: Số mục trong chương nếu luật được chia nhỏ thành nhiều mục.\n",
    "# - division_name: Tên phần, giúp hiểu rõ nội dung và phạm vi của phần đó (ví dụ: \"共同募金\").\n",
    "# - article_number: Số điều của luật, dùng để định vị nội dung cụ thể trong văn bản (ví dụ: \"120\").\n",
    "# - article_name: Tên điều, mô tả ngắn gọn nội dung hoặc chức năng của điều đó (ví dụ: \"結果の公告\").\n",
    "# - category: Chủ đề hay danh mục của luật (ví dụ: \"福祉\" cho phúc lợi xã hội), hỗ trợ việc phân loại nội dung theo lĩnh vực.\n",
    "# - keywords: Các từ khóa quan trọng liên quan đến nội dung của luật (ví dụ: [\"共同募金\", \"配分\", \"公告\", \"寄附金\", \"準備金\", \"拠出\"]), giúp tìm kiếm nhanh theo các khía cạnh cụ thể.\n",
    "# - applicable_entities: Các đối tượng, cá nhân hoặc tổ chức mà luật áp dụng hoặc bị ảnh hưởng (ví dụ: [\"共同募金会\", \"地方自治体\", \"寄附者\"]).\n",
    "# - reference_articles: Danh sách các điều luật hoặc phần liên quan khác được trích dẫn trong văn bản, giúp liên kết các quy định có liên quan (ví dụ: [\"第118条\", \"第119条\"]).\n",
    "# - document_source: Nguồn gốc của văn bản, thông tin về cơ quan ban hành hoặc tổ chức chịu trách nhiệm về nội dung (ví dụ: \"内閣府\")."
   ]
  },
  {
   "cell_type": "code",
   "execution_count": 39,
   "metadata": {},
   "outputs": [],
   "source": [
    "#   \"law_name\": \"昭和二十六年法律第四十五号　社会福祉法\",\n",
    "#   \"law_number\": \"昭和二十六年法律第四十五号\",\n",
    "#   \"enactment_year\": 1951,\n",
    "#   \"latest_revision_date\": \"2023-06-15\",# bỏ\n",
    "#   \"chapter_number\": \"第3章\",\n",
    "#   \"chapter_name\": \"地域福祉の推進\",\n",
    "#   \"division_number\": \"第2節\",\n",
    "#   \"division_name\": \"共同募金\",\n",
    "#   \"article_number\": \"120\",\n",
    "#   \"article_name\": \"結果の公告\",\n",
    "# \"document_source\": \"内閣府\"\n",
    "\n",
    "# - law_name（法律名）: 法律の正式名称を記述してください。（例: 昭和二十六年法律第四十五号　社会福祉法）\n",
    "# - law_number（法律番号）: 法律の番号を記述してください。（例: 昭和二十六年法律第四十五号）\n",
    "# - enactment_year（制定年）: 法律が制定された年を西暦で記述してください。（例: 1951）\n",
    "# - latest_revision_date（最新改正日）: 直近の改正日を記述してください。（例: 2023-06-15）。情報がない場合は null を返してください。\n",
    "# - chapter_number（章番号）: 章がある場合、その番号を記述してください。（例: 第3章）\n",
    "# - chapter_name（章名）: 該当する章の名称を記述してください。（例: 地域福祉の推進）\n",
    "# - division_number（節番号）: 節がある場合、その番号を記述してください。（例: 第2節）。ない場合は null を返してください。\n",
    "# - division_name（節名）: 該当する節の名称を記述してください。（例: 共同募金）。ない場合は null を返してください。\n",
    "# - article_number（条番号）: 条がある場合、その番号を記述してください。（例: 120）\n",
    "# - article_name（条名）: 該当する条の名称を記述してください。（例: 結果の公告）\n",
    "# from langchain.prompts import ChatPromptTemplate\n",
    "\n",
    "# # Multi Query: Different Perspectives\n",
    "# # Template for generating multiple perspectives on a user question\n",
    "# template = \"\"\"あなたはAI言語モデルアシスタントです。\n",
    "# プロンプト（Metadata抽出用）\n",
    "# 以下の法律文書から、指定されたメタデータを抽出し、JSON形式で出力してください。各項目の説明と例を参考にし、可能な限り正確な情報を提供してください。\n",
    "\n",
    "# 出力形式（JSON）\n",
    "# {\n",
    "#   \"category\": \"福祉\",\n",
    "#   \"keywords\": [\"共同募金\", \"配分\", \"公告\", \"寄附金\", \"準備金\", \"拠出\"],\n",
    "#   \"applicable_entities\": [\"共同募金会\", \"地方自治体\", \"寄附者\"],\n",
    "#   \"reference_articles\": [\"第118条\", \"第119条\"]\n",
    "# }\n",
    "\n",
    "# 抽出すべきメタデータ\n",
    "# - category（カテゴリ）: 法律の分野を記述してください。（例: 福祉）。情報がない場合は null を返してください。\n",
    "# - keywords（キーワード）: 重要なキーワードを配列で記述してください。（例: [\"共同募金\", \"配分\", \"公告\", \"寄附金\", \"準備金\", \"拠出\"]）\n",
    "# - applicable_entities（適用対象）: 法律の適用対象となる機関や団体を記述してください。（例: [\"共同募金会\", \"地方自治体\", \"寄附者\"]）\n",
    "# - reference_articles（関連条文）: 関連する他の条文のリストを記述してください。（例: [\"第118条\", \"第119条\"]）。情報がない場合は [] を返してください。\n",
    "\n",
    "# 入力データ（法律文書）\n",
    "# {document}\n",
    "# このプロンプトを適用し、適切なメタデータを抽出してください。\n",
    "# \"\"\"\n",
    "# prompt_gene_metadata = ChatPromptTemplate.from_template(template)\n",
    "# # llm = ChatGroq(model=\"llama3-70b-8192\", temperature=0)\n",
    "\n",
    "# gene_metadatas = (\n",
    "#     prompt_gene_metadata \n",
    "#     | ChatGroq(temperature=0)                       # thực chất là một model LLMs \n",
    "#     | StrOutputParser()         # chuyển đổi output từ model LLMs thành dạng string\n",
    "#     | (lambda x: x.split(\"\\n\")) # tách các câu hỏi thành list các câu hỏi\n",
    "# ) # kết quả trả về là list các câu hỏi"
   ]
  },
  {
   "cell_type": "code",
   "execution_count": 40,
   "metadata": {},
   "outputs": [],
   "source": [
    "# from langchain.prompts import ChatPromptTemplate\n",
    "# from pydantic import BaseModel, Field\n",
    "# from typing import List, Optional, Literal\n",
    "# from langchain.output_parsers import JsonOutputKeyToolsParser\n",
    "\n",
    "# # Định nghĩa mô hình đầu ra\n",
    "# class MetadataExtractor(BaseModel):\n",
    "#     category: Optional[str] = Field(\n",
    "#         None, description=\"法律の分野 (null nếu không có thông tin)\"\n",
    "#     )\n",
    "#     keywords: List[str] = Field(\n",
    "#         default=[], description=\"重要なキーワードのリスト\"\n",
    "#     )\n",
    "#     applicable_entities: List[str] = Field(\n",
    "#         default=[], description=\"適用対象となる機関や団体\"\n",
    "#     )\n",
    "#     reference_articles: List[str] = Field(\n",
    "#         default=[], description=\"関連する他の条文のリスト\"\n",
    "#     )\n",
    "\n",
    "# # Tạo prompt template\n",
    "# metadata_extraction_prompt = ChatPromptTemplate.from_messages(\n",
    "#     [\n",
    "#         (\"system\", \"\"\"\n",
    "#         あなたはAI言語モデルアシスタントです。\n",
    "#         プロンプト（Metadata抽出用）\n",
    "#         以下の法律文書から、指定されたメタデータを抽出し、JSON形式で出力してください。\n",
    "#         必ずすべての項目を埋めてください。情報が不明な場合は「不明」や適切な推測を行ってください。\n",
    "#         \"\"\"),\n",
    "#         (\"human\", \"法律文書: {document}\")\n",
    "#     ]\n",
    "# )\n",
    "\n",
    "# llm = ChatGroq(model=\"llama3-70b-8192\", temperature=0)\n",
    "# # Kết hợp với LLM và định dạng output JSON\n",
    "# metadata_extractor_chain = metadata_extraction_prompt | llm.with_structured_output(\n",
    "#     MetadataExtractor\n",
    "# )\n",
    "\n",
    "# # Ví dụ dữ liệu đầu vào\n",
    "# document = \"共同募金会の寄附金は第118条に基づき配分される。地方自治体も対象となる。\"\n",
    "\n",
    "# # Thực thi pipeline\n",
    "# result = metadata_extractor_chain.invoke({\"document\": document})\n",
    "# print(result)\n"
   ]
  },
  {
   "cell_type": "code",
   "execution_count": 41,
   "metadata": {},
   "outputs": [],
   "source": [
    "# metadata_extractor_chain.invoke({\"document\":\"平成十五年法律第五十七号　個人情報の保護に関する法律/第六章　個人情報保護委員会/第二節　監督及び監視/第百四十九条　委員会の権限の行使の制限/委員会は、前三条の規定により個人情報取扱事業者等に対し報告若しくは資料の提出の要求、立入検査、指導、助言、勧告又は命令を行うに当たっては、表現の自由、学問の自由、信教の自由及び政治活動の自由を妨げてはならない。\\n前項の規定の趣旨に照らし、委員会は、個人情報取扱事業者等が第五十七条第一項各号に掲げる者（それぞれ当該各号に定める目的で個人情報等を取り扱う場合に限る。）に対して個人情報等を提供する行為については、その権限を行使しないものとする。\"})"
   ]
  },
  {
   "cell_type": "code",
   "execution_count": 42,
   "metadata": {},
   "outputs": [],
   "source": [
    "# # Load full document from json file\n",
    "# import json\n",
    "\n",
    "# with open(\"./full_corpus_110225_with_metadata.json\", \"r\", encoding=\"utf-8\") as f:\n",
    "#     docs = json.load(f)\n",
    "\n",
    "# print(len(docs))"
   ]
  },
  {
   "cell_type": "code",
   "execution_count": 43,
   "metadata": {},
   "outputs": [],
   "source": [
    "# # using tqdm\n",
    "# from tqdm import tqdm\n",
    "\n",
    "# for doc in tqdm(docs[:200]):\n",
    "#     result = metadata_extractor_chain.invoke({\"document\": doc[\"content\"]})\n",
    "#     if result.category:\n",
    "#         doc[\"metadata\"][\"category\"] = result.category\n",
    "#     if result.keywords:\n",
    "#         doc[\"metadata\"][\"keywords\"] = result.keywords\n",
    "#     if result.applicable_entities:\n",
    "#         doc[\"metadata\"][\"applicable_entities\"] = result.applicable_entities\n",
    "#     if result.reference_articles:\n",
    "#         doc[\"metadata\"][\"reference_articles\"] = result.reference_articles\n",
    "\n",
    "# for doc in docs[:200]: \n",
    "#     print(doc[\"metadata\"])\n",
    "#     print(doc[\"content\"])\n",
    "#     result = metadata_extractor_chain.invoke({\"document\": doc[\"content\"]})\n",
    "#     if result.category:\n",
    "#         doc[\"metadata\"][\"category\"] = result.category\n",
    "#     if result.keywords:\n",
    "#         doc[\"metadata\"][\"keywords\"] = result.keywords\n",
    "#     if result.applicable_entities:\n",
    "#         doc[\"metadata\"][\"applicable_entities\"] = result.applicable_entities\n",
    "#     if result.reference_articles:\n",
    "#         doc[\"metadata\"][\"reference_articles\"] = result.reference_articles"
   ]
  },
  {
   "cell_type": "code",
   "execution_count": 44,
   "metadata": {},
   "outputs": [],
   "source": [
    "# new_docs = docs[:20]\n",
    "# for new_doc in new_docs:\n",
    "#     print(new_doc[\"metadata\"])\n",
    "#     print(new_doc[\"content\"])\n",
    "#     if \"keywords\" in new_doc[\"metadata\"]:\n",
    "#         new_doc[\"metadata\"][\"keywords\"] = \", \".join(new_doc[\"metadata\"][\"keywords\"])\n",
    "#     if \"applicable_entities\" in new_doc[\"metadata\"]:\n",
    "#         new_doc[\"metadata\"][\"applicable_entities\"] = \", \".join(new_doc[\"metadata\"][\"applicable_entities\"])\n",
    "#     if \"reference_articles\" in new_doc[\"metadata\"]:\n",
    "#         new_doc[\"metadata\"][\"reference_articles\"] = \", \".join(new_doc[\"metadata\"][\"reference_articles\"])\n",
    "#     print(\"=====================================\")"
   ]
  },
  {
   "cell_type": "code",
   "execution_count": 45,
   "metadata": {},
   "outputs": [],
   "source": [
    "# # lưu new_docs vào file .json\n",
    "# with open(\"./new_docs.json\", \"w\", encoding=\"utf-8\") as f:\n",
    "#     json.dump(new_docs, f, ensure_ascii=False, indent=4)"
   ]
  },
  {
   "cell_type": "code",
   "execution_count": 46,
   "metadata": {},
   "outputs": [],
   "source": [
    "# # tổ chức thành dạng như sau:\n",
    "# # from langchain_core.documents import Document\n",
    "\n",
    "# # docs = [\n",
    "# #     Document(\n",
    "# #         page_content=\"A bunch of scientists bring back dinosaurs and mayhem breaks loose\",\n",
    "# #         metadata={\"year\": 1993, \"rating\": 7.7, \"genre\": \"science fiction\"},\n",
    "# #     ),\n",
    "# #     ...\n",
    "# # ]\n",
    "\n",
    "# # load new_docs\n",
    "# import json\n",
    "\n",
    "# with open(\"./new_docs.json\", \"r\", encoding=\"utf-8\") as f:\n",
    "#     new_docs = json.load(f)\n",
    "\n",
    "# from langchain_core.documents import Document\n",
    "\n",
    "# test_docs = []\n",
    "# for doc in new_docs:\n",
    "#     test_docs.append(\n",
    "#         Document(\n",
    "#             page_content=doc[\"content\"],\n",
    "#             metadata=doc[\"metadata\"]\n",
    "#         )\n",
    "#     )"
   ]
  },
  {
   "cell_type": "code",
   "execution_count": 47,
   "metadata": {},
   "outputs": [],
   "source": [
    "# import json\n",
    "\n",
    "# from langchain_core.documents import Document\n",
    "\n",
    "# from langchain_community.embeddings import HuggingFaceBgeEmbeddings\n",
    "# from langchain_community.vectorstores import Chroma\n",
    "\n",
    "# model_name = \"BAAI/bge-small-en\"\n",
    "# model_kwargs = {\"device\": \"cpu\"}\n",
    "# encode_kwargs = {\"normalize_embeddings\": True}\n",
    "# hf_embeddings = HuggingFaceBgeEmbeddings(\n",
    "#     model_name=model_name, model_kwargs=model_kwargs, encode_kwargs=encode_kwargs\n",
    "# )\n",
    "\n",
    "# with open(\"./new_docs.json\", \"r\", encoding=\"utf-8\") as f:\n",
    "#     new_docs = json.load(f)\n",
    "\n",
    "# from langchain_core.documents import Document\n",
    "\n",
    "# test_docs = []\n",
    "# for doc in new_docs:\n",
    "#     test_docs.append(\n",
    "#         Document(\n",
    "#             page_content=doc[\"content\"],\n",
    "#             metadata=doc[\"metadata\"]\n",
    "#         )\n",
    "#     )\n",
    "# len(test_docs)\n",
    "# vectorstore = Chroma.from_documents(test_docs, hf_embeddings)\n",
    "\n",
    "# from langchain.chains.query_constructor.base import AttributeInfo\n",
    "\n",
    "# metadata_field_info = [\n",
    "#     AttributeInfo(\n",
    "#         name=\"law_name\",\n",
    "#         description=\"法律の正式名称。\",\n",
    "#         type=\"string\",\n",
    "#     ),\n",
    "#     AttributeInfo(\n",
    "#         name=\"law_number\",\n",
    "#         description=\"法律の公式番号、制定年を含む。\",\n",
    "#         type=\"string\",\n",
    "#     ),\n",
    "#     AttributeInfo(\n",
    "#         name=\"enactment_year\",\n",
    "#         description=\"法律の制定年。\",\n",
    "#         type=\"integer\",\n",
    "#     ),\n",
    "#     AttributeInfo(\n",
    "#         name=\"chapter_number\",\n",
    "#         description=\"法律の章番号。\",\n",
    "#         type=\"string\",\n",
    "#     ),\n",
    "#     AttributeInfo(\n",
    "#         name=\"chapter_name\",\n",
    "#         description=\"法律の章の名称。\",\n",
    "#         type=\"string\",\n",
    "#     ),\n",
    "#     AttributeInfo(\n",
    "#         name=\"division_number\",\n",
    "#         description=\"法律の節番号（存在する場合）。\",\n",
    "#         type=\"string\",\n",
    "#     ),\n",
    "#     AttributeInfo(\n",
    "#         name=\"division_name\",\n",
    "#         description=\"法律の節の名称。\",\n",
    "#         type=\"string\",\n",
    "#     ),\n",
    "#     AttributeInfo(\n",
    "#         name=\"article_number\",\n",
    "#         description=\"法律の条番号。\",\n",
    "#         type=\"string\",\n",
    "#     ),\n",
    "#     AttributeInfo(\n",
    "#         name=\"article_name\",\n",
    "#         description=\"法律の条の名称。\",\n",
    "#         type=\"string\",\n",
    "#     ),\n",
    "#     AttributeInfo(\n",
    "#         name=\"category\",\n",
    "#         description=\"法律のカテゴリー。\",\n",
    "#         type=\"string\",\n",
    "#     ),\n",
    "#     AttributeInfo(\n",
    "#         name=\"keywords\",\n",
    "#         description=\"法律に関連するキーワードのリスト。\",\n",
    "#         type=\"long string\",\n",
    "#     ),\n",
    "#     AttributeInfo(\n",
    "#         name=\"applicable_entities\",\n",
    "#         description=\"法律が適用される対象。\",\n",
    "#         type=\"long string\",\n",
    "#     ),\n",
    "#     AttributeInfo(\n",
    "#         name=\"reference_articles\",\n",
    "#         description=\"関連する条文のリスト。\",\n",
    "#         type=\"long string\",\n",
    "#     ),\n",
    "#     AttributeInfo(\n",
    "#         name=\"document_source\",\n",
    "#         description=\"法律の発行元機関。\",\n",
    "#         type=\"string\",\n",
    "#     )\n",
    "# ]\n",
    "\n",
    "# from langchain.retrievers.self_query.base import SelfQueryRetriever\n",
    "# from langchain_groq import ChatGroq\n",
    "\n",
    "# document_content_description = \"法律の内容\"\n",
    "# llm = ChatGroq(temperature=0)\n",
    "# retriever = SelfQueryRetriever.from_llm(\n",
    "#     llm,\n",
    "#     vectorstore,\n",
    "#     document_content_description,\n",
    "#     metadata_field_info,\n",
    "# )"
   ]
  },
  {
   "cell_type": "code",
   "execution_count": 48,
   "metadata": {},
   "outputs": [],
   "source": [
    "# retriever.invoke(\"2015年以降に施行される法律を教えてください\")"
   ]
  },
  {
   "cell_type": "markdown",
   "metadata": {},
   "source": [
    "## GraphRAG\n",
    "\n",
    "- chunk + docs qua graphRAG => chunk, docs, generation, history (xây dựng tương tự file 8 ) (phuc)"
   ]
  },
  {
   "cell_type": "markdown",
   "metadata": {},
   "source": [
    "### check docs relevant query"
   ]
  },
  {
   "cell_type": "code",
   "execution_count": 49,
   "metadata": {},
   "outputs": [
    {
     "name": "stdout",
     "output_type": "stream",
     "text": [
      "grade='irrelevant'\n"
     ]
    }
   ],
   "source": [
    "from langchain_core.pydantic_v1 import validator\n",
    "\n",
    "class Grader(BaseModel):\n",
    "    \"取得された文書の関連性を判定するために、このフォーマットを使用してください。\"\n",
    "\n",
    "    grade: Literal[\"relevant\", \"irrelevant\"] = Field(\n",
    "        ...,\n",
    "        description=\"文書の関連性スコア。\\n\"\n",
    "        \"ユーザーのクエリに対して文書が関連している場合は「relevant」、関連していない場合は「irrelevant」と設定してください。\",\n",
    "    )\n",
    "\n",
    "    @validator(\"grade\", pre=True)\n",
    "    def validate_grade(cls, value):\n",
    "        if value == \"not relevant\":\n",
    "            return \"irrelevant\"\n",
    "        return value\n",
    "\n",
    "\n",
    "grader_system_prompt_template = \"\"\"取得したルールが契約文に関連しているかどうかを判断するのはあなたです。つまり、取得したルールを使用して契約文が真か偽かを証明することができますか?\n",
    "法律が正しいか間違っているかが証明できる場合、または契約文に密接に関連している場合は、その法律を「relevant」とみなします。契約文に関係がない場合は「irrelevant」と評価します。\n",
    "評価結果は、一意のキー「grade」を含む JSON 形式で提供される必要があり、それ以上の説明は必要ありません。\n",
    "\"\"\"\n",
    "\n",
    "grader_prompt = ChatPromptTemplate.from_messages(\n",
    "    [\n",
    "        (\"system\", grader_system_prompt_template),\n",
    "        (\"human\", \"契約条項: {contract_clause}\\n\\n法的文書: {legal_text}\")\n",
    "    ]\n",
    ")\n",
    "\n",
    "\n",
    "llm = ChatGroq(model=\"llama3-70b-8192\", temperature=0)\n",
    "grader_chain = grader_prompt | llm.with_structured_output(Grader, method=\"json_mode\")\n",
    "\n",
    "# query = \"symptoms of migraine\"\n",
    "# context = retriever.get_relevant_documents(query)\n",
    "\n",
    "# response = grader_chain.invoke({\"query\": query, \"context\": context})\n",
    "\n",
    "query_contract_clause = \"労働者として採用された者は、採用を通知された日から会社が指定する期日までに履歴書・職務経歴書、入社誓約書、個人情報保護法に基づく誓約書、住民票記載事項証明書、給与所得者の扶養控除等(異動)申告書、源泉徴収票、雇用契約書、年金手帳の写し、通勤手当申請書、住宅手当申請書、給与振込先申請書、身元保証書、雇用保険被保険者証の写し、マイナンバーカード又はマイナンバー通知書の写し、資格免許証の写し、健康診断結果、学生証の写し、パスポートの写しを提出しなければならない。\"  # Ví dụ câu hợp đồng\n",
    "# context_legal_docs = labor_retrievers.get_relevant_documents(query_contract_clause)\n",
    "\n",
    "map_ids, new_scores = retrieval.inference(query_contract_clause)\n",
    "context_legal_docs = return_documents(map_ids, new_scores)\n",
    "\n",
    "context_legal_text = context_legal_docs[3].page_content\n",
    "\n",
    "response = grader_chain.invoke({\"contract_clause\": query_contract_clause, \"legal_text\": context_legal_text})\n",
    "print(response)\n"
   ]
  },
  {
   "cell_type": "markdown",
   "metadata": {},
   "source": [
    "### Trả lời câu hỏi"
   ]
  },
  {
   "cell_type": "code",
   "execution_count": 50,
   "metadata": {},
   "outputs": [
    {
     "name": "stdout",
     "output_type": "stream",
     "text": [
      "- 結論: 誤り\n",
      "- 説明: 提供された法的コンテキストは、労働安全衛生法に関する規定であり、従業員の退職に関する規定とは関係ありません。従業員の退職に関する規定は、労働基準法や労働契約法など他の法律に規定されています。この契約条項は、法的コンテキストに基づいて正しいとは言えません。\n"
     ]
    }
   ],
   "source": [
    "from langchain_core.prompts import ChatPromptTemplate\n",
    "from langchain_core.output_parsers import StrOutputParser\n",
    "\n",
    "# 日本語版のRAGプロンプトテンプレート\n",
    "rag_template_str = (\n",
    "    \"あなたは契約条項の正確性を判断する法務アシスタントです。\\n\\n\"\n",
    "    \"以下の契約条項が与えられた法的コンテキストに基づいて正しいかどうかを判定し、\\n\"\n",
    "    \"結論（正しい/誤り）と合理的な説明を提供してください。\\n\\n\"\n",
    "    \"【契約条項】\\n{contract_clause}\\n\\n\"\n",
    "    \"【法的コンテキスト】\\n{context}\\n\\n\"\n",
    "    \"回答フォーマット:\\n\"\n",
    "    \"- 結論: 「正しい」または「誤り」\\n\"\n",
    "    \"- 説明: 法的コンテキストに基づいた論拠を簡潔に記述\"\n",
    ")\n",
    "\n",
    "# プロンプトテンプレートの作成\n",
    "rag_prompt = ChatPromptTemplate.from_template(rag_template_str)\n",
    "\n",
    "# LLMチェーンの構築\n",
    "rag_chain = rag_prompt | llm | StrOutputParser()\n",
    "\n",
    "# テスト用の契約条項と法的コンテキスト\n",
    "contract_clause = \"従業員は退職時に30日前に書面で通知する必要がある。\"\n",
    "# context = labor_retrievers.get_relevant_documents(contract_clause)\n",
    "\n",
    "map_ids, new_scores = retrieval.inference(query_contract_clause)\n",
    "context = return_documents(map_ids, new_scores)[5]\n",
    "\n",
    "# チェーンを実行して結果を取得\n",
    "response = rag_chain.invoke({\"contract_clause\": contract_clause, \"context\": context})\n",
    "\n",
    "# 結果を表示\n",
    "print(response)"
   ]
  },
  {
   "cell_type": "markdown",
   "metadata": {},
   "source": [
    "### Fallback"
   ]
  },
  {
   "cell_type": "code",
   "execution_count": 51,
   "metadata": {},
   "outputs": [
    {
     "data": {
      "text/plain": [
       "'こんにちは！私はVJTechによって作成された親切な契約および法務アシスタントです。私は契約や法律に関する質問に回答します。ただし、契約や法律に関連しない質問には回答できません。もし、契約や法律に関する質問がある場合は、簡潔かつ的確に回答します。どうぞ、質問してください！'"
      ]
     },
     "execution_count": 51,
     "metadata": {},
     "output_type": "execute_result"
    }
   ],
   "source": [
    "fallback_prompt = ChatPromptTemplate.from_template(\n",
    "    (\n",
    "        \"あなたは、VJTechによって作成された親切な契約および法務アシスタントです。\"\n",
    "        \"契約や法律に関連しない質問には回答しないでください。\"\n",
    "        \"契約や法律に関連しない質問の場合は、その制限を認識して説明してください。\"\n",
    "        \"契約や法律に関連する質問には、簡潔かつ的確に回答してください。\"\n",
    "        \"現在の会話内容:\\n\\n{chat_history}\\n\\n\"\n",
    "        \"人間: {query}\"\n",
    "    )\n",
    ")\n",
    "\n",
    "fallback_chain = (\n",
    "    {\n",
    "        \"chat_history\": lambda x: \"\\n\".join(\n",
    "            [\n",
    "                (\n",
    "                    f\"human: {msg.content}\"\n",
    "                    if isinstance(msg, HumanMessage)\n",
    "                    else f\"AI: {msg.content}\"\n",
    "                )\n",
    "                for msg in x[\"chat_history\"]\n",
    "            ]\n",
    "        ),\n",
    "        \"query\": itemgetter(\"query\") ,\n",
    "    }\n",
    "    | fallback_prompt\n",
    "    | llm\n",
    "    | StrOutputParser()\n",
    ")\n",
    "\n",
    "fallback_chain.invoke(\n",
    "    {\n",
    "        \"query\": \"こんにちは\",\n",
    "        \"chat_history\": [],\n",
    "    }\n",
    ")"
   ]
  },
  {
   "cell_type": "markdown",
   "metadata": {},
   "source": [
    "### HallucinationGrader\n",
    "\n",
    "- đánh giá câu trả lời có dựa trên docs hay không"
   ]
  },
  {
   "cell_type": "code",
   "execution_count": 52,
   "metadata": {},
   "outputs": [],
   "source": [
    "from langchain_core.pydantic_v1 import BaseModel\n",
    "from typing import Literal\n",
    "from langchain.prompts import ChatPromptTemplate\n",
    "from langchain.schema.runnable import RunnableParallel\n",
    "from operator import itemgetter\n",
    "\n",
    "class HallucinationGrader(BaseModel):\n",
    "    \"LLMの応答が幻覚かどうかを判定するバイナリスコア\"\n",
    "\n",
    "    grade: Literal[\"yes\", \"no\"] = Field(\n",
    "        ..., description=\"'yes' はLLMの応答が幻覚であることを意味し、'no' は幻覚ではないことを意味します。\"\n",
    "    )\n",
    "\n",
    "\n",
    "hallucination_grader_system_prompt_template = (\n",
    "    \"あなたは、LLMの応答が与えられたコンテキストに基づいているかどうかを評価する判定者です。\\n\"\n",
    "    \"LLMの応答がコンテキストに基づいていない場合は、'yes' をスコアとして与えてください（これは幻覚を意味します）。\\n\"\n",
    "    \"コンテキストに基づいている場合は、'no' を与えてください。\\n\"\n",
    "    \"結果はJSON形式で提供し、キーは 'grade' のみとし、値は 'yes' または 'no' のどちらかとしてください。\\n\"\n",
    "    \"追加の説明は不要です。\"\n",
    ")\n",
    "\n",
    "hallucination_grader_prompt = ChatPromptTemplate.from_messages(\n",
    "    [\n",
    "        (\"system\", hallucination_grader_system_prompt_template),\n",
    "        (\"human\", \"コンテキスト: {context}\\n\\nLLMの応答: {response}\"),\n",
    "    ]\n",
    ")\n",
    "\n",
    "\n",
    "hallucination_grader_chain = (\n",
    "    RunnableParallel(\n",
    "        {\n",
    "            \"response\": itemgetter(\"response\"),\n",
    "            \"context\": lambda x: \"\\n\\n\".join([c.page_content for c in x[\"context\"]]),\n",
    "        }\n",
    "    )\n",
    "    | hallucination_grader_prompt\n",
    "    | llm.with_structured_output(HallucinationGrader, method=\"json_mode\")\n",
    ")\n",
    "\n",
    "query_contract_clause = \"従業員は、退職時に30日前に書面で通知する必要がある。\"\n",
    "# context_legal_text = labor_retrievers.get_relevant_documents(query_contract_clause)\n",
    "map_ids, new_scores = retrieval.inference(query_contract_clause)\n",
    "context_legal_text = return_documents(map_ids, new_scores)\n",
    "\n",
    "\n",
    "response = \"\"\"提供されたコンテキストに基づくと、労働契約法第16条により、退職時には30日前に書面で通知する義務があることが確認されました。したがって、この契約条項は正しいです。\"\"\"\n",
    "\n",
    "\n",
    "# response = hallucination_grader_chain.invoke({\"response\": response, \"context\": context_legal_text})\n"
   ]
  },
  {
   "cell_type": "code",
   "execution_count": 53,
   "metadata": {},
   "outputs": [
    {
     "data": {
      "text/plain": [
       "[Document(metadata={'law_number': '昭和二十二年法律第四十九号', 'law_name': '労働基準法', 'enactment_year': '令和6年5月31日 施行', 'chapter_number': '第九章', 'chapter_name': '就業規則', 'division_number': '', 'division_name': '', 'article_number': '第八十九条', 'article_name': '作成及び届出の義務', 'document_source': 'https://laws.e-gov.go.jp/law/322AC0000000049'}, page_content='昭和二十二年法律第四十九号\\u3000労働基準法/第九章\\u3000就業規則/第八十九条\\u3000作成及び届出の義務/常時十人以上の労働者を使用する使用者は、次に掲げる事項について就業規則を作成し、行政官庁に届け出なければならない。次に掲げる事項を変更した場合においても、同様とする。\\n一\\u3000始業及び終業の時刻、休憩時間、休日、休暇並びに労働者を二組以上に分けて交替に就業させる場合においては就業時転換に関する事項\\n二\\u3000賃金（臨時の賃金等を除く。以下この号において同じ。）の決定、計算及び支払の方法、賃金の締切り及び支払の時期並びに昇給に関する事項\\n三\\u3000退職に関する事項（解雇の事由を含む。）\\n三の二\\u3000退職手当の定めをする場合においては、適用される労働者の範囲、退職手当の決定、計算及び支払の方法並びに退職手当の支払の時期に関する事項\\n四\\u3000臨時の賃金等（退職手当を除く。）及び最低賃金額の定めをする場合においては、これに関する事項\\n五\\u3000労働者に食費、作業用品その他の負担をさせる定めをする場合においては、これに関する事項\\n六\\u3000安全及び衛生に関する定めをする場合においては、これに関する事項\\n七\\u3000職業訓練に関する定めをする場合においては、これに関する事項\\n八\\u3000災害補償及び業務外の傷病扶助に関する定めをする場合においては、これに関する事項\\n九\\u3000表彰及び制裁の定めをする場合においては、その種類及び程度に関する事項\\n十\\u3000前各号に掲げるもののほか、当該事業場の労働者のすべてに適用される定めをする場合においては、これに関する事項'),\n",
       " Document(metadata={'law_number': '平成十九年法律第百二十八号', 'law_name': '労働契約法', 'enactment_year': '令和2年4月1日 施行', 'chapter_number': '第三章', 'chapter_name': '労働契約の継続及び終了', 'division_number': '', 'division_name': '', 'article_number': '第十六条', 'article_name': '解雇', 'document_source': 'https://laws.e-gov.go.jp/law/419AC0000000128'}, page_content='平成十九年法律第百二十八号\\u3000労働契約法/第三章\\u3000労働契約の継続及び終了/第十六条\\u3000解雇/解雇は、客観的に合理的な理由を欠き、社会通念上相当であると認められない場合は、その権利を濫用したものとして、無効とする。'),\n",
       " Document(metadata={'law_number': '昭和二十二年法律第四十九号', 'law_name': '労働基準法', 'enactment_year': '令和6年5月31日 施行', 'chapter_number': '第二章', 'chapter_name': '労働契約', 'division_number': '', 'division_name': '', 'article_number': '第二十条', 'article_name': '解雇の予告', 'document_source': 'https://laws.e-gov.go.jp/law/322AC0000000049'}, page_content='昭和二十二年法律第四十九号\\u3000労働基準法/第二章\\u3000労働契約/第二十条\\u3000解雇の予告/使用者は、労働者を解雇しようとする場合においては、少くとも三十日前にその予告をしなければならない。三十日前に予告をしない使用者は、三十日分以上の平均賃金を支払わなければならない。但し、天災事変その他やむを得ない事由のために事業の継続が不可能となつた場合又は労働者の責に帰すべき事由に基いて解雇する場合においては、この限りでない。\\n前項の予告の日数は、一日について平均賃金を支払つた場合においては、その日数を短縮することができる。\\n前条第二項の規定は、第一項但書の場合にこれを準用する。'),\n",
       " Document(metadata={'law_number': '昭和二十二年法律第四十九号', 'law_name': '労働基準法', 'enactment_year': '令和6年5月31日 施行', 'chapter_number': '第二章', 'chapter_name': '労働契約', 'division_number': '', 'division_name': '', 'article_number': '第二十二条', 'article_name': '退職時等の証明', 'document_source': 'https://laws.e-gov.go.jp/law/322AC0000000049'}, page_content='昭和二十二年法律第四十九号\\u3000労働基準法/第二章\\u3000労働契約/第二十二条\\u3000退職時等の証明/労働者が、退職の場合において、使用期間、業務の種類、その事業における地位、賃金又は退職の事由（退職の事由が解雇の場合にあつては、その理由を含む。）について証明書を請求した場合においては、使用者は、遅滞なくこれを交付しなければならない。\\n労働者が、第二十条第一項の解雇の予告がされた日から退職の日までの間において、当該解雇の理由について証明書を請求した場合においては、使用者は、遅滞なくこれを交付しなければならない。ただし、解雇の予告がされた日以後に労働者が当該解雇以外の事由により退職した場合においては、使用者は、当該退職の日以後、これを交付することを要しない。\\n前二項の証明書には、労働者の請求しない事項を記入してはならない。\\n使用者は、あらかじめ第三者と謀り、労働者の就業を妨げることを目的として、労働者の国籍、信条、社会的身分若しくは労働組合運動に関する通信をし、又は第一項及び第二項の証明書に秘密の記号を記入してはならない。'),\n",
       " Document(metadata={'law_number': '昭和三十四年法律第百六十号', 'law_name': '中小企業退職金共済法', 'enactment_year': '令和4年6月17日 施行', 'chapter_number': '第三章', 'chapter_name': '共済契約者及び被共済者', 'division_number': '', 'division_name': '', 'article_number': '第三十七条', 'article_name': '届出', 'document_source': 'https://laws.e-gov.go.jp/law/334AC0000000160'}, page_content='昭和三十四年法律第百六十号\\u3000中小企業退職金共済法/第三章\\u3000共済契約者及び被共済者/第三十七条\\u3000届出/退職金共済契約の共済契約者は、中小企業者でない事業主となつたとき、又は被共済者が退職したときは、遅滞なく、その旨を機構に届け出なければならない。')]"
      ]
     },
     "execution_count": 53,
     "metadata": {},
     "output_type": "execute_result"
    }
   ],
   "source": [
    "context_legal_text"
   ]
  },
  {
   "cell_type": "code",
   "execution_count": 54,
   "metadata": {},
   "outputs": [
    {
     "name": "stdout",
     "output_type": "stream",
     "text": [
      "提供されたコンテキストに基づくと、労働契約法第16条により、退職時には30日前に書面で通知する義務があることが確認されました。したがって、この契約条項は正しいです。\n"
     ]
    }
   ],
   "source": [
    "print(response)"
   ]
  },
  {
   "cell_type": "markdown",
   "metadata": {},
   "source": [
    "### Đánh giá câu trả lời có thoã mãn yêu cầu của câu hỏi chưa"
   ]
  },
  {
   "cell_type": "code",
   "execution_count": 55,
   "metadata": {},
   "outputs": [
    {
     "name": "stdout",
     "output_type": "stream",
     "text": [
      "grade='yes'\n"
     ]
    }
   ],
   "source": [
    "from langchain_core.pydantic_v1 import BaseModel\n",
    "from langchain_core.prompts import ChatPromptTemplate\n",
    "from typing import Literal\n",
    "from operator import itemgetter\n",
    "\n",
    "class AnswerGrader(BaseModel):\n",
    "    \"契約条項の正誤判定に関する回答を評価するバイナリスコア。\"\n",
    "\n",
    "    grade: Literal[\"yes\", \"no\"] = Field(\n",
    "        ...,\n",
    "        description=\"契約条項の正誤に対して、回答が明確な結論と合理的な説明を提供している場合は「yes」、そうでなければ「no」を指定してください。\",\n",
    "    )\n",
    "\n",
    "\n",
    "answer_grader_system_prompt_template = (\n",
    "    \"あなたは契約条項の正誤判定に関する回答を評価する判定者です。\\n\"\n",
    "    \"提供された回答が契約条項の正誤に対して明確な結論（正しい/誤り）と合理的な説明を示しているかを評価してください。\\n\"\n",
    "    \"もし回答に結論や説明が不十分であれば「no」、十分であれば「yes」としてください。\\n\"\n",
    "    \"回答はJSON形式で提供し、「grade」キーに「yes」または「no」を指定してください。追加の説明は不要です。\"\n",
    ")\n",
    "\n",
    "answer_grader_prompt = ChatPromptTemplate.from_messages(\n",
    "    [\n",
    "        (\"system\", answer_grader_system_prompt_template),\n",
    "        (\"human\", \"契約条項: {contract_clause}\\n\\n回答: {response}\"),\n",
    "    ]\n",
    ")\n",
    "\n",
    "\n",
    "answer_grader_chain = answer_grader_prompt | llm.with_structured_output(\n",
    "    AnswerGrader, method=\"json_mode\"\n",
    ")\n",
    "\n",
    "# テスト用の入力\n",
    "query_contract_clause = \"従業員は、退職時に30日前に書面で通知する必要がある。\"\n",
    "response = \"\"\"提供されたコンテキストに基づくと、労働契約法第16条により、退職時には30日前に書面で通知する義務があるため、この契約条項は正しいです。\"\"\"\n",
    "\n",
    "# チェーンを実行して結果を取得\n",
    "result = answer_grader_chain.invoke({\"response\": response, \"contract_clause\": query_contract_clause})\n",
    "\n",
    "print(result)\n"
   ]
  },
  {
   "cell_type": "markdown",
   "metadata": {},
   "source": [
    "### Main\n",
    "\n",
    "- tổ chức graph"
   ]
  },
  {
   "cell_type": "code",
   "execution_count": 56,
   "metadata": {},
   "outputs": [],
   "source": [
    "from typing import TypedDict\n",
    "from langchain_core.documents import Document\n",
    "from langgraph.prebuilt import ToolExecutor\n",
    "from langchain_core.tools import Tool\n",
    "from langchain_core.messages.base import BaseMessage\n",
    "\n",
    "# tavily_search = TavilySearchResults()\n",
    "# tool_executor = ToolExecutor(\n",
    "#     tools=[\n",
    "#         Tool(\n",
    "#             name=\"VectorStore\",\n",
    "#             func=retriever.invoke,\n",
    "#             description=\"Useful to search the vector database\",\n",
    "#         ),\n",
    "#         Tool(\n",
    "#             name=\"SearchEngine\", func=tavily_search, description=\"Useful to search the web\"\n",
    "#         ),\n",
    "#     ]\n",
    "# )\n",
    "\n",
    "\n",
    "class AgentSate(TypedDict):\n",
    "    \"\"\"The dictionary keeps track of the data required by the various nodes in the graph\"\"\"\n",
    "\n",
    "    query: str\n",
    "    query_transformers: list[str]\n",
    "    chat_history:list[BaseMessage]\n",
    "    generation: str\n",
    "    documents: list[Document]\n",
    "\n",
    "\n",
    "def query_transformer_node(state: dict) -> dict[str, list[Document] | str]:\n",
    "    \"\"\"\n",
    "    Retrieve relevent documents from the vectorstore\n",
    "\n",
    "    query: str\n",
    "\n",
    "    return list[Document]\n",
    "    \"\"\"\n",
    "    query = state[\"query\"]\n",
    "    query_transformers = generate_queries.invoke({\"contract_clause\":query})\n",
    "    print()\n",
    "    print(\"====query_transformer_node====\")\n",
    "    return {\"query_transformers\": query_transformers}\n",
    "\n",
    "\n",
    "# def retrieve_node(state: dict) -> dict[str, list[Document] | str]:\n",
    "#     \"\"\"\n",
    "#     Retrieve relevent documents from the vectorstore\n",
    "\n",
    "#     query: str\n",
    "\n",
    "#     return list[Document]\n",
    "#     \"\"\"\n",
    "#     query = state[\"query\"]\n",
    "#     # documents = labor_retrievers.invoke(input=query)\n",
    "\n",
    "#     map_ids, new_scores = retrieval.inference(query_contract_clause)\n",
    "#     documents = return_documents(map_ids, new_scores)\n",
    "\n",
    "#     return {\"documents\": documents}\n",
    "\n",
    "def retrieve_node(state: dict) -> dict[str, list[Document] | str]:\n",
    "    \"\"\"\n",
    "    Retrieve relevent documents from the vectorstore\n",
    "\n",
    "    query: str\n",
    "\n",
    "    return list[Document]\n",
    "    \"\"\"\n",
    "    query_transformers = state[\"query_transformers\"]\n",
    "    full_docs = []\n",
    "    for query in query_transformers:\n",
    "        # documents = labor_retrievers.invoke(input=query)\n",
    "\n",
    "        map_ids, new_scores = retrieval.inference(query)\n",
    "        documents = return_documents(map_ids, new_scores)\n",
    "        full_docs.extend(documents)\n",
    "    print()\n",
    "    print(\"====retrieval_node====\")\n",
    "    return {\"documents\": full_docs}\n",
    "\n",
    "\n",
    "def fallback_node(state: dict):\n",
    "    \"\"\"\n",
    "    Fallback to this node when there is no tool call\n",
    "    \"\"\"\n",
    "    query = state[\"query\"]\n",
    "    chat_history = state[\"chat_history\"]\n",
    "    generation = fallback_chain.invoke({\"query\": query, \"chat_history\": chat_history})\n",
    "    return {\"generation\": generation, \"documents\": []}\n",
    "\n",
    "\n",
    "def filter_documents_node(state: dict):\n",
    "    filtered_docs = list()\n",
    "\n",
    "    query = state[\"query\"]\n",
    "    documents = state[\"documents\"]\n",
    "\n",
    "    # loại bỏ các documents giống nhau\n",
    "    unique_data = []\n",
    "    seen = set()\n",
    "\n",
    "    for item in documents:\n",
    "        item_str = str(item)\n",
    "        if item_str not in seen:\n",
    "            seen.add(item_str)\n",
    "            unique_data.append(item)\n",
    "    print(\"====filter_documents_node====\")\n",
    "    for i, doc in enumerate(unique_data, start=1):\n",
    "        grade = grader_chain.invoke({\"contract_clause\": query, \"legal_text\": doc})\n",
    "        if grade.grade == \"relevant\":\n",
    "            print(f\"---DOCUMENT {i}: RELEVANT---\")\n",
    "            filtered_docs.append(doc)\n",
    "        else:\n",
    "            print(f\"---DOCUMENT {i}: NOT RELEVANT---\")\n",
    "    return {\"documents\": filtered_docs}\n",
    "\n",
    "\n",
    "def rag_node(state: dict):\n",
    "    query = state[\"query\"]\n",
    "    documents = state[\"documents\"]\n",
    "\n",
    "    generation = rag_chain.invoke({\"contract_clause\": query, \"context\": documents})\n",
    "    return {\"generation\": generation}\n",
    "\n",
    "\n",
    "# def web_search_node(state: dict):\n",
    "#     query = state[\"query\"]\n",
    "#     results = tavily_search.invoke(query)\n",
    "#     documents = [\n",
    "#         Document(page_content=doc[\"content\"], metadata={\"source\": doc[\"url\"]})\n",
    "#         for doc in results\n",
    "#     ]\n",
    "#     return {\"documents\": documents}\n",
    "\n",
    "\n",
    "def question_router_node(state: dict):\n",
    "    query = state[\"query\"]\n",
    "    try:\n",
    "        response = query_router.invoke({\"query\": query})\n",
    "    except Exception:\n",
    "        return \"llm_fallback\"\n",
    "\n",
    "    if \"tool_calls\" not in response.additional_kwargs:\n",
    "        print(\"---No tool called---\")\n",
    "        return \"llm_fallback\"\n",
    "\n",
    "    if len(response.additional_kwargs[\"tool_calls\"]) == 0:\n",
    "        raise \"Router could not decide route!\"\n",
    "\n",
    "    route = response.additional_kwargs[\"tool_calls\"][0][\"function\"][\"name\"]\n",
    "    if \"VectorStore\" in route:\n",
    "        print(f\"---Routing to VectorStore {route}---\")\n",
    "        return \"VectorStore\"\n",
    "    elif route == \"SearchEngine\":\n",
    "        print(\"---Routing to SearchEngine---\")\n",
    "        return \"SearchEngine\"\n",
    "\n",
    "\n",
    "def should_generate(state: dict):\n",
    "    filtered_docs = state[\"documents\"]\n",
    "\n",
    "    if not filtered_docs:\n",
    "        print(\"---All retrived documents not relevant---\")\n",
    "        return \"NEI\"\n",
    "    else:\n",
    "        print(\"---Some retrived documents are relevant---\")\n",
    "        return \"generate\"\n",
    "\n",
    "\n",
    "def hallucination_and_answer_relevance_check(state: dict):\n",
    "    llm_response = state[\"generation\"]\n",
    "    documents = state[\"documents\"]\n",
    "    query = state[\"query\"]\n",
    "\n",
    "    hallucination_grade = hallucination_grader_chain.invoke(\n",
    "        {\"response\": llm_response, \"context\": documents}\n",
    "    )\n",
    "    if hallucination_grade.grade == \"no\":\n",
    "        print(\"---Hallucination check passed---\")\n",
    "        answer_relevance_grade = answer_grader_chain.invoke(\n",
    "            {\"response\": llm_response, \"contract_clause\": query}\n",
    "        )\n",
    "        if answer_relevance_grade.grade == \"yes\":\n",
    "            print(\"---Answer is relevant to question---\\n\")\n",
    "            return \"useful\"\n",
    "        else:\n",
    "            print(\"---Answer is not relevant to question---\")\n",
    "            return \"not useful\"\n",
    "    print(\"---Hallucination check failed---\")\n",
    "    return \"generate\""
   ]
  },
  {
   "cell_type": "code",
   "execution_count": 57,
   "metadata": {},
   "outputs": [
    {
     "data": {
      "text/plain": [
       "<langgraph.graph.state.StateGraph at 0x7f842e18c610>"
      ]
     },
     "execution_count": 57,
     "metadata": {},
     "output_type": "execute_result"
    }
   ],
   "source": [
    "from langgraph.graph import StateGraph, END\n",
    "\n",
    "workflow = StateGraph(AgentSate)\n",
    "workflow.add_node(\"query_trans\", query_transformer_node)\n",
    "workflow.add_node(\"VectorStore\", retrieve_node)\n",
    "# workflow.add_node(\"SearchEngine\", web_search_node)\n",
    "workflow.add_node(\"filter_docs\", filter_documents_node)\n",
    "workflow.add_node(\"fallback\", fallback_node)\n",
    "workflow.add_node(\"rag\", rag_node)\n",
    "\n",
    "workflow.set_conditional_entry_point(\n",
    "    question_router_node,\n",
    "    {\n",
    "        \"llm_fallback\": \"fallback\",\n",
    "        \"VectorStore\": \"query_trans\",\n",
    "        # \"SearchEngine\": \"SearchEngine\",\n",
    "    },\n",
    ")\n",
    "\n",
    "workflow.add_edge(\"query_trans\", \"VectorStore\")\n",
    "workflow.add_edge(\"VectorStore\", \"filter_docs\")\n",
    "# workflow.add_edge(\"SearchEngine\", \"filter_docs\")\n",
    "workflow.add_conditional_edges(\n",
    "    \"filter_docs\", should_generate, {\"NEI\": END, \"generate\": \"rag\"}\n",
    ")\n",
    "workflow.add_conditional_edges(\n",
    "    \"rag\",\n",
    "    hallucination_and_answer_relevance_check,\n",
    "    {\"useful\": END, \"not useful\": END, \"generate\": \"rag\"},\n",
    ")\n",
    "\n",
    "workflow.add_edge(\"fallback\", END)"
   ]
  },
  {
   "cell_type": "code",
   "execution_count": 58,
   "metadata": {},
   "outputs": [],
   "source": [
    "app = workflow.compile(debug=False)\n",
    "plot = app.get_graph().draw_mermaid_png()\n",
    "\n",
    "with open(\"plot_Phuc.png\", \"wb\") as fp:\n",
    "    fp.write(plot)"
   ]
  },
  {
   "cell_type": "code",
   "execution_count": 59,
   "metadata": {},
   "outputs": [
    {
     "data": {
      "image/jpeg": "[encoded data removed]",
      "image/png": "[encoded data removed]",
      "text/plain": [
       "<PIL.PngImagePlugin.PngImageFile image mode=RGB size=450x677>"
      ]
     },
     "metadata": {},
     "output_type": "display_data"
    }
   ],
   "source": [
    "from io import BytesIO\n",
    "from PIL import Image\n",
    "from IPython.display import display\n",
    "\n",
    "# Assuming you have the byte image stream in the 'byte_image' variable\n",
    "img = Image.open(BytesIO(plot))\n",
    "display(img)"
   ]
  },
  {
   "cell_type": "code",
   "execution_count": 60,
   "metadata": {},
   "outputs": [
    {
     "name": "stdout",
     "output_type": "stream",
     "text": [
      "---Routing to VectorStore LaborLawsVectorStore---\n",
      "\n",
      "====query_transformer_node====\n",
      "{'query_trans': {'query_transformers': ['1. 雇用法に基づいて、雇用主が従業員を解雇する場合、通知期間は legally how many days in advance should it be given?', \"2. From the employee's perspective, what is the required notice period for termination according to labor laws?\", '3. Are there any exceptions to the 40-day notice requirement for employers when terminating employees under specific circumstances?', \"4. How does the 40-day notice period in this contract compare to other jurisdictions' employment termination notice requirements?\", '5. How does the 40-day notice period in this contract align with the recommended best practices for employment termination notice periods?']}}\n",
      "====retrieval_node====\n",
      "{'VectorStore': {'documents': [Document(metadata={'law_number': '平成十九年法律第百二十八号', 'law_name': '労働契約法', 'enactment_year': '令和2年4月1日 施行', 'chapter_number': '第三章', 'chapter_name': '労働契約の継続及び終了', 'division_number': '', 'division_name': '', 'article_number': '第十六条', 'article_name': '解雇', 'document_source': 'https://laws.e-gov.go.jp/law/419AC0000000128'}, page_content='平成十九年法律第百二十八号\\u3000労働契約法/第三章\\u3000労働契約の継続及び終了/第十六条\\u3000解雇/解雇は、客観的に合理的な理由を欠き、社会通念上相当であると認められない場合は、その権利を濫用したものとして、無効とする。'), Document(metadata={'law_number': '昭和二十二年法律第四十九号', 'law_name': '労働基準法', 'enactment_year': '令和6年5月31日 施行', 'chapter_number': '第二章', 'chapter_name': '労働契約', 'division_number': '', 'division_name': '', 'article_number': '第二十条', 'article_name': '解雇の予告', 'document_source': 'https://laws.e-gov.go.jp/law/322AC0000000049'}, page_content='昭和二十二年法律第四十九号\\u3000労働基準法/第二章\\u3000労働契約/第二十条\\u3000解雇の予告/使用者は、労働者を解雇しようとする場合においては、少くとも三十日前にその予告をしなければならない。三十日前に予告をしない使用者は、三十日分以上の平均賃金を支払わなければならない。但し、天災事変その他やむを得ない事由のために事業の継続が不可能となつた場合又は労働者の責に帰すべき事由に基いて解雇する場合においては、この限りでない。\\n前項の予告の日数は、一日について平均賃金を支払つた場合においては、その日数を短縮することができる。\\n前条第二項の規定は、第一項但書の場合にこれを準用する。'), Document(metadata={'law_number': '昭和二十二年法律第四十九号', 'law_name': '労働基準法', 'enactment_year': '令和6年5月31日 施行', 'chapter_number': '第二章', 'chapter_name': '労働契約', 'division_number': '', 'division_name': '', 'article_number': '第二十二条', 'article_name': '退職時等の証明', 'document_source': 'https://laws.e-gov.go.jp/law/322AC0000000049'}, page_content='昭和二十二年法律第四十九号\\u3000労働基準法/第二章\\u3000労働契約/第二十二条\\u3000退職時等の証明/労働者が、退職の場合において、使用期間、業務の種類、その事業における地位、賃金又は退職の事由（退職の事由が解雇の場合にあつては、その理由を含む。）について証明書を請求した場合においては、使用者は、遅滞なくこれを交付しなければならない。\\n労働者が、第二十条第一項の解雇の予告がされた日から退職の日までの間において、当該解雇の理由について証明書を請求した場合においては、使用者は、遅滞なくこれを交付しなければならない。ただし、解雇の予告がされた日以後に労働者が当該解雇以外の事由により退職した場合においては、使用者は、当該退職の日以後、これを交付することを要しない。\\n前二項の証明書には、労働者の請求しない事項を記入してはならない。\\n使用者は、あらかじめ第三者と謀り、労働者の就業を妨げることを目的として、労働者の国籍、信条、社会的身分若しくは労働組合運動に関する通信をし、又は第一項及び第二項の証明書に秘密の記号を記入してはならない。'), Document(metadata={'law_number': '昭和二十二年法律第四十九号', 'law_name': '労働基準法', 'enactment_year': '令和6年5月31日 施行', 'chapter_number': '第二章', 'chapter_name': '労働契約', 'division_number': '', 'division_name': '', 'article_number': '第十九条', 'article_name': '解雇制限', 'document_source': 'https://laws.e-gov.go.jp/law/322AC0000000049'}, page_content='昭和二十二年法律第四十九号\\u3000労働基準法/第二章\\u3000労働契約/第十九条\\u3000解雇制限/使用者は、労働者が業務上負傷し、又は疾病にかかり療養のために休業する期間及びその後三十日間並びに産前産後の女性が第六十五条の規定によつて休業する期間及びその後三十日間は、解雇してはならない。ただし、使用者が、第八十一条の規定によつて打切補償を支払う場合又は天災事変その他やむを得ない事由のために事業の継続が不可能となつた場合においては、この限りでない。\\n前項但書後段の場合においては、その事由について行政官庁の認定を受けなければならない。'), Document(metadata={'law_number': '平成十五年法律第五十七号', 'law_name': '個人情報の保護に関する法律', 'enactment_year': '令和6年4月1日 施行', 'chapter_number': '第五章', 'chapter_name': '行政機関等の義務等', 'division_number': '第四節', 'division_name': '開示、訂正及び利用停止', 'article_number': '第九十四条', 'article_name': '訂正決定等の期限', 'document_source': 'https://laws.e-gov.go.jp/law/415AC0000000057'}, page_content='平成十五年法律第五十七号\\u3000個人情報の保護に関する法律/第五章\\u3000行政機関等の義務等/第四節\\u3000開示、訂正及び利用停止/第九十四条\\u3000訂正決定等の期限/前条各項の決定（以下この節において「訂正決定等」という。）は、訂正請求があった日から三十日以内にしなければならない。ただし、第九十一条第三項の規定により補正を求めた場合にあっては、当該補正に要した日数は、当該期間に算入しない。\\n前項の規定にかかわらず、行政機関の長等は、事務処理上の困難その他正当な理由があるときは、同項に規定する期間を三十日以内に限り延長することができる。この場合において、行政機関の長等は、訂正請求者に対し、遅滞なく、延長後の期間及び延長の理由を書面により通知しなければならない。'), Document(metadata={'law_number': '昭和三十四年法律第百二十一号', 'law_name': '特許法', 'enactment_year': '令和6年4月1日 施行', 'chapter_number': '第四章', 'chapter_name': '特許権', 'division_number': '', 'division_name': '', 'article_number': '第八十九条', 'article_name': '裁定の失効', 'document_source': 'https://laws.e-gov.go.jp/law/334AC0000000121'}, page_content='昭和三十四年法律第百二十一号\\u3000特許法/第四章\\u3000特許権/第八十九条\\u3000裁定の失効/通常実施権の設定を受けようとする者が第八十三条第二項の裁定で定める支払の時期までに対価（対価を定期に又は分割して支払うべきときは、その最初に支払うべき分）の支払又は供託をしないときは、通常実施権を設定すべき旨の裁定は、その効力を失う。'), Document(metadata={'law_number': '昭和二十二年法律第四十九号', 'law_name': '労働基準法', 'enactment_year': '令和6年5月31日 施行', 'chapter_number': '第九章', 'chapter_name': '就業規則', 'division_number': '', 'division_name': '', 'article_number': '第八十九条', 'article_name': '作成及び届出の義務', 'document_source': 'https://laws.e-gov.go.jp/law/322AC0000000049'}, page_content='昭和二十二年法律第四十九号\\u3000労働基準法/第九章\\u3000就業規則/第八十九条\\u3000作成及び届出の義務/常時十人以上の労働者を使用する使用者は、次に掲げる事項について就業規則を作成し、行政官庁に届け出なければならない。次に掲げる事項を変更した場合においても、同様とする。\\n一\\u3000始業及び終業の時刻、休憩時間、休日、休暇並びに労働者を二組以上に分けて交替に就業させる場合においては就業時転換に関する事項\\n二\\u3000賃金（臨時の賃金等を除く。以下この号において同じ。）の決定、計算及び支払の方法、賃金の締切り及び支払の時期並びに昇給に関する事項\\n三\\u3000退職に関する事項（解雇の事由を含む。）\\n三の二\\u3000退職手当の定めをする場合においては、適用される労働者の範囲、退職手当の決定、計算及び支払の方法並びに退職手当の支払の時期に関する事項\\n四\\u3000臨時の賃金等（退職手当を除く。）及び最低賃金額の定めをする場合においては、これに関する事項\\n五\\u3000労働者に食費、作業用品その他の負担をさせる定めをする場合においては、これに関する事項\\n六\\u3000安全及び衛生に関する定めをする場合においては、これに関する事項\\n七\\u3000職業訓練に関する定めをする場合においては、これに関する事項\\n八\\u3000災害補償及び業務外の傷病扶助に関する定めをする場合においては、これに関する事項\\n九\\u3000表彰及び制裁の定めをする場合においては、その種類及び程度に関する事項\\n十\\u3000前各号に掲げるもののほか、当該事業場の労働者のすべてに適用される定めをする場合においては、これに関する事項'), Document(metadata={'law_number': '平成十九年法律第百二十八号', 'law_name': '労働契約法', 'enactment_year': '令和2年4月1日 施行', 'chapter_number': '第四章', 'chapter_name': '期間の定めのある労働契約', 'division_number': '', 'division_name': '', 'article_number': '第十七条', 'article_name': '契約期間中の解雇等', 'document_source': 'https://laws.e-gov.go.jp/law/419AC0000000128'}, page_content='平成十九年法律第百二十八号\\u3000労働契約法/第四章\\u3000期間の定めのある労働契約/第十七条\\u3000契約期間中の解雇等/使用者は、期間の定めのある労働契約（以下この章において「有期労働契約」という。）について、やむを得ない事由がある場合でなければ、その契約期間が満了するまでの間において、労働者を解雇することができない。\\n使用者は、有期労働契約について、その有期労働契約により労働者を使用する目的に照らして、必要以上に短い期間を定めることにより、その有期労働契約を反復して更新することのないよう配慮しなければならない。'), Document(metadata={'law_number': '昭和三十四年法律第百二十一号', 'law_name': '特許法', 'enactment_year': '令和6年4月1日 施行', 'chapter_number': '第一章', 'chapter_name': '総則', 'division_number': '', 'division_name': '', 'article_number': '第二十二条', 'article_name': '手続の中断又は中止', 'document_source': 'https://laws.e-gov.go.jp/law/334AC0000000121'}, page_content='昭和三十四年法律第百二十一号\\u3000特許法/第一章\\u3000総則/第二十二条\\u3000手続の中断又は中止/特許庁長官又は審判官は、決定、査定又は審決の謄本の送達後に中断した手続の受継の申立について、受継を許すかどうかの決定をしなければならない。\\n前項の決定は、文書をもつて行い、かつ、理由を附さなければならない。'), Document(metadata={'law_number': '平成十九年法律第百二十八号', 'law_name': '労働契約法', 'enactment_year': '令和2年4月1日 施行', 'chapter_number': '第四章', 'chapter_name': '期間の定めのある労働契約', 'division_number': '', 'division_name': '', 'article_number': '第十九条', 'article_name': '有期労働契約の更新等', 'document_source': 'https://laws.e-gov.go.jp/law/419AC0000000128'}, page_content='平成十九年法律第百二十八号\\u3000労働契約法/第四章\\u3000期間の定めのある労働契約/第十九条\\u3000有期労働契約の更新等/有期労働契約であって次の各号のいずれかに該当するものの契約期間が満了する日までの間に労働者が当該有期労働契約の更新の申込みをした場合又は当該契約期間の満了後遅滞なく有期労働契約の締結の申込みをした場合であって、使用者が当該申込みを拒絶することが、客観的に合理的な理由を欠き、社会通念上相当であると認められないときは、使用者は、従前の有期労働契約の内容である労働条件と同一の労働条件で当該申込みを承諾したものとみなす。\\n一\\u3000当該有期労働契約が過去に反復して更新されたことがあるものであって、その契約期間の満了時に当該有期労働契約を更新しないことにより当該有期労働契約を終了させることが、期間の定めのない労働契約を締結している労働者に解雇の意思表示をすることにより当該期間の定めのない労働契約を終了させることと社会通念上同視できると認められること。\\n二\\u3000当該労働者において当該有期労働契約の契約期間の満了時に当該有期労働契約が更新されるものと期待することについて合理的な理由があるものであると認められること。'), Document(metadata={'law_number': '昭和三十四年法律第百二十一号', 'law_name': '特許法', 'enactment_year': '令和6年4月1日 施行', 'chapter_number': '第一章', 'chapter_name': '総則', 'division_number': '', 'division_name': '', 'article_number': '第五条', 'article_name': '第五条', 'document_source': 'https://laws.e-gov.go.jp/law/334AC0000000121'}, page_content='昭和三十四年法律第百二十一号\\u3000特許法/第一章\\u3000総則/第五条/特許庁長官、審判長又は審査官は、この法律の規定により手続をすべき期間を指定したときは、請求により又は職権で、その期間を延長することができる。\\n審判長は、この法律の規定により期日を指定したときは、請求により又は職権で、その期日を変更することができる。\\n第一項の規定による期間の延長（経済産業省令で定める期間に係るものに限る。）は、その期間が経過した後であつても、経済産業省令で定める期間内に限り、請求することができる。'), Document(metadata={'law_number': '昭和五十一年法律第三十四号', 'law_name': '賃金の支払の確保等に関する法律', 'enactment_year': '令和4年6月17日 施行', 'chapter_number': '第二章', 'chapter_name': '貯蓄金及び賃金に係る保全措置等', 'division_number': '', 'division_name': '', 'article_number': '第六条', 'article_name': '退職労働者の賃金に係る遅延利息', 'document_source': 'https://laws.e-gov.go.jp/law/351AC0000000034'}, page_content='昭和五十一年法律第三十四号\\u3000賃金の支払の確保等に関する法律/第二章\\u3000貯蓄金及び賃金に係る保全措置等/第六条\\u3000退職労働者の賃金に係る遅延利息/事業主は、その事業を退職した労働者に係る賃金（退職手当を除く。以下この条において同じ。）の全部又は一部をその退職の日（退職の日後に支払期日が到来する賃金にあつては、当該支払期日。以下この条において同じ。）までに支払わなかつた場合には、当該労働者に対し、当該退職の日の翌日からその支払をする日までの期間について、その日数に応じ、当該退職の日の経過後まだ支払われていない賃金の額に年十四・六パーセントを超えない範囲内で政令で定める率を乗じて得た金額を遅延利息として支払わなければならない。\\n前項の規定は、賃金の支払の遅滞が天災地変その他のやむを得ない事由で厚生労働省令で定めるものによるものである場合には、その事由の存する期間について適用しない。'), Document(metadata={'law_number': '昭和二十二年法律第四十九号', 'law_name': '労働基準法', 'enactment_year': '令和6年5月31日 施行', 'chapter_number': '第二章', 'chapter_name': '労働契約', 'division_number': '', 'division_name': '', 'article_number': '第十四条', 'article_name': '契約期間等', 'document_source': 'https://laws.e-gov.go.jp/law/322AC0000000049'}, page_content='昭和二十二年法律第四十九号\\u3000労働基準法/第二章\\u3000労働契約/第十四条\\u3000契約期間等/労働契約は、期間の定めのないものを除き、一定の事業の完了に必要な期間を定めるもののほかは、三年（次の各号のいずれかに該当する労働契約にあつては、五年）を超える期間について締結してはならない。\\n一\\u3000専門的な知識、技術又は経験（以下この号及び第四十一条の二第一項第一号において「専門的知識等」という。）であつて高度のものとして厚生労働大臣が定める基準に該当する専門的知識等を有する労働者（当該高度の専門的知識等を必要とする業務に就く者に限る。）との間に締結される労働契約\\n二\\u3000満六十歳以上の労働者との間に締結される労働契約（前号に掲げる労働契約を除く。）\\n厚生労働大臣は、期間の定めのある労働契約の締結時及び当該労働契約の期間の満了時において労働者と使用者との間に紛争が生ずることを未然に防止するため、使用者が講ずべき労働契約の期間の満了に係る通知に関する事項その他必要な事項についての基準を定めることができる。\\n行政官庁は、前項の基準に関し、期間の定めのある労働契約を締結する使用者に対し、必要な助言及び指導を行うことができる。'), Document(metadata={'law_number': '平成十九年法律第百二十八号', 'law_name': '労働契約法', 'enactment_year': '令和2年4月1日 施行', 'chapter_number': '第三章', 'chapter_name': '労働契約の継続及び終了', 'division_number': '', 'division_name': '', 'article_number': '第十六条', 'article_name': '解雇', 'document_source': 'https://laws.e-gov.go.jp/law/419AC0000000128'}, page_content='平成十九年法律第百二十八号\\u3000労働契約法/第三章\\u3000労働契約の継続及び終了/第十六条\\u3000解雇/解雇は、客観的に合理的な理由を欠き、社会通念上相当であると認められない場合は、その権利を濫用したものとして、無効とする。'), Document(metadata={'law_number': '昭和二十二年法律第四十九号', 'law_name': '労働基準法', 'enactment_year': '令和6年5月31日 施行', 'chapter_number': '第二章', 'chapter_name': '労働契約', 'division_number': '', 'division_name': '', 'article_number': '第二十条', 'article_name': '解雇の予告', 'document_source': 'https://laws.e-gov.go.jp/law/322AC0000000049'}, page_content='昭和二十二年法律第四十九号\\u3000労働基準法/第二章\\u3000労働契約/第二十条\\u3000解雇の予告/使用者は、労働者を解雇しようとする場合においては、少くとも三十日前にその予告をしなければならない。三十日前に予告をしない使用者は、三十日分以上の平均賃金を支払わなければならない。但し、天災事変その他やむを得ない事由のために事業の継続が不可能となつた場合又は労働者の責に帰すべき事由に基いて解雇する場合においては、この限りでない。\\n前項の予告の日数は、一日について平均賃金を支払つた場合においては、その日数を短縮することができる。\\n前条第二項の規定は、第一項但書の場合にこれを準用する。'), Document(metadata={'law_number': '昭和二十二年法律第四十九号', 'law_name': '労働基準法', 'enactment_year': '令和6年5月31日 施行', 'chapter_number': '第二章', 'chapter_name': '労働契約', 'division_number': '', 'division_name': '', 'article_number': '第二十二条', 'article_name': '退職時等の証明', 'document_source': 'https://laws.e-gov.go.jp/law/322AC0000000049'}, page_content='昭和二十二年法律第四十九号\\u3000労働基準法/第二章\\u3000労働契約/第二十二条\\u3000退職時等の証明/労働者が、退職の場合において、使用期間、業務の種類、その事業における地位、賃金又は退職の事由（退職の事由が解雇の場合にあつては、その理由を含む。）について証明書を請求した場合においては、使用者は、遅滞なくこれを交付しなければならない。\\n労働者が、第二十条第一項の解雇の予告がされた日から退職の日までの間において、当該解雇の理由について証明書を請求した場合においては、使用者は、遅滞なくこれを交付しなければならない。ただし、解雇の予告がされた日以後に労働者が当該解雇以外の事由により退職した場合においては、使用者は、当該退職の日以後、これを交付することを要しない。\\n前二項の証明書には、労働者の請求しない事項を記入してはならない。\\n使用者は、あらかじめ第三者と謀り、労働者の就業を妨げることを目的として、労働者の国籍、信条、社会的身分若しくは労働組合運動に関する通信をし、又は第一項及び第二項の証明書に秘密の記号を記入してはならない。'), Document(metadata={'law_number': '昭和四十七年法律第五十七号', 'law_name': '労働安全衛生法', 'enactment_year': '令和4年6月17日 施行', 'chapter_number': '第九章', 'chapter_name': '事業場の安全又は衛生に関する改善措置等', 'division_number': '第二節', 'division_name': '労働安全コンサルタント及び労働衛生コンサルタント', 'article_number': '第八十五条の三', 'article_name': '指定登録機関の指定等についての準用', 'document_source': 'https://laws.e-gov.go.jp/law/347AC0000000057'}, page_content='昭和四十七年法律第五十七号\\u3000労働安全衛生法/第九章\\u3000事業場の安全又は衛生に関する改善措置等/第二節\\u3000労働安全コンサルタント及び労働衛生コンサルタント/第八十五条の三\\u3000指定登録機関の指定等についての準用/第七十五条の二第二項及び第三項、第七十五条の三、第七十五条の四並びに第七十五条の六から第七十五条の十二までの規定は、前条第一項の規定による指定、指定登録機関及び登録事務について準用する。この場合において、第七十五条の二第三項及び第七十五条の十二中「都道府県労働局長」とあるのは「厚生労働大臣」と、第七十五条の二第三項中「第一項」とあるのは「第八十五条の二第一項」と、第七十五条の四第二項中「第七十五条の六第一項に規定する試験事務規程」とあるのは「登録事務の実施に関する規程」と、第七十五条の六第一項中「規程（以下この条及び第七十五条の十一第二項第四号において「試験事務規程」という。）」とあるのは「規程」と、同条第二項及び第三項並びに第七十五条の十一第二項第四号中「試験事務規程」とあるのは「登録事務の実施に関する規程」と、第七十五条の八中「職員（免許試験員を含む。）」とあるのは「職員」と、第七十五条の十中「試験事務の全部又は一部」とあるのは「登録事務」と、第七十五条の十一第二項及び第七十五条の十二中「試験事務の全部若しくは一部」とあるのは「登録事務」と読み替えるものとする。'), Document(metadata={'law_number': '昭和二十二年法律第四十九号', 'law_name': '労働基準法', 'enactment_year': '令和6年5月31日 施行', 'chapter_number': '第四章', 'chapter_name': '労働時間、休憩、休日及び年次有給休暇', 'division_number': '', 'division_name': '', 'article_number': '第三十八条の二', 'article_name': '第三十八条の二', 'document_source': 'https://laws.e-gov.go.jp/law/322AC0000000049'}, page_content='昭和二十二年法律第四十九号\\u3000労働基準法/第四章\\u3000労働時間、休憩、休日及び年次有給休暇/第三十八条の二/労働者が労働時間の全部又は一部について事業場外で業務に従事した場合において、労働時間を算定し難いときは、所定労働時間労働したものとみなす。ただし、当該業務を遂行するためには通常所定労働時間を超えて労働することが必要となる場合においては、当該業務に関しては、厚生労働省令で定めるところにより、当該業務の遂行に通常必要とされる時間労働したものとみなす。\\n前項ただし書の場合において、当該業務に関し、当該事業場に、労働者の過半数で組織する労働組合があるときはその労働組合、労働者の過半数で組織する労働組合がないときは労働者の過半数を代表する者との書面による協定があるときは、その協定で定める時間を同項ただし書の当該業務の遂行に通常必要とされる時間とする。\\n使用者は、厚生労働省令で定めるところにより、前項の協定を行政官庁に届け出なければならない。'), Document(metadata={'law_number': '昭和六十三年法律第九十三号', 'law_name': '裁判所の休日に関する法律', 'enactment_year': '平成4年5月1日 施行', 'chapter_number': '', 'chapter_name': '', 'division_number': '', 'division_name': '', 'article_number': '第二条', 'article_name': '期限の特例', 'document_source': 'https://laws.e-gov.go.jp/law/363AC0000000093'}, page_content='昭和六十三年法律第九十三号\\u3000裁判所の休日に関する法律/\\u3000/第二条\\u3000期限の特例/裁判所職員の給与、保障及び服務その他の司法行政に関する事項についての裁判所に対する申立て、届出その他の行為の期限で法律又は最高裁判所規則で規定する期間をもつて定めるものが裁判所の休日に当たるときは、裁判所の休日の翌日をもつてその期限とみなす。ただし、法律又は最高裁判所規則に別段の定めがある場合は、この限りでない。'), Document(metadata={'law_number': '平成十九年法律第百二十八号', 'law_name': '労働契約法', 'enactment_year': '令和2年4月1日 施行', 'chapter_number': '第二章', 'chapter_name': '労働契約の成立及び変更', 'division_number': '', 'division_name': '', 'article_number': '第九条', 'article_name': '就業規則による労働契約の内容の変更', 'document_source': 'https://laws.e-gov.go.jp/law/419AC0000000128'}, page_content='平成十九年法律第百二十八号\\u3000労働契約法/第二章\\u3000労働契約の成立及び変更/第九条\\u3000就業規則による労働契約の内容の変更/使用者は、労働者と合意することなく、就業規則を変更することにより、労働者の不利益に労働契約の内容である労働条件を変更することはできない。ただし、次条の場合は、この限りでない。'), Document(metadata={'law_number': '昭和三十四年法律第百四十一号', 'law_name': '国民年金法', 'enactment_year': '令和6年12月2日 施行', 'chapter_number': '第六章', 'chapter_name': '費用', 'division_number': '', 'division_name': '', 'article_number': '第九十二条の六', 'article_name': '第九十二条の六', 'document_source': 'https://laws.e-gov.go.jp/law/334AC0000000141'}, page_content='昭和三十四年法律第百四十一号\\u3000国民年金法/第六章\\u3000費用/第九十二条の六/厚生労働大臣は、第九十二条の三第一項第二号の規定による指定を受けた者が次の各号のいずれかに該当するときは、その指定を取り消すことができる。\\n一\\u3000第九十二条の三第一項第二号に規定する指定の要件に該当しなくなつたとき。\\n二\\u3000第九十二条の四第二項又は前条第二項の規定による報告をせず、又は虚偽の報告をしたとき。\\n三\\u3000前条第一項の規定に違反して、帳簿を備え付けず、帳簿に記載せず、若しくは帳簿に虚偽の記載をし、又は帳簿を保存しなかつたとき。\\n四\\u3000前条第三項の規定による立入り若しくは検査を拒み、妨げ、若しくは忌避し、又は同項の規定による質問に対して陳述をせず、若しくは虚偽の陳述をしたとき。\\n厚生労働大臣は、前項の規定により指定を取り消したときは、その旨を公示しなければならない。'), Document(metadata={'law_number': '昭和二十九年法律第百十五号', 'law_name': '厚生年金保険法', 'enactment_year': '令和6年10月1日 施行', 'chapter_number': '第二章', 'chapter_name': '被保険者', 'division_number': '第四節', 'division_name': '届出、記録等', 'article_number': '第三十条', 'article_name': '第三十条', 'document_source': 'https://laws.e-gov.go.jp/law/329AC0000000115'}, page_content='昭和二十九年法律第百十五号\\u3000厚生年金保険法/第二章\\u3000被保険者/第四節\\u3000届出、記録等/第三十条/厚生労働大臣は、第二十七条の規定による届出があつた場合において、その届出に係る事実がないと認めるときは、その旨をその届出をした事業主に通知しなければならない。\\n前条第二項から第五項までの規定は、前項の通知について準用する。'), Document(metadata={'law_number': '昭和二十九年法律第百十五号', 'law_name': '厚生年金保険法', 'enactment_year': '令和6年10月1日 施行', 'chapter_number': '第八章', 'chapter_name': '罰則', 'division_number': '', 'division_name': '', 'article_number': '第百二条', 'article_name': '第百二条', 'document_source': 'https://laws.e-gov.go.jp/law/329AC0000000115'}, page_content='昭和二十九年法律第百十五号\\u3000厚生年金保険法/第八章\\u3000罰則/第百二条/事業主が、正当な理由がなくて次の各号のいずれかに該当するときは、六月以下の懲役又は五十万円以下の罰金に処する。\\n一\\u3000第二十七条の規定に違反して、届出をせず、又は虚偽の届出をしたとき。\\n二\\u3000第二十九条第二項（第三十条第二項において準用する場合を含む。）の規定に違反して、通知をしないとき。\\n三\\u3000第八十二条第二項の規定に違反して、督促状に指定する期限までに保険料を納付しないとき。\\n適用事業所等の事業主が、正当な理由がなくて、第百条第一項の規定に違反して、文書その他の物件を提出せず、又は当該職員（第百条の八第二項において読み替えて適用される第百条第一項に規定する機構の職員を含む。次条において同じ。）の質問に対して答弁せず、若しくは虚偽の陳述をし、若しくは検査を拒み、妨げ、若しくは忌避したときは、六月以下の懲役又は五十万円以下の罰金に処する。'), Document(metadata={'law_number': '昭和二十二年法律第四十九号', 'law_name': '労働基準法', 'enactment_year': '令和6年5月31日 施行', 'chapter_number': '第二章', 'chapter_name': '労働契約', 'division_number': '', 'division_name': '', 'article_number': '第二十条', 'article_name': '解雇の予告', 'document_source': 'https://laws.e-gov.go.jp/law/322AC0000000049'}, page_content='昭和二十二年法律第四十九号\\u3000労働基準法/第二章\\u3000労働契約/第二十条\\u3000解雇の予告/使用者は、労働者を解雇しようとする場合においては、少くとも三十日前にその予告をしなければならない。三十日前に予告をしない使用者は、三十日分以上の平均賃金を支払わなければならない。但し、天災事変その他やむを得ない事由のために事業の継続が不可能となつた場合又は労働者の責に帰すべき事由に基いて解雇する場合においては、この限りでない。\\n前項の予告の日数は、一日について平均賃金を支払つた場合においては、その日数を短縮することができる。\\n前条第二項の規定は、第一項但書の場合にこれを準用する。'), Document(metadata={'law_number': '昭和四十三年法律第八十九号', 'law_name': '社会保険労務士法', 'enactment_year': '令和5年6月14日 施行', 'chapter_number': '第二章の二', 'chapter_name': '登録', 'division_number': '', 'division_name': '', 'article_number': '第十四条の十一', 'article_name': '登録の公告', 'document_source': 'https://laws.e-gov.go.jp/law/343AC1000000089'}, page_content='昭和四十三年法律第八十九号\\u3000社会保険労務士法/第二章の二\\u3000登録/第十四条の十一\\u3000登録の公告/連合会は、第十四条の六第一項の規定による登録をしたとき、及び前条第一項の規定により登録を抹消したときは、遅滞なく、その旨を官報をもつて公告しなければならない。'), Document(metadata={'law_number': '平成十九年法律第百二十八号', 'law_name': '労働契約法', 'enactment_year': '令和2年4月1日 施行', 'chapter_number': '第二章', 'chapter_name': '労働契約の成立及び変更', 'division_number': '', 'division_name': '', 'article_number': '第十条', 'article_name': '第十条', 'document_source': 'https://laws.e-gov.go.jp/law/419AC0000000128'}, page_content='平成十九年法律第百二十八号\\u3000労働契約法/第二章\\u3000労働契約の成立及び変更/第十条/使用者が就業規則の変更により労働条件を変更する場合において、変更後の就業規則を労働者に周知させ、かつ、就業規則の変更が、労働者の受ける不利益の程度、労働条件の変更の必要性、変更後の就業規則の内容の相当性、労働組合等との交渉の状況その他の就業規則の変更に係る事情に照らして合理的なものであるときは、労働契約の内容である労働条件は、当該変更後の就業規則に定めるところによるものとする。ただし、労働契約において、労働者及び使用者が就業規則の変更によっては変更されない労働条件として合意していた部分については、第十二条に該当する場合を除き、この限りでない。'), Document(metadata={'law_number': '昭和四十七年法律第五十七号', 'law_name': '労働安全衛生法', 'enactment_year': '令和4年6月17日 施行', 'chapter_number': '第九章', 'chapter_name': '事業場の安全又は衛生に関する改善措置等', 'division_number': '第二節', 'division_name': '労働安全コンサルタント及び労働衛生コンサルタント', 'article_number': '第八十五条の二', 'article_name': '指定登録機関', 'document_source': 'https://laws.e-gov.go.jp/law/347AC0000000057'}, page_content='昭和四十七年法律第五十七号\\u3000労働安全衛生法/第九章\\u3000事業場の安全又は衛生に関する改善措置等/第二節\\u3000労働安全コンサルタント及び労働衛生コンサルタント/第八十五条の二\\u3000指定登録機関/厚生労働大臣は、厚生労働大臣の指定する者（以下「指定登録機関」という。）に、コンサルタントの登録の実施に関する事務（前条の規定による登録の取消しに関する事務を除く。以下「登録事務」という。）を行わせることができる。\\n指定登録機関が登録事務を行う場合における第八十四条第一項の規定の適用については、同項中「厚生労働省に」とあるのは「指定登録機関に」とする。'), Document(metadata={'law_number': '昭和二十二年法律第四十九号', 'law_name': '労働基準法', 'enactment_year': '令和6年5月31日 施行', 'chapter_number': '第二章', 'chapter_name': '労働契約', 'division_number': '', 'division_name': '', 'article_number': '第二十二条', 'article_name': '退職時等の証明', 'document_source': 'https://laws.e-gov.go.jp/law/322AC0000000049'}, page_content='昭和二十二年法律第四十九号\\u3000労働基準法/第二章\\u3000労働契約/第二十二条\\u3000退職時等の証明/労働者が、退職の場合において、使用期間、業務の種類、その事業における地位、賃金又は退職の事由（退職の事由が解雇の場合にあつては、その理由を含む。）について証明書を請求した場合においては、使用者は、遅滞なくこれを交付しなければならない。\\n労働者が、第二十条第一項の解雇の予告がされた日から退職の日までの間において、当該解雇の理由について証明書を請求した場合においては、使用者は、遅滞なくこれを交付しなければならない。ただし、解雇の予告がされた日以後に労働者が当該解雇以外の事由により退職した場合においては、使用者は、当該退職の日以後、これを交付することを要しない。\\n前二項の証明書には、労働者の請求しない事項を記入してはならない。\\n使用者は、あらかじめ第三者と謀り、労働者の就業を妨げることを目的として、労働者の国籍、信条、社会的身分若しくは労働組合運動に関する通信をし、又は第一項及び第二項の証明書に秘密の記号を記入してはならない。'), Document(metadata={'law_number': '昭和六十三年法律第九十一号', 'law_name': '行政機関の休日に関する法律', 'enactment_year': '平成4年5月1日 施行', 'chapter_number': '', 'chapter_name': '', 'division_number': '', 'division_name': '', 'article_number': '第二条', 'article_name': '期限の特例', 'document_source': 'https://laws.e-gov.go.jp/law/363AC0000000091'}, page_content='昭和六十三年法律第九十一号\\u3000行政機関の休日に関する法律/\\u3000/第二条\\u3000期限の特例/国の行政庁（各行政機関、各行政機関に置かれる部局若しくは機関又は各行政機関の長その他の職員であるものに限る。）に対する申請、届出その他の行為の期限で法律又は法律に基づく命令で規定する期間（時をもつて定める期間を除く。）をもつて定めるものが行政機関の休日に当たるときは、行政機関の休日の翌日をもつてその期限とみなす。ただし、法律又は法律に基づく命令に別段の定めがある場合は、この限りでない。'), Document(metadata={'law_number': '昭和四十三年法律第八十九号', 'law_name': '社会保険労務士法', 'enactment_year': '令和5年6月14日 施行', 'chapter_number': '第二章の二', 'chapter_name': '登録', 'division_number': '', 'division_name': '', 'article_number': '第十四条の八', 'article_name': '審査請求', 'document_source': 'https://laws.e-gov.go.jp/law/343AC1000000089'}, page_content='昭和四十三年法律第八十九号\\u3000社会保険労務士法/第二章の二\\u3000登録/第十四条の八\\u3000審査請求/第十四条の六第一項の規定により登録を拒否された者は、当該処分に不服があるときは、厚生労働大臣に対して審査請求をすることができる。\\n第十四条の五の規定により登録の申請をした者は、申請を行つた日から三月を経過してもなんらの処分がなされない場合には、当該登録を拒否されたものとして、厚生労働大臣に対して審査請求をすることができる。この場合においては、審査請求のあつた日に、連合会が第十四条の六第一項の規定により当該登録を拒否したものとみなす。\\n前二項の場合において、厚生労働大臣は、行政不服審査法第二十五条第二項及び第三項並びに第四十六条第二項の規定の適用については、連合会の上級行政庁とみなす。'), Document(metadata={'law_number': '昭和三十四年法律第百六十号', 'law_name': '中小企業退職金共済法', 'enactment_year': '令和4年6月17日 施行', 'chapter_number': '第四章', 'chapter_name': '特定業種退職金共済契約', 'division_number': '第二節', 'division_name': '特定業種退職金共済契約の締結等', 'article_number': '第五十条', 'article_name': '届出', 'document_source': 'https://laws.e-gov.go.jp/law/334AC0000000160'}, page_content='昭和三十四年法律第百六十号\\u3000中小企業退職金共済法/第四章\\u3000特定業種退職金共済契約/第二節\\u3000特定業種退職金共済契約の締結等/第五十条\\u3000届出/共済契約者は、当該特定業種に属する事業を営む中小企業者でない事業主となつたときは、遅滞なく、その旨を機構に届け出なければならない。'), Document(metadata={'law_number': '昭和二十二年法律第四十九号', 'law_name': '労働基準法', 'enactment_year': '令和6年5月31日 施行', 'chapter_number': '第二章', 'chapter_name': '労働契約', 'division_number': '', 'division_name': '', 'article_number': '第二十二条', 'article_name': '退職時等の証明', 'document_source': 'https://laws.e-gov.go.jp/law/322AC0000000049'}, page_content='昭和二十二年法律第四十九号\\u3000労働基準法/第二章\\u3000労働契約/第二十二条\\u3000退職時等の証明/労働者が、退職の場合において、使用期間、業務の種類、その事業における地位、賃金又は退職の事由（退職の事由が解雇の場合にあつては、その理由を含む。）について証明書を請求した場合においては、使用者は、遅滞なくこれを交付しなければならない。\\n労働者が、第二十条第一項の解雇の予告がされた日から退職の日までの間において、当該解雇の理由について証明書を請求した場合においては、使用者は、遅滞なくこれを交付しなければならない。ただし、解雇の予告がされた日以後に労働者が当該解雇以外の事由により退職した場合においては、使用者は、当該退職の日以後、これを交付することを要しない。\\n前二項の証明書には、労働者の請求しない事項を記入してはならない。\\n使用者は、あらかじめ第三者と謀り、労働者の就業を妨げることを目的として、労働者の国籍、信条、社会的身分若しくは労働組合運動に関する通信をし、又は第一項及び第二項の証明書に秘密の記号を記入してはならない。'), Document(metadata={'law_number': '昭和四十七年法律第五十七号', 'law_name': '労働安全衛生法', 'enactment_year': '令和4年6月17日 施行', 'chapter_number': '第五章', 'chapter_name': '機械等並びに危険物及び有害物に関する規制', 'division_number': '', 'division_name': '', 'article_number': '第四十六条の二', 'article_name': '登録の更新', 'document_source': 'https://laws.e-gov.go.jp/law/347AC0000000057'}, page_content='昭和四十七年法律第五十七号\\u3000労働安全衛生法/第五章\\u3000機械等並びに危険物及び有害物に関する規制/第四十六条の二\\u3000登録の更新/登録は、五年以上十年以内において政令で定める期間ごとにその更新を受けなければ、その期間の経過によつて、その効力を失う。\\n前条第二項から第四項までの規定は、前項の登録の更新について準用する。'), Document(metadata={'law_number': '昭和三十四年法律第百二十一号', 'law_name': '特許法', 'enactment_year': '令和6年4月1日 施行', 'chapter_number': '第五章', 'chapter_name': '特許異議の申立て', 'division_number': '', 'division_name': '', 'article_number': '第百二十条の五', 'article_name': '意見書の提出等', 'document_source': 'https://laws.e-gov.go.jp/law/334AC0000000121'}, page_content='昭和三十四年法律第百二十一号\\u3000特許法/第五章\\u3000特許異議の申立て/第百二十条の五\\u3000意見書の提出等/審判長は、取消決定をしようとするときは、特許権者及び参加人に対し、特許の取消しの理由を通知し、相当の期間を指定して、意見書を提出する機会を与えなければならない。\\n特許権者は、前項の規定により指定された期間内に限り、願書に添付した明細書、特許請求の範囲又は図面の訂正を請求することができる。ただし、その訂正は、次に掲げる事項を目的とするものに限る。\\n一\\u3000特許請求の範囲の減縮\\n二\\u3000誤記又は誤訳の訂正\\n三\\u3000明瞭でない記載の釈明\\n四\\u3000他の請求項の記載を引用する請求項の記載を当該他の請求項の記載を引用しないものとすること。\\n二以上の請求項に係る願書に添付した特許請求の範囲の訂正をする場合には、請求項ごとに前項の訂正の請求をすることができる。ただし、特許異議の申立てが請求項ごとにされた場合にあつては、請求項ごとに同項の訂正の請求をしなければならない。\\n前項の場合において、当該請求項の中に一の請求項の記載を他の請求項が引用する関係その他経済産業省令で定める関係を有する一群の請求項（以下「一群の請求項」という。）があるときは、当該一群の請求項ごとに当該請求をしなければならない。\\n審判長は、第一項の規定により指定した期間内に第二項の訂正の請求があつたときは、第一項の規定により通知した特許の取消しの理由を記載した書面並びに訂正の請求書及びこれに添付された訂正した明細書、特許請求の範囲又は図面の副本を特許異議申立人に送付し、相当の期間を指定して、意見書を提出する機会を与えなければならない。ただし、特許異議申立人から意見書の提出を希望しない旨の申出があるとき、又は特許異議申立人に意見書を提出する機会を与える必要がないと認められる特別の事情があるときは、この限りでない。\\n審判長は、第二項の訂正の請求が同項ただし書各号に掲げる事項を目的とせず、又は第九項において読み替えて準用する第百二十六条第五項から第七項までの規定に適合しないときは、特許権者及び参加人にその理由を通知し、相当の期間を指定して、意見書を提出する機会を与えなければならない。\\n第二項の訂正の請求がされた場合において、その特許異議申立事件において先にした訂正の請求があるときは、当該先の請求は、取り下げられたものとみなす。\\n第二項の訂正の請求は、同項の訂正の請求書に添付された訂正した明細書、特許請求の範囲又は図面について第十七条の五第一項の補正をすることができる期間内に限り、取り下げることができる。この場合において、第二項の訂正の請求を第三項又は第四項の規定により請求項ごとに又は一群の請求項ごとにしたときは、その全ての請求を取り下げなければならない。\\n第百二十六条第四項から第七項まで、第百二十七条、第百二十八条、第百三十一条第一項、第三項及び第四項、第百三十一条の二第一項、第百三十二条第三項及び第四項並びに第百三十三条第一項、第三項及び第四項の規定は、第二項の場合に準用する。この場合において、第百二十六条第七項中「第一項ただし書第一号又は第二号」とあるのは、「特許異議の申立てがされていない請求項に係る第一項ただし書第一号又は第二号」と読み替えるものとする。'), Document(metadata={'law_number': '平成十二年法律第百三号', 'law_name': '会社分割に伴う労働契約の承継等に関する法律', 'enactment_year': '平成27年5月1日 施行', 'chapter_number': '', 'chapter_name': '', 'division_number': '', 'division_name': '', 'article_number': '第二条', 'article_name': '労働者等への通知', 'document_source': 'https://laws.e-gov.go.jp/law/412AC0000000103'}, page_content='平成十二年法律第百三号\\u3000会社分割に伴う労働契約の承継等に関する法律/\\u3000/第二条\\u3000労働者等への通知/会社（株式会社及び合同会社をいう。以下同じ。）は、会社法第五編第三章及び第五章の規定による分割（吸収分割又は新設分割をいう。以下同じ。）をするときは、次に掲げる労働者に対し、通知期限日までに、当該分割に関し、当該会社が当該労働者との間で締結している労働契約を当該分割に係る承継会社等（吸収分割にあっては同法第七百五十七条に規定する吸収分割承継会社、新設分割にあっては同法第七百六十三条第一項に規定する新設分割設立会社をいう。以下同じ。）が承継する旨の分割契約等（吸収分割にあっては吸収分割契約（同法第七百五十七条の吸収分割契約をいう。以下同じ。）、新設分割にあっては新設分割計画（同法第七百六十二条第一項の新設分割計画をいう。以下同じ。）をいう。以下同じ。）における定めの有無、第四条第三項に規定する異議申出期限日その他厚生労働省令で定める事項を書面により通知しなければならない。\\n一\\u3000当該会社が雇用する労働者であって、承継会社等に承継される事業に主として従事するものとして厚生労働省令で定めるもの\\n二\\u3000当該会社が雇用する労働者（前号に掲げる労働者を除く。）であって、当該分割契約等にその者が当該会社との間で締結している労働契約を承継会社等が承継する旨の定めがあるもの\\n前項の分割をする会社（以下「分割会社」という。）は、労働組合法（昭和二十四年法律第百七十四号）第二条の労働組合（以下単に「労働組合」という。）との間で労働協約を締結しているときは、当該労働組合に対し、通知期限日までに、当該分割に関し、当該労働協約を承継会社等が承継する旨の当該分割契約等における定めの有無その他厚生労働省令で定める事項を書面により通知しなければならない。\\n前二項及び第四条第三項第一号の「通知期限日」とは、次の各号に掲げる場合に応じ、当該各号に定める日をいう。\\n一\\u3000株式会社が分割をする場合であって当該分割に係る分割契約等について株主総会の決議による承認を要するとき\\u3000当該株主総会（第四条第三項第一号において「承認株主総会」という。）の日の二週間前の日の前日\\n二\\u3000株式会社が分割をする場合であって当該分割に係る分割契約等について株主総会の決議による承認を要しないとき又は合同会社が分割をする場合\\u3000吸収分割契約が締結された日又は新設分割計画が作成された日から起算して、二週間を経過する日'), Document(metadata={'law_number': '平成十五年法律第五十七号', 'law_name': '個人情報の保護に関する法律', 'enactment_year': '令和6年4月1日 施行', 'chapter_number': '第五章', 'chapter_name': '行政機関等の義務等', 'division_number': '第四節', 'division_name': '開示、訂正及び利用停止', 'article_number': '第九十五条', 'article_name': '訂正決定等の期限の特例', 'document_source': 'https://laws.e-gov.go.jp/law/415AC0000000057'}, page_content='平成十五年法律第五十七号\\u3000個人情報の保護に関する法律/第五章\\u3000行政機関等の義務等/第四節\\u3000開示、訂正及び利用停止/第九十五条\\u3000訂正決定等の期限の特例/行政機関の長等は、訂正決定等に特に長期間を要すると認めるときは、前条の規定にかかわらず、相当の期間内に訂正決定等をすれば足りる。この場合において、行政機関の長等は、同条第一項に規定する期間内に、訂正請求者に対し、次に掲げる事項を書面により通知しなければならない。\\n一\\u3000この条の規定を適用する旨及びその理由\\n二\\u3000訂正決定等をする期限'), Document(metadata={'law_number': '平成十九年法律第百二十八号', 'law_name': '労働契約法', 'enactment_year': '令和2年4月1日 施行', 'chapter_number': '第二章', 'chapter_name': '労働契約の成立及び変更', 'division_number': '', 'division_name': '', 'article_number': '第九条', 'article_name': '就業規則による労働契約の内容の変更', 'document_source': 'https://laws.e-gov.go.jp/law/419AC0000000128'}, page_content='平成十九年法律第百二十八号\\u3000労働契約法/第二章\\u3000労働契約の成立及び変更/第九条\\u3000就業規則による労働契約の内容の変更/使用者は、労働者と合意することなく、就業規則を変更することにより、労働者の不利益に労働契約の内容である労働条件を変更することはできない。ただし、次条の場合は、この限りでない。'), Document(metadata={'law_number': '昭和二十二年法律第四十九号', 'law_name': '労働基準法', 'enactment_year': '令和6年5月31日 施行', 'chapter_number': '第二章', 'chapter_name': '労働契約', 'division_number': '', 'division_name': '', 'article_number': '第二十条', 'article_name': '解雇の予告', 'document_source': 'https://laws.e-gov.go.jp/law/322AC0000000049'}, page_content='昭和二十二年法律第四十九号\\u3000労働基準法/第二章\\u3000労働契約/第二十条\\u3000解雇の予告/使用者は、労働者を解雇しようとする場合においては、少くとも三十日前にその予告をしなければならない。三十日前に予告をしない使用者は、三十日分以上の平均賃金を支払わなければならない。但し、天災事変その他やむを得ない事由のために事業の継続が不可能となつた場合又は労働者の責に帰すべき事由に基いて解雇する場合においては、この限りでない。\\n前項の予告の日数は、一日について平均賃金を支払つた場合においては、その日数を短縮することができる。\\n前条第二項の規定は、第一項但書の場合にこれを準用する。'), Document(metadata={'law_number': '昭和四十三年法律第八十九号', 'law_name': '社会保険労務士法', 'enactment_year': '令和5年6月14日 施行', 'chapter_number': '第四章の二', 'chapter_name': '社会保険労務士法人', 'division_number': '', 'division_name': '', 'article_number': '第二十五条の十四', 'article_name': '定款の変更', 'document_source': 'https://laws.e-gov.go.jp/law/343AC1000000089'}, page_content='昭和四十三年法律第八十九号\\u3000社会保険労務士法/第四章の二\\u3000社会保険労務士法人/第二十五条の十四\\u3000定款の変更/社会保険労務士法人は、定款に別段の定めがある場合を除き、総社員の同意によつて、定款の変更をすることができる。\\n社会保険労務士法人は、定款を変更したときは、変更の日から二週間以内に、変更に係る事項を、主たる事務所の所在地の社会保険労務士会を経由して、連合会に届け出なければならない。'), Document(metadata={'law_number': '平成十九年法律第百二十八号', 'law_name': '労働契約法', 'enactment_year': '令和2年4月1日 施行', 'chapter_number': '第四章', 'chapter_name': '期間の定めのある労働契約', 'division_number': '', 'division_name': '', 'article_number': '第十九条', 'article_name': '有期労働契約の更新等', 'document_source': 'https://laws.e-gov.go.jp/law/419AC0000000128'}, page_content='平成十九年法律第百二十八号\\u3000労働契約法/第四章\\u3000期間の定めのある労働契約/第十九条\\u3000有期労働契約の更新等/有期労働契約であって次の各号のいずれかに該当するものの契約期間が満了する日までの間に労働者が当該有期労働契約の更新の申込みをした場合又は当該契約期間の満了後遅滞なく有期労働契約の締結の申込みをした場合であって、使用者が当該申込みを拒絶することが、客観的に合理的な理由を欠き、社会通念上相当であると認められないときは、使用者は、従前の有期労働契約の内容である労働条件と同一の労働条件で当該申込みを承諾したものとみなす。\\n一\\u3000当該有期労働契約が過去に反復して更新されたことがあるものであって、その契約期間の満了時に当該有期労働契約を更新しないことにより当該有期労働契約を終了させることが、期間の定めのない労働契約を締結している労働者に解雇の意思表示をすることにより当該期間の定めのない労働契約を終了させることと社会通念上同視できると認められること。\\n二\\u3000当該労働者において当該有期労働契約の契約期間の満了時に当該有期労働契約が更新されるものと期待することについて合理的な理由があるものであると認められること。'), Document(metadata={'law_number': '昭和三十四年法律第百二十一号', 'law_name': '特許法', 'enactment_year': '令和6年4月1日 施行', 'chapter_number': '第二章', 'chapter_name': '特許及び特許出願', 'division_number': '', 'division_name': '', 'article_number': '第四十六条', 'article_name': '出願の変更', 'document_source': 'https://laws.e-gov.go.jp/law/334AC0000000121'}, page_content='昭和三十四年法律第百二十一号\\u3000特許法/第二章\\u3000特許及び特許出願/第四十六条\\u3000出願の変更/実用新案登録出願人は、その実用新案登録出願を特許出願に変更することができる。ただし、その実用新案登録出願の日から三年を経過した後は、この限りでない。\\n意匠登録出願人は、その意匠登録出願を特許出願に変更することができる。ただし、その意匠登録出願について拒絶をすべき旨の最初の査定の謄本の送達があつた日から三月を経過した後又はその意匠登録出願の日から三年を経過した後（その意匠登録出願について拒絶をすべき旨の最初の査定の謄本の送達があつた日から三月以内の期間を除く。）は、この限りでない。\\n前項ただし書に規定する三月の期間は、意匠法第六十八条第一項において準用するこの法律第四条の規定により意匠法第四十六条第一項に規定する期間が延長されたときは、その延長された期間を限り、延長されたものとみなす。\\n第一項又は第二項の規定による出願の変更があつたときは、もとの出願は、取り下げたものとみなす。\\n第一項の規定による出願の変更をする者がその責めに帰することができない理由により同項ただし書に規定する期間内にその出願の変更をすることができないとき、又は第二項の規定による出願の変更をする者がその責めに帰することができない理由により同項ただし書に規定する三年の期間内にその出願の変更をすることができないときは、これらの規定にかかわらず、その理由がなくなつた日から十四日（在外者にあつては、二月）以内でこれらの規定に規定する期間の経過後六月以内にその出願の変更をすることができる。\\n第四十四条第二項から第四項までの規定は、第一項又は第二項の規定による出願の変更の場合に準用する。'), Document(metadata={'law_number': '昭和三十四年法律第百二十一号', 'law_name': '特許法', 'enactment_year': '令和6年4月1日 施行', 'chapter_number': '第九章', 'chapter_name': '特許協力条約に基づく国際出願に係る特例', 'division_number': '', 'division_name': '', 'article_number': '第百八十四条の四', 'article_name': '外国語でされた国際特許出願の翻訳文', 'document_source': 'https://laws.e-gov.go.jp/law/334AC0000000121'}, page_content='昭和三十四年法律第百二十一号\\u3000特許法/第九章\\u3000特許協力条約に基づく国際出願に係る特例/第百八十四条の四\\u3000外国語でされた国際特許出願の翻訳文/外国語でされた国際特許出願（以下「外国語特許出願」という。）の出願人は、条約第二条（ｘｉ）の優先日（以下「優先日」という。）から二年六月（以下「国内書面提出期間」という。）以内に、前条第一項に規定する国際出願日（以下「国際出願日」という。）における条約第三条（２）に規定する明細書、請求の範囲、図面（図面の中の説明に限る。以下この条において同じ。）及び要約の日本語による翻訳文を、特許庁長官に提出しなければならない。ただし、国内書面提出期間の満了前二月から満了の日までの間に次条第一項に規定する書面を提出した外国語特許出願（当該書面の提出の日以前に当該翻訳文を提出したものを除く。）にあつては、当該書面の提出の日から二月（以下「翻訳文提出特例期間」という。）以内に、当該翻訳文を提出することができる。\\n前項の場合において、外国語特許出願の出願人が条約第十九条（１）の規定に基づく補正をしたときは、同項に規定する請求の範囲の翻訳文に代えて、当該補正後の請求の範囲の翻訳文を提出することができる。\\n国内書面提出期間（第一項ただし書の外国語特許出願にあつては、翻訳文提出特例期間。以下この条において同じ。）内に第一項に規定する明細書の翻訳文及び前二項に規定する請求の範囲の翻訳文（以下「明細書等翻訳文」という。）の提出がなかつたときは、その国際特許出願は、取り下げられたものとみなす。\\n前項の規定により取り下げられたものとみなされた国際特許出願の出願人は、経済産業省令で定める期間内に限り、経済産業省令で定めるところにより、明細書等翻訳文並びに第一項に規定する図面及び要約の翻訳文を特許庁長官に提出することができる。ただし、故意に、国内書面提出期間内に当該明細書等翻訳文を提出しなかつたと認められる場合は、この限りでない。\\n前項の規定により提出された翻訳文は、国内書面提出期間が満了する時に特許庁長官に提出されたものとみなす。\\n第一項に規定する請求の範囲の翻訳文を提出した出願人は、条約第十九条（１）の規定に基づく補正をしたときは、国内書面提出期間が満了する時（国内書面提出期間内に出願人が出願審査の請求をするときは、その請求の時。以下「国内処理基準時」という。）の属する日までに限り、当該補正後の請求の範囲の日本語による翻訳文を更に提出することができる。\\n第百八十四条の七第三項本文の規定は、第二項又は前項に規定する翻訳文が提出されなかつた場合に準用する。'), Document(metadata={'law_number': '昭和四十七年法律第五十七号', 'law_name': '労働安全衛生法', 'enactment_year': '令和4年6月17日 施行', 'chapter_number': '第九章', 'chapter_name': '事業場の安全又は衛生に関する改善措置等', 'division_number': '第二節', 'division_name': '労働安全コンサルタント及び労働衛生コンサルタント', 'article_number': '第八十五条の二', 'article_name': '指定登録機関', 'document_source': 'https://laws.e-gov.go.jp/law/347AC0000000057'}, page_content='昭和四十七年法律第五十七号\\u3000労働安全衛生法/第九章\\u3000事業場の安全又は衛生に関する改善措置等/第二節\\u3000労働安全コンサルタント及び労働衛生コンサルタント/第八十五条の二\\u3000指定登録機関/厚生労働大臣は、厚生労働大臣の指定する者（以下「指定登録機関」という。）に、コンサルタントの登録の実施に関する事務（前条の規定による登録の取消しに関する事務を除く。以下「登録事務」という。）を行わせることができる。\\n指定登録機関が登録事務を行う場合における第八十四条第一項の規定の適用については、同項中「厚生労働省に」とあるのは「指定登録機関に」とする。'), Document(metadata={'law_number': '昭和四十三年法律第八十九号', 'law_name': '社会保険労務士法', 'enactment_year': '令和5年6月14日 施行', 'chapter_number': '第二章の二', 'chapter_name': '登録', 'division_number': '', 'division_name': '', 'article_number': '第十四条の十一', 'article_name': '登録の公告', 'document_source': 'https://laws.e-gov.go.jp/law/343AC1000000089'}, page_content='昭和四十三年法律第八十九号\\u3000社会保険労務士法/第二章の二\\u3000登録/第十四条の十一\\u3000登録の公告/連合会は、第十四条の六第一項の規定による登録をしたとき、及び前条第一項の規定により登録を抹消したときは、遅滞なく、その旨を官報をもつて公告しなければならない。'), Document(metadata={'law_number': '昭和四十三年法律第八十九号', 'law_name': '社会保険労務士法', 'enactment_year': '令和5年6月14日 施行', 'chapter_number': '第二章の二', 'chapter_name': '登録', 'division_number': '', 'division_name': '', 'article_number': '第十四条の八', 'article_name': '審査請求', 'document_source': 'https://laws.e-gov.go.jp/law/343AC1000000089'}, page_content='昭和四十三年法律第八十九号\\u3000社会保険労務士法/第二章の二\\u3000登録/第十四条の八\\u3000審査請求/第十四条の六第一項の規定により登録を拒否された者は、当該処分に不服があるときは、厚生労働大臣に対して審査請求をすることができる。\\n第十四条の五の規定により登録の申請をした者は、申請を行つた日から三月を経過してもなんらの処分がなされない場合には、当該登録を拒否されたものとして、厚生労働大臣に対して審査請求をすることができる。この場合においては、審査請求のあつた日に、連合会が第十四条の六第一項の規定により当該登録を拒否したものとみなす。\\n前二項の場合において、厚生労働大臣は、行政不服審査法第二十五条第二項及び第三項並びに第四十六条第二項の規定の適用については、連合会の上級行政庁とみなす。'), Document(metadata={'law_number': '昭和六十三年法律第九十三号', 'law_name': '裁判所の休日に関する法律', 'enactment_year': '平成4年5月1日 施行', 'chapter_number': '', 'chapter_name': '', 'division_number': '', 'division_name': '', 'article_number': '第二条', 'article_name': '期限の特例', 'document_source': 'https://laws.e-gov.go.jp/law/363AC0000000093'}, page_content='昭和六十三年法律第九十三号\\u3000裁判所の休日に関する法律/\\u3000/第二条\\u3000期限の特例/裁判所職員の給与、保障及び服務その他の司法行政に関する事項についての裁判所に対する申立て、届出その他の行為の期限で法律又は最高裁判所規則で規定する期間をもつて定めるものが裁判所の休日に当たるときは、裁判所の休日の翌日をもつてその期限とみなす。ただし、法律又は最高裁判所規則に別段の定めがある場合は、この限りでない。'), Document(metadata={'law_number': '昭和四十三年法律第八十九号', 'law_name': '社会保険労務士法', 'enactment_year': '令和5年6月14日 施行', 'chapter_number': '第二章の二', 'chapter_name': '登録', 'division_number': '', 'division_name': '', 'article_number': '第十四条の十一の四', 'article_name': '紛争解決手続代理業務の付記の抹消', 'document_source': 'https://laws.e-gov.go.jp/law/343AC1000000089'}, page_content='昭和四十三年法律第八十九号\\u3000社会保険労務士法/第二章の二\\u3000登録/第十四条の十一の四\\u3000紛争解決手続代理業務の付記の抹消/連合会は、紛争解決手続代理業務の付記を受けた者が、偽りその他不正の手段により当該付記を受けたことが判明したときは、当該付記を抹消しなければならない。\\n第十四条の九第二項の規定は、前項の規定による付記の抹消について準用する。'), Document(metadata={'law_number': '平成十九年法律第百二十八号', 'law_name': '労働契約法', 'enactment_year': '令和2年4月1日 施行', 'chapter_number': '第二章', 'chapter_name': '労働契約の成立及び変更', 'division_number': '', 'division_name': '', 'article_number': '第九条', 'article_name': '就業規則による労働契約の内容の変更', 'document_source': 'https://laws.e-gov.go.jp/law/419AC0000000128'}, page_content='平成十九年法律第百二十八号\\u3000労働契約法/第二章\\u3000労働契約の成立及び変更/第九条\\u3000就業規則による労働契約の内容の変更/使用者は、労働者と合意することなく、就業規則を変更することにより、労働者の不利益に労働契約の内容である労働条件を変更することはできない。ただし、次条の場合は、この限りでない。'), Document(metadata={'law_number': '平成十五年法律第五十七号', 'law_name': '個人情報の保護に関する法律', 'enactment_year': '令和6年4月1日 施行', 'chapter_number': '第五章', 'chapter_name': '行政機関等の義務等', 'division_number': '第四節', 'division_name': '開示、訂正及び利用停止', 'article_number': '第八十三条', 'article_name': '開示決定等の期限', 'document_source': 'https://laws.e-gov.go.jp/law/415AC0000000057'}, page_content='平成十五年法律第五十七号\\u3000個人情報の保護に関する法律/第五章\\u3000行政機関等の義務等/第四節\\u3000開示、訂正及び利用停止/第八十三条\\u3000開示決定等の期限/開示決定等は、開示請求があった日から三十日以内にしなければならない。ただし、第七十七条第三項の規定により補正を求めた場合にあっては、当該補正に要した日数は、当該期間に算入しない。\\n前項の規定にかかわらず、行政機関の長等は、事務処理上の困難その他正当な理由があるときは、同項に規定する期間を三十日以内に限り延長することができる。この場合において、行政機関の長等は、開示請求者に対し、遅滞なく、延長後の期間及び延長の理由を書面により通知しなければならない。'), Document(metadata={'law_number': '昭和三十四年法律第百二十一号', 'law_name': '特許法', 'enactment_year': '令和6年4月1日 施行', 'chapter_number': '第二章', 'chapter_name': '特許及び特許出願', 'division_number': '', 'division_name': '', 'article_number': '第四十六条', 'article_name': '出願の変更', 'document_source': 'https://laws.e-gov.go.jp/law/334AC0000000121'}, page_content='昭和三十四年法律第百二十一号\\u3000特許法/第二章\\u3000特許及び特許出願/第四十六条\\u3000出願の変更/実用新案登録出願人は、その実用新案登録出願を特許出願に変更することができる。ただし、その実用新案登録出願の日から三年を経過した後は、この限りでない。\\n意匠登録出願人は、その意匠登録出願を特許出願に変更することができる。ただし、その意匠登録出願について拒絶をすべき旨の最初の査定の謄本の送達があつた日から三月を経過した後又はその意匠登録出願の日から三年を経過した後（その意匠登録出願について拒絶をすべき旨の最初の査定の謄本の送達があつた日から三月以内の期間を除く。）は、この限りでない。\\n前項ただし書に規定する三月の期間は、意匠法第六十八条第一項において準用するこの法律第四条の規定により意匠法第四十六条第一項に規定する期間が延長されたときは、その延長された期間を限り、延長されたものとみなす。\\n第一項又は第二項の規定による出願の変更があつたときは、もとの出願は、取り下げたものとみなす。\\n第一項の規定による出願の変更をする者がその責めに帰することができない理由により同項ただし書に規定する期間内にその出願の変更をすることができないとき、又は第二項の規定による出願の変更をする者がその責めに帰することができない理由により同項ただし書に規定する三年の期間内にその出願の変更をすることができないときは、これらの規定にかかわらず、その理由がなくなつた日から十四日（在外者にあつては、二月）以内でこれらの規定に規定する期間の経過後六月以内にその出願の変更をすることができる。\\n第四十四条第二項から第四項までの規定は、第一項又は第二項の規定による出願の変更の場合に準用する。'), Document(metadata={'law_number': '昭和三十四年法律第百二十一号', 'law_name': '特許法', 'enactment_year': '令和6年4月1日 施行', 'chapter_number': '第五章', 'chapter_name': '特許異議の申立て', 'division_number': '', 'division_name': '', 'article_number': '第百二十条の五', 'article_name': '意見書の提出等', 'document_source': 'https://laws.e-gov.go.jp/law/334AC0000000121'}, page_content='昭和三十四年法律第百二十一号\\u3000特許法/第五章\\u3000特許異議の申立て/第百二十条の五\\u3000意見書の提出等/審判長は、取消決定をしようとするときは、特許権者及び参加人に対し、特許の取消しの理由を通知し、相当の期間を指定して、意見書を提出する機会を与えなければならない。\\n特許権者は、前項の規定により指定された期間内に限り、願書に添付した明細書、特許請求の範囲又は図面の訂正を請求することができる。ただし、その訂正は、次に掲げる事項を目的とするものに限る。\\n一\\u3000特許請求の範囲の減縮\\n二\\u3000誤記又は誤訳の訂正\\n三\\u3000明瞭でない記載の釈明\\n四\\u3000他の請求項の記載を引用する請求項の記載を当該他の請求項の記載を引用しないものとすること。\\n二以上の請求項に係る願書に添付した特許請求の範囲の訂正をする場合には、請求項ごとに前項の訂正の請求をすることができる。ただし、特許異議の申立てが請求項ごとにされた場合にあつては、請求項ごとに同項の訂正の請求をしなければならない。\\n前項の場合において、当該請求項の中に一の請求項の記載を他の請求項が引用する関係その他経済産業省令で定める関係を有する一群の請求項（以下「一群の請求項」という。）があるときは、当該一群の請求項ごとに当該請求をしなければならない。\\n審判長は、第一項の規定により指定した期間内に第二項の訂正の請求があつたときは、第一項の規定により通知した特許の取消しの理由を記載した書面並びに訂正の請求書及びこれに添付された訂正した明細書、特許請求の範囲又は図面の副本を特許異議申立人に送付し、相当の期間を指定して、意見書を提出する機会を与えなければならない。ただし、特許異議申立人から意見書の提出を希望しない旨の申出があるとき、又は特許異議申立人に意見書を提出する機会を与える必要がないと認められる特別の事情があるときは、この限りでない。\\n審判長は、第二項の訂正の請求が同項ただし書各号に掲げる事項を目的とせず、又は第九項において読み替えて準用する第百二十六条第五項から第七項までの規定に適合しないときは、特許権者及び参加人にその理由を通知し、相当の期間を指定して、意見書を提出する機会を与えなければならない。\\n第二項の訂正の請求がされた場合において、その特許異議申立事件において先にした訂正の請求があるときは、当該先の請求は、取り下げられたものとみなす。\\n第二項の訂正の請求は、同項の訂正の請求書に添付された訂正した明細書、特許請求の範囲又は図面について第十七条の五第一項の補正をすることができる期間内に限り、取り下げることができる。この場合において、第二項の訂正の請求を第三項又は第四項の規定により請求項ごとに又は一群の請求項ごとにしたときは、その全ての請求を取り下げなければならない。\\n第百二十六条第四項から第七項まで、第百二十七条、第百二十八条、第百三十一条第一項、第三項及び第四項、第百三十一条の二第一項、第百三十二条第三項及び第四項並びに第百三十三条第一項、第三項及び第四項の規定は、第二項の場合に準用する。この場合において、第百二十六条第七項中「第一項ただし書第一号又は第二号」とあるのは、「特許異議の申立てがされていない請求項に係る第一項ただし書第一号又は第二号」と読み替えるものとする。'), Document(metadata={'law_number': '昭和四十三年法律第八十九号', 'law_name': '社会保険労務士法', 'enactment_year': '令和5年6月14日 施行', 'chapter_number': '第二章の二', 'chapter_name': '登録', 'division_number': '', 'division_name': '', 'article_number': '第十四条の十一', 'article_name': '登録の公告', 'document_source': 'https://laws.e-gov.go.jp/law/343AC1000000089'}, page_content='昭和四十三年法律第八十九号\\u3000社会保険労務士法/第二章の二\\u3000登録/第十四条の十一\\u3000登録の公告/連合会は、第十四条の六第一項の規定による登録をしたとき、及び前条第一項の規定により登録を抹消したときは、遅滞なく、その旨を官報をもつて公告しなければならない。'), Document(metadata={'law_number': '平成十九年法律第百二十八号', 'law_name': '労働契約法', 'enactment_year': '令和2年4月1日 施行', 'chapter_number': '第四章', 'chapter_name': '期間の定めのある労働契約', 'division_number': '', 'division_name': '', 'article_number': '第十九条', 'article_name': '有期労働契約の更新等', 'document_source': 'https://laws.e-gov.go.jp/law/419AC0000000128'}, page_content='平成十九年法律第百二十八号\\u3000労働契約法/第四章\\u3000期間の定めのある労働契約/第十九条\\u3000有期労働契約の更新等/有期労働契約であって次の各号のいずれかに該当するものの契約期間が満了する日までの間に労働者が当該有期労働契約の更新の申込みをした場合又は当該契約期間の満了後遅滞なく有期労働契約の締結の申込みをした場合であって、使用者が当該申込みを拒絶することが、客観的に合理的な理由を欠き、社会通念上相当であると認められないときは、使用者は、従前の有期労働契約の内容である労働条件と同一の労働条件で当該申込みを承諾したものとみなす。\\n一\\u3000当該有期労働契約が過去に反復して更新されたことがあるものであって、その契約期間の満了時に当該有期労働契約を更新しないことにより当該有期労働契約を終了させることが、期間の定めのない労働契約を締結している労働者に解雇の意思表示をすることにより当該期間の定めのない労働契約を終了させることと社会通念上同視できると認められること。\\n二\\u3000当該労働者において当該有期労働契約の契約期間の満了時に当該有期労働契約が更新されるものと期待することについて合理的な理由があるものであると認められること。'), Document(metadata={'law_number': '平成十五年法律第五十七号', 'law_name': '個人情報の保護に関する法律', 'enactment_year': '令和6年4月1日 施行', 'chapter_number': '第五章', 'chapter_name': '行政機関等の義務等', 'division_number': '第四節', 'division_name': '開示、訂正及び利用停止', 'article_number': '第九十四条', 'article_name': '訂正決定等の期限', 'document_source': 'https://laws.e-gov.go.jp/law/415AC0000000057'}, page_content='平成十五年法律第五十七号\\u3000個人情報の保護に関する法律/第五章\\u3000行政機関等の義務等/第四節\\u3000開示、訂正及び利用停止/第九十四条\\u3000訂正決定等の期限/前条各項の決定（以下この節において「訂正決定等」という。）は、訂正請求があった日から三十日以内にしなければならない。ただし、第九十一条第三項の規定により補正を求めた場合にあっては、当該補正に要した日数は、当該期間に算入しない。\\n前項の規定にかかわらず、行政機関の長等は、事務処理上の困難その他正当な理由があるときは、同項に規定する期間を三十日以内に限り延長することができる。この場合において、行政機関の長等は、訂正請求者に対し、遅滞なく、延長後の期間及び延長の理由を書面により通知しなければならない。'), Document(metadata={'law_number': '昭和二十二年法律第四十九号', 'law_name': '労働基準法', 'enactment_year': '令和6年5月31日 施行', 'chapter_number': '第二章', 'chapter_name': '労働契約', 'division_number': '', 'division_name': '', 'article_number': '第二十条', 'article_name': '解雇の予告', 'document_source': 'https://laws.e-gov.go.jp/law/322AC0000000049'}, page_content='昭和二十二年法律第四十九号\\u3000労働基準法/第二章\\u3000労働契約/第二十条\\u3000解雇の予告/使用者は、労働者を解雇しようとする場合においては、少くとも三十日前にその予告をしなければならない。三十日前に予告をしない使用者は、三十日分以上の平均賃金を支払わなければならない。但し、天災事変その他やむを得ない事由のために事業の継続が不可能となつた場合又は労働者の責に帰すべき事由に基いて解雇する場合においては、この限りでない。\\n前項の予告の日数は、一日について平均賃金を支払つた場合においては、その日数を短縮することができる。\\n前条第二項の規定は、第一項但書の場合にこれを準用する。'), Document(metadata={'law_number': '昭和二十二年法律第四十九号', 'law_name': '労働基準法', 'enactment_year': '令和6年5月31日 施行', 'chapter_number': '第二章', 'chapter_name': '労働契約', 'division_number': '', 'division_name': '', 'article_number': '第二十二条', 'article_name': '退職時等の証明', 'document_source': 'https://laws.e-gov.go.jp/law/322AC0000000049'}, page_content='昭和二十二年法律第四十九号\\u3000労働基準法/第二章\\u3000労働契約/第二十二条\\u3000退職時等の証明/労働者が、退職の場合において、使用期間、業務の種類、その事業における地位、賃金又は退職の事由（退職の事由が解雇の場合にあつては、その理由を含む。）について証明書を請求した場合においては、使用者は、遅滞なくこれを交付しなければならない。\\n労働者が、第二十条第一項の解雇の予告がされた日から退職の日までの間において、当該解雇の理由について証明書を請求した場合においては、使用者は、遅滞なくこれを交付しなければならない。ただし、解雇の予告がされた日以後に労働者が当該解雇以外の事由により退職した場合においては、使用者は、当該退職の日以後、これを交付することを要しない。\\n前二項の証明書には、労働者の請求しない事項を記入してはならない。\\n使用者は、あらかじめ第三者と謀り、労働者の就業を妨げることを目的として、労働者の国籍、信条、社会的身分若しくは労働組合運動に関する通信をし、又は第一項及び第二項の証明書に秘密の記号を記入してはならない。'), Document(metadata={'law_number': '平成十五年法律第五十七号', 'law_name': '個人情報の保護に関する法律', 'enactment_year': '令和6年4月1日 施行', 'chapter_number': '第五章', 'chapter_name': '行政機関等の義務等', 'division_number': '第四節', 'division_name': '開示、訂正及び利用停止', 'article_number': '第九十五条', 'article_name': '訂正決定等の期限の特例', 'document_source': 'https://laws.e-gov.go.jp/law/415AC0000000057'}, page_content='平成十五年法律第五十七号\\u3000個人情報の保護に関する法律/第五章\\u3000行政機関等の義務等/第四節\\u3000開示、訂正及び利用停止/第九十五条\\u3000訂正決定等の期限の特例/行政機関の長等は、訂正決定等に特に長期間を要すると認めるときは、前条の規定にかかわらず、相当の期間内に訂正決定等をすれば足りる。この場合において、行政機関の長等は、同条第一項に規定する期間内に、訂正請求者に対し、次に掲げる事項を書面により通知しなければならない。\\n一\\u3000この条の規定を適用する旨及びその理由\\n二\\u3000訂正決定等をする期限'), Document(metadata={'law_number': '昭和四十五年法律第六十号', 'law_name': '家内労働法', 'enactment_year': '令和4年6月17日 施行', 'chapter_number': '第二章', 'chapter_name': '委託', 'division_number': '', 'division_name': '', 'article_number': '第五条', 'article_name': '委託の打切りの予告', 'document_source': 'https://laws.e-gov.go.jp/law/345AC0000000060'}, page_content='昭和四十五年法律第六十号\\u3000家内労働法/第二章\\u3000委託/第五条\\u3000委託の打切りの予告/六月をこえて継続的に同一の家内労働者に委託をしている委託者は、当該家内労働者に引き続いて継続的に委託をすることを打ち切ろうとするときは、遅滞なく、その旨を当該家内労働者に予告するように努めなければならない。'), Document(metadata={'law_number': '昭和三十四年法律第百二十一号', 'law_name': '特許法', 'enactment_year': '令和6年4月1日 施行', 'chapter_number': '第九章', 'chapter_name': '特許協力条約に基づく国際出願に係る特例', 'division_number': '', 'division_name': '', 'article_number': '第百八十四条の四', 'article_name': '外国語でされた国際特許出願の翻訳文', 'document_source': 'https://laws.e-gov.go.jp/law/334AC0000000121'}, page_content='昭和三十四年法律第百二十一号\\u3000特許法/第九章\\u3000特許協力条約に基づく国際出願に係る特例/第百八十四条の四\\u3000外国語でされた国際特許出願の翻訳文/外国語でされた国際特許出願（以下「外国語特許出願」という。）の出願人は、条約第二条（ｘｉ）の優先日（以下「優先日」という。）から二年六月（以下「国内書面提出期間」という。）以内に、前条第一項に規定する国際出願日（以下「国際出願日」という。）における条約第三条（２）に規定する明細書、請求の範囲、図面（図面の中の説明に限る。以下この条において同じ。）及び要約の日本語による翻訳文を、特許庁長官に提出しなければならない。ただし、国内書面提出期間の満了前二月から満了の日までの間に次条第一項に規定する書面を提出した外国語特許出願（当該書面の提出の日以前に当該翻訳文を提出したものを除く。）にあつては、当該書面の提出の日から二月（以下「翻訳文提出特例期間」という。）以内に、当該翻訳文を提出することができる。\\n前項の場合において、外国語特許出願の出願人が条約第十九条（１）の規定に基づく補正をしたときは、同項に規定する請求の範囲の翻訳文に代えて、当該補正後の請求の範囲の翻訳文を提出することができる。\\n国内書面提出期間（第一項ただし書の外国語特許出願にあつては、翻訳文提出特例期間。以下この条において同じ。）内に第一項に規定する明細書の翻訳文及び前二項に規定する請求の範囲の翻訳文（以下「明細書等翻訳文」という。）の提出がなかつたときは、その国際特許出願は、取り下げられたものとみなす。\\n前項の規定により取り下げられたものとみなされた国際特許出願の出願人は、経済産業省令で定める期間内に限り、経済産業省令で定めるところにより、明細書等翻訳文並びに第一項に規定する図面及び要約の翻訳文を特許庁長官に提出することができる。ただし、故意に、国内書面提出期間内に当該明細書等翻訳文を提出しなかつたと認められる場合は、この限りでない。\\n前項の規定により提出された翻訳文は、国内書面提出期間が満了する時に特許庁長官に提出されたものとみなす。\\n第一項に規定する請求の範囲の翻訳文を提出した出願人は、条約第十九条（１）の規定に基づく補正をしたときは、国内書面提出期間が満了する時（国内書面提出期間内に出願人が出願審査の請求をするときは、その請求の時。以下「国内処理基準時」という。）の属する日までに限り、当該補正後の請求の範囲の日本語による翻訳文を更に提出することができる。\\n第百八十四条の七第三項本文の規定は、第二項又は前項に規定する翻訳文が提出されなかつた場合に準用する。'), Document(metadata={'law_number': '昭和二十二年法律第百四十一号', 'law_name': '職業安定法', 'enactment_year': '令和4年10月1日 施行', 'chapter_number': '第三章', 'chapter_name': '職業安定機関及び地方公共団体以外の者の行う職業紹介', 'division_number': '第三節', 'division_name': '補則', 'article_number': '第三十四条', 'article_name': '準用', 'document_source': 'https://laws.e-gov.go.jp/law/322AC0000000141'}, page_content='昭和二十二年法律第百四十一号\\u3000職業安定法/第三章\\u3000職業安定機関及び地方公共団体以外の者の行う職業紹介/第三節\\u3000補則/第三十四条\\u3000準用/第二十条の規定は、職業紹介事業者が職業紹介事業を行う場合について準用する。この場合において、同条第一項中「公共職業安定所」とあるのは「職業紹介事業者」と、同条第二項中「公共職業安定所は」とあるのは「公共職業安定所は、その旨を職業紹介事業者に通報するものとし、当該通報を受けた職業紹介事業者は、」と読み替えるものとする。')]}}====filter_documents_node====\n",
      "---DOCUMENT 1: NOT RELEVANT---\n",
      "---DOCUMENT 2: RELEVANT---\n",
      "---DOCUMENT 3: NOT RELEVANT---\n",
      "---DOCUMENT 4: NOT RELEVANT---\n",
      "---DOCUMENT 5: NOT RELEVANT---\n",
      "---DOCUMENT 6: NOT RELEVANT---\n",
      "---DOCUMENT 7: NOT RELEVANT---\n",
      "---DOCUMENT 8: NOT RELEVANT---\n",
      "---DOCUMENT 9: NOT RELEVANT---\n",
      "---DOCUMENT 10: NOT RELEVANT---\n",
      "---DOCUMENT 11: NOT RELEVANT---\n",
      "---DOCUMENT 12: NOT RELEVANT---\n",
      "---DOCUMENT 13: NOT RELEVANT---\n",
      "---DOCUMENT 14: NOT RELEVANT---\n",
      "---DOCUMENT 15: NOT RELEVANT---\n",
      "---DOCUMENT 16: NOT RELEVANT---\n",
      "---DOCUMENT 17: NOT RELEVANT---\n",
      "---DOCUMENT 18: NOT RELEVANT---\n",
      "---DOCUMENT 19: NOT RELEVANT---\n",
      "---DOCUMENT 20: NOT RELEVANT---\n",
      "---DOCUMENT 21: NOT RELEVANT---\n",
      "---DOCUMENT 22: NOT RELEVANT---\n",
      "---DOCUMENT 23: NOT RELEVANT---\n",
      "---DOCUMENT 24: NOT RELEVANT---\n",
      "---DOCUMENT 25: NOT RELEVANT---\n",
      "---DOCUMENT 26: NOT RELEVANT---\n",
      "---DOCUMENT 27: NOT RELEVANT---\n",
      "---DOCUMENT 28: NOT RELEVANT---\n",
      "---DOCUMENT 29: NOT RELEVANT---\n",
      "---DOCUMENT 30: NOT RELEVANT---\n",
      "---DOCUMENT 31: NOT RELEVANT---\n",
      "---DOCUMENT 32: NOT RELEVANT---\n",
      "---DOCUMENT 33: NOT RELEVANT---\n",
      "---DOCUMENT 34: NOT RELEVANT---\n",
      "---DOCUMENT 35: NOT RELEVANT---\n",
      "---DOCUMENT 36: RELEVANT---\n",
      "---DOCUMENT 37: NOT RELEVANT---\n",
      "---Some retrived documents are relevant---\n",
      "{'filter_docs': {'documents': [Document(metadata={'law_number': '昭和二十二年法律第四十九号', 'law_name': '労働基準法', 'enactment_year': '令和6年5月31日 施行', 'chapter_number': '第二章', 'chapter_name': '労働契約', 'division_number': '', 'division_name': '', 'article_number': '第二十条', 'article_name': '解雇の予告', 'document_source': 'https://laws.e-gov.go.jp/law/322AC0000000049'}, page_content='昭和二十二年法律第四十九号\\u3000労働基準法/第二章\\u3000労働契約/第二十条\\u3000解雇の予告/使用者は、労働者を解雇しようとする場合においては、少くとも三十日前にその予告をしなければならない。三十日前に予告をしない使用者は、三十日分以上の平均賃金を支払わなければならない。但し、天災事変その他やむを得ない事由のために事業の継続が不可能となつた場合又は労働者の責に帰すべき事由に基いて解雇する場合においては、この限りでない。\\n前項の予告の日数は、一日について平均賃金を支払つた場合においては、その日数を短縮することができる。\\n前条第二項の規定は、第一項但書の場合にこれを準用する。'), Document(metadata={'law_number': '昭和四十五年法律第六十号', 'law_name': '家内労働法', 'enactment_year': '令和4年6月17日 施行', 'chapter_number': '第二章', 'chapter_name': '委託', 'division_number': '', 'division_name': '', 'article_number': '第五条', 'article_name': '委託の打切りの予告', 'document_source': 'https://laws.e-gov.go.jp/law/345AC0000000060'}, page_content='昭和四十五年法律第六十号\\u3000家内労働法/第二章\\u3000委託/第五条\\u3000委託の打切りの予告/六月をこえて継続的に同一の家内労働者に委託をしている委託者は、当該家内労働者に引き続いて継続的に委託をすることを打ち切ろうとするときは、遅滞なく、その旨を当該家内労働者に予告するように努めなければならない。')]}}---Hallucination check passed---\n",
      "---Answer is relevant to question---\n",
      "\n",
      "{'rag': {'generation': '- 結論: 誤り\\n- 説明: 労働基準法第二十条によれば、雇用主は従業員を解雇する場合、少くとも30日前に通知する必要があります。契約条項では40日前に通知する必要があると規定しているが、法的コンテキストに基づいては誤りです。'}}"
     ]
    }
   ],
   "source": [
    "for token in app.stream({\"query\": \"雇用主は従業員を解雇する場合、少なくとも 40 日前に通知する必要があります。\", \"chat_history\": []}):\n",
    "    print(token, end=\"\", flush=True)"
   ]
  },
  {
   "cell_type": "markdown",
   "metadata": {},
   "source": [
    "## History + RAG\n",
    "\n",
    "- chunk tiếp theo sẽ dùng retrieval tìm ra top 5 chunks liên quan nhất đến chunks hiện tại và qua LLMs đánh giá. Nếu thực sự liên quan thì sẽ lấy history của chunk trước bỏ vào để trả lời câu hiện tại. (phuc)"
   ]
  },
  {
   "cell_type": "code",
   "execution_count": null,
   "metadata": {},
   "outputs": [],
   "source": []
  }
 ],
 "metadata": {
  "kernelspec": {
   "display_name": "Python 3",
   "language": "python",
   "name": "python3"
  },
  "language_info": {
   "codemirror_mode": {
    "name": "ipython",
    "version": 3
   },
   "file_extension": ".py",
   "mimetype": "text/x-python",
   "name": "python",
   "nbconvert_exporter": "python",
   "pygments_lexer": "ipython3",
   "version": "3.10.12"
  }
 },
 "nbformat": 4,
 "nbformat_minor": 2
}
